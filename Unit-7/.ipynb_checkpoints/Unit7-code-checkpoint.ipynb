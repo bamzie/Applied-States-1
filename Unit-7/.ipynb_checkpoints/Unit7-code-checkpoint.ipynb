{
 "cells": [
  {
   "cell_type": "markdown",
   "metadata": {
    "deletable": false,
    "editable": false,
    "nbgrader": {
     "cell_type": "markdown",
     "checksum": "02c4f9a42182c8e7d2a3bc8b13f4476e",
     "grade": false,
     "grade_id": "cell-d38bfb6db7a72de5",
     "locked": true,
     "schema_version": 3,
     "solution": false,
     "task": false
    }
   },
   "source": [
    "# Unit #7: Hypothesis testing: data analysis and simulations\n",
    "\n",
    "The purpose of this in-class notebook is for you to gain some experience with hypothesis testing. You are expected to complete all exercises and turn in your work on Canvas (due date will be on the Unit #7 Classwork Canvas assignment)."
   ]
  },
  {
   "cell_type": "markdown",
   "metadata": {
    "deletable": false,
    "editable": false,
    "nbgrader": {
     "cell_type": "markdown",
     "checksum": "b586c4d366261dc68a639c874ba0a588",
     "grade": false,
     "grade_id": "cell-547fc7d3fc454415",
     "locked": true,
     "schema_version": 3,
     "solution": false,
     "task": false
    }
   },
   "source": [
    "## Problem 1 \n",
    "\n",
    "Natural cork in wine bottles is subject to deterioration, and as a result wine in such bottles may experience contamination. \n",
    "\n",
    "The article “Effects of Bottle Closure Type on Consumer Perceptions of Wine Quality” (Amer. J. of Enology and Viticulture, 2007: 182–191) reported that, in a tasting of commercial chardonnays, 16 of 91 bottles were considered spoiled to some extent by cork-associated characteristics.\n",
    "\n",
    "**Do these data provide strong evidence for concluding that more than $15\\%$ of all such bottles are contaminated in this way?  Use a significance level $\\alpha = 0.10$.**\n"
   ]
  },
  {
   "cell_type": "markdown",
   "metadata": {
    "deletable": false,
    "nbgrader": {
     "cell_type": "markdown",
     "checksum": "61de56cc8ac19fc84373f4516ef6aba9",
     "grade": true,
     "grade_id": "cell-c3f8a8c9686e9011",
     "locked": false,
     "points": 1,
     "schema_version": 3,
     "solution": true,
     "task": false
    }
   },
   "source": [
    "YOUR ANSWER HERE"
   ]
  },
  {
   "cell_type": "code",
   "execution_count": null,
   "metadata": {
    "deletable": false,
    "nbgrader": {
     "cell_type": "code",
     "checksum": "f3ce534f7f73c72c767415846db59f06",
     "grade": true,
     "grade_id": "cell-4c40eb7276daf645",
     "locked": false,
     "points": 1,
     "schema_version": 3,
     "solution": true,
     "task": false
    }
   },
   "outputs": [],
   "source": [
    "#YOUR CODE HERE\n",
    "fail() # No Answer - remove if you provide an answer"
   ]
  },
  {
   "cell_type": "markdown",
   "metadata": {
    "deletable": false,
    "editable": false,
    "nbgrader": {
     "cell_type": "markdown",
     "checksum": "fdecff629fe643d64ceb13e65a59de48",
     "grade": false,
     "grade_id": "cell-e0b66408b04bd95f",
     "locked": true,
     "schema_version": 3,
     "solution": false,
     "task": false
    }
   },
   "source": [
    "## Problem #2\n",
    "\n",
    "The goal of this problem is to learn about the distribution of p-values across many random samples from a population. \n",
    "\n",
    "**2.(a) Consider the test $H_0: \\mu = 0$ vs $H_1: \\mu > 0.5$. Simulate a $m = 10,000$ samples of size $n = 5$ under the null hypothesis. Fix $\\sigma = 1$ and assume that it is known.**"
   ]
  },
  {
   "cell_type": "code",
   "execution_count": 1,
   "metadata": {
    "deletable": false,
    "nbgrader": {
     "cell_type": "code",
     "checksum": "a0156ed6af6afaabb215ba945fe8933b",
     "grade": true,
     "grade_id": "cell-248c18c5bc380434",
     "locked": false,
     "points": 1,
     "schema_version": 3,
     "solution": true,
     "task": false
    }
   },
   "outputs": [],
   "source": [
    "m = 10000; n = 5; \n",
    "x_0 = matrix(rnorm(m*n, 0, 1), ncol = n)\n",
    "x_0 = replicate(m, rnorm())"
   ]
  },
  {
   "cell_type": "markdown",
   "metadata": {
    "deletable": false,
    "editable": false,
    "nbgrader": {
     "cell_type": "markdown",
     "checksum": "9373cc736998a70a790974eae2b42eca",
     "grade": false,
     "grade_id": "cell-fd9e45e6dea80ca7",
     "locked": true,
     "schema_version": 3,
     "solution": false,
     "task": false
    }
   },
   "source": [
    "**2.(b) Calculate the p-value for each sample (remember, the p-value is calculated assuming the null hypothsis is true). Print a histogram of these p-values. Comment on the distribution.**"
   ]
  },
  {
   "cell_type": "code",
   "execution_count": null,
   "metadata": {
    "deletable": false,
    "nbgrader": {
     "cell_type": "code",
     "checksum": "ab199bb481188a52c1384bf2da62b047",
     "grade": true,
     "grade_id": "cell-1fc9ce56c3dd58d5",
     "locked": false,
     "points": 1,
     "schema_version": 3,
     "solution": true,
     "task": false
    }
   },
   "outputs": [],
   "source": [
    "#YOUR CODE HERE\n",
    "fail() # No Answer - remove if you provide an answer"
   ]
  },
  {
   "cell_type": "markdown",
   "metadata": {
    "deletable": false,
    "nbgrader": {
     "cell_type": "markdown",
     "checksum": "a88acb98bc2024efaf2240c50278a987",
     "grade": true,
     "grade_id": "cell-7553ba20c6efd7a5",
     "locked": false,
     "points": 1,
     "schema_version": 3,
     "solution": true,
     "task": false
    }
   },
   "source": [
    "YOUR ANSWER HERE"
   ]
  },
  {
   "cell_type": "markdown",
   "metadata": {
    "deletable": false,
    "editable": false,
    "nbgrader": {
     "cell_type": "markdown",
     "checksum": "5252b3156806f0a70bca3e960ea41fdb",
     "grade": false,
     "grade_id": "cell-bf5a8bd39e17f555",
     "locked": true,
     "schema_version": 3,
     "solution": false,
     "task": false
    }
   },
   "source": [
    "**2.(c) Suppose $\\alpha = 0.05$. What is the percentage of p-values that are less than 0.05? How often, in this scenario, would you make a type I error? Does the answer that theory suggests match (roughly) the answer the simulation suggests?**"
   ]
  },
  {
   "cell_type": "code",
   "execution_count": null,
   "metadata": {
    "deletable": false,
    "nbgrader": {
     "cell_type": "code",
     "checksum": "2ca072c239618112db363d3bc36ab753",
     "grade": true,
     "grade_id": "cell-8a7ec312cf869f18",
     "locked": false,
     "points": 1,
     "schema_version": 3,
     "solution": true,
     "task": false
    }
   },
   "outputs": [],
   "source": [
    "#YOUR CODE HERE\n",
    "fail() # No Answer - remove if you provide an answer"
   ]
  },
  {
   "cell_type": "markdown",
   "metadata": {
    "deletable": false,
    "nbgrader": {
     "cell_type": "markdown",
     "checksum": "8f71ed3ef66c28847b4fe9e558edc490",
     "grade": true,
     "grade_id": "cell-96d2cd80c94c48d7",
     "locked": false,
     "points": 1,
     "schema_version": 3,
     "solution": true,
     "task": false
    }
   },
   "source": [
    "YOUR ANSWER HERE"
   ]
  },
  {
   "cell_type": "markdown",
   "metadata": {
    "deletable": false,
    "editable": false,
    "nbgrader": {
     "cell_type": "markdown",
     "checksum": "66d0883e40e2909f157ffa0070dcce4a",
     "grade": false,
     "grade_id": "cell-0921a76577c4d132",
     "locked": true,
     "schema_version": 3,
     "solution": false,
     "task": false
    }
   },
   "source": [
    "**2.(d) Now, considering the same test, i.e.,  $H_0: \\mu = 0$ vs. $H_1: \\mu > 0.8$, simulate data under the specific alternative $\\mu = 0.8$. Calculate the p-values for each sample (remember, the p-value is calculated assuming the null hypothsis is true). Print a histogram of these p-values. What does the distribution look like?**"
   ]
  },
  {
   "cell_type": "code",
   "execution_count": null,
   "metadata": {
    "deletable": false,
    "nbgrader": {
     "cell_type": "code",
     "checksum": "c805f92ecc1d0596e2fdf15b5e85159d",
     "grade": true,
     "grade_id": "cell-1c0f1524a5e76a74",
     "locked": false,
     "points": 1,
     "schema_version": 3,
     "solution": true,
     "task": false
    }
   },
   "outputs": [],
   "source": [
    "#YOUR CODE HERE\n",
    "fail() # No Answer - remove if you provide an answer"
   ]
  },
  {
   "cell_type": "markdown",
   "metadata": {
    "deletable": false,
    "editable": false,
    "nbgrader": {
     "cell_type": "markdown",
     "checksum": "3d66440c05fd5d0f0d2ba9de7db352ac",
     "grade": false,
     "grade_id": "cell-83251f860cbbe94e",
     "locked": true,
     "schema_version": 3,
     "solution": false,
     "task": false
    }
   },
   "source": [
    "**2.(e) Suppose $\\alpha = 0.05$. What is the percentage of p-values that are greater than 0.05? How often, in this scenario, would you make a type II error?**"
   ]
  },
  {
   "cell_type": "code",
   "execution_count": null,
   "metadata": {
    "deletable": false,
    "nbgrader": {
     "cell_type": "code",
     "checksum": "7965f73b4999c35e2942b0b0d9360d36",
     "grade": true,
     "grade_id": "cell-d5ddf5acd3bce21d",
     "locked": false,
     "points": 1,
     "schema_version": 3,
     "solution": true,
     "task": false
    }
   },
   "outputs": [],
   "source": [
    "#YOUR CODE HERE\n",
    "fail() # No Answer - remove if you provide an answer"
   ]
  },
  {
   "cell_type": "markdown",
   "metadata": {
    "deletable": false,
    "editable": false,
    "nbgrader": {
     "cell_type": "markdown",
     "checksum": "caa34405135dafe0cb0c1f87888fc193",
     "grade": false,
     "grade_id": "cell-fb701ba1395de196",
     "locked": true,
     "schema_version": 3,
     "solution": false,
     "task": false
    }
   },
   "source": [
    "**2.(f) The ${\\bf power}$ of a test is $1 - P(\\text{Type II Error})$. That is, the power of a hypothesis test is the probability of rejecting $H_0$ when $H_1$ is true. (High powered tests are desirable!) Calculate the power of this test.**"
   ]
  },
  {
   "cell_type": "code",
   "execution_count": null,
   "metadata": {
    "deletable": false,
    "nbgrader": {
     "cell_type": "code",
     "checksum": "d3bf44ec217f1b8587b91871ef2ade44",
     "grade": true,
     "grade_id": "cell-2b8c978d42a3b932",
     "locked": false,
     "points": 1,
     "schema_version": 3,
     "solution": true,
     "task": false
    }
   },
   "outputs": [],
   "source": [
    "#YOUR CODE HERE\n",
    "fail() # No Answer - remove if you provide an answer"
   ]
  },
  {
   "cell_type": "markdown",
   "metadata": {
    "deletable": false,
    "editable": false,
    "nbgrader": {
     "cell_type": "markdown",
     "checksum": "76e3f94d25c92562ea81b16e6476ae9c",
     "grade": false,
     "grade_id": "cell-c5df259330c3be4a",
     "locked": true,
     "schema_version": 3,
     "solution": false,
     "task": false
    }
   },
   "source": [
    "**2.(g) How could you increase the power of the test? Verify your answer through simulation by changing values from above.**"
   ]
  },
  {
   "cell_type": "markdown",
   "metadata": {
    "deletable": false,
    "nbgrader": {
     "cell_type": "markdown",
     "checksum": "1d11684b794927afa55e9fac8a0200c3",
     "grade": true,
     "grade_id": "cell-59889e141a5c910f",
     "locked": false,
     "points": 1,
     "schema_version": 3,
     "solution": true,
     "task": false
    }
   },
   "source": [
    "YOUR ANSWER HERE"
   ]
  },
  {
   "cell_type": "markdown",
   "metadata": {
    "deletable": false,
    "editable": false,
    "nbgrader": {
     "cell_type": "markdown",
     "checksum": "9754c059d2d4906557293f999fa49f53",
     "grade": false,
     "grade_id": "cell-401dea3afc647de8",
     "locked": true,
     "schema_version": 3,
     "solution": false,
     "task": false
    }
   },
   "source": [
    "## Problem #3\n",
    "\n",
    "\n",
    "\n",
    "Analysis of a random sample consisting of 20 specimens of cold-rolled steel to determine yield strengths resulted in a sample average strength of 29.8 ksi. A second random sample of 25 two-sided galvanized steel specimens gave a sample average strength of 34.7 ski.\n",
    "\n",
    "Assuming that the two yield-strength distributions are normal with $\\sigma_1 = 4.0$ and $\\sigma_2 = 5.0$, does the data indicate that the corresponding true average yield strengths $\\mu_1$ and $\\mu_2$ are different? \n",
    "\n",
    "Conduct the test at significance level  $\\alpha = 0.01$.\n"
   ]
  },
  {
   "cell_type": "markdown",
   "metadata": {
    "deletable": false,
    "nbgrader": {
     "cell_type": "markdown",
     "checksum": "5bd3c86b5a3df7d87da4795bf2970220",
     "grade": true,
     "grade_id": "cell-fdc204c59fd3a82a",
     "locked": false,
     "points": 1,
     "schema_version": 3,
     "solution": true,
     "task": false
    }
   },
   "source": [
    "YOUR ANSWER HERE"
   ]
  },
  {
   "cell_type": "code",
   "execution_count": null,
   "metadata": {
    "deletable": false,
    "nbgrader": {
     "cell_type": "code",
     "checksum": "c7259899bc0a6dfa82301f22cfa07745",
     "grade": true,
     "grade_id": "cell-7bae4b96b8f1ef02",
     "locked": false,
     "points": 1,
     "schema_version": 3,
     "solution": true,
     "task": false
    }
   },
   "outputs": [],
   "source": [
    "#YOUR CODE HERE\n",
    "fail() # No Answer - remove if you provide an answer"
   ]
  },
  {
   "cell_type": "markdown",
   "metadata": {
    "deletable": false,
    "editable": false,
    "nbgrader": {
     "cell_type": "markdown",
     "checksum": "1f0a632d8d103fefb5d672aa2a7cce16",
     "grade": false,
     "grade_id": "cell-78e70562cd936a26",
     "locked": true,
     "schema_version": 3,
     "solution": false,
     "task": false
    }
   },
   "source": [
    "## Problem #4 (Extra Practice, not graded)\n",
    "\n",
    "Suppose a company is considering putting a new type of coating on bearings that it produces. Let $\\mu$ denote the true mean life for the new coating. The company would not want to make any (costly) changes unless evidence strongly suggested that  exceeds $1000$ hours. \n",
    "\n",
    "**State the null and alternative hypotheses. Then, supposing the company tests $n = 25$ randomly selected bearings with the new coating and finds that the sample mean for life of the new coating is $1090$ hours. Further, suppose that we know the population standard deviation is 130 hours. Conduct a test for the population mean.**"
   ]
  },
  {
   "cell_type": "code",
   "execution_count": null,
   "metadata": {
    "deletable": false,
    "nbgrader": {
     "cell_type": "code",
     "checksum": "47f0629c6fedbe83e9005b8bbc2a2223",
     "grade": true,
     "grade_id": "cell-2d816e3759e7f4fe",
     "locked": false,
     "points": 0,
     "schema_version": 3,
     "solution": true,
     "task": false
    }
   },
   "outputs": [],
   "source": [
    "#YOUR CODE HERE\n",
    "fail() # No Answer - remove if you provide an answer"
   ]
  },
  {
   "cell_type": "markdown",
   "metadata": {
    "deletable": false,
    "editable": false,
    "nbgrader": {
     "cell_type": "markdown",
     "checksum": "d778bee29f5e9581d8cc4452608d14ea",
     "grade": false,
     "grade_id": "cell-4b67aed3e79d1127",
     "locked": true,
     "schema_version": 3,
     "solution": false,
     "task": false
    }
   },
   "source": [
    "## Problem #5 (Extra Practice, not graded)\n",
    "\n",
    "An inventor has developed a new, energy-efficient lawn mower engine. He claims that the engine will run continuously for more than $5$ hours ($300$ minutes) on a single gallon of regular gasoline. (The leading brand lawnmower engine runs for 300 minutes on 1 gallon of gasoline.)\n",
    "From his stock of engines, the inventor selects a simple random sample of $50$ engines for testing. The engines run for an average of $305$ minutes. The true standard deviation, $\\sigma$, is known and is equal to $30$ minutes, and the run times of the engines are normally distributed.\n",
    "\n",
    "#### Test hypothesis that the mean run time is more than $300$ minutes. Use a $\\alpha = 0.01$ level of significance. "
   ]
  },
  {
   "cell_type": "code",
   "execution_count": null,
   "metadata": {
    "deletable": false,
    "nbgrader": {
     "cell_type": "code",
     "checksum": "ac9a8570b807c01d62ca311d9004754e",
     "grade": true,
     "grade_id": "cell-0d9e831761e56101",
     "locked": false,
     "points": 0,
     "schema_version": 3,
     "solution": true,
     "task": false
    }
   },
   "outputs": [],
   "source": [
    "#YOUR CODE HERE\n",
    "fail() # No Answer - remove if you provide an answer"
   ]
  },
  {
   "cell_type": "markdown",
   "metadata": {
    "deletable": false,
    "editable": false,
    "nbgrader": {
     "cell_type": "markdown",
     "checksum": "9427e61eaa3b757f5080b0ae662fdfaa",
     "grade": false,
     "grade_id": "cell-e128810d7c884419",
     "locked": true,
     "schema_version": 3,
     "solution": false,
     "task": false
    }
   },
   "source": [
    "## Problem #6 (Extra practice, not required) \n",
    "\n",
    "The Brinell scale is a measure of how hard a material is.  An engineer hypothesizes that the mean Brinell score of all subcritically annealed ductile iron pieces is not equal to $170$.  It is known that these scores follow a normal distribution.\n",
    "\n",
    "The engineer measured the Brinell score of $25$ pieces of this type of iron and calculated the sample mean to be $174.52$ and the sample standard deviation to be $10.31$.\n",
    "\n",
    "**Perform a hypothesis test that the true average Brinell score is not equal to 170, as well as the corresponding confidence interval.  Set $\\alpha = 0.01.$**\n"
   ]
  },
  {
   "cell_type": "code",
   "execution_count": null,
   "metadata": {
    "deletable": false,
    "nbgrader": {
     "cell_type": "code",
     "checksum": "04be7316158c4cb544ca85fd18f6f10f",
     "grade": true,
     "grade_id": "cell-25a2c5fe71f827da",
     "locked": false,
     "points": 0,
     "schema_version": 3,
     "solution": true,
     "task": false
    }
   },
   "outputs": [],
   "source": [
    "#YOUR CODE HERE\n",
    "fail() # No Answer - remove if you provide an answer"
   ]
  },
  {
   "cell_type": "markdown",
   "metadata": {
    "deletable": false,
    "editable": false,
    "nbgrader": {
     "cell_type": "markdown",
     "checksum": "569a0e5cc2c94ac746789c7b9e2e4545",
     "grade": false,
     "grade_id": "cell-71035a68c173f963",
     "locked": true,
     "schema_version": 3,
     "solution": false,
     "task": false
    }
   },
   "source": [
    "## Problem  #7 (Extra practice, not required)\n",
    "\n",
    "Simulate random numbers from an F-distribution with $v_1 = 30$ and $v_2 = 15$. Overlay the theoretical probability distribution. What is the F distribution used to test?"
   ]
  },
  {
   "cell_type": "code",
   "execution_count": null,
   "metadata": {
    "deletable": false,
    "nbgrader": {
     "cell_type": "code",
     "checksum": "a466902ff04fc6bf049763974bb297fc",
     "grade": true,
     "grade_id": "cell-29a02bb9c2f1a1a3",
     "locked": false,
     "points": 1,
     "schema_version": 3,
     "solution": true,
     "task": false
    }
   },
   "outputs": [],
   "source": [
    "#YOUR CODE HERE\n",
    "fail() # No Answer - remove if you provide an answer"
   ]
  }
 ],
 "metadata": {
  "kernelspec": {
   "display_name": "R",
   "language": "R",
   "name": "ir"
  },
  "language_info": {
   "codemirror_mode": "r",
   "file_extension": ".r",
   "mimetype": "text/x-r-source",
   "name": "R",
   "pygments_lexer": "r",
   "version": "3.6.1"
  }
 },
 "nbformat": 4,
 "nbformat_minor": 2
}
