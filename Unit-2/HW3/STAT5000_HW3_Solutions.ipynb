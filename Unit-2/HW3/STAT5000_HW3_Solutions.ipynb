{
 "cells": [
  {
   "cell_type": "markdown",
   "metadata": {
    "id": "BgJMy-Po9eH-",
    "nbgrader": {
     "grade": false,
     "grade_id": "cell-506044151ea0ea95",
     "locked": true,
     "schema_version": 3,
     "solution": false,
     "task": false
    }
   },
   "source": [
    "# Homework #3\n",
    "\n",
    "**See Canvas for HW #3 assignment due date**. Complete all of the following problems. Ideally, the theoretical problems should be answered in a Markdown cell directly underneath the question. If you don't know LaTex/Markdown, you may submit separate handwritten solutions to the theoretical problems, but please see the [class scanning policy](https://docs.google.com/document/d/17y5ksolrn2rEuXYBv_3HeZhkPbYwt48UojNT1OvcB_w/edit?usp=sharing). Please do not turn in messy work. Computational problems should be completed in this notebook (using the R kernel). Computational questions may require code, plots, analysis, interpretation, etc. Working in small groups is allowed, but it is important that you make an effort to master the material and hand in your own work. \n"
   ]
  },
  {
   "cell_type": "markdown",
   "metadata": {
    "id": "Vpxs_7xzuHD8",
    "nbgrader": {
     "grade": false,
     "grade_id": "cell-690073cfc39a9520",
     "locked": true,
     "schema_version": 3,
     "solution": false,
     "task": false
    }
   },
   "source": [
    "## A. Theoretical Problems"
   ]
  },
  {
   "cell_type": "markdown",
   "metadata": {
    "id": "NMDa3zmkKPsT",
    "nbgrader": {
     "grade": false,
     "grade_id": "cell-65d6ccfd6b276f94",
     "locked": true,
     "schema_version": 3,
     "solution": false,
     "task": false
    }
   },
   "source": [
    "## A.1 Fraud detection\n",
    "\n",
    "Let $X =$ the leading digit of a randomly selected number from a large accounting ledger. So, for example, if we randomly draw the number $\\$20,695$, then $X = 2$. People who make up numbers to commit accounting fraud tend to give $X$ a (discrete) uniform distribution, i.e., $P(X = x) = 1/9$, for $x \\in \\{1,...,9\\}$. However, there is some (perhaps limited!) empirical evidence that suggests that \"naturally occurring\" numbers (e.g., numbers in a non-fraudulent accounting ledger) have leading digits that do not follow a uniform distribution. Instead, they follow a distribution defined by:\n",
    "\n",
    "\\begin{align*}\n",
    "f(x) = \\log_{10}\\bigg(\\frac{x+1}{x}\\bigg), \\,\\,\\,\\, x = 1,2,...,9.\n",
    "\\end{align*} \n",
    "\n",
    "\n",
    "**A.1(a) [6 points] Show that $f(x) = P(X = x)$ is, in fact, a probability distribution function.**"
   ]
  },
  {
   "cell_type": "markdown",
   "metadata": {
    "id": "SEMia3VXKPsU",
    "nbgrader": {
     "grade": true,
     "grade_id": "cell-f5bf027c328820eb",
     "locked": false,
     "points": 6,
     "schema_version": 3,
     "solution": true,
     "task": false
    }
   },
   "source": [
    "Note that $f(x)$ is positive for all values of $x$ (see below for a verification). Also,\n",
    "\n",
    "\\begin{align*}\n",
    "\\sum^9_{x = 1} \\log_{10}\\left(\\frac{x+1}{x}\\right) &= \\sum^9_{x = 1} \\log_{10}\\left(x\\right) - \\sum^9_{x = 1} \\log_{10}\\left(x\\right) \\\\\n",
    " &= \\sum^{10}_{x = 2} \\log_{10}\\left(x\\right) - \\sum^9_{x = 1} \\log_{10}\\left(x\\right) \\\\\n",
    " &= \\log_{10}(2) + \\log_{10}(3) + ... + \\log_{10}(10) - \\log_{10}(1) - \\log_{10}(2) - ... - \\log_{10}(9) \\\\\n",
    " &= \\log_{10}(10) - \\log_{10}(1) = 1 - 0 = 1\n",
    "\\end{align*}"
   ]
  },
  {
   "cell_type": "code",
   "execution_count": 19,
   "metadata": {
    "nbgrader": {
     "grade": true,
     "grade_id": "cell-9fee5fa0f577f04e",
     "locked": false,
     "points": 0,
     "schema_version": 3,
     "solution": true,
     "task": false
    }
   },
   "outputs": [
    {
     "data": {
      "text/html": [
       "<ol class=list-inline>\n",
       "\t<li>0.301029995663981</li>\n",
       "\t<li>0.176091259055681</li>\n",
       "\t<li>0.1249387366083</li>\n",
       "\t<li>0.0969100130080564</li>\n",
       "\t<li>0.0791812460476248</li>\n",
       "\t<li>0.0669467896306132</li>\n",
       "\t<li>0.0579919469776867</li>\n",
       "\t<li>0.0511525224473813</li>\n",
       "\t<li>0.0457574905606751</li>\n",
       "</ol>\n"
      ],
      "text/latex": [
       "\\begin{enumerate*}\n",
       "\\item 0.301029995663981\n",
       "\\item 0.176091259055681\n",
       "\\item 0.1249387366083\n",
       "\\item 0.0969100130080564\n",
       "\\item 0.0791812460476248\n",
       "\\item 0.0669467896306132\n",
       "\\item 0.0579919469776867\n",
       "\\item 0.0511525224473813\n",
       "\\item 0.0457574905606751\n",
       "\\end{enumerate*}\n"
      ],
      "text/markdown": [
       "1. 0.301029995663981\n",
       "2. 0.176091259055681\n",
       "3. 0.1249387366083\n",
       "4. 0.0969100130080564\n",
       "5. 0.0791812460476248\n",
       "6. 0.0669467896306132\n",
       "7. 0.0579919469776867\n",
       "8. 0.0511525224473813\n",
       "9. 0.0457574905606751\n",
       "\n",
       "\n"
      ],
      "text/plain": [
       "[1] 0.30103000 0.17609126 0.12493874 0.09691001 0.07918125 0.06694679 0.05799195\n",
       "[8] 0.05115252 0.04575749"
      ]
     },
     "metadata": {},
     "output_type": "display_data"
    }
   ],
   "source": [
    "log((2:10)/(1:9),10)"
   ]
  },
  {
   "cell_type": "markdown",
   "metadata": {
    "id": "ypB5u7WCKPsU",
    "nbgrader": {
     "grade": false,
     "grade_id": "cell-8d08b6b592761633",
     "locked": true,
     "schema_version": 3,
     "solution": false,
     "task": false
    }
   },
   "source": [
    "**A.1(b) [5 points] Compute the individual probabilities for $x \\in \\{1,...,9\\}$, and compare them to the corresponding discrete uniform distribution (i.e., $P(X = x) = 1/9$). What do you notice?**\n"
   ]
  },
  {
   "cell_type": "markdown",
   "metadata": {
    "id": "TVtnyJd8KPsV",
    "nbgrader": {
     "grade": true,
     "grade_id": "cell-096db750d06a316f",
     "locked": false,
     "points": 5,
     "schema_version": 3,
     "solution": true,
     "task": false
    }
   },
   "source": [
    "See the computations below. The probability for the given distribution starts out higher and then decays faster. For example, $f(1) \\approx 0.301 > 1/9$ and $f(9) \\approx 0.046 < 1/9$."
   ]
  },
  {
   "cell_type": "code",
   "execution_count": 23,
   "metadata": {
    "nbgrader": {
     "grade": true,
     "grade_id": "cell-47b7584e5a4f87a8",
     "locked": false,
     "points": 0,
     "schema_version": 3,
     "solution": true,
     "task": false
    }
   },
   "outputs": [
    {
     "data": {
      "text/html": [
       "<table>\n",
       "<thead><tr><th scope=col>px</th><th scope=col>py</th></tr></thead>\n",
       "<tbody>\n",
       "\t<tr><td>0.30103000</td><td>0.1111111 </td></tr>\n",
       "\t<tr><td>0.17609126</td><td>0.1111111 </td></tr>\n",
       "\t<tr><td>0.12493874</td><td>0.1111111 </td></tr>\n",
       "\t<tr><td>0.09691001</td><td>0.1111111 </td></tr>\n",
       "\t<tr><td>0.07918125</td><td>0.1111111 </td></tr>\n",
       "\t<tr><td>0.06694679</td><td>0.1111111 </td></tr>\n",
       "\t<tr><td>0.05799195</td><td>0.1111111 </td></tr>\n",
       "\t<tr><td>0.05115252</td><td>0.1111111 </td></tr>\n",
       "\t<tr><td>0.04575749</td><td>0.1111111 </td></tr>\n",
       "</tbody>\n",
       "</table>\n"
      ],
      "text/latex": [
       "\\begin{tabular}{ll}\n",
       " px & py\\\\\n",
       "\\hline\n",
       "\t 0.30103000 & 0.1111111 \\\\\n",
       "\t 0.17609126 & 0.1111111 \\\\\n",
       "\t 0.12493874 & 0.1111111 \\\\\n",
       "\t 0.09691001 & 0.1111111 \\\\\n",
       "\t 0.07918125 & 0.1111111 \\\\\n",
       "\t 0.06694679 & 0.1111111 \\\\\n",
       "\t 0.05799195 & 0.1111111 \\\\\n",
       "\t 0.05115252 & 0.1111111 \\\\\n",
       "\t 0.04575749 & 0.1111111 \\\\\n",
       "\\end{tabular}\n"
      ],
      "text/markdown": [
       "\n",
       "| px | py |\n",
       "|---|---|\n",
       "| 0.30103000 | 0.1111111  |\n",
       "| 0.17609126 | 0.1111111  |\n",
       "| 0.12493874 | 0.1111111  |\n",
       "| 0.09691001 | 0.1111111  |\n",
       "| 0.07918125 | 0.1111111  |\n",
       "| 0.06694679 | 0.1111111  |\n",
       "| 0.05799195 | 0.1111111  |\n",
       "| 0.05115252 | 0.1111111  |\n",
       "| 0.04575749 | 0.1111111  |\n",
       "\n"
      ],
      "text/plain": [
       "      px         py       \n",
       " [1,] 0.30103000 0.1111111\n",
       " [2,] 0.17609126 0.1111111\n",
       " [3,] 0.12493874 0.1111111\n",
       " [4,] 0.09691001 0.1111111\n",
       " [5,] 0.07918125 0.1111111\n",
       " [6,] 0.06694679 0.1111111\n",
       " [7,] 0.05799195 0.1111111\n",
       " [8,] 0.05115252 0.1111111\n",
       " [9,] 0.04575749 0.1111111"
      ]
     },
     "metadata": {},
     "output_type": "display_data"
    }
   ],
   "source": [
    "x = 1:9; px = log((x+1)/x, 10); py = 1/9\n",
    "cbind(px,py)"
   ]
  },
  {
   "cell_type": "markdown",
   "metadata": {
    "id": "EN4OnoLDKPsV",
    "nbgrader": {
     "grade": false,
     "grade_id": "cell-4a391cbb2f664c13",
     "locked": true,
     "schema_version": 3,
     "solution": false,
     "task": false
    }
   },
   "source": [
    "**A.1(c) [5 points] Obtain the cdf of $X$.**"
   ]
  },
  {
   "cell_type": "markdown",
   "metadata": {
    "id": "9K4uddbVKPsW",
    "nbgrader": {
     "grade": true,
     "grade_id": "cell-17c86b1026683490",
     "locked": false,
     "points": 5,
     "schema_version": 3,
     "solution": true,
     "task": false
    }
   },
   "source": [
    "\\begin{align*}\n",
    "F(x) = \\sum^x_{i = 1} \\log_{10}\\left(\\frac{i+1}{i}\\right) &= \\sum^x_{i = 1} \\log_{10}\\left(i+1\\right) - \\sum^x_{i = 1} \\log_{10}\\left(i\\right) \\\\\n",
    " &= \\sum^{x+1}_{i = 2} \\log_{10}\\left(i\\right) - \\sum^x_{i = 1} \\log_{10}\\left(i\\right) \\\\\n",
    " &= \\log_{10}(2) + \\log_{10}(3) + ... + \\log_{10}(x+1) - \\log_{10}(1) - \\log_{10}(2) - ... - \\log_{10}(x) \\\\\n",
    " &= \\log_{10}(x+1) \n",
    "\\end{align*}\n",
    "\n",
    "The code below shows that the definition of the CDF and $\\log_{10}(x+1)$ yield the same results."
   ]
  },
  {
   "cell_type": "code",
   "execution_count": 30,
   "metadata": {},
   "outputs": [
    {
     "data": {
      "text/html": [
       "0"
      ],
      "text/latex": [
       "0"
      ],
      "text/markdown": [
       "0"
      ],
      "text/plain": [
       "[1] 0"
      ]
     },
     "metadata": {},
     "output_type": "display_data"
    }
   ],
   "source": [
    "F = function(x){\n",
    "    F = sum(log(((1:x)+1)/(1:x), 10))\n",
    "    return(F)\n",
    "    }\n",
    "F(3) - log(4,10)"
   ]
  },
  {
   "cell_type": "markdown",
   "metadata": {
    "id": "bVXRRkQhKPsX",
    "nbgrader": {
     "grade": false,
     "grade_id": "cell-cf6cefcaae961c7d",
     "locked": true,
     "schema_version": 3,
     "solution": false,
     "task": false
    }
   },
   "source": [
    "**A.1(d) [4 points] Using the cdf, what is the probability that the leading digit is at most 4? At least 5?**"
   ]
  },
  {
   "cell_type": "markdown",
   "metadata": {
    "id": "TOJvUv3TKPsY",
    "nbgrader": {
     "grade": true,
     "grade_id": "cell-6e092676f1d3dab3",
     "locked": false,
     "points": 4,
     "schema_version": 3,
     "solution": true,
     "task": false
    }
   },
   "source": [
    "- $F(4) = \\log_{10}(5) \\approx 0.70$ \n",
    "- $F(5) = \\log_{10}(6) \\approx 0.78$"
   ]
  },
  {
   "cell_type": "code",
   "execution_count": 33,
   "metadata": {
    "nbgrader": {
     "grade": true,
     "grade_id": "cell-333454f54e25241a",
     "locked": false,
     "points": 0,
     "schema_version": 3,
     "solution": true,
     "task": false
    }
   },
   "outputs": [
    {
     "data": {
      "text/html": [
       "0.698970004336019"
      ],
      "text/latex": [
       "0.698970004336019"
      ],
      "text/markdown": [
       "0.698970004336019"
      ],
      "text/plain": [
       "[1] 0.69897"
      ]
     },
     "metadata": {},
     "output_type": "display_data"
    },
    {
     "data": {
      "text/html": [
       "0.778151250383644"
      ],
      "text/latex": [
       "0.778151250383644"
      ],
      "text/markdown": [
       "0.778151250383644"
      ],
      "text/plain": [
       "[1] 0.7781513"
      ]
     },
     "metadata": {},
     "output_type": "display_data"
    }
   ],
   "source": [
    "log(5,10); log(6,10)"
   ]
  },
  {
   "cell_type": "markdown",
   "metadata": {
    "id": "iaLMg3FSKPsY",
    "nbgrader": {
     "grade": false,
     "grade_id": "cell-a3192920d87e51da",
     "locked": true,
     "schema_version": 3,
     "solution": false,
     "task": false
    }
   },
   "source": [
    "## A.2\n",
    "\n",
    "An aircraft seam requires 20 rivets. The seam will have to be reworked if any\n",
    "of these rivets is defective. Suppose rivets are defective independently of one\n",
    "another, each with the same probability.\n",
    "\n",
    "**A.2(a) [5 points] If 18% of all seams need reworking, what is the probability that a rivet is\n",
    "defective?**\n",
    "\n"
   ]
  },
  {
   "cell_type": "markdown",
   "metadata": {
    "id": "1nJZWck9KPsZ",
    "nbgrader": {
     "grade": true,
     "grade_id": "cell-5112010776b2b918",
     "locked": false,
     "points": 5,
     "schema_version": 3,
     "solution": true,
     "task": false
    }
   },
   "source": [
    "If 18% of all seams need reworking, that means that there is a probability of 0.18 that one or more of twenty rivets will be defective; let's denote this event as A and B as the event tht all rivets are functioning properly. Let p be the probability the rivet is defective.\n",
    "\n",
    "$$ P(A)=1-P(A^C)=1-P(B)$$\n",
    "\n",
    "This also means that there is a probability of 0.82 that all 20 rivets are functioning properly.\n",
    "\n",
    "$$ P(B) = (1-p)^{20} = 0.82 $$\n",
    "$$ p = 1-0.82^{0.05} $$\n",
    "$$ p = 0.00987 $$\n",
    "\n",
    "Therefore, there is a probability of about 0.01 that a rivet is defective. "
   ]
  },
  {
   "cell_type": "markdown",
   "metadata": {
    "id": "w02uFGjpKPsa",
    "nbgrader": {
     "grade": false,
     "grade_id": "cell-104aaec2d7df3340",
     "locked": true,
     "schema_version": 3,
     "solution": false,
     "task": false
    }
   },
   "source": [
    "**A.2(b)[4 points]  How small should the probability of a defective rivet be to ensure that only\n",
    "10% of all seams need reworking?**"
   ]
  },
  {
   "cell_type": "markdown",
   "metadata": {
    "id": "H2HhJ4KjKPsb",
    "nbgrader": {
     "grade": true,
     "grade_id": "cell-9aee9b2af09aab1a",
     "locked": false,
     "points": 4,
     "schema_version": 3,
     "solution": true,
     "task": false
    }
   },
   "source": [
    "\n",
    "#### Solution:\n",
    "\n",
    "Following the same process as part a, we can use $ P(A) = 0.1 = 1-P(B) $ and get the equation:\n",
    "\n",
    "$$ P(B) = (1-p)^{20} = 0.9 $$\n",
    "$$ p = 1-0.9^{0.05} $$\n",
    "$$ p = 0.00525 $$\n",
    "\n",
    "Therefore, the probability of a defective rivet should be less than 0.5% to ensure that only 10% of all seams need reworking. "
   ]
  },
  {
   "cell_type": "markdown",
   "metadata": {
    "id": "uCt4BiHlKPsb",
    "nbgrader": {
     "grade": false,
     "grade_id": "cell-612987f85465d9e7",
     "locked": true,
     "schema_version": 3,
     "solution": false,
     "task": false
    }
   },
   "source": [
    "## A.3 Vaccination probabilities?\n",
    "\n",
    "Please read the blog post [Israeli data: How can efficacy vs. severe disease be strong when 60% of hospitalized are vaccinated?](https://www.covid-datascience.com/post/israeli-data-how-can-efficacy-vs-severe-disease-be-strong-when-60-of-hospitalized-are-vaccinated) by Jeffery Morris and answer the following questions.\n",
    "\n",
    "**A.3(a) [4 points] According to Morris, does the statistic that  \"nearly 60% of all patients currently hospitalized for COVID-19 (as of August 15, 2021) are vaccinated\" suggest that there is evidence for low vaccine effectiveness? Why or why not?**"
   ]
  },
  {
   "cell_type": "markdown",
   "metadata": {
    "id": "YtNraSkAKPsc",
    "nbgrader": {
     "grade": true,
     "grade_id": "cell-56216d8fc188c9e6",
     "locked": false,
     "points": 4,
     "schema_version": 3,
     "solution": true,
     "task": false
    }
   },
   "source": [
    "No. Morris argues that this statistic is misleading, and does not provide evidence that vaccine are ineffective. Morris writes that \n",
    "\n",
    "\"When vaccination rates are low, use of raw counts can exaggerate the vaccine effectiveness, and when vaccination rates are high, use of raw counts like this can attenuate the vaccine effectiveness, making it seem lower than it in fact is.\"\n",
    "\n",
    "In Israel, nearly $80\\%$ of residents 12 years or older have been vaccinated. So, Morris claims, Israel is in the second category, i.e., the category where vaccination rates are high, making effectiveness seem lower."
   ]
  },
  {
   "cell_type": "markdown",
   "metadata": {
    "id": "flBWznH8KPsc",
    "nbgrader": {
     "grade": false,
     "grade_id": "cell-8d422e6767b8db31",
     "locked": true,
     "schema_version": 3,
     "solution": false,
     "task": false
    }
   },
   "source": [
    "**A.3(b) [4 points] What is Simpson's paradox? How did Simpson's paradox arise in the Israel vaccine data discussed by Morris?**"
   ]
  },
  {
   "cell_type": "markdown",
   "metadata": {
    "id": "MoHX-rJAKPsc",
    "nbgrader": {
     "grade": true,
     "grade_id": "cell-e263287c5e1431d6",
     "locked": false,
     "points": 4,
     "schema_version": 3,
     "solution": true,
     "task": false
    }
   },
   "source": [
    "Simpson's paradox is the reversal of a trend between two variables when conditioning on a third variable. In the case of the Israeli data, vaccine effectiveness appeared to decrease as a function of severe disease when the data were observed in aggregate. However, if we stratify by (or condition on, in probability language!) age, we see that vaccine effectiveness is higher for both $>50$ and $<50$ groups.\n"
   ]
  },
  {
   "cell_type": "markdown",
   "metadata": {
    "id": "vQlvKhfvKPsd",
    "nbgrader": {
     "grade": false,
     "grade_id": "cell-715f2599c4f41dda",
     "locked": true,
     "schema_version": 3,
     "solution": false,
     "task": false
    }
   },
   "source": [
    "## A.4 How long with this series take?!\n",
    "\n",
    "Individuals $A$ and $B$ play a sequence of chess games until one player wins $9$ games. $A$ wins an individual game with probability $p$, and $B$ wins a game with probability $1 − p$ (i.e., there are no draws). Let $X$ denote the number of games played.\n",
    "\n",
    "**A.4(a) [3 points] What are the possible values of X?**"
   ]
  },
  {
   "cell_type": "markdown",
   "metadata": {
    "id": "55FO1HX5KPsd",
    "nbgrader": {
     "grade": true,
     "grade_id": "cell-972d81179fe4efbc",
     "locked": false,
     "points": 3,
     "schema_version": 3,
     "solution": true,
     "task": false
    }
   },
   "source": [
    "#### Solution:\n",
    "\n",
    "The minimum number of games is when either player A or B wins all of the first 9 games, so 9 games.  The maximum number of games is if one player wins 9 games and the other wins 8 games, so 17 games.\n",
    "\n",
    "$$ X = \\{ x \\in \\mathbb{Z} \\mid 9 \\leq x \\leq 17\\} = \\{9,10,11,12,13,14,15,16,17\\}$$"
   ]
  },
  {
   "cell_type": "markdown",
   "metadata": {
    "id": "hnrau0yGKPsd",
    "nbgrader": {
     "grade": false,
     "grade_id": "cell-7d7522db45711cfe",
     "locked": true,
     "schema_version": 3,
     "solution": false,
     "task": false
    }
   },
   "source": [
    "**A.4(b) [8 points] Write out a mathematical expression for $P(X = x)$.**"
   ]
  },
  {
   "cell_type": "markdown",
   "metadata": {
    "id": "Dcs-qhLgKPsd",
    "nbgrader": {
     "grade": true,
     "grade_id": "cell-3779838952bf488f",
     "locked": false,
     "points": 8,
     "schema_version": 3,
     "solution": true,
     "task": false
    }
   },
   "source": [
    "#### Solution:\n",
    "\n",
    "Note that trials/games are independent and the probability of each trial/game is the same throughout.\n",
    "\n",
    "$P(X=x) = P('A \\text{ Wins in x games}')+ P('B\\text{ Wins in x games}')$\n",
    "\n",
    "$ = P\\left('A \\text{ wins 8 of first } (x-1) \\text{ games}' \\cap  \\ 'A \\text{ wins game } x')+P('B \\text{ wins 8 of first } (x-1) \\text{ games}' \\cap  \\ 'B \\text{ wins game } x'\\right)$\n",
    "\n",
    "$ = Binom(x-1,p)*p + Binom(x-1,1-p)*(1-p) $\n",
    "\n",
    "$ = \\binom{x-1}{8}p^{8}(1-p)^{(x-1)-8}*p+\\binom{x-1}{1-p}(1-p)^{8}p^{(x-1)-8}*(1-p)$\n",
    "\n",
    "\n",
    "$ = \\binom{x-1}{8}p^{9}(1-p)^{x-9} + \\binom{x-1}{8}(1-p)^{9}p^{x-9}$\n",
    "\n"
   ]
  },
  {
   "cell_type": "markdown",
   "metadata": {
    "id": "CGnhN5pKKPse",
    "nbgrader": {
     "grade": false,
     "grade_id": "cell-536718ef505112ab",
     "locked": true,
     "schema_version": 3,
     "solution": false,
     "task": false
    }
   },
   "source": [
    "**A.4(c) [4 points] Let p = 0.5. Find P(X = 12).**\n",
    "\n"
   ]
  },
  {
   "cell_type": "markdown",
   "metadata": {
    "id": "FWt4zT76KPse",
    "nbgrader": {
     "grade": true,
     "grade_id": "cell-4661139d90fa73db",
     "locked": false,
     "points": 4,
     "schema_version": 3,
     "solution": true,
     "task": false
    }
   },
   "source": [
    "#### Solution:\n",
    "\n",
    "$ P(X=12) = \\binom{(12)-1}{8}(0.5)^{9}(1-(0.5))^{12-9} + \\binom{(12)-1}{8}(1-(0.5))^{9}(0.5)^{(12)-9}$\n",
    "\n",
    "$ = 2* \\binom{11}{8}(0.5)^{12}$\n",
    "\n",
    "$ = 0.0806 $\n"
   ]
  },
  {
   "cell_type": "markdown",
   "metadata": {
    "id": "stmCHjRYKPse",
    "nbgrader": {
     "grade": false,
     "grade_id": "cell-7504331067b39837",
     "locked": true,
     "schema_version": 3,
     "solution": false,
     "task": false
    }
   },
   "source": [
    "## A.5 And finally, a proof!\n",
    "\n",
    "**[6 points] Assume that $A$ and $B$ are independent events. Show that $A^c$ and $B$ are also independent. (Hint: First establish a relationship between $P(A^c \\cap B)$,$P(B)$, and $P(A\\cap B)$.)**"
   ]
  },
  {
   "cell_type": "markdown",
   "metadata": {
    "id": "aMF0vAQ-KPsf",
    "nbgrader": {
     "grade": true,
     "grade_id": "cell-2043770665e1d6dc",
     "locked": false,
     "points": 6,
     "schema_version": 3,
     "solution": true,
     "task": false
    }
   },
   "source": [
    "Let $A$ and $B$ be independent.\n",
    "\n",
    "Then, $P(A \\cap B)=P(A)P(B)$\n",
    "\n",
    "\n",
    "Consider $P(A^{C} \\cap B)$:\n",
    "\n",
    "$P(A^{C} \\cap B) = P(B)P(A^{C} \\mid B) = P(B)(1-P(A \\mid B))$\n",
    "\n",
    "$ = P(B)(1-P(A)) = P(B)P(A^{C}) $\n",
    "\n",
    "Thus, $A^{C}$ and $B$ are independent."
   ]
  },
  {
   "cell_type": "markdown",
   "metadata": {
    "id": "-I2QxKF9KPsf",
    "nbgrader": {
     "grade": false,
     "grade_id": "cell-c01a64b8ddf721ad",
     "locked": true,
     "schema_version": 3,
     "solution": false,
     "task": false
    }
   },
   "source": [
    "# B Computational problems\n",
    "\n",
    "## B.1 Conditional probability simulations \n",
    "\n",
    "Consider the scenario from Unit #2 in-class code:\n",
    "\n",
    "Imagine two unmarked bags filled with poker chips. Each bag contains both red poker chips and white poker chips. In bag one, there are 75% red and 25% white; in bag two, there are 75% white and 25% red. Imagine that you pick one bag at random, and, without looking inside, begin to draw chips out, one at a time, replacing and mixing after each draw, so that each draw is independent.\n",
    "\n",
    "\n",
    "**B.1(a) [5 points] Write a function called `draws`, with one argument `n`, that randomly selects one of the two bags, and then generates a sample of size $n = 20$ from it (i.e., draws $n = 20$ chips, with replacement). Let `0` = \"White\" and `1` = \"Red\". Then, execute the line `e = draws(n)`. The variable `e` will consist of a string of `1`s and `0`s, representing what happened as you drew chips. (HINT: The functions `rbinom()` and [`switch()`](https://www.datamentor.io/r-programming/switch-function) might be useful in randomly choosing the bag.)**"
   ]
  },
  {
   "cell_type": "code",
   "execution_count": 59,
   "metadata": {
    "colab": {
     "base_uri": "https://localhost:8080/",
     "height": 51
    },
    "executionInfo": {
     "elapsed": 163,
     "status": "ok",
     "timestamp": 1632176816705,
     "user": {
      "displayName": "Eric Young",
      "photoUrl": "https://lh3.googleusercontent.com/a/default-user=s64",
      "userId": "14315698820705127118"
     },
     "user_tz": 360
    },
    "id": "SmJmNLvSOyYh",
    "outputId": "559d3102-e2ac-4f6d-a326-5c44617f6954"
   },
   "outputs": [
    {
     "name": "stdout",
     "output_type": "stream",
     "text": [
      "[1] \"bag2\"\n"
     ]
    },
    {
     "data": {
      "text/html": [
       "<style>\n",
       ".list-inline {list-style: none; margin:0; padding: 0}\n",
       ".list-inline>li {display: inline-block}\n",
       ".list-inline>li:not(:last-child)::after {content: \"\\00b7\"; padding: 0 .5ex}\n",
       "</style>\n",
       "<ol class=list-inline><li>1</li><li>1</li><li>0</li><li>0</li><li>1</li><li>1</li><li>1</li><li>1</li><li>1</li><li>0</li></ol>\n"
      ],
      "text/latex": [
       "\\begin{enumerate*}\n",
       "\\item 1\n",
       "\\item 1\n",
       "\\item 0\n",
       "\\item 0\n",
       "\\item 1\n",
       "\\item 1\n",
       "\\item 1\n",
       "\\item 1\n",
       "\\item 1\n",
       "\\item 0\n",
       "\\end{enumerate*}\n"
      ],
      "text/markdown": [
       "1. 1\n",
       "2. 1\n",
       "3. 0\n",
       "4. 0\n",
       "5. 1\n",
       "6. 1\n",
       "7. 1\n",
       "8. 1\n",
       "9. 1\n",
       "10. 0\n",
       "\n",
       "\n"
      ],
      "text/plain": [
       " [1] 1 1 0 0 1 1 1 1 1 0"
      ]
     },
     "metadata": {},
     "output_type": "display_data"
    }
   ],
   "source": [
    "mydraws = function(n) {\n",
    "  bagprob = runif(1,0,1)\n",
    "  draw = NULL\n",
    "  if (bagprob > 0.5) {\n",
    "    bag = 'bag1'\n",
    "    chip = sample(x=c(0,1),size=n,prob=c(0.75,0.25), replace = TRUE)\n",
    "    draw = c(draw,chip)\n",
    "  } else {\n",
    "    bag = 'bag2'\n",
    "    chip = sample(c(0,1),size=n,prob=c(0.25,0.75), replace = TRUE)\n",
    "    draw = c(draw,chip)\n",
    "    }\n",
    "    print(bag)\n",
    "    return(draw)\n",
    "}\n",
    "mydraws(10)"
   ]
  },
  {
   "cell_type": "code",
   "execution_count": 17,
   "metadata": {
    "colab": {
     "base_uri": "https://localhost:8080/"
    },
    "executionInfo": {
     "elapsed": 135,
     "status": "ok",
     "timestamp": 1632176942883,
     "user": {
      "displayName": "Eric Young",
      "photoUrl": "https://lh3.googleusercontent.com/a/default-user=s64",
      "userId": "14315698820705127118"
     },
     "user_tz": 360
    },
    "id": "yoyjgd8eKPsg",
    "nbgrader": {
     "grade": true,
     "grade_id": "cell-107c5980050600e3",
     "locked": false,
     "points": 5,
     "schema_version": 3,
     "solution": true,
     "task": false
    },
    "outputId": "11271ae9-19b1-4961-c248-84f7570d4840"
   },
   "outputs": [
    {
     "name": "stdout",
     "output_type": "stream",
     "text": [
      " [1] 0 0 0 0 0 0 0 0 0 0 0 0 0 0 0 0 1 0 0 0 0 0 0 1 0\n"
     ]
    }
   ],
   "source": [
    "set.seed(111)\n",
    "n = 25\n",
    "draws = function(n){\n",
    "    #zero is white, one is red\n",
    "    draws = switch(rbinom(1,1,0.5)+1, sample(c(1,0), n,prob = c(0.75, 0.25), replace = TRUE),sample(c(1, 0), n, prob = c(0.25, 0.75), replace = TRUE))\n",
    "    return(draws)\n",
    "    }\n",
    "\n",
    "e = draws(n); print(e)"
   ]
  },
  {
   "cell_type": "markdown",
   "metadata": {
    "id": "Go20hfzvKPsk",
    "nbgrader": {
     "grade": false,
     "grade_id": "cell-8f90d39e6a6e1cfe",
     "locked": true,
     "schema_version": 3,
     "solution": false,
     "task": false
    }
   },
   "source": [
    "Our goal for the rest of the question is to use Bayes' theorem to calculuate our degree of belief in the hypothesis $H$~=~\"We've selected bag one\" given the evidence $e_i$ = \"we've drawn $x$ red chips in $i$ draws\", $i = 1,...,n$. Remember, Bayes' theorem is\n",
    "\n",
    "$$P(H \\, | \\, e_i) = \\frac{P(e_i \\, | \\, H)P_i(H)}{P(e_i \\, | \\, H)P_i(H) + P(e_i \\, | \\, H^c)P_i(H^c)}.$$\n",
    "\n",
    "Achieving our goal will involve setting $P_i(H)$ - the prior probability for $H$ at step $i$ - equal to $P(H \\, | \\, e_{i-1})$, the posterior probability for $H$ from step $i-1$.\n",
    "\n",
    "**B1.(b) [4 points] Constuct an $n \\times 2$ matrix $p$ where the $i^{th}$ entry of the first column contains $P(e_i \\, | \\, H)$ and the $i^{th}$ entry of the second column contains $P(e_i \\, | \\, H^c)$.  Note: These are binomial probabilities, and can be calculated - without a loop! - using `dbinom()` and  `cumsum()`.  `cbind()` can help form that matrix.**"
   ]
  },
  {
   "cell_type": "code",
   "execution_count": 63,
   "metadata": {
    "colab": {
     "base_uri": "https://localhost:8080/",
     "height": 809
    },
    "executionInfo": {
     "elapsed": 152,
     "status": "ok",
     "timestamp": 1632176955208,
     "user": {
      "displayName": "Eric Young",
      "photoUrl": "https://lh3.googleusercontent.com/a/default-user=s64",
      "userId": "14315698820705127118"
     },
     "user_tz": 360
    },
    "id": "iQflGMR8KPsk",
    "nbgrader": {
     "grade": true,
     "grade_id": "cell-50ecde4ccd821f0e",
     "locked": false,
     "points": 4,
     "schema_version": 3,
     "solution": true,
     "task": false
    },
    "outputId": "48143e47-f449-4ebc-d224-6cc06e6451ac"
   },
   "outputs": [
    {
     "data": {
      "text/html": [
       "<table class=\"dataframe\">\n",
       "<caption>A matrix: 25 × 2 of type dbl</caption>\n",
       "<tbody>\n",
       "\t<tr><td>2.500000e-01</td><td>0.75000000</td></tr>\n",
       "\t<tr><td>6.250000e-02</td><td>0.56250000</td></tr>\n",
       "\t<tr><td>1.562500e-02</td><td>0.42187500</td></tr>\n",
       "\t<tr><td>3.906250e-03</td><td>0.31640625</td></tr>\n",
       "\t<tr><td>9.765625e-04</td><td>0.23730469</td></tr>\n",
       "\t<tr><td>2.441406e-04</td><td>0.17797852</td></tr>\n",
       "\t<tr><td>6.103516e-05</td><td>0.13348389</td></tr>\n",
       "\t<tr><td>1.525879e-05</td><td>0.10011292</td></tr>\n",
       "\t<tr><td>3.814697e-06</td><td>0.07508469</td></tr>\n",
       "\t<tr><td>9.536743e-07</td><td>0.05631351</td></tr>\n",
       "\t<tr><td>2.384186e-07</td><td>0.04223514</td></tr>\n",
       "\t<tr><td>5.960464e-08</td><td>0.03167635</td></tr>\n",
       "\t<tr><td>1.490116e-08</td><td>0.02375726</td></tr>\n",
       "\t<tr><td>3.725290e-09</td><td>0.01781795</td></tr>\n",
       "\t<tr><td>9.313226e-10</td><td>0.01336346</td></tr>\n",
       "\t<tr><td>2.328306e-10</td><td>0.01002260</td></tr>\n",
       "\t<tr><td>2.968591e-09</td><td>0.04259603</td></tr>\n",
       "\t<tr><td>7.858034e-10</td><td>0.03382626</td></tr>\n",
       "\t<tr><td>2.073648e-10</td><td>0.02677912</td></tr>\n",
       "\t<tr><td>5.456968e-11</td><td>0.02114141</td></tr>\n",
       "\t<tr><td>1.432454e-11</td><td>0.01664886</td></tr>\n",
       "\t<tr><td>3.751666e-12</td><td>0.01308125</td></tr>\n",
       "\t<tr><td>9.805490e-13</td><td>0.01025689</td></tr>\n",
       "\t<tr><td>8.824941e-12</td><td>0.03077067</td></tr>\n",
       "\t<tr><td>2.398082e-12</td><td>0.02508478</td></tr>\n",
       "</tbody>\n",
       "</table>\n"
      ],
      "text/latex": [
       "A matrix: 25 × 2 of type dbl\n",
       "\\begin{tabular}{ll}\n",
       "\t 2.500000e-01 & 0.75000000\\\\\n",
       "\t 6.250000e-02 & 0.56250000\\\\\n",
       "\t 1.562500e-02 & 0.42187500\\\\\n",
       "\t 3.906250e-03 & 0.31640625\\\\\n",
       "\t 9.765625e-04 & 0.23730469\\\\\n",
       "\t 2.441406e-04 & 0.17797852\\\\\n",
       "\t 6.103516e-05 & 0.13348389\\\\\n",
       "\t 1.525879e-05 & 0.10011292\\\\\n",
       "\t 3.814697e-06 & 0.07508469\\\\\n",
       "\t 9.536743e-07 & 0.05631351\\\\\n",
       "\t 2.384186e-07 & 0.04223514\\\\\n",
       "\t 5.960464e-08 & 0.03167635\\\\\n",
       "\t 1.490116e-08 & 0.02375726\\\\\n",
       "\t 3.725290e-09 & 0.01781795\\\\\n",
       "\t 9.313226e-10 & 0.01336346\\\\\n",
       "\t 2.328306e-10 & 0.01002260\\\\\n",
       "\t 2.968591e-09 & 0.04259603\\\\\n",
       "\t 7.858034e-10 & 0.03382626\\\\\n",
       "\t 2.073648e-10 & 0.02677912\\\\\n",
       "\t 5.456968e-11 & 0.02114141\\\\\n",
       "\t 1.432454e-11 & 0.01664886\\\\\n",
       "\t 3.751666e-12 & 0.01308125\\\\\n",
       "\t 9.805490e-13 & 0.01025689\\\\\n",
       "\t 8.824941e-12 & 0.03077067\\\\\n",
       "\t 2.398082e-12 & 0.02508478\\\\\n",
       "\\end{tabular}\n"
      ],
      "text/markdown": [
       "\n",
       "A matrix: 25 × 2 of type dbl\n",
       "\n",
       "| 2.500000e-01 | 0.75000000 |\n",
       "| 6.250000e-02 | 0.56250000 |\n",
       "| 1.562500e-02 | 0.42187500 |\n",
       "| 3.906250e-03 | 0.31640625 |\n",
       "| 9.765625e-04 | 0.23730469 |\n",
       "| 2.441406e-04 | 0.17797852 |\n",
       "| 6.103516e-05 | 0.13348389 |\n",
       "| 1.525879e-05 | 0.10011292 |\n",
       "| 3.814697e-06 | 0.07508469 |\n",
       "| 9.536743e-07 | 0.05631351 |\n",
       "| 2.384186e-07 | 0.04223514 |\n",
       "| 5.960464e-08 | 0.03167635 |\n",
       "| 1.490116e-08 | 0.02375726 |\n",
       "| 3.725290e-09 | 0.01781795 |\n",
       "| 9.313226e-10 | 0.01336346 |\n",
       "| 2.328306e-10 | 0.01002260 |\n",
       "| 2.968591e-09 | 0.04259603 |\n",
       "| 7.858034e-10 | 0.03382626 |\n",
       "| 2.073648e-10 | 0.02677912 |\n",
       "| 5.456968e-11 | 0.02114141 |\n",
       "| 1.432454e-11 | 0.01664886 |\n",
       "| 3.751666e-12 | 0.01308125 |\n",
       "| 9.805490e-13 | 0.01025689 |\n",
       "| 8.824941e-12 | 0.03077067 |\n",
       "| 2.398082e-12 | 0.02508478 |\n",
       "\n"
      ],
      "text/plain": [
       "      [,1]         [,2]      \n",
       " [1,] 2.500000e-01 0.75000000\n",
       " [2,] 6.250000e-02 0.56250000\n",
       " [3,] 1.562500e-02 0.42187500\n",
       " [4,] 3.906250e-03 0.31640625\n",
       " [5,] 9.765625e-04 0.23730469\n",
       " [6,] 2.441406e-04 0.17797852\n",
       " [7,] 6.103516e-05 0.13348389\n",
       " [8,] 1.525879e-05 0.10011292\n",
       " [9,] 3.814697e-06 0.07508469\n",
       "[10,] 9.536743e-07 0.05631351\n",
       "[11,] 2.384186e-07 0.04223514\n",
       "[12,] 5.960464e-08 0.03167635\n",
       "[13,] 1.490116e-08 0.02375726\n",
       "[14,] 3.725290e-09 0.01781795\n",
       "[15,] 9.313226e-10 0.01336346\n",
       "[16,] 2.328306e-10 0.01002260\n",
       "[17,] 2.968591e-09 0.04259603\n",
       "[18,] 7.858034e-10 0.03382626\n",
       "[19,] 2.073648e-10 0.02677912\n",
       "[20,] 5.456968e-11 0.02114141\n",
       "[21,] 1.432454e-11 0.01664886\n",
       "[22,] 3.751666e-12 0.01308125\n",
       "[23,] 9.805490e-13 0.01025689\n",
       "[24,] 8.824941e-12 0.03077067\n",
       "[25,] 2.398082e-12 0.02508478"
      ]
     },
     "metadata": {},
     "output_type": "display_data"
    }
   ],
   "source": [
    "p = cbind(dbinom(cumsum(e), 1:n, 0.75), dbinom(cumsum(e), 1:n, 0.25))\n",
    "p"
   ]
  },
  {
   "cell_type": "markdown",
   "metadata": {
    "id": "BIkVWEi4KPsl",
    "nbgrader": {
     "grade": false,
     "grade_id": "cell-90148aa9e0dd3662",
     "locked": true,
     "schema_version": 3,
     "solution": false,
     "task": false
    }
   },
   "source": [
    "**B.1(c) [3 points] Create an $n \\times 2$ matrix `prior` that has $0.5$ in the (1,1) and (1,2) entry, and `NA` everywhere else (for now). This is where we'll store $P_i(H) = P(H \\, | \\, e_{i-1})$ and $P_i(H^c) = 1-P(H \\, | \\, e_{i-1})$ for every step.**"
   ]
  },
  {
   "cell_type": "code",
   "execution_count": null,
   "metadata": {
    "id": "Qn0UKIDLKPsl",
    "nbgrader": {
     "grade": true,
     "grade_id": "cell-e79948eb88b7b43c",
     "locked": false,
     "points": 3,
     "schema_version": 3,
     "solution": true,
     "task": false
    }
   },
   "outputs": [],
   "source": [
    "prior = matrix(NA, ncol = 2, nrow = n)\n",
    "prior[1,] = c(0.5, 0.5)"
   ]
  },
  {
   "cell_type": "markdown",
   "metadata": {
    "id": "zeP8YK23KPsl",
    "nbgrader": {
     "grade": false,
     "grade_id": "cell-74822693350ca7f7",
     "locked": true,
     "schema_version": 3,
     "solution": false,
     "task": false
    }
   },
   "source": [
    "**B.1(d) [2 points] Create an $n \\times 1$ vector `post`  with NAs everywhere. This is where we'll store $P(H \\, | \\, e_i)$, the posterior probability for $H$ at every step.**"
   ]
  },
  {
   "cell_type": "code",
   "execution_count": null,
   "metadata": {
    "id": "vLyafth5KPsm",
    "nbgrader": {
     "grade": true,
     "grade_id": "cell-2394975bd96d55c7",
     "locked": false,
     "points": 2,
     "schema_version": 3,
     "solution": true,
     "task": false
    }
   },
   "outputs": [],
   "source": [
    "post = matrix(NA, ncol = 1, nrow = n)"
   ]
  },
  {
   "cell_type": "markdown",
   "metadata": {
    "id": "iLOjcYbfKPsm",
    "nbgrader": {
     "grade": false,
     "grade_id": "cell-41f63ab2e3b2035e",
     "locked": true,
     "schema_version": 3,
     "solution": false,
     "task": false
    }
   },
   "source": [
    "**B.1(e) [5 points] Use the function below to calculate the posterior probability for the first step, i.e., after pulling one chip. Store this in `post[1]`.**"
   ]
  },
  {
   "cell_type": "code",
   "execution_count": null,
   "metadata": {
    "id": "vMJ86E6hKPsm",
    "nbgrader": {
     "grade": true,
     "grade_id": "cell-f73839ffb0a5695b",
     "locked": false,
     "points": 5,
     "schema_version": 3,
     "solution": true,
     "task": false
    }
   },
   "outputs": [],
   "source": [
    "posterior = function(p, prior){\n",
    "    #p is a vector of size 2, with likelihoods for each bag\n",
    "    #prior is a vector of size 2, with priors for each bag\n",
    "    post = p[1]*prior[1]/(p[1]*prior[1] + p[2]*prior[2])\n",
    "    return(post)\n",
    "}\n",
    "\n",
    "post[1] = posterior(p[1,], prior[1,])"
   ]
  },
  {
   "cell_type": "markdown",
   "metadata": {
    "id": "uxjDoZ9SKPsm",
    "nbgrader": {
     "grade": false,
     "grade_id": "cell-48cd7af50ebe8782",
     "locked": true,
     "schema_version": 3,
     "solution": false,
     "task": false
    }
   },
   "source": [
    "**B.1(f) [5 points] In the loop below, add two lines of code. The first line should use the posterior probability from the $(i-1)$ step to store $P_i(H)$ and $P_i(H^c)$ in `prior` for the $i^{th}$ step. The second line should calculate the posterior probability for the $i^{th}$ step (using the `posterior` function above).**"
   ]
  },
  {
   "cell_type": "code",
   "execution_count": null,
   "metadata": {
    "id": "9RFu7miOKPsn",
    "nbgrader": {
     "grade": true,
     "grade_id": "cell-905d55b0a0580b69",
     "locked": false,
     "points": 5,
     "schema_version": 3,
     "solution": true,
     "task": false
    }
   },
   "outputs": [],
   "source": [
    "for (i in 2:n){\n",
    "    ### BEGIN ANSWER HERE\n",
    "    prior[i,] = c(post[i-1], 1 - post[i-1])\n",
    "    post[i] = posterior(p[i,], prior[i,])\n",
    "    ### END ANSWER HERE\n",
    "}"
   ]
  },
  {
   "cell_type": "markdown",
   "metadata": {
    "id": "nh2T1iBWKPsn",
    "nbgrader": {
     "grade": false,
     "grade_id": "cell-30f076d9ab455f85",
     "locked": true,
     "schema_version": 3,
     "solution": false,
     "task": false
    }
   },
   "source": [
    "**B.1(g) [4 points] Use `data.frame()` to construct a table containing, at each step $i = 1,...,n$,  the posterior distribution, $P(H \\, | \\, e_i)$, the likelihood $P(e_i \\, | \\, H)$, and the prior $P_i(H)$. Then, construct a plot of the posterior probability against $i$, for $i = 1,...,n$.**"
   ]
  },
  {
   "cell_type": "code",
   "execution_count": null,
   "metadata": {
    "id": "DCGF3a4rKPsn",
    "nbgrader": {
     "grade": true,
     "grade_id": "cell-166b03c0dfabf00d",
     "locked": false,
     "points": 4,
     "schema_version": 3,
     "solution": true,
     "task": false
    },
    "outputId": "dcbc0e4a-6a82-4bb9-bda3-135ee82d38bf"
   },
   "outputs": [
    {
     "data": {
      "image/png": "[encoded data removed]",
      "text/plain": [
       "plot without title"
      ]
     },
     "metadata": {},
     "output_type": "display_data"
    }
   ],
   "source": [
    "# data.frame(Posterior = post, Likelihood = p[,1],Prior = prior[,1])\n",
    "plot(1:n, post, type = \"l\", xaxt = 'n', col = 2, xlab = \"Number of Draws\", ylab = \"Posterior for H\")\n",
    "axis(3,at=seq(1,25,2))\n",
    "axis(1,at=seq(2,25,2))\n",
    "## add gridlines and suppress output\n",
    "invisible(sapply(1:25, function(x) abline(v=x, col='grey', lty = 3, cex=.3)))\n"
   ]
  },
  {
   "cell_type": "markdown",
   "metadata": {
    "id": "r8cQiM_oKPsn",
    "nbgrader": {
     "grade": false,
     "grade_id": "cell-bbd35b5cb55bf204",
     "locked": true,
     "schema_version": 3,
     "solution": false,
     "task": false
    }
   },
   "source": [
    "**B.1(h) [4 points] After $n = 20$ draws, what do you believe about $H$? Based on your table and plot, how many chips did you need to draw before you became basically certain about the truth or falsity of $H$?**"
   ]
  },
  {
   "cell_type": "markdown",
   "metadata": {
    "collapsed": true,
    "id": "x2DmkdCqKPsn",
    "nbgrader": {
     "grade": true,
     "grade_id": "cell-1ab38b096f7ae088",
     "locked": false,
     "points": 4,
     "schema_version": 3,
     "solution": true,
     "task": false
    }
   },
   "source": [
    "This particular example is quite \"unlucky\" in that we appear to be \"basically certain\" about the result after 3 draws but are in fact wrong. In general, this is not the case:"
   ]
  },
  {
   "cell_type": "code",
   "execution_count": null,
   "metadata": {
    "id": "NEs4tGHUKPso",
    "nbgrader": {
     "grade": true,
     "grade_id": "cell-29cefba0107974fd",
     "locked": false,
     "points": 0,
     "schema_version": 3,
     "solution": true,
     "task": false
    },
    "outputId": "13f8a3c7-0303-47be-cf40-91f4ebd65070",
    "scrolled": true
   },
   "outputs": [
    {
     "data": {
      "text/html": [
       "'In general, it takes 4.665 draws.'"
      ],
      "text/latex": [
       "'In general, it takes 4.665 draws.'"
      ],
      "text/markdown": [
       "'In general, it takes 4.665 draws.'"
      ],
      "text/plain": [
       "[1] \"In general, it takes 4.665 draws.\""
      ]
     },
     "metadata": {},
     "output_type": "display_data"
    },
    {
     "data": {
      "image/png": "[encoded data removed]",
      "text/plain": [
       "Plot with title “Histogram of nDraws”"
      ]
     },
     "metadata": {},
     "output_type": "display_data"
    }
   ],
   "source": [
    "### just for your information, you weren't expected to do this:\n",
    "### we do perform the above simulation 1000 times and see how long \n",
    "### it usually takes to correctly determine the bag if we stop drawing \n",
    "### after the posterior probability is within 1e-3 of the posterior probability \n",
    "### after all 25 draws\n",
    "\n",
    "\n",
    "nDraws <- replicate(1e3, {\n",
    "    e = draws(n)\n",
    "    p = cbind(dbinom(cumsum(e), 1:n, 0.75), dbinom(cumsum(e), 1:n, 0.25))\n",
    "    prior = matrix(NA, ncol = 2, nrow = n)\n",
    "    prior[1,] = c(0.5, 0.5)\n",
    "    post = matrix(NA, ncol = 1, nrow = n)\n",
    "    post[1] = posterior(p[1,], prior[1,])\n",
    "    for (i in 2:n){\n",
    "        prior[i,] <- c(post[i-1], 1 - post[i-1])\n",
    "        post[i] <- posterior(p[i,], prior[i,])\n",
    "    }\n",
    "    which(cumsum(c(0,abs(post-post[25]<1e-3)))==1)\n",
    "})\n",
    "\n",
    "paste(\"In general, it takes\", mean(nDraws), \"draws.\")\n",
    "hist(nDraws)"
   ]
  },
  {
   "cell_type": "markdown",
   "metadata": {
    "id": "7OCZEK2oKPso",
    "nbgrader": {
     "grade": false,
     "grade_id": "cell-02c572aba4e41255",
     "locked": true,
     "schema_version": 3,
     "solution": false,
     "task": false
    }
   },
   "source": [
    "## B.2 Fraud detection again!\n",
    "\n",
    "Let $X =$ the leading digit of a randomly selected number from a large accounting ledger. So, for example, if we randomly draw the number $\\$20,695$, then $X = 2$. People who make up numbers to commit accounting fraud tend to give $X$ a (discrete) uniform distribution, i.e., $P(X = x) = 1/9$, for $x \\in \\{1,...,9\\}$. However, some suggest that there is empirical evidence that ``naturally occurring\" numbers (e.g., numbers in a non-fraudulent accounting ledger) have leading digits that do not follow a uniform distribution. Instead, they follow a distribution defined by:\n",
    "\n",
    "\\begin{align*}\n",
    "f(x) = \\log_{10}\\bigg(\\frac{x+1}{x}\\bigg), \\,\\,\\,\\, x = 1,2,...,9.\n",
    "\\end{align*} \n",
    "\n",
    "**B.2(a) [6 points] Using ${\\tt tax.txt}$, a dataset containing the taxable incomes for individuals in 1978, decide whether this dataset is fraudulent.**"
   ]
  },
  {
   "cell_type": "code",
   "execution_count": 18,
   "metadata": {
    "id": "hsw2sdtRKPso",
    "nbgrader": {
     "grade": false,
     "grade_id": "cell-5ce977f40669c90e",
     "locked": true,
     "schema_version": 3,
     "solution": false,
     "task": false
    },
    "outputId": "bf9ecbaa-b583-497f-df71-c03ed54d8acd"
   },
   "outputs": [
    {
     "data": {
      "text/html": [
       "<ol class=list-inline>\n",
       "\t<li>5601</li>\n",
       "\t<li>4977</li>\n",
       "\t<li>5959</li>\n",
       "\t<li>6267</li>\n",
       "\t<li>5221</li>\n",
       "\t<li>3094</li>\n",
       "</ol>\n"
      ],
      "text/latex": [
       "\\begin{enumerate*}\n",
       "\\item 5601\n",
       "\\item 4977\n",
       "\\item 5959\n",
       "\\item 6267\n",
       "\\item 5221\n",
       "\\item 3094\n",
       "\\end{enumerate*}\n"
      ],
      "text/markdown": [
       "1. 5601\n",
       "2. 4977\n",
       "3. 5959\n",
       "4. 6267\n",
       "5. 5221\n",
       "6. 3094\n",
       "\n",
       "\n"
      ],
      "text/plain": [
       "[1] 5601 4977 5959 6267 5221 3094"
      ]
     },
     "metadata": {},
     "output_type": "display_data"
    },
    {
     "data": {
      "text/plain": [
       "    Min.  1st Qu.   Median     Mean  3rd Qu.     Max. \n",
       "       0    13376    27359    90914    74589 21541002 "
      ]
     },
     "metadata": {},
     "output_type": "display_data"
    }
   ],
   "source": [
    "tax = read.csv(url(\"https://raw.githubusercontent.com/bzaharatos/STAT-5000/main/data/tax.txt\"), sep=\"\\t\")[[1]]\n",
    "head(tax)\n",
    "summary(tax)"
   ]
  },
  {
   "cell_type": "code",
   "execution_count": null,
   "metadata": {
    "id": "zVgRmZaIKPsp",
    "nbgrader": {
     "grade": true,
     "grade_id": "cell-b1f98ae7be550cf8",
     "locked": false,
     "points": 6,
     "schema_version": 3,
     "solution": true,
     "task": false
    },
    "outputId": "f6ed31b3-187c-473d-f6f7-605da01096ee"
   },
   "outputs": [
    {
     "data": {
      "image/png": "[encoded data removed]",
      "text/plain": [
       "Plot with title “Histogram of leading”"
      ]
     },
     "metadata": {},
     "output_type": "display_data"
    },
    {
     "data": {
      "image/png": "[encoded data removed]",
      "text/plain": [
       "Plot with title “Empirical vs Expected CDFs”"
      ]
     },
     "metadata": {},
     "output_type": "display_data"
    }
   ],
   "source": [
    "## extract leading digits\n",
    "leading0 <- as.numeric(substr(tax,1,1))\n",
    "## remove zeros\n",
    "leading <- leading0[leading0!=0]\n",
    "\n",
    "## plot histogram and overlay curves for fradulent and true cases\n",
    "hist(leading, probability = T)\n",
    "\n",
    "abline(h=1/9, col = 2, lty = 2)\n",
    "curve(log((x+1)/x,10), add = T, col = 4, lty = 3) \n",
    "## we can ignore warning due to division by zero in graphing curve\n",
    "\n",
    "## add legend\n",
    "legend(\"topright\", col=c(2,4), lty = 2:3, \n",
    "       legend = c(\"Expected if fraudulent\",\n",
    "                  \"Expected if real\"))\n",
    "\n",
    "\n",
    "## we could also compare the empirical and expected CDFs \n",
    "## (you weren't expected to do this)\n",
    "\n",
    "curve(ecdf(leading)(x),0,9, col =3, main = \"Empirical vs Expected CDFs\")\n",
    "curve(stepfun(1:9,c(0,cumsum(log((2:10)/(1:9),10))))(x),0,9,\n",
    "      add = T, col = 4, lty = 2)\n",
    "curve(stepfun(1:9,(0:9)/9)(x),0,9,\n",
    "      add = T, col = 2, lty = 3)\n",
    "\n",
    "## add legend\n",
    "legend(\"bottomright\", col=c(3,2,4), lty = 1:3, \n",
    "       legend = c(\"Observed\",\n",
    "                  \"Expected if fraudulent\",\n",
    "                  \"Expected if real\"))"
   ]
  },
  {
   "cell_type": "markdown",
   "metadata": {
    "id": "rh8YJ2ryKPsp",
    "nbgrader": {
     "grade": false,
     "grade_id": "cell-6cc003550ed866dc",
     "locked": true,
     "schema_version": 3,
     "solution": false,
     "task": false
    }
   },
   "source": [
    "**B.2(b) [4 points] After the 2020 US presidential election, some individuals tried to support claims of election fraud using the distribution described above (known as \"Benford's Law\"). They claimed that the leading digit of local vote tallies did not match the distribution, which provides evidence of fraud. Many academics pushed back against this. Please read this [fact check article](https://www.reuters.com/article/uk-factcheck-benford/fact-check-deviation-from-benfords-law-does-not-prove-election-fraud-idUSKBN27Q3AI) and briefly summarize whether you think Benford' Law provides evidence of election fraud.**\n",
    "\n"
   ]
  },
  {
   "cell_type": "markdown",
   "metadata": {
    "id": "CxYUg2K1KPsq",
    "nbgrader": {
     "grade": true,
     "grade_id": "cell-9404dbb4d828c7ec",
     "locked": false,
     "points": 4,
     "schema_version": 3,
     "solution": true,
     "task": false
    }
   },
   "source": [
    "\"The degree to which Benford’s Law can be used as an indicator of electoral fraud has been debated by academics, but the application of the rule to the leading digit of local vote tallies is problematic and apparent deviation from the law cannot be used alone to prove electoral fraud, experts say.\""
   ]
  }
 ],
 "metadata": {
  "celltoolbar": "Create Assignment",
  "colab": {
   "name": "STAT5000_HW3_Solutions.ipynb",
   "provenance": []
  },
  "kernelspec": {
   "display_name": "R",
   "language": "R",
   "name": "ir"
  },
  "language_info": {
   "codemirror_mode": "r",
   "file_extension": ".r",
   "mimetype": "text/x-r-source",
   "name": "R",
   "pygments_lexer": "r",
   "version": "3.6.1"
  }
 },
 "nbformat": 4,
 "nbformat_minor": 1
}
