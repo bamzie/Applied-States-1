{
 "cells": [
  {
   "cell_type": "markdown",
   "metadata": {
    "deletable": false,
    "editable": false,
    "id": "BgJMy-Po9eH-",
    "nbgrader": {
     "cell_type": "markdown",
     "checksum": "777c8d326aba73d50ec00a04afd0d59d",
     "grade": false,
     "grade_id": "cell-506044151ea0ea95",
     "locked": true,
     "schema_version": 3,
     "solution": false,
     "task": false
    }
   },
   "source": [
    "# Homework #3\n",
    "\n",
    "**See Canvas for HW #3 assignment due date**. Complete all of the following problems. Ideally, the theoretical problems should be answered in a Markdown cell directly underneath the question. If you don't know LaTex/Markdown, you may submit separate handwritten solutions to the theoretical problems, but please see the [class scanning policy](https://docs.google.com/document/d/17y5ksolrn2rEuXYBv_3HeZhkPbYwt48UojNT1OvcB_w/edit?usp=sharing). Please do not turn in messy work. Computational problems should be completed in this notebook (using the R kernel). Computational questions may require code, plots, analysis, interpretation, etc. Working in small groups is allowed, but it is important that you make an effort to master the material and hand in your own work. \n"
   ]
  },
  {
   "cell_type": "markdown",
   "metadata": {
    "deletable": false,
    "editable": false,
    "id": "Vpxs_7xzuHD8",
    "nbgrader": {
     "cell_type": "markdown",
     "checksum": "889b7205d3b70ef0d561cf6199d4a771",
     "grade": false,
     "grade_id": "cell-690073cfc39a9520",
     "locked": true,
     "schema_version": 3,
     "solution": false,
     "task": false
    }
   },
   "source": [
    "## A. Theoretical Problems"
   ]
  },
  {
   "cell_type": "markdown",
   "metadata": {
    "deletable": false,
    "editable": false,
    "nbgrader": {
     "cell_type": "markdown",
     "checksum": "51427d34b6c90d40c5e8bf9b7a77b9a9",
     "grade": false,
     "grade_id": "cell-65d6ccfd6b276f94",
     "locked": true,
     "schema_version": 3,
     "solution": false,
     "task": false
    }
   },
   "source": [
    "## A.1 Fraud detection\n",
    "\n",
    "Let $X =$ the leading digit of a randomly selected number from a large accounting ledger. So, for example, if we randomly draw the number $\\$20,695$, then $X = 2$. People who make up numbers to commit accounting fraud tend to give $X$ a (discrete) uniform distribution, i.e., $P(X = x) = 1/9$, for $x \\in \\{1,...,9\\}$. However, there is some (perhaps limited!) empirical evidence that suggests that \"naturally occurring\" numbers (e.g., numbers in a non-fraudulent accounting ledger) have leading digits that do not follow a uniform distribution. Instead, they follow a distribution defined by:\n",
    "\n",
    "\\begin{align*}\n",
    "f(x) = \\log_{10}\\bigg(\\frac{x+1}{x}\\bigg), \\,\\,\\,\\, x = 1,2,...,9.\n",
    "\\end{align*} \n",
    "\n",
    "\n",
    "**A.1(a) [6 points] Show that $f(x) = P(X = x)$ is, in fact, a probability distribution function.**"
   ]
  },
  {
   "cell_type": "markdown",
   "metadata": {
    "deletable": false,
    "nbgrader": {
     "cell_type": "markdown",
     "checksum": "fd754de1d23af592538b2beba1d17b5e",
     "grade": true,
     "grade_id": "cell-f5bf027c328820eb",
     "locked": false,
     "points": 6,
     "schema_version": 3,
     "solution": true,
     "task": false
    }
   },
   "source": [
    "To show $f(x)$ is a PDF, we must satisfy that: "
   ]
  },
  {
   "cell_type": "markdown",
   "metadata": {},
   "source": [
    "\\begin{equation}\n",
    "1) f(x) \\geq 0 \\forall x\n",
    "\\end{equation} \n",
    "\\begin{equation}\n",
    "2) \\sum_x f(x) = 1\n",
    "\\end{equation} "
   ]
  },
  {
   "cell_type": "markdown",
   "metadata": {},
   "source": [
    "1) So, we know that $f(x) \\geq 0 \\forall x$, is true because our base $a > 1$ and our $x > 1$. If $x < 1$ then we would get a negative number, however, $1 \\leq x \\leq 9$.     "
   ]
  },
  {
   "cell_type": "markdown",
   "metadata": {},
   "source": [
    "2) $\\displaystyle\\sum_1^9 Log_{10}(\\frac{x+1}{x}) = Log_{10}(\\frac{2}{1})+ Log_{10}(\\frac{3}{2}) + Log_{10}(\\frac{4}{3}) + Log_{10}(\\frac{5}{4}) + Log_{10}(\\frac{6}{5})+ Log_{10}(\\frac{7}{6})+ Log_{10}(\\frac{8}{7}) + Log_{10}(\\frac{9}{8}) + Log_{10}(\\frac{10}{9}) = 1$"
   ]
  },
  {
   "cell_type": "markdown",
   "metadata": {
    "deletable": false,
    "editable": false,
    "nbgrader": {
     "cell_type": "markdown",
     "checksum": "11a1d1d6139cfe82be6bce2ec0540eb1",
     "grade": false,
     "grade_id": "cell-8d08b6b592761633",
     "locked": true,
     "schema_version": 3,
     "solution": false,
     "task": false
    }
   },
   "source": [
    "**A.1(b) [5 points] Compute the individual probabilities for $x \\in \\{1,...,9\\}$, and compare them to the corresponding discrete uniform distribution (i.e., $P(X = x) = 1/9$). What do you notice?**\n"
   ]
  },
  {
   "cell_type": "markdown",
   "metadata": {
    "deletable": false,
    "nbgrader": {
     "cell_type": "markdown",
     "checksum": "07da676692a303504012f5a0f6c6c0ad",
     "grade": true,
     "grade_id": "cell-096db750d06a316f",
     "locked": false,
     "points": 5,
     "schema_version": 3,
     "solution": true,
     "task": false
    }
   },
   "source": [
    "$x \\in \\{1,...,9\\}$ we have $f(1) = 0.301, f(2) =0.176, f(3) = 0.124, f(4) = 0.096, f(5) = 0.079, f(6) = 0.066, \n",
    "f(7) = 0.057, f(8) = 0.051, f(9) = 0.045$"
   ]
  },
  {
   "cell_type": "markdown",
   "metadata": {},
   "source": [
    "Compared to: $P(X = x) = \\frac{1}{9} = 0.11..$"
   ]
  },
  {
   "cell_type": "markdown",
   "metadata": {},
   "source": [
    "$f(x)$ decreases as $x$ increases towards 9 and P(X = x) conserves the same probability through out the whole set of $x$. "
   ]
  },
  {
   "cell_type": "markdown",
   "metadata": {
    "deletable": false,
    "editable": false,
    "nbgrader": {
     "cell_type": "markdown",
     "checksum": "a7309e6a1b96c2a2e6ceb8851eb72a8c",
     "grade": false,
     "grade_id": "cell-4a391cbb2f664c13",
     "locked": true,
     "schema_version": 3,
     "solution": false,
     "task": false
    }
   },
   "source": [
    "**A.1(c) [5 points] Obtain the cdf of $X$.**"
   ]
  },
  {
   "cell_type": "markdown",
   "metadata": {
    "deletable": false,
    "nbgrader": {
     "cell_type": "markdown",
     "checksum": "3e18d2ad9671dd1812b003ef9670f1e9",
     "grade": true,
     "grade_id": "cell-17c86b1026683490",
     "locked": false,
     "points": 5,
     "schema_version": 3,
     "solution": true,
     "task": false
    }
   },
   "source": [
    "$$ F(X) = P(X \\leq x) = \\sum^x_t P(X=t)$$"
   ]
  },
  {
   "cell_type": "markdown",
   "metadata": {},
   "source": [
    "So, the CDF of X is: \n",
    "$$ F(X) = P(1\\leq X \\leq 9) = \\sum^{9}_{x = 1}P(X)$$"
   ]
  },
  {
   "cell_type": "markdown",
   "metadata": {
    "deletable": false,
    "editable": false,
    "nbgrader": {
     "cell_type": "markdown",
     "checksum": "859995887a6ceaed19b0f048c79ebf26",
     "grade": false,
     "grade_id": "cell-cf6cefcaae961c7d",
     "locked": true,
     "schema_version": 3,
     "solution": false,
     "task": false
    }
   },
   "source": [
    "**A.1(d) [4 points] Using the cdf, what is the probability that the leading digit is at most 4? At least 5?**"
   ]
  },
  {
   "cell_type": "markdown",
   "metadata": {
    "deletable": false,
    "nbgrader": {
     "cell_type": "markdown",
     "checksum": "cbbcacee4175de8ca0e92d1577a96f23",
     "grade": true,
     "grade_id": "cell-6e092676f1d3dab3",
     "locked": false,
     "points": 4,
     "schema_version": 3,
     "solution": true,
     "task": false
    }
   },
   "source": [
    "$$F(4) = \\sum^4_{x=1}P(X) = Log(2) + Log(3/2) + Log(4/3) + Log(5/4) = 0.698$$"
   ]
  },
  {
   "cell_type": "markdown",
   "metadata": {},
   "source": [
    "$$F(5) = 1 - \\sum^4_{x=1}P(X) = 1 - 0.698 = 0.302$$"
   ]
  },
  {
   "cell_type": "markdown",
   "metadata": {
    "deletable": false,
    "editable": false,
    "nbgrader": {
     "cell_type": "markdown",
     "checksum": "806ad00ddaec1dffc057e81d5e8b8fd0",
     "grade": false,
     "grade_id": "cell-a3192920d87e51da",
     "locked": true,
     "schema_version": 3,
     "solution": false,
     "task": false
    }
   },
   "source": [
    "## A.2\n",
    "\n",
    "An aircraft seam requires 20 rivets. The seam will have to be reworked if any\n",
    "of these rivets is defective. Suppose rivets are defective independently of one\n",
    "another, each with the same probability.\n",
    "\n",
    "**A.2(a) [5 points] If 18% of all seams need reworking, what is the probability that a rivet is\n",
    "defective?**\n",
    "\n"
   ]
  },
  {
   "cell_type": "markdown",
   "metadata": {
    "deletable": false,
    "nbgrader": {
     "cell_type": "markdown",
     "checksum": "1c692af98b0e34f555f229084db555b0",
     "grade": true,
     "grade_id": "cell-5112010776b2b918",
     "locked": false,
     "points": 5,
     "schema_version": 3,
     "solution": true,
     "task": false
    }
   },
   "source": [
    "We know that  (1−𝑝)  is the probability of failures and  𝑝  is the probability of rivet bieng defective. However  $(1−𝑝)^𝑛$ , would be the probability of having no failures since there is no  𝑥  to subtract."
   ]
  },
  {
   "cell_type": "markdown",
   "metadata": {},
   "source": [
    "Additionally, we know P(0) = 1 - P(1). P(1) = (1-p)^n since that is the probaility of having no failtures. That means the probability of at least one rivet is defective is:\n",
    "\\begin{equation}\n",
    "    P(0) = 1 - P(1) = 1 - (1-p)^n \n",
    "\\end{equation}\n",
    "We know that $P(0) = 0.18, n = 20$ therefore we are looking for $p$ at $0.82$: \n",
    "\\begin{equation}\n",
    "    0.82 = 1 - (1-p)^{20} \\newline\n",
    "    p = 1 - \\sqrt[\\leftroot{-2}\\uproot{2}20]{0.82} \\newline\n",
    "    p = 0.0098\n",
    "\\end{equation}"
   ]
  },
  {
   "cell_type": "markdown",
   "metadata": {
    "deletable": false,
    "editable": false,
    "nbgrader": {
     "cell_type": "markdown",
     "checksum": "ba140072a5c4c9e250fd86e1870c4aa9",
     "grade": false,
     "grade_id": "cell-104aaec2d7df3340",
     "locked": true,
     "schema_version": 3,
     "solution": false,
     "task": false
    }
   },
   "source": [
    "**A.2(b)[4 points]  How small should the probability of a defective rivet be to ensure that only\n",
    "10% of all seams need reworking?**"
   ]
  },
  {
   "cell_type": "markdown",
   "metadata": {
    "deletable": false,
    "nbgrader": {
     "cell_type": "markdown",
     "checksum": "da11889cd58cb0ace0e00452fcf7beef",
     "grade": true,
     "grade_id": "cell-9aee9b2af09aab1a",
     "locked": false,
     "points": 4,
     "schema_version": 3,
     "solution": true,
     "task": false
    }
   },
   "source": [
    "\\begin{equation}\n",
    "    0.90 = 1 - (1-p)^{20} \\newline\n",
    "    p = 1 - \\sqrt[\\leftroot{-2}\\uproot{2}20]{0.90} \\newline\n",
    "    p = 0.0052\n",
    "\\end{equation}"
   ]
  },
  {
   "cell_type": "markdown",
   "metadata": {
    "deletable": false,
    "editable": false,
    "nbgrader": {
     "cell_type": "markdown",
     "checksum": "f7f43b1e0c881bed05d55739e316fe94",
     "grade": false,
     "grade_id": "cell-612987f85465d9e7",
     "locked": true,
     "schema_version": 3,
     "solution": false,
     "task": false
    }
   },
   "source": [
    "## A.3 Vaccination probabilities?\n",
    "\n",
    "Please read the blog post [Israeli data: How can efficacy vs. severe disease be strong when 60% of hospitalized are vaccinated?](https://www.covid-datascience.com/post/israeli-data-how-can-efficacy-vs-severe-disease-be-strong-when-60-of-hospitalized-are-vaccinated) by Jeffery Morris and answer the following questions.\n",
    "\n",
    "**A.3(a) [4 points] According to Morris, does the statistic that  \"nearly 60% of all patients currently hospitalized for COVID-19 (as of August 15, 2021) are vaccinated\" suggest that there is evidence for low vaccine effectiveness? Why or why not?**"
   ]
  },
  {
   "cell_type": "markdown",
   "metadata": {
    "deletable": false,
    "nbgrader": {
     "cell_type": "markdown",
     "checksum": "13f58c9803f08a6a95c20293e8bf5e38",
     "grade": true,
     "grade_id": "cell-56216d8fc188c9e6",
     "locked": false,
     "points": 4,
     "schema_version": 3,
     "solution": true,
     "task": false
    }
   },
   "source": [
    "No, becuase the analysis is based on raw data. This can be misleading because it is heavily influenced by vaccination rates. As mentioned in the articled when vaccination rates are low use of raw data can magnify the vaccine effectiveness, similary, when vaccination rates are high use of raw data can attenuate the vaccine effectiveness. To be more precise we have to normalize the data. The confounding of age with vaccine status and risk of disease makes it seem that the vaccination effectiveness is attenuating. However, when you start to clean the data by age group vaccine effectiveness is actually effective. "
   ]
  },
  {
   "cell_type": "markdown",
   "metadata": {
    "deletable": false,
    "editable": false,
    "nbgrader": {
     "cell_type": "markdown",
     "checksum": "d4a155de3211c84b84c1445ddc50b0a1",
     "grade": false,
     "grade_id": "cell-8d422e6767b8db31",
     "locked": true,
     "schema_version": 3,
     "solution": false,
     "task": false
    }
   },
   "source": [
    "**A.3(b) [4 points] What is Simpson's paradox? How did Simpson's paradox arise in the Israel vaccine data discussed by Morris?**"
   ]
  },
  {
   "cell_type": "markdown",
   "metadata": {
    "deletable": false,
    "nbgrader": {
     "cell_type": "markdown",
     "checksum": "c7ac3538c8a534eefe6f7d62a584b050",
     "grade": true,
     "grade_id": "cell-e263287c5e1431d6",
     "locked": false,
     "points": 4,
     "schema_version": 3,
     "solution": true,
     "task": false
    }
   },
   "source": [
    "Simpon's paradox is a phenomanon in which misleading results can sometimes be obtained from observational data in the presence of confounding factors(i.e raw data, unclear variables and so on). Simpson's paradox arises in the Israel vaccine data result by not stratifying the data and assuming the vaccine status and risk of severe disease in all ages. As Morris shows, when you stratify the vaccine statues and risk of severe disease by age group the result is systematically higher in older people. If estimated without stratifying by age, the result will produce a parodoxical result showing that the overall effectiveness of the vaccine is much lower (67.5%). When the result is grouped by age the vaccine effectiveness is 91.8% effectiveness for ages less than 50 and 85.2% for ages greater than 50.  "
   ]
  },
  {
   "cell_type": "markdown",
   "metadata": {
    "deletable": false,
    "editable": false,
    "nbgrader": {
     "cell_type": "markdown",
     "checksum": "aa9c4f42b2133221e0eb4bc5dc617342",
     "grade": false,
     "grade_id": "cell-715f2599c4f41dda",
     "locked": true,
     "schema_version": 3,
     "solution": false,
     "task": false
    }
   },
   "source": [
    "## A.4 How long with this series take?!\n",
    "\n",
    "Individuals $A$ and $B$ play a sequence of chess games until one player wins $9$ games. $A$ wins an individual game with probability $p$, and $B$ wins a game with probability $1 − p$ (i.e., there are no draws). Let $X$ denote the number of games played.\n",
    "\n",
    "**A.4(a) [3 points] What are the possible values of X?**"
   ]
  },
  {
   "cell_type": "markdown",
   "metadata": {
    "deletable": false,
    "nbgrader": {
     "cell_type": "markdown",
     "checksum": "7663506e17a9246abe2ee554da8961b5",
     "grade": true,
     "grade_id": "cell-972d81179fe4efbc",
     "locked": false,
     "points": 3,
     "schema_version": 3,
     "solution": true,
     "task": false
    }
   },
   "source": [
    "Well since there can be no draws and a player needs to win 9 games, so at least 9 games can be played. The most that can be played is when each player wins 8 games plus 1 for the 9th winning game. Therefore the possible values of $x$ is, $$X = \\{9,10,11,12,13,14,15,16,17\\}$$"
   ]
  },
  {
   "cell_type": "markdown",
   "metadata": {
    "deletable": false,
    "editable": false,
    "nbgrader": {
     "cell_type": "markdown",
     "checksum": "d036b79bbfa50ccb6f473a63afa20b18",
     "grade": false,
     "grade_id": "cell-7d7522db45711cfe",
     "locked": true,
     "schema_version": 3,
     "solution": false,
     "task": false
    }
   },
   "source": [
    "**A.4(b) [8 points] Write out a mathematical expression for $P(X = x)$.**"
   ]
  },
  {
   "cell_type": "markdown",
   "metadata": {
    "deletable": false,
    "nbgrader": {
     "cell_type": "markdown",
     "checksum": "f8160dc7e1343eae266760989a270274",
     "grade": true,
     "grade_id": "cell-3779838952bf488f",
     "locked": false,
     "points": 8,
     "schema_version": 3,
     "solution": true,
     "task": false
    }
   },
   "source": [
    "Since we one player must win 9 games, we can assume that 9th game will be won by A or B. However, for the previous games we can have different combinations. So we use the binomial distribution to figure out the probability of A or B to win the game. "
   ]
  },
  {
   "cell_type": "markdown",
   "metadata": {},
   "source": [
    "$$P(X=x) = \\binom{x-1}8 p^8(1-p)^{(x-1)-8}p + \\binom{x-1}8 p^8(1-p)^{(x-1)-8}p$$\n",
    "$$\\Rightarrow P(X=x) = \\binom{x-1}8 p^9(1-p)^{x-9} + \\binom{x-1}8 p^9(1-p)^{x-9}$$"
   ]
  },
  {
   "cell_type": "markdown",
   "metadata": {
    "deletable": false,
    "editable": false,
    "nbgrader": {
     "cell_type": "markdown",
     "checksum": "1390e57dbede3c2f4faac196cbc14018",
     "grade": false,
     "grade_id": "cell-536718ef505112ab",
     "locked": true,
     "schema_version": 3,
     "solution": false,
     "task": false
    }
   },
   "source": [
    "**A.4(c) [4 points] Let p = 0.5. Find P(X = 12).**\n",
    "\n"
   ]
  },
  {
   "cell_type": "markdown",
   "metadata": {
    "deletable": false,
    "nbgrader": {
     "cell_type": "markdown",
     "checksum": "af556c5fe2607208ff9bcff051277c7c",
     "grade": true,
     "grade_id": "cell-4661139d90fa73db",
     "locked": false,
     "points": 4,
     "schema_version": 3,
     "solution": true,
     "task": false
    }
   },
   "source": [
    "$$P(12) = \\binom{12-1}8 p^9(1-p)^3 + \\binom{12-1}8 p^9(1-p)^3 = 0.08$$"
   ]
  },
  {
   "cell_type": "markdown",
   "metadata": {
    "deletable": false,
    "editable": false,
    "nbgrader": {
     "cell_type": "markdown",
     "checksum": "fddefe97024e17dd3fb3515d736b2215",
     "grade": false,
     "grade_id": "cell-7504331067b39837",
     "locked": true,
     "schema_version": 3,
     "solution": false,
     "task": false
    }
   },
   "source": [
    "#### A.5 And finally, a proof!\n",
    "\n",
    "**[6 points] Assume that $A$ and $B$ are independent events. Show that $A^c$ and $B$ are also independent. (Hint: First establish a relationship between $P(A^c \\cap B)$,$P(B)$, and $P(A\\cap B)$.)**"
   ]
  },
  {
   "cell_type": "markdown",
   "metadata": {
    "deletable": false,
    "nbgrader": {
     "cell_type": "markdown",
     "checksum": "b2b01eb103c1ae6fb6f2f27f9fbf5b8d",
     "grade": true,
     "grade_id": "cell-2043770665e1d6dc",
     "locked": false,
     "points": 6,
     "schema_version": 3,
     "solution": true,
     "task": false
    }
   },
   "source": [
    "Note: $P(A\\cap B) = P(A)P(B)$ and $P(B) = P(B \\cap A) + P(B \\cap A^c)$ and $P(A^c \\cap B)  = P(B)-P(A\\cap B)$"
   ]
  },
  {
   "cell_type": "markdown",
   "metadata": {},
   "source": [
    "So we know that: \n",
    "\\begin{equation}\n",
    "    P(A^c \\cap B) = P(B) - P(A \\cap B)  \\newline \n",
    "    P(A^c \\cap B) = P(B) - P(A)P(B \\newline \n",
    "    P(A^c \\cap B) = (1 - P(A))P(B) \\newline\n",
    "    P(A^c \\cap B) = P(A^c)P(B) \\newline\n",
    "\\end{equation}"
   ]
  },
  {
   "cell_type": "markdown",
   "metadata": {},
   "source": [
    "As shown, $A^c$ and $B$ are also independent"
   ]
  },
  {
   "cell_type": "markdown",
   "metadata": {
    "deletable": false,
    "editable": false,
    "nbgrader": {
     "cell_type": "markdown",
     "checksum": "1bc558b0364cd7187947dda3900cea29",
     "grade": false,
     "grade_id": "cell-c01a64b8ddf721ad",
     "locked": true,
     "schema_version": 3,
     "solution": false,
     "task": false
    }
   },
   "source": [
    "# B Computational problems\n",
    "\n",
    "## B.1 Conditional probability simulations \n",
    "\n",
    "Consider the scenario from Unit #2 in-class code:\n",
    "\n",
    "Imagine two unmarked bags filled with poker chips. Each bag contains both red poker chips and white poker chips. In bag one, there are 75% red and 25% white; in bag two, there are 75% white and 25% red. Imagine that you pick one bag at random, and, without looking inside, begin to draw chips out, one at a time, replacing and mixing after each draw, so that each draw is independent.\n",
    "\n",
    "\n",
    "**B.1(a) [5 points] Write a function called `draws`, with one argument `n`, that randomly selects one of the two bags, and then generates a sample of size $n = 20$ from it (i.e., draws $n = 20$ chips, with replacement). Let `0` = \"White\" and `1` = \"Red\". Then, execute the line `e = draws(n)`. The variable `e` will consist of a string of `1`s and `0`s, representing what happened as you drew chips. (HINT: The functions `rbinom()` and [`switch()`](https://www.datamentor.io/r-programming/switch-function) might be useful in randomly choosing the bag.)**"
   ]
  },
  {
   "cell_type": "code",
   "execution_count": 380,
   "metadata": {
    "deletable": false,
    "nbgrader": {
     "cell_type": "code",
     "checksum": "8405d85875742e7917885406c2ffcc67",
     "grade": true,
     "grade_id": "cell-107c5980050600e3",
     "locked": false,
     "points": 5,
     "schema_version": 3,
     "solution": true,
     "task": false
    }
   },
   "outputs": [
    {
     "data": {
      "text/html": [
       "<ol class=list-inline>\n",
       "\t<li>1</li>\n",
       "\t<li>1</li>\n",
       "\t<li>1</li>\n",
       "\t<li>1</li>\n",
       "\t<li>1</li>\n",
       "\t<li>1</li>\n",
       "\t<li>1</li>\n",
       "\t<li>1</li>\n",
       "\t<li>1</li>\n",
       "\t<li>0</li>\n",
       "\t<li>1</li>\n",
       "\t<li>1</li>\n",
       "\t<li>0</li>\n",
       "\t<li>0</li>\n",
       "\t<li>1</li>\n",
       "\t<li>1</li>\n",
       "\t<li>0</li>\n",
       "\t<li>1</li>\n",
       "\t<li>1</li>\n",
       "\t<li>1</li>\n",
       "\t<li>1</li>\n",
       "\t<li>1</li>\n",
       "\t<li>0</li>\n",
       "\t<li>1</li>\n",
       "\t<li>1</li>\n",
       "</ol>\n"
      ],
      "text/latex": [
       "\\begin{enumerate*}\n",
       "\\item 1\n",
       "\\item 1\n",
       "\\item 1\n",
       "\\item 1\n",
       "\\item 1\n",
       "\\item 1\n",
       "\\item 1\n",
       "\\item 1\n",
       "\\item 1\n",
       "\\item 0\n",
       "\\item 1\n",
       "\\item 1\n",
       "\\item 0\n",
       "\\item 0\n",
       "\\item 1\n",
       "\\item 1\n",
       "\\item 0\n",
       "\\item 1\n",
       "\\item 1\n",
       "\\item 1\n",
       "\\item 1\n",
       "\\item 1\n",
       "\\item 0\n",
       "\\item 1\n",
       "\\item 1\n",
       "\\end{enumerate*}\n"
      ],
      "text/markdown": [
       "1. 1\n",
       "2. 1\n",
       "3. 1\n",
       "4. 1\n",
       "5. 1\n",
       "6. 1\n",
       "7. 1\n",
       "8. 1\n",
       "9. 1\n",
       "10. 0\n",
       "11. 1\n",
       "12. 1\n",
       "13. 0\n",
       "14. 0\n",
       "15. 1\n",
       "16. 1\n",
       "17. 0\n",
       "18. 1\n",
       "19. 1\n",
       "20. 1\n",
       "21. 1\n",
       "22. 1\n",
       "23. 0\n",
       "24. 1\n",
       "25. 1\n",
       "\n",
       "\n"
      ],
      "text/plain": [
       " [1] 1 1 1 1 1 1 1 1 1 0 1 1 0 0 1 1 0 1 1 1 1 1 0 1 1"
      ]
     },
     "metadata": {},
     "output_type": "display_data"
    }
   ],
   "source": [
    "set.seed(2023)\n",
    "bags = c('bag one', 'bag two')\n",
    "draws  = function(n){\n",
    "    selectedBag = sample(bags, 1);\n",
    "    \n",
    "    if (selectedBag == 'bag one'){\n",
    "        return (rbinom(n, 1, p=0.75))\n",
    "    }else{\n",
    "        return (rbinom(n, 1, p=0.25))\n",
    "    }\n",
    "}\n",
    "n = 25\n",
    "e = draws(n)\n",
    "e"
   ]
  },
  {
   "cell_type": "markdown",
   "metadata": {
    "deletable": false,
    "editable": false,
    "nbgrader": {
     "cell_type": "markdown",
     "checksum": "49181fa18842e1e6dc6c4d338d9d4d9e",
     "grade": false,
     "grade_id": "cell-8f90d39e6a6e1cfe",
     "locked": true,
     "schema_version": 3,
     "solution": false,
     "task": false
    }
   },
   "source": [
    "Our goal for the rest of the question is to use Bayes' theorem to calculuate our degree of belief in the hypothesis $H$~=~\"We've selected bag one\" given the evidence $e_i$ = \"we've drawn $x$ red chips in $i$ draws\", $i = 1,...,n$. Remember, Bayes' theorem is\n",
    "\n",
    "$$P(H \\, | \\, e_i) = \\frac{P(e_i \\, | \\, H)P_i(H)}{P(e_i \\, | \\, H)P_i(H) + P(e_i \\, | \\, H^c)P_i(H^c)}.$$\n",
    "\n",
    "Achieving our goal will involve setting $P_i(H)$ - the prior probability for $H$ at step $i$ - equal to $P(H \\, | \\, e_{i-1})$, the posterior probability for $H$ from step $i-1$.\n",
    "\n",
    "**B1.(b) [4 points] Constuct an $n \\times 2$ matrix $p$ where the $i^{th}$ entry of the first column contains $P(e_i \\, | \\, H)$ and the $i^{th}$ entry of the second column contains $P(e_i \\, | \\, H^c)$.  Note: These are binomial probabilities, and can be calculated - without a loop! - using `dbinom()` and  `cumsum()`.  `cbind()` can help form that matrix.**"
   ]
  },
  {
   "cell_type": "code",
   "execution_count": 382,
   "metadata": {
    "deletable": false,
    "nbgrader": {
     "cell_type": "code",
     "checksum": "39e65d45194c620ccd0e9d1fa743b88b",
     "grade": true,
     "grade_id": "cell-50ecde4ccd821f0e",
     "locked": false,
     "points": 4,
     "schema_version": 3,
     "solution": true,
     "task": false
    }
   },
   "outputs": [],
   "source": [
    "p <- cbind(cumsum(dbinom(1, e, 0.75)), cumsum(dbinom(1, e, 0.25)))"
   ]
  },
  {
   "cell_type": "markdown",
   "metadata": {
    "deletable": false,
    "editable": false,
    "nbgrader": {
     "cell_type": "markdown",
     "checksum": "90ef749cbcad90d94e6603d5653f8f36",
     "grade": false,
     "grade_id": "cell-90148aa9e0dd3662",
     "locked": true,
     "schema_version": 3,
     "solution": false,
     "task": false
    }
   },
   "source": [
    "**B.1(c) [3 points] Create an $n \\times 2$ matrix `prior` that has $0.5$ in the (1,1) and (1,2) entry, and `NA` everywhere else (for now). This is where we'll store $P_i(H) = P(H \\, | \\, e_{i-1})$ and $P_i(H^c) = 1-P(H \\, | \\, e_{i-1})$ for every step.**"
   ]
  },
  {
   "cell_type": "code",
   "execution_count": 374,
   "metadata": {
    "deletable": false,
    "nbgrader": {
     "cell_type": "code",
     "checksum": "eb49b43aa6e202da21091765f4fbb8de",
     "grade": true,
     "grade_id": "cell-e79948eb88b7b43c",
     "locked": false,
     "points": 3,
     "schema_version": 3,
     "solution": true,
     "task": false
    }
   },
   "outputs": [],
   "source": [
    "prior = matrix(NA, nrow = n, ncol = 2); \n",
    "prior[1,]= 0.5"
   ]
  },
  {
   "cell_type": "markdown",
   "metadata": {
    "deletable": false,
    "editable": false,
    "nbgrader": {
     "cell_type": "markdown",
     "checksum": "8de0b2d986a6015c6dbfcc56ccb1a81d",
     "grade": false,
     "grade_id": "cell-74822693350ca7f7",
     "locked": true,
     "schema_version": 3,
     "solution": false,
     "task": false
    }
   },
   "source": [
    "**B.1(d) [2 points] Create an $n \\times 1$ vector `post`  with NAs everywhere. This is where we'll store $P(H \\, | \\, e_i)$, the posterior probability for $H$ at every step.**"
   ]
  },
  {
   "cell_type": "code",
   "execution_count": 375,
   "metadata": {
    "deletable": false,
    "nbgrader": {
     "cell_type": "code",
     "checksum": "6ac972bbae51c36b1e9bacceb95ddb5e",
     "grade": true,
     "grade_id": "cell-2394975bd96d55c7",
     "locked": false,
     "points": 2,
     "schema_version": 3,
     "solution": true,
     "task": false
    }
   },
   "outputs": [],
   "source": [
    "post = matrix(NA, nrow = n, ncol = 1); "
   ]
  },
  {
   "cell_type": "markdown",
   "metadata": {
    "deletable": false,
    "editable": false,
    "nbgrader": {
     "cell_type": "markdown",
     "checksum": "c558a32c9a438d596165e50e0ec52fae",
     "grade": false,
     "grade_id": "cell-41f63ab2e3b2035e",
     "locked": true,
     "schema_version": 3,
     "solution": false,
     "task": false
    }
   },
   "source": [
    "**B.1(e) [5 points] Use the function below to calculate the posterior probability for the first step, i.e., after pulling one chip. Store this in `post[1]`.**"
   ]
  },
  {
   "cell_type": "code",
   "execution_count": 376,
   "metadata": {
    "deletable": false,
    "nbgrader": {
     "cell_type": "code",
     "checksum": "b9fe34752c6f896b6ef879c82ebbb595",
     "grade": true,
     "grade_id": "cell-f73839ffb0a5695b",
     "locked": false,
     "points": 5,
     "schema_version": 3,
     "solution": true,
     "task": false
    }
   },
   "outputs": [],
   "source": [
    "posterior = function(p, prior, p_c, prior_c){\n",
    "    post = (p*prior)/(p*prior + p_c*prior_c)\n",
    "    post\n",
    "    return(post)\n",
    "} \n",
    "post[1] = posterior(p[1,1], prior[1,1], p[1,2], prior[1,2])"
   ]
  },
  {
   "cell_type": "markdown",
   "metadata": {},
   "source": [
    "$$ P(H|e_i) = \\frac{P(e_i|H)}{P(e_i)}P_i(H)$$"
   ]
  },
  {
   "cell_type": "markdown",
   "metadata": {
    "deletable": false,
    "editable": false,
    "nbgrader": {
     "cell_type": "markdown",
     "checksum": "537a0e65c4826c2b9cc03c4b7e46e924",
     "grade": false,
     "grade_id": "cell-48cd7af50ebe8782",
     "locked": true,
     "schema_version": 3,
     "solution": false,
     "task": false
    }
   },
   "source": [
    "**B.1(f) [5 points] In the loop below, add two lines of code. The first line should use the posterior probability from the $(i-1)$ step to store $P_i(H)$ and $P_i(H^c)$ in `prior` for the $i^{th}$ step. The second line should calculate the posterior probability for the $i^{th}$ step (using the `posterior` function above).**"
   ]
  },
  {
   "cell_type": "code",
   "execution_count": 377,
   "metadata": {
    "deletable": false,
    "nbgrader": {
     "cell_type": "code",
     "checksum": "b06b38c08f0648a9c065929ba3e234d7",
     "grade": true,
     "grade_id": "cell-905d55b0a0580b69",
     "locked": false,
     "points": 5,
     "schema_version": 3,
     "solution": true,
     "task": false
    }
   },
   "outputs": [],
   "source": [
    "for (i in 2:n){\n",
    "\n",
    "    prior[i,] = cbind(posterior(p[i-1,1], prior[i-1,1], p[i-1,2], prior[i-1,2]),\n",
    "                      1-posterior(p[i-1,1], prior[i-1,1], p[i-1,2], prior[i-1,2]))\n",
    "    post[i] = posterior(p[i,1], prior[i,1], p[i,2],prior[i,2])\n",
    "}"
   ]
  },
  {
   "cell_type": "markdown",
   "metadata": {
    "deletable": false,
    "editable": false,
    "nbgrader": {
     "cell_type": "markdown",
     "checksum": "8505a0174bc56afc8715c2058658d06c",
     "grade": false,
     "grade_id": "cell-30f076d9ab455f85",
     "locked": true,
     "schema_version": 3,
     "solution": false,
     "task": false
    }
   },
   "source": [
    "**B.1(g) [4 points] Use `data.frame()` to construct a table containing, at each step $i = 1,...,n$,  the posterior distribution, $P(H \\, | \\, e_i)$, the likelihood $P(e_i \\, | \\, H)$, and the prior $P_i(H)$. Then, construct a plot of the posterior probability against $i$, for $i = 1,...,n$.**"
   ]
  },
  {
   "cell_type": "code",
   "execution_count": 384,
   "metadata": {
    "deletable": false,
    "nbgrader": {
     "cell_type": "code",
     "checksum": "83c3341b6801114bf146533378c29f2c",
     "grade": true,
     "grade_id": "cell-166b03c0dfabf00d",
     "locked": false,
     "points": 4,
     "schema_version": 3,
     "solution": true,
     "task": false
    }
   },
   "outputs": [],
   "source": [
    "rchips = data.frame(post, p[,1], prior[,1])"
   ]
  },
  {
   "cell_type": "markdown",
   "metadata": {
    "deletable": false,
    "editable": false,
    "nbgrader": {
     "cell_type": "markdown",
     "checksum": "a11869a45759e2457343488aa018d96a",
     "grade": false,
     "grade_id": "cell-bbd35b5cb55bf204",
     "locked": true,
     "schema_version": 3,
     "solution": false,
     "task": false
    }
   },
   "source": [
    "**B.1(h) [4 points] After $n = 25$ draws, what do you believe about $H$? Based on your table and plot, how many chips did you need to draw before you became basically certain about the truth or falsity of $H$?**"
   ]
  },
  {
   "cell_type": "markdown",
   "metadata": {
    "collapsed": true,
    "deletable": false,
    "nbgrader": {
     "cell_type": "markdown",
     "checksum": "dd44c4ab3252f9492843308a9cf3cf9f",
     "grade": true,
     "grade_id": "cell-1ab38b096f7ae088",
     "locked": false,
     "points": 4,
     "schema_version": 3,
     "solution": true,
     "task": false
    }
   },
   "source": [
    "H begins to be more likely to draw a red chip on the $i^{th}$ draw. To be certain that I would draw a red chip on the next $i^{th}$ draw it took about 16 draws."
   ]
  },
  {
   "cell_type": "code",
   "execution_count": 388,
   "metadata": {
    "deletable": false,
    "nbgrader": {
     "cell_type": "code",
     "checksum": "95644d39e46ff3476ec463489c049e92",
     "grade": true,
     "grade_id": "cell-29cefba0107974fd",
     "locked": false,
     "points": 0,
     "schema_version": 3,
     "solution": true,
     "task": false
    }
   },
   "outputs": [
    {
     "data": {
      "image/png": "[encoded data removed]",
      "text/plain": [
       "plot without title"
      ]
     },
     "metadata": {},
     "output_type": "display_data"
    }
   ],
   "source": [
    "#n = 25\n",
    "colnames(rchips) <- c(\"Post\",\"Likelihood\", \"Prior\")\n",
    "plot(rchips$Likelihood)"
   ]
  },
  {
   "cell_type": "markdown",
   "metadata": {
    "deletable": false,
    "editable": false,
    "nbgrader": {
     "cell_type": "markdown",
     "checksum": "ca73a6d7d9089efdb002559f21084ff0",
     "grade": false,
     "grade_id": "cell-02c572aba4e41255",
     "locked": true,
     "schema_version": 3,
     "solution": false,
     "task": false
    }
   },
   "source": [
    "## B.2 Fraud detection again!\n",
    "\n",
    "Let $X =$ the leading digit of a randomly selected number from a large accounting ledger. So, for example, if we randomly draw the number $\\$20,695$, then $X = 2$. People who make up numbers to commit accounting fraud tend to give $X$ a (discrete) uniform distribution, i.e., $P(X = x) = 1/9$, for $x \\in \\{1,...,9\\}$. However, some suggest that there is empirical evidence that ``naturally occurring\" numbers (e.g., numbers in a non-fraudulent accounting ledger) have leading digits that do not follow a uniform distribution. Instead, they follow a distribution defined by:\n",
    "\n",
    "\\begin{align*}\n",
    "f(x) = \\log_{10}\\bigg(\\frac{x+1}{x}\\bigg), \\,\\,\\,\\, x = 1,2,...,9.\n",
    "\\end{align*} \n",
    "\n",
    "**B.2(a) [6 points] Using ${\\tt tax.txt}$, a dataset containing the taxable incomes for individuals in 1978, decide whether this dataset is fraudulent.**"
   ]
  },
  {
   "cell_type": "code",
   "execution_count": 164,
   "metadata": {
    "collapsed": true,
    "deletable": false,
    "editable": false,
    "nbgrader": {
     "cell_type": "code",
     "checksum": "33b88d200326953b96ad62ea92e165a9",
     "grade": false,
     "grade_id": "cell-5ce977f40669c90e",
     "locked": true,
     "schema_version": 3,
     "solution": false,
     "task": false
    }
   },
   "outputs": [
    {
     "name": "stderr",
     "output_type": "stream",
     "text": [
      "Warning message in open.connection(file, \"rt\"):\n",
      "“cannot open URL 'https://raw.githubusercontent.com/bzaharatos/STAT-5000/main/data/tax.txt?token=AB5AVHL3AUI4OR5T2G7K77LBINJY4': HTTP status was '404 Not Found'”"
     ]
    },
    {
     "ename": "ERROR",
     "evalue": "Error in open.connection(file, \"rt\"): cannot open the connection to 'https://raw.githubusercontent.com/bzaharatos/STAT-5000/main/data/tax.txt?token=AB5AVHL3AUI4OR5T2G7K77LBINJY4'\n",
     "output_type": "error",
     "traceback": [
      "Error in open.connection(file, \"rt\"): cannot open the connection to 'https://raw.githubusercontent.com/bzaharatos/STAT-5000/main/data/tax.txt?token=AB5AVHL3AUI4OR5T2G7K77LBINJY4'\nTraceback:\n",
      "1. read.csv(url(\"https://raw.githubusercontent.com/bzaharatos/STAT-5000/main/data/tax.txt?token=AB5AVHL3AUI4OR5T2G7K77LBINJY4\"), \n .     sep = \"\\t\")",
      "2. read.table(file = file, header = header, sep = sep, quote = quote, \n .     dec = dec, fill = fill, comment.char = comment.char, ...)",
      "3. open(file, \"rt\")",
      "4. open.connection(file, \"rt\")"
     ]
    }
   ],
   "source": [
    "tax = read.csv(url(\"https://raw.githubusercontent.com/bzaharatos/STAT-5000/main/data/tax.txt?token=AB5AVHL3AUI4OR5T2G7K77LBINJY4\"), sep=\"\\t\")[[1]]\n",
    "head(tax)\n",
    "summary(tax)"
   ]
  },
  {
   "cell_type": "code",
   "execution_count": 296,
   "metadata": {
    "deletable": false,
    "nbgrader": {
     "cell_type": "code",
     "checksum": "f71be866dfff11caa3d9d033aaf44080",
     "grade": true,
     "grade_id": "cell-b1f98ae7be550cf8",
     "locked": false,
     "points": 6,
     "schema_version": 3,
     "solution": true,
     "task": false
    },
    "scrolled": false
   },
   "outputs": [
    {
     "data": {
      "text/plain": [
       "    Min.  1st Qu.   Median     Mean  3rd Qu.     Max. \n",
       "       0    13376    27359    90914    74589 21541002 "
      ]
     },
     "metadata": {},
     "output_type": "display_data"
    },
    {
     "data": {
      "image/png": "[encoded data removed]",
      "text/plain": [
       "Plot with title “Benford's Law”"
      ]
     },
     "metadata": {},
     "output_type": "display_data"
    },
    {
     "data": {
      "image/png": "[encoded data removed]",
      "text/plain": [
       "Plot with title “First Digit of Taxes”"
      ]
     },
     "metadata": {},
     "output_type": "display_data"
    }
   ],
   "source": [
    "library (dplyr)\n",
    "tax = read.csv(\"~/Downloads/tax.txt\",sep=\"\\t\")[[1]]\n",
    "summary(tax)\n",
    "\n",
    "for (i in 1:length(tax)){\n",
    "    splitted[i] <- t(sapply(tax[i], function(x) substring(x, first=c(1), last=c(1))))\n",
    "}\n",
    "benlaw = function(d){ log10(1 + 1 / d)}\n",
    "digits = 1:9\n",
    "baseBarplot <- barplot(benlaw(digits), names.arg = digits, xlab = \"First Digit\", ylim = c(0, .35), main = \"Benford's Law\")\n",
    "                                                 \n",
    "hist(as.integer(splitted), xlab = \"First Digit\", col = 'grey', main = \"First Digit of Taxes\")"
   ]
  },
  {
   "cell_type": "markdown",
   "metadata": {},
   "source": [
    "Compared to Benford's Law-chart and Taxes-chart it seems that the taxes done in 1978 were not fraudulent"
   ]
  },
  {
   "cell_type": "markdown",
   "metadata": {
    "deletable": false,
    "editable": false,
    "nbgrader": {
     "cell_type": "markdown",
     "checksum": "811622e6b4ece7df5c3e4e600d454c61",
     "grade": false,
     "grade_id": "cell-6cc003550ed866dc",
     "locked": true,
     "schema_version": 3,
     "solution": false,
     "task": false
    }
   },
   "source": [
    "**B.2(b) [4 points] After the 2020 US presidential election, some individuals tried to support claims of election fraud using the distribution described above (known as \"Benford's Law\"). They claimed that the leading digit of local vote tallies did not match the distribution, which provides evidence of fraud. Many academics pushed back against this. Please read this [fact check article](https://www.reuters.com/article/uk-factcheck-benford/fact-check-deviation-from-benfords-law-does-not-prove-election-fraud-idUSKBN27Q3AI) and briefly summarize whether you think Benford' Law provides evidence of election fraud.**\n",
    "\n"
   ]
  },
  {
   "cell_type": "markdown",
   "metadata": {
    "deletable": false,
    "nbgrader": {
     "cell_type": "markdown",
     "checksum": "0a6f0dbf550fc1cf6b1d910e5bb2d875",
     "grade": true,
     "grade_id": "cell-9404dbb4d828c7ec",
     "locked": false,
     "points": 4,
     "schema_version": 3,
     "solution": true,
     "task": false
    }
   },
   "source": [
    "As mentioned in the article Benford's Law does not prove election fraud but only raises a red flags. I believe Benford's Laws does not provide evidence of election fraud. In the article it stated how Benford's Law only works on specific types of numbers and that none of the research that analyze Benford's Law are simplistic as the analysis that people are posting. Also one professors from University of Oregon state how conformity with and deviations from Bendford's Law follow no pattern. That is why I think Benford's Law is not the best forensic tool to check election fraud. "
   ]
  }
 ],
 "metadata": {
  "colab": {
   "name": "hwk1_Sp18_appm4570-computational.ipynb",
   "provenance": []
  },
  "kernelspec": {
   "display_name": "R",
   "language": "R",
   "name": "ir"
  },
  "language_info": {
   "codemirror_mode": "r",
   "file_extension": ".r",
   "mimetype": "text/x-r-source",
   "name": "R",
   "pygments_lexer": "r",
   "version": "3.6.1"
  }
 },
 "nbformat": 4,
 "nbformat_minor": 1
}
