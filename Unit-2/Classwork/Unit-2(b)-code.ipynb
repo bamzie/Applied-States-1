{
 "cells": [
  {
   "cell_type": "markdown",
   "metadata": {
    "deletable": false,
    "editable": false,
    "nbgrader": {
     "cell_type": "markdown",
     "checksum": "a6dbbcf3e948069fdf02b296d96fe9d1",
     "grade": false,
     "grade_id": "cell-e0d1f28bb04be6d2",
     "locked": true,
     "schema_version": 3,
     "solution": false,
     "task": false
    }
   },
   "source": [
    "# Unit #2 (b) Code\n",
    "\n",
    "The goals of this assignment are to help you (1) calculate probabilities, plot density functions, etc., involving random variables using R, (2) simulate probabilistic processes, and (3) estimate probabilities and other quantities through numerical (computer) simulation. Such simulations can be useful. We can use simulations to help confirm that we've calculated a probability \"by hand\" correctly, or to estimate other quantities, like areas/integrals!"
   ]
  },
  {
   "cell_type": "markdown",
   "metadata": {
    "deletable": false,
    "editable": false,
    "nbgrader": {
     "cell_type": "markdown",
     "checksum": "6497f5161b1d5cf1fda1a24d3e3a6ea3",
     "grade": false,
     "grade_id": "cell-376da07a78f67212",
     "locked": true,
     "schema_version": 3,
     "solution": false,
     "task": false
    }
   },
   "source": [
    "# Problem 1\n",
    "\n",
    "#### Use `dexp()}` to plot--in separate panes of a single window--the pdf of an exponential distribution for $\\lambda \\in \\{1, 2, 5, 7\\}$. More concretely, create an array consisting of elements $1,2,5,7$. Then, generate a grid of `x` values between $0$ and $12$ (with, say, $1000$ points). Then, calculate the pdf of the exponential at each `x` value, and plot."
   ]
  },
  {
   "cell_type": "code",
   "execution_count": null,
   "metadata": {
    "deletable": false,
    "nbgrader": {
     "cell_type": "code",
     "checksum": "5ce66878716f8163eb38e7c895800f60",
     "grade": true,
     "grade_id": "cell-c3f2d173f469ddaa",
     "locked": false,
     "points": 1,
     "schema_version": 3,
     "solution": true,
     "task": false
    }
   },
   "outputs": [],
   "source": [
    "#YOUR CODE HERE\n",
    "fail() # No Answer - remove if you provide an answer"
   ]
  },
  {
   "cell_type": "markdown",
   "metadata": {
    "deletable": false,
    "nbgrader": {
     "cell_type": "markdown",
     "checksum": "b574ca720ab3c53599131cb5e77efba6",
     "grade": true,
     "grade_id": "cell-c2d5df338d7d4c24",
     "locked": false,
     "points": 0,
     "schema_version": 3,
     "solution": true,
     "task": false
    }
   },
   "source": [
    "YOUR ANSWER HERE"
   ]
  },
  {
   "cell_type": "markdown",
   "metadata": {
    "deletable": false,
    "editable": false,
    "nbgrader": {
     "cell_type": "markdown",
     "checksum": "45d6511ec85de75ba8f2f7f59fb984d0",
     "grade": false,
     "grade_id": "cell-95de5c24bb546c30",
     "locked": true,
     "schema_version": 3,
     "solution": false,
     "task": false
    }
   },
   "source": [
    "# Problem 2\n",
    "Monte Carlo Estimation of $\\pi$.\n",
    "\n",
    "**2.(a) Generate two vectors of uniform (-1, 1) random numbers. Call them `x` and `y`. Find the first quartile and 30th percentile of $X \\sim U(-1,1)$ (use `qunif()` ).**"
   ]
  },
  {
   "cell_type": "code",
   "execution_count": null,
   "metadata": {
    "deletable": false,
    "nbgrader": {
     "cell_type": "code",
     "checksum": "36b8bded7f69b367c8a1761653d7e677",
     "grade": true,
     "grade_id": "cell-61b29fb6e2b66130",
     "locked": false,
     "points": 1,
     "schema_version": 3,
     "solution": true,
     "task": false
    }
   },
   "outputs": [],
   "source": [
    "#YOUR CODE HERE\n",
    "fail() # No Answer - remove if you provide an answer"
   ]
  },
  {
   "cell_type": "markdown",
   "metadata": {
    "deletable": false,
    "editable": false,
    "nbgrader": {
     "cell_type": "markdown",
     "checksum": "5da1f46920a8e7bbf0d60458fdae28ce",
     "grade": false,
     "grade_id": "cell-d7d8fdce4cf30c8e",
     "locked": true,
     "schema_version": 3,
     "solution": false,
     "task": false
    }
   },
   "source": [
    "**2.(b) Create a vector of logicals, called `incircle`,that is equal to True if $x^2 + y^2 \\le 1^2$ and False otherwise (for the `x` and `y` generated in 2.(a)).**"
   ]
  },
  {
   "cell_type": "code",
   "execution_count": null,
   "metadata": {
    "deletable": false,
    "nbgrader": {
     "cell_type": "code",
     "checksum": "b4e9d9ee5ed68c78898fb102fbeb2e45",
     "grade": true,
     "grade_id": "cell-bc73d61d90c24fea",
     "locked": false,
     "points": 1,
     "schema_version": 3,
     "solution": true,
     "task": false
    }
   },
   "outputs": [],
   "source": [
    "#YOUR CODE HERE\n",
    "fail() # No Answer - remove if you provide an answer"
   ]
  },
  {
   "cell_type": "markdown",
   "metadata": {
    "deletable": false,
    "editable": false,
    "nbgrader": {
     "cell_type": "markdown",
     "checksum": "95f451911de3b09f6dbb172599ee9d3c",
     "grade": false,
     "grade_id": "cell-1544aa083abe550f",
     "locked": true,
     "schema_version": 3,
     "solution": false,
     "task": false
    }
   },
   "source": [
    "**2.(c) Calculate the number of values of incircle that are equal to true (sum(incircle) will work). Use this value to estimate $\\pi$. Describe why this works.**"
   ]
  },
  {
   "cell_type": "code",
   "execution_count": null,
   "metadata": {
    "deletable": false,
    "nbgrader": {
     "cell_type": "code",
     "checksum": "dbaac1bcd424d4723108ed9d87d1a21a",
     "grade": true,
     "grade_id": "cell-770e3635f3335d3f",
     "locked": false,
     "points": 0,
     "schema_version": 3,
     "solution": true,
     "task": false
    }
   },
   "outputs": [],
   "source": [
    "#YOUR CODE HERE\n",
    "fail() # No Answer - remove if you provide an answer"
   ]
  },
  {
   "cell_type": "markdown",
   "metadata": {
    "deletable": false,
    "nbgrader": {
     "cell_type": "markdown",
     "checksum": "3d532e7829fd97b00b179f681249cccc",
     "grade": true,
     "grade_id": "cell-2bf4690e0a99db70",
     "locked": false,
     "points": 0,
     "schema_version": 3,
     "solution": true,
     "task": false
    }
   },
   "source": [
    "YOUR ANSWER HERE"
   ]
  },
  {
   "cell_type": "markdown",
   "metadata": {
    "collapsed": true,
    "deletable": false,
    "editable": false,
    "nbgrader": {
     "cell_type": "markdown",
     "checksum": "df10f4d90ac17d66955f5fbe8d5956f9",
     "grade": false,
     "grade_id": "cell-41ab8a15102b58ac",
     "locked": true,
     "schema_version": 3,
     "solution": false,
     "task": false
    }
   },
   "source": [
    "**2.(d) How could you use this to estimate the area of a circle with radius 2 centered at the origin?**"
   ]
  },
  {
   "cell_type": "markdown",
   "metadata": {
    "collapsed": true,
    "deletable": false,
    "nbgrader": {
     "cell_type": "markdown",
     "checksum": "8b0edfa718c102cda4ff0ea6f0cbf490",
     "grade": true,
     "grade_id": "cell-74eaeeff3c4c3db1",
     "locked": false,
     "points": 1,
     "schema_version": 3,
     "solution": true,
     "task": false
    }
   },
   "source": [
    "YOUR ANSWER HERE"
   ]
  },
  {
   "cell_type": "code",
   "execution_count": null,
   "metadata": {
    "deletable": false,
    "nbgrader": {
     "cell_type": "code",
     "checksum": "d3829ae42a316370404c562ff7c20f21",
     "grade": true,
     "grade_id": "cell-53fbf0e656128cae",
     "locked": false,
     "points": 0,
     "schema_version": 3,
     "solution": true,
     "task": false
    }
   },
   "outputs": [],
   "source": [
    "#YOUR CODE HERE\n",
    "fail() # No Answer - remove if you provide an answer"
   ]
  }
 ],
 "metadata": {
  "kernelspec": {
   "display_name": "R",
   "language": "R",
   "name": "ir"
  },
  "language_info": {
   "codemirror_mode": "r",
   "file_extension": ".r",
   "mimetype": "text/x-r-source",
   "name": "R",
   "pygments_lexer": "r",
   "version": "3.6.1"
  }
 },
 "nbformat": 4,
 "nbformat_minor": 2
}
