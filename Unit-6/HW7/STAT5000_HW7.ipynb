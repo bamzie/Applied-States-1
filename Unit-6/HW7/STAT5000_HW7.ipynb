{
 "cells": [
  {
   "cell_type": "markdown",
   "metadata": {
    "deletable": false,
    "editable": false,
    "id": "XN0XDstanIPx",
    "nbgrader": {
     "cell_type": "markdown",
     "checksum": "5a55e2e9fb156f06d292f36b00f89d86",
     "grade": false,
     "grade_id": "cell-028a6aaacd367700",
     "locked": true,
     "schema_version": 3,
     "solution": false,
     "task": false
    }
   },
   "source": [
    "# Homework #7\n",
    "\n",
    "**See Canvas for the HW #7 assignment and due date**. Complete all of the following problems. Ideally, the theoretical problems should be answered in a Markdown cell directly underneath the question. If you don't know LaTex/Markdown, you may submit separate handwritten solutions to the theoretical problems, but please see the [class scanning policy](https://docs.google.com/document/d/17y5ksolrn2rEuXYBv_3HeZhkPbYwt48UojNT1OvcB_w/edit?usp=sharing). Please do not turn in messy work. Computational problems should be completed in this notebook (using the R kernel). Computational questions may require code, plots, analysis, interpretation, etc. Working in small groups is allowed, but it is important that you make an effort to master the material and hand in your own work. \n",
    "\n"
   ]
  },
  {
   "cell_type": "markdown",
   "metadata": {
    "deletable": false,
    "editable": false,
    "id": "Vpxs_7xzuHD8",
    "nbgrader": {
     "cell_type": "markdown",
     "checksum": "889b7205d3b70ef0d561cf6199d4a771",
     "grade": false,
     "grade_id": "cell-690073cfc39a9520",
     "locked": true,
     "schema_version": 3,
     "solution": false,
     "task": false
    }
   },
   "source": [
    "## A. Theoretical Problems"
   ]
  },
  {
   "cell_type": "markdown",
   "metadata": {
    "deletable": false,
    "editable": false,
    "nbgrader": {
     "cell_type": "markdown",
     "checksum": "acca16aaef69a8ebdf968e5f0b3e05c5",
     "grade": false,
     "grade_id": "cell-49bb6c9b9312e396",
     "locked": true,
     "schema_version": 3,
     "solution": false,
     "task": false
    }
   },
   "source": [
    "## A.1 p-value recommendations\n",
    "\n",
    "Read the article here: https://bit.ly/2Iw67Xr. In what ways are scientists misusing p-values? Do you agree with the suggestion made in this article? What other suggestions are being made to use them properly?"
   ]
  },
  {
   "cell_type": "markdown",
   "metadata": {
    "deletable": false,
    "nbgrader": {
     "cell_type": "markdown",
     "checksum": "a5d9ea08110810ff1284059677af04ad",
     "grade": true,
     "grade_id": "cell-e21c00f335f66ac9",
     "locked": false,
     "points": 6,
     "schema_version": 3,
     "solution": true,
     "task": false
    }
   },
   "source": [
    "P values represent the probability of the studied hypothesis to be true, however, scientist are misusing p-values by representing them as likiliness', overtrust in p-values, and fashioning a conclusion based on whether a p-value passed a certain threshold. A $p = 0.2$ is wrongly considered to mean the null hypothesis is $2\\%$ likely to be true and the alternative is $98\\%$ likely to be correct. Overtrust of smaller p-values do not guarantee full reporting and transparency but considerably the converse - selective reporting and non-transparency. Making a conlusion bases on whether a p-value passed a threshhold is not rigorous enough. \n",
    "\n",
    "I do agree that we should reduce the threshold of the p-value from $0.05$ to what threshold, I am not sure. I ultimately think we should reconsider the curricula and train the scientific workforce. In the long run knowing that we are applying a more robust foundation then patching mistakes or creating brief solutions will ensue a better result. \n",
    "\n",
    "The other suggestions is to utilize other statistical inference's (Bayesian statistics) when appropiate or adopt better standards for the p-value based on the field of research or study. "
   ]
  },
  {
   "cell_type": "markdown",
   "metadata": {
    "deletable": false,
    "editable": false,
    "nbgrader": {
     "cell_type": "markdown",
     "checksum": "bdeae1c72b422ad5888c3a718b6dd10c",
     "grade": false,
     "grade_id": "cell-a044144a3ad0137f",
     "locked": true,
     "schema_version": 3,
     "solution": false,
     "task": false
    }
   },
   "source": [
    "## A.2 Lens thickness\n",
    "\n",
    " A sample of 50 lenses used in eyeglasses yields a sample mean thickness of 3.05 mm and a sample standard deviation of 0.34 mm. The desired true average thickness of such lenses is 3.20 mm. Do the data suggest that the true average thickness of such lenses is something other than what is desired? Test using $\\alpha = 0.05$."
   ]
  },
  {
   "cell_type": "markdown",
   "metadata": {
    "deletable": false,
    "nbgrader": {
     "cell_type": "markdown",
     "checksum": "6f736edb62902dc3e9698b8571528088",
     "grade": true,
     "grade_id": "cell-9e0b89dab9007f87",
     "locked": false,
     "points": 6,
     "schema_version": 3,
     "solution": true,
     "task": false
    }
   },
   "source": [
    "So we have that $H_0: \\mu_0 = 3.20$ and $H_1: \\mu_0 \\neq 3.20$. \n",
    "\n",
    "We want to know if we have evidence against $H_0$. We know what our sample mean and sample sd are therefore we can use a $Z$ test to test if our $Z < z_{\\alpha}$\n",
    "$$\\begin{gather*}\n",
    "    RR: Z < -z_{\\alpha/2} , Z > z_{\\alpha/2}\\\\\n",
    "    \\frac{\\bar{x}-\\mu_0}{\\frac{s}{\\sqrt{n}}} < -z_{\\alpha/2} \\\\\n",
    "    \\frac{3.05 - 3.20}{\\frac{0.34}{\\sqrt{50}}} < -1.96 \\\\\n",
    "    -3.11 < -1.96\n",
    "\\end{gather*}\n",
    "$$\n",
    "\n",
    "Hence we have evidence against $H_0$. That means we dont have enough evidence to show that the true average thickness of such lenses is 3.20 mm. "
   ]
  },
  {
   "cell_type": "markdown",
   "metadata": {
    "deletable": false,
    "editable": false,
    "id": "CQ4AXiAwnIQs",
    "nbgrader": {
     "cell_type": "markdown",
     "checksum": "863bef8aad0ca2ae7c337ef66e89090d",
     "grade": false,
     "grade_id": "cell-9b5c20c493d92330",
     "locked": true,
     "schema_version": 3,
     "solution": false,
     "task": false
    }
   },
   "source": [
    "## B. Computational Problems"
   ]
  },
  {
   "cell_type": "markdown",
   "metadata": {
    "deletable": false,
    "editable": false,
    "nbgrader": {
     "cell_type": "markdown",
     "checksum": "7972ce769b6d6def27557771ed05d11c",
     "grade": false,
     "grade_id": "cell-991df8f18a56eae3",
     "locked": true,
     "schema_version": 3,
     "solution": false,
     "task": false
    }
   },
   "source": [
    "## Problem B.1: Bootstrap confidence interval for standard deviation\n",
    "\n",
    "Suppose that $X_1,...,X_8 \\overset{iid}{\\sim} \\Gamma(\\alpha, \\beta)$ (see [here](https://en.wikipedia.org/wiki/Gamma_distribution) for more information on the gamma distribution). Let's use the bootstrap to compute a $90\\%$ confidence interval for the population standard deviation: $sd(X) = \\sqrt{\\alpha/\\beta^2} = \\theta$.\n",
    "\n",
    "\n",
    "Note: \n",
    "\n",
    "The convention in this course will be to interpret $\\Gamma(\\alpha, \\beta)$ as the \"shape/rate\" parameterization: shape = $\\alpha$, rate = $\\beta$. But R uses the \"shape/scale\" parameterization: shape = $\\alpha$, scale = $\\theta = 1/\\beta$. \n",
    "\n",
    "To be sure that you are properly simulating from the right gamma distribution, see the help file for rgamma() (run: ?rgamma).\n",
    "\n",
    "\n",
    "**B.1(a) There is a \"theory-derived\" frequentist confidence interval for the standard deviation, which depends on the $\\chi^2$ distribution. Research this confidence interval. State why a $\\chi^2$ confidence interval is not valid in this context.**"
   ]
  },
  {
   "cell_type": "markdown",
   "metadata": {
    "deletable": false,
    "nbgrader": {
     "cell_type": "markdown",
     "checksum": "e39936e0c1a9771a3e688f52a271629e",
     "grade": true,
     "grade_id": "cell-48627a15a1f5dc2a",
     "locked": false,
     "points": 3,
     "schema_version": 3,
     "solution": true,
     "task": false
    }
   },
   "source": [
    "From research, a $\\chi^2$ distribution is a special case of the gamma distribution that depends only on one parameter instead of two for the gamma distribution. We cannot use the $\\chi^2$ Ci because our gamma distribution depends on two parameters and not one. Furthermore, to use the $\\chi^2$ distribution CI our sample must be taken from a normally distributed population. "
   ]
  },
  {
   "cell_type": "markdown",
   "metadata": {
    "deletable": false,
    "editable": false,
    "nbgrader": {
     "cell_type": "markdown",
     "checksum": "a488747349592df5fb81d706ce32475a",
     "grade": false,
     "grade_id": "cell-893b4233ddb4ac3f",
     "locked": true,
     "schema_version": 3,
     "solution": false,
     "task": false
    }
   },
   "source": [
    "**B.1(b) Simulate a sample of size $n = 8$ from $\\Gamma(\\alpha = 3, \\beta = 4)$ and calculate the true population standard deviation (in this example, we are generating data so that we can see how well our estimation procedure will do).**"
   ]
  },
  {
   "cell_type": "code",
   "execution_count": 74,
   "metadata": {
    "deletable": false,
    "nbgrader": {
     "cell_type": "code",
     "checksum": "76d079c695011aa240d706702b75f143",
     "grade": true,
     "grade_id": "cell-63ee1d4925bf123f",
     "locked": false,
     "points": 3,
     "schema_version": 3,
     "solution": true,
     "task": false
    }
   },
   "outputs": [
    {
     "data": {
      "text/html": [
       "0.433012701892219"
      ],
      "text/latex": [
       "0.433012701892219"
      ],
      "text/markdown": [
       "0.433012701892219"
      ],
      "text/plain": [
       "[1] 0.4330127"
      ]
     },
     "metadata": {},
     "output_type": "display_data"
    }
   ],
   "source": [
    "set.seed(09)\n",
    "alpha = 3; beta = 4; n = 8\n",
    "x = rgamma(n = 8, shape = alpha, rate = beta)\n",
    "popSd = sqrt(alpha/beta^2)\n",
    "popSd"
   ]
  },
  {
   "cell_type": "markdown",
   "metadata": {
    "deletable": false,
    "editable": false,
    "nbgrader": {
     "cell_type": "markdown",
     "checksum": "76b667887187839a86d48243b994f490",
     "grade": false,
     "grade_id": "cell-2e06a04cbf06a97d",
     "locked": true,
     "schema_version": 3,
     "solution": false,
     "task": false
    }
   },
   "source": [
    "**B.1(c) Generate $B = 200$ bootstrap samples from the above sample. Print the dimension, and articulate what each row/column represents. To avoid loops,use the `replicate()` function.**"
   ]
  },
  {
   "cell_type": "code",
   "execution_count": 78,
   "metadata": {
    "deletable": false,
    "nbgrader": {
     "cell_type": "code",
     "checksum": "49107a4013ef759f5c2e7cdce9a8d4ca",
     "grade": true,
     "grade_id": "cell-9e0d5167079aa2f2",
     "locked": false,
     "points": 4,
     "schema_version": 3,
     "solution": true,
     "task": false
    }
   },
   "outputs": [
    {
     "data": {
      "text/html": [
       "<ol class=list-inline>\n",
       "\t<li>8</li>\n",
       "\t<li>200</li>\n",
       "</ol>\n"
      ],
      "text/latex": [
       "\\begin{enumerate*}\n",
       "\\item 8\n",
       "\\item 200\n",
       "\\end{enumerate*}\n"
      ],
      "text/markdown": [
       "1. 8\n",
       "2. 200\n",
       "\n",
       "\n"
      ],
      "text/plain": [
       "[1]   8 200"
      ]
     },
     "metadata": {},
     "output_type": "display_data"
    }
   ],
   "source": [
    "B = 200; \n",
    "bs = replicate(B, sample(x, n, replace=TRUE))\n",
    "dim(bs)"
   ]
  },
  {
   "cell_type": "markdown",
   "metadata": {
    "deletable": false,
    "nbgrader": {
     "cell_type": "markdown",
     "checksum": "ab6f996d73adb85a37cefcca0d39960a",
     "grade": true,
     "grade_id": "cell-01e6402748abcf29",
     "locked": false,
     "points": 1,
     "schema_version": 3,
     "solution": true,
     "task": false
    }
   },
   "source": [
    "Each column represents the new bootstrap sample $\\hat{\\theta^*_1} \\cdots \\hat{\\theta^*_B}$. Each row represents the realization of the specific column/bootstrap sample $x^*_{n,1}$ to $x^*_{n,B}$. "
   ]
  },
  {
   "cell_type": "markdown",
   "metadata": {
    "deletable": false,
    "editable": false,
    "nbgrader": {
     "cell_type": "markdown",
     "checksum": "23ad09fc30d910953af107556483a0cf",
     "grade": false,
     "grade_id": "cell-f5e018b23de0604d",
     "locked": true,
     "schema_version": 3,
     "solution": false,
     "task": false
    }
   },
   "source": [
    "**B.1(d) Calculate and print the sample standard deviation, $s$. Then, calculate $s$ for each bootstrap sample. Denote this as $s^*_i$, for $i = 1,...,B$. To avoid loops, use the `apply()`. Display a histogram of the distribution of  $s^*_i, \\,\\, i=1,...B$.**"
   ]
  },
  {
   "cell_type": "code",
   "execution_count": 96,
   "metadata": {
    "deletable": false,
    "nbgrader": {
     "cell_type": "code",
     "checksum": "f1f1ace4f7abf4969d82f0ed8de35114",
     "grade": true,
     "grade_id": "cell-ec70cad29e76ea14",
     "locked": false,
     "points": 4,
     "schema_version": 3,
     "solution": true,
     "task": false
    }
   },
   "outputs": [
    {
     "data": {
      "text/html": [
       "0.577955161393859"
      ],
      "text/latex": [
       "0.577955161393859"
      ],
      "text/markdown": [
       "0.577955161393859"
      ],
      "text/plain": [
       "[1] 0.5779552"
      ]
     },
     "metadata": {},
     "output_type": "display_data"
    },
    {
     "data": {
      "image/png": "[encoded data removed]",
      "text/plain": [
       "Plot with title “Histogram of sdStar”"
      ]
     },
     "metadata": {},
     "output_type": "display_data"
    }
   ],
   "source": [
    "s = sd(x)\n",
    "s\n",
    "sdStar = apply(bs, 2, sd)\n",
    "hist(sdStar, col = \"lightblue\")\n",
    "stripchart(s,method = \"jitter\",pch = 23,bg = \"pink\",add = TRUE)"
   ]
  },
  {
   "cell_type": "markdown",
   "metadata": {
    "deletable": false,
    "editable": false,
    "nbgrader": {
     "cell_type": "markdown",
     "checksum": "8d106917e68590c20e54f4e6720b559e",
     "grade": false,
     "grade_id": "cell-f0afb94b0bfce13c",
     "locked": true,
     "schema_version": 3,
     "solution": false,
     "task": false
    }
   },
   "source": [
    "**B.1(e) Use the `quantile()` function to find the 5th and 95th percentile of the distribution of  $s^*_i$. Use these values to calculate the $90\\%$ boostrap pivot confidence interval and bootstrap percentile confidence interval for $\\theta$.**"
   ]
  },
  {
   "cell_type": "code",
   "execution_count": 77,
   "metadata": {
    "deletable": false,
    "nbgrader": {
     "cell_type": "code",
     "checksum": "ac6c9f60c5d56fa3064dbacb87f8a88b",
     "grade": true,
     "grade_id": "cell-569264834d494e5d",
     "locked": false,
     "points": 4,
     "schema_version": 3,
     "solution": true,
     "task": false
    }
   },
   "outputs": [
    {
     "name": "stdout",
     "output_type": "stream",
     "text": [
      "Pivot CI: ( 0.443135 ,  0.8607853 )\n",
      "Percentile CI: ( 0.295125 ,  0.7127753 )"
     ]
    }
   ],
   "source": [
    "qL = as.numeric(quantile(sdStar, 0.95))\n",
    "qU = as.numeric(quantile(sdStar, 0.05))\n",
    "l = 2*s - qL\n",
    "u = 2*s - qU\n",
    "cat(\"Pivot CI: (\", l, \", \", u, \")\\n\")\n",
    "l2 = as.numeric(quantile(sdStar, 0.05))\n",
    "u2 = as.numeric(quantile(sdStar, 0.95))\n",
    "cat(\"Percentile CI: (\", l2, \", \", u2, \")\")"
   ]
  },
  {
   "cell_type": "markdown",
   "metadata": {
    "deletable": false,
    "editable": false,
    "nbgrader": {
     "cell_type": "markdown",
     "checksum": "70bfc9ac5388a41adb805fbfa7e8f7d3",
     "grade": false,
     "grade_id": "cell-fdb148f4af4894b3",
     "locked": true,
     "schema_version": 3,
     "solution": false,
     "task": false
    }
   },
   "source": [
    "**B.1(f) Interpret this confidence interval.**"
   ]
  },
  {
   "cell_type": "markdown",
   "metadata": {
    "collapsed": true,
    "deletable": false,
    "nbgrader": {
     "cell_type": "markdown",
     "checksum": "c3654e049a7716eb497c4665ad455d5b",
     "grade": true,
     "grade_id": "cell-fdd6c4cba5611846",
     "locked": false,
     "points": 2,
     "schema_version": 3,
     "solution": true,
     "task": false
    }
   },
   "source": [
    "Our bootstrap CI's means that we are 90% confident that the true mean is encompassed in either the pivot CI or percentile CI. These CI's come from a sampling that is roughly normally distributed. That is why I am 90% confident in my bootstrap CI's.  "
   ]
  },
  {
   "cell_type": "markdown",
   "metadata": {
    "deletable": false,
    "editable": false,
    "nbgrader": {
     "cell_type": "markdown",
     "checksum": "e8bceda28f360510a18bdee2f9f12125",
     "grade": false,
     "grade_id": "cell-35ce10a16fb63bb6",
     "locked": true,
     "schema_version": 3,
     "solution": false,
     "task": false
    }
   },
   "source": [
    "## Problem B.2: The parametric bootstrap\n",
    "\n",
    "Suppose that $X_1,...,X_n \\overset{iid}{\\sim}N(\\mu, \\sigma^2)$, where $\\sigma$ is known, and we are ultimately interested in an estimator for $\\theta = \\mu^2$.\n",
    "\n",
    "\n",
    "Thus far, we've been looking at the *nonparametric bootstrap*. In this problem, we look at the *parametric bootstrap* as a way of estimating the bias and variance of an estimator $\\widehat{\\theta} = \\bar{X}^2$ of $\\theta = \\mu^2$.\n",
    "\n",
    "**B.2(a) Generate $X_1,...,X_{20} \\overset{iid}{\\sim}N(\\mu = 2, \\sigma^2 = 1)$, and then forget that you know $\\mu$ and $\\sigma^2$. Find the sample mean and sample variance.**"
   ]
  },
  {
   "cell_type": "code",
   "execution_count": 707,
   "metadata": {
    "deletable": false,
    "nbgrader": {
     "cell_type": "code",
     "checksum": "c6c2eda3f04f5b8ce856d541f8dabfc8",
     "grade": true,
     "grade_id": "cell-00ab84c0a14ec2a3",
     "locked": false,
     "points": 3,
     "schema_version": 3,
     "solution": true,
     "task": false
    }
   },
   "outputs": [
    {
     "name": "stdout",
     "output_type": "stream",
     "text": [
      "Mean:  1.998221 \n",
      "Var:  1.043445 \n",
      "Sd:  1.021491"
     ]
    }
   ],
   "source": [
    "set.seed(0.9)\n",
    "n = 20; mu = 2; sigma = 1; \n",
    "nrm = rnorm(n, mu, sigma); \n",
    "m = mean(nrm); \n",
    "v = var(nrm)\n",
    "s = sd(nrm)\n",
    "cat(\"Mean: \", m, \"\\n\"); \n",
    "cat(\"Var: \" , v, \"\\n\"); \n",
    "cat(\"Sd: \", s); "
   ]
  },
  {
   "cell_type": "markdown",
   "metadata": {
    "deletable": false,
    "editable": false,
    "nbgrader": {
     "cell_type": "markdown",
     "checksum": "d66d2258357dfec117973c23138c34e0",
     "grade": false,
     "grade_id": "cell-3d266ffacd8bb882",
     "locked": true,
     "schema_version": 3,
     "solution": false,
     "task": false
    }
   },
   "source": [
    "**B.2(b) Define $\\widehat{N}$ to be the distribution of the variable $X_i$ in the population with the sample estimates plugged in for the unknown population parameters. Write down $\\widehat{N}$ based on the data generated in (a).**"
   ]
  },
  {
   "cell_type": "markdown",
   "metadata": {
    "deletable": false,
    "nbgrader": {
     "cell_type": "markdown",
     "checksum": "ed715e658fb7effdb5894dc2b1886366",
     "grade": true,
     "grade_id": "cell-66f7bd3383564752",
     "locked": false,
     "points": 2,
     "schema_version": 3,
     "solution": true,
     "task": false
    }
   },
   "source": [
    "$\\widehat{N} = X_i \\sim N(1.99, 1.02)$"
   ]
  },
  {
   "cell_type": "markdown",
   "metadata": {
    "deletable": false,
    "editable": false,
    "nbgrader": {
     "cell_type": "markdown",
     "checksum": "5b09974ebadf23c2e589e955410ef348",
     "grade": false,
     "grade_id": "cell-160b2b309fe57252",
     "locked": true,
     "schema_version": 3,
     "solution": false,
     "task": false
    }
   },
   "source": [
    "**(c) Draw $B = 500$ parametric bootstrap samples from $\\widehat{N}$, and for each bootstrap sample $(X_{1,j},...,X_{20,j})$, compute $$ \\widehat{\\theta}^*_j = \\bigg(\\frac{1}{20}\\sum^{20}_{i=1}X^*_{i,j}\\bigg)^2,$$ where $j = 1,...,B$.**"
   ]
  },
  {
   "cell_type": "code",
   "execution_count": 708,
   "metadata": {
    "deletable": false,
    "nbgrader": {
     "cell_type": "code",
     "checksum": "e2984354a6fb6d13f3573dcfb1dfe0d6",
     "grade": true,
     "grade_id": "cell-c7e9c309d2c33b26",
     "locked": false,
     "points": 4,
     "schema_version": 3,
     "solution": true,
     "task": false
    }
   },
   "outputs": [],
   "source": [
    "set.seed(09)\n",
    "B = 500; \n",
    "nhat = rnorm(n,m,s)\n",
    "boots = replicate(B, sample(nhat, n, replace = TRUE))\n",
    "theta = function(x){\n",
    "    (sum(x)/20)^2\n",
    "}\n",
    "thetaHat = apply(boots, 2, theta)"
   ]
  },
  {
   "cell_type": "markdown",
   "metadata": {
    "deletable": false,
    "editable": false,
    "nbgrader": {
     "cell_type": "markdown",
     "checksum": "a5c492afceb44a1f2c7e4e26c54f726f",
     "grade": false,
     "grade_id": "cell-a10f9b9bb424b760",
     "locked": true,
     "schema_version": 3,
     "solution": false,
     "task": false
    }
   },
   "source": [
    "**B.2(d) Compute an estimate of the bias:**\n",
    "\n",
    "\\begin{align*}\n",
    "\\widehat{B}(\\widehat{\\theta}) \\approx \\frac{1}{B}\\sum^B_{j=1}\\widehat{\\theta}^*_j - \\bar{X}^2.\n",
    "\\end{align*}\n",
    "\n",
    "**Compare this to the exact bias using the formula $\\displaystyle Bias(\\widehat{\\theta}) = Bias(\\bar{X}^2) = E(\\bar{X}^2) - \\mu^2 = \\frac{\\sigma^2}{n}$.**"
   ]
  },
  {
   "cell_type": "code",
   "execution_count": 710,
   "metadata": {
    "deletable": false,
    "nbgrader": {
     "cell_type": "code",
     "checksum": "ad7b8aa32a8933bd57034817096b2ac9",
     "grade": true,
     "grade_id": "cell-4507f20be3dc38f2",
     "locked": false,
     "points": 4,
     "schema_version": 3,
     "solution": true,
     "task": false
    }
   },
   "outputs": [
    {
     "data": {
      "text/html": [
       "0.0539193745995932"
      ],
      "text/latex": [
       "0.0539193745995932"
      ],
      "text/markdown": [
       "0.0539193745995932"
      ],
      "text/plain": [
       "[1] 0.05391937"
      ]
     },
     "metadata": {},
     "output_type": "display_data"
    },
    {
     "data": {
      "text/html": [
       "0.05"
      ],
      "text/latex": [
       "0.05"
      ],
      "text/markdown": [
       "0.05"
      ],
      "text/plain": [
       "[1] 0.05"
      ]
     },
     "metadata": {},
     "output_type": "display_data"
    }
   ],
   "source": [
    "xbar = mean(boots)\n",
    "biasHat <- function(thetaHat, B,xbar){\n",
    "    (sum(thetaHat)/B) - xbar^2\n",
    "}\n",
    "biasHat(thetaHat,B,xbar)\n",
    "bias = 1/n\n",
    "bias"
   ]
  },
  {
   "cell_type": "markdown",
   "metadata": {
    "deletable": false,
    "editable": false,
    "nbgrader": {
     "cell_type": "markdown",
     "checksum": "70f858de2acd1570f1c488f06b499df7",
     "grade": false,
     "grade_id": "cell-410f69f17cb6a2ec",
     "locked": true,
     "schema_version": 3,
     "solution": false,
     "task": false
    }
   },
   "source": [
    "**B.2(e) Compute an estimate of the variance:**\n",
    "\n",
    "\\begin{align*}\n",
    "\\widehat{\\text{Var}}(\\widehat{\\theta}) \\approx \\frac{1}{B-1}\\sum^B_{j=1}\\big(\\widehat{\\theta}^*_j - \\bar{\\theta} \\big)^2,\n",
    "\\end{align*}\n",
    "where \n",
    "\\begin{align*}\n",
    "\\bar{\\theta} = \\frac{1}{B}\\sum^B_{j=1}\\widehat{\\theta}^*_j .\n",
    "\\end{align*}\n",
    "**Compare this to the exact variance:**\n",
    "\n",
    "\\begin{align*}\n",
    "Var(\\bar{X}^2) &=  4\\frac{\\sigma^2}{n}\\mu^2 + 2\\frac{\\sigma^4}{n^2}\n",
    "\\end{align*}"
   ]
  },
  {
   "cell_type": "code",
   "execution_count": 298,
   "metadata": {
    "deletable": false,
    "nbgrader": {
     "cell_type": "code",
     "checksum": "25ff46b6176cd868d376062f2d6384eb",
     "grade": true,
     "grade_id": "cell-86f1174a3b53f2e6",
     "locked": false,
     "points": 4,
     "schema_version": 3,
     "solution": true,
     "task": false
    }
   },
   "outputs": [
    {
     "data": {
      "text/html": [
       "0.743290612816736"
      ],
      "text/latex": [
       "0.743290612816736"
      ],
      "text/markdown": [
       "0.743290612816736"
      ],
      "text/plain": [
       "[1] 0.7432906"
      ]
     },
     "metadata": {},
     "output_type": "display_data"
    },
    {
     "data": {
      "text/html": [
       "0.838715579585311"
      ],
      "text/latex": [
       "0.838715579585311"
      ],
      "text/markdown": [
       "0.838715579585311"
      ],
      "text/plain": [
       "[1] 0.8387156"
      ]
     },
     "metadata": {},
     "output_type": "display_data"
    }
   ],
   "source": [
    "thetaBar = sum(thetaHat)/B\n",
    "varHat <- function(thetaHat, B){\n",
    "    sum((thetaHat -thetaBar)^2)/(B-1); \n",
    "}\n",
    "varHat(thetaHat, B)\n",
    "eVar = 4*(s^2/n)*m^2 + 2*s^4/n^2\n",
    "eVar"
   ]
  },
  {
   "cell_type": "markdown",
   "metadata": {
    "deletable": false,
    "editable": false,
    "nbgrader": {
     "cell_type": "markdown",
     "checksum": "c4c82a00d15247c5fdbc02b3cfdd8093",
     "grade": false,
     "grade_id": "cell-8a4aa62498b32b81",
     "locked": true,
     "schema_version": 3,
     "solution": false,
     "task": false
    }
   },
   "source": [
    "#### (f) True or False: For a fixed sample size $n = 20$, as $B$ increases, $\\widehat{Bias}(\\widehat{\\theta})$ will approach ${Bias}(\\widehat{\\theta})$.  That is, for a fixed $n$, the bootstrap estimate of the bias will approach the true bias as the number of bootstrap samples, $B$ increases. You might consider running a simulation to decide!"
   ]
  },
  {
   "cell_type": "markdown",
   "metadata": {
    "deletable": false,
    "nbgrader": {
     "cell_type": "markdown",
     "checksum": "49ec2cfe42d7984d4e6304946a9acbe9",
     "grade": true,
     "grade_id": "cell-e87e69eea32f07ec",
     "locked": false,
     "points": 2,
     "schema_version": 3,
     "solution": true,
     "task": false
    }
   },
   "source": [
    "False. After running multiple simulation $\\widehat{Bias}(\\hat{\\theta})$ does not approach $Bias(\\hat{\\theta}$. $\\widehat{Bias}(\\hat{\\theta})$ floats around the $Bias(\\hat{\\theta}$. I think it does not approach $Bias(\\hat{\\theta})$ because we are always changing the random sample. "
   ]
  },
  {
   "cell_type": "markdown",
   "metadata": {
    "deletable": false,
    "editable": false,
    "nbgrader": {
     "cell_type": "markdown",
     "checksum": "9a26f46a61fe9a53d1fe89db79a5ceba",
     "grade": false,
     "grade_id": "cell-68b7b3084c8733a1",
     "locked": true,
     "schema_version": 3,
     "solution": false,
     "task": false
    }
   },
   "source": [
    "## Problem B.3 Bootstrap with real data\n",
    "\n",
    "The \"Wisconsin Card Sorting Test\" is widely used by psychiatrists, neurologists, and neurophycologists with patients who have a brain injury. Patients with any sort of frontal lobe lesion generally do poorly on the test. The data frame WCST contains the test scores from a group of 50 patients from the *Virgen del Camino* Hospital.\n",
    "\n",
    "**B.3(a) Using the code below, load the WCST data and explore whether there is reason to believe that the score data comes from a non-normal distribution. First, create a histogram (use ggplot!) and describe whether the data look normal. Then, use the function shapiro.test() to explore normality. Be sure to explain what this function does - i.e., what's the null and alternative hypothesis - in your answer.**"
   ]
  },
  {
   "cell_type": "code",
   "execution_count": 293,
   "metadata": {
    "deletable": false,
    "editable": false,
    "nbgrader": {
     "cell_type": "code",
     "checksum": "13aa20d9008ae4714b5ecddbb6f07fab",
     "grade": false,
     "grade_id": "cell-0e3447f826eca20a",
     "locked": true,
     "schema_version": 3,
     "solution": false,
     "task": false
    }
   },
   "outputs": [],
   "source": [
    "wcst = read.table(\"https://www.colorado.edu/amath/sites/default/files/attached-files/wcst.txt\")"
   ]
  },
  {
   "cell_type": "code",
   "execution_count": 345,
   "metadata": {
    "deletable": false,
    "nbgrader": {
     "cell_type": "code",
     "checksum": "0b6b6ae2c9a8774af075ffa825dd161e",
     "grade": true,
     "grade_id": "cell-4633ffeb95a9c8f2",
     "locked": false,
     "points": 4,
     "schema_version": 3,
     "solution": true,
     "task": false
    }
   },
   "outputs": [
    {
     "data": {
      "text/html": [
       "<ol class=list-inline>\n",
       "\t<li>50</li>\n",
       "\t<li>1</li>\n",
       "</ol>\n"
      ],
      "text/latex": [
       "\\begin{enumerate*}\n",
       "\\item 50\n",
       "\\item 1\n",
       "\\end{enumerate*}\n"
      ],
      "text/markdown": [
       "1. 50\n",
       "2. 1\n",
       "\n",
       "\n"
      ],
      "text/plain": [
       "[1] 50  1"
      ]
     },
     "metadata": {},
     "output_type": "display_data"
    },
    {
     "data": {
      "text/plain": [
       "\n",
       "\tShapiro-Wilk normality test\n",
       "\n",
       "data:  wcst$score\n",
       "W = 0.77472, p-value = 2.405e-07\n"
      ]
     },
     "metadata": {},
     "output_type": "display_data"
    },
    {
     "data": {
      "image/png": "[encoded data removed]",
      "text/plain": [
       "plot without title"
      ]
     },
     "metadata": {},
     "output_type": "display_data"
    }
   ],
   "source": [
    "library(ggplot2)\n",
    "ggplot(wcst, aes(x=score)) + geom_histogram(binwidth=2,color=\"black\", fill=\"lightblue\")\n",
    "shapiro.test(wcst$score)"
   ]
  },
  {
   "cell_type": "markdown",
   "metadata": {
    "collapsed": true,
    "deletable": false,
    "nbgrader": {
     "cell_type": "markdown",
     "checksum": "fbe34d7707fcf49cdea109b3653ca4fa",
     "grade": true,
     "grade_id": "cell-dffe2c542f4c45ab",
     "locked": false,
     "points": 3,
     "schema_version": 3,
     "solution": true,
     "task": false
    }
   },
   "source": [
    "The Shapiro-Wilk Test checks if a variable is normally distributed. In our case $p<0.05$, therefore our dataset is not normally distributed. Since $p = .00000024$ that strongly suggest evidence of non-normality and a non-parametric test should be used. The null hyphothesis is $H_0: p \\geq 0.05$ and the alternative hypothesis is $H_1: p < 0.05$"
   ]
  },
  {
   "cell_type": "markdown",
   "metadata": {
    "deletable": false,
    "editable": false,
    "nbgrader": {
     "cell_type": "markdown",
     "checksum": "028963b73a812aa6a2506b7203a1d64c",
     "grade": false,
     "grade_id": "cell-b8ac62f948a672d1",
     "locked": true,
     "schema_version": 3,
     "solution": false,
     "task": false
    }
   },
   "source": [
    "**B.3(b) What assumptions must be made in order to compute a (non-boostrap) 95% confidence interval for the population mean score?**"
   ]
  },
  {
   "cell_type": "markdown",
   "metadata": {
    "collapsed": true,
    "deletable": false,
    "nbgrader": {
     "cell_type": "markdown",
     "checksum": "dde78d20dc90d804450e01bda736523f",
     "grade": true,
     "grade_id": "cell-5871e9ba2f10a7c4",
     "locked": false,
     "points": 3,
     "schema_version": 3,
     "solution": true,
     "task": false
    }
   },
   "source": [
    "We know that $n = 50$, so to compute a 95% CI for the population mean score we need an IID samples, and the sample standard deviation. "
   ]
  },
  {
   "cell_type": "markdown",
   "metadata": {
    "deletable": false,
    "editable": false,
    "nbgrader": {
     "cell_type": "markdown",
     "checksum": "0bfa8b7b0ea478d3df2649a3bd540daf",
     "grade": false,
     "grade_id": "cell-7dc3d9b5fd04656a",
     "locked": true,
     "schema_version": 3,
     "solution": false,
     "task": false
    }
   },
   "source": [
    "**B.3(c) Compute the confidence interval referred too in B.3(b).**"
   ]
  },
  {
   "cell_type": "code",
   "execution_count": 350,
   "metadata": {
    "deletable": false,
    "nbgrader": {
     "cell_type": "code",
     "checksum": "28c8fda36ffc7fd9db759cd6b03cb9be",
     "grade": true,
     "grade_id": "cell-4283b4d984204774",
     "locked": false,
     "points": 4,
     "schema_version": 3,
     "solution": true,
     "task": false
    }
   },
   "outputs": [
    {
     "name": "stdout",
     "output_type": "stream",
     "text": [
      "95% CI: ( 16.37818 , 26.58182 )"
     ]
    }
   ],
   "source": [
    "n = 50; xbar = mean(wcst$score); s = sd(wcst$score); \n",
    "z = qnorm(1 - 0.05/2)\n",
    "L = xbar -z*s/sqrt(n) \n",
    "U = xbar +z*s/sqrt(n) \n",
    "cat(\"95% CI: (\", L ,\",\", U, \")\")"
   ]
  },
  {
   "cell_type": "markdown",
   "metadata": {
    "deletable": false,
    "editable": false,
    "nbgrader": {
     "cell_type": "markdown",
     "checksum": "3bdaa56b8d42ddd18460ce4c26e68547",
     "grade": false,
     "grade_id": "cell-118e330958e90df4",
     "locked": true,
     "schema_version": 3,
     "solution": false,
     "task": false
    }
   },
   "source": [
    "**B.3(d) Compute a 95% bootstrap pivot confidence interval for the mean.**"
   ]
  },
  {
   "cell_type": "code",
   "execution_count": 369,
   "metadata": {
    "deletable": false,
    "nbgrader": {
     "cell_type": "code",
     "checksum": "b23aa5c7319fd369840a1e14890de2cd",
     "grade": true,
     "grade_id": "cell-4efd5d306e9f69f8",
     "locked": false,
     "points": 4,
     "schema_version": 3,
     "solution": true,
     "task": false
    }
   },
   "outputs": [
    {
     "name": "stdout",
     "output_type": "stream",
     "text": [
      "Bootstrap pivot CI: ( 16.512 , 26.1765 )"
     ]
    }
   ],
   "source": [
    "B =500; xbar = mean(wcst$score)\n",
    "bstrap = replicate(B, sample(wcst$score,n, replace=TRUE))\n",
    "muStar = colMeans(bstrap)\n",
    "l = 2*xbar - as.numeric(quantile(muStar, 0.975))\n",
    "u = 2*xbar - as.numeric(quantile(muStar, 0.025))\n",
    "cat(\"Bootstrap pivot CI: (\", l, \",\", u, \")\")"
   ]
  },
  {
   "cell_type": "markdown",
   "metadata": {
    "deletable": false,
    "editable": false,
    "nbgrader": {
     "cell_type": "markdown",
     "checksum": "2f74181a951b5cfd197cc1050275905c",
     "grade": false,
     "grade_id": "cell-61ca8c94f7321e0c",
     "locked": true,
     "schema_version": 3,
     "solution": false,
     "task": false
    }
   },
   "source": [
    "## Problem B.4 Bootstrap assumptions \n",
    "The dataset gives the number of births per month in New York city, from January 1946 to December 1959. The data are ordered.\n",
    "\n",
    "**B.4(a) Construct another column in the dataset that labels the month and year for each birth per month record.**\n",
    "\n",
    "The `as.Date()` function may help with this task."
   ]
  },
  {
   "cell_type": "code",
   "execution_count": 557,
   "metadata": {
    "deletable": false,
    "editable": false,
    "nbgrader": {
     "cell_type": "code",
     "checksum": "862750c45756ddb761a70595678a7f50",
     "grade": false,
     "grade_id": "cell-3520e94f51ec4785",
     "locked": true,
     "schema_version": 3,
     "solution": false,
     "task": false
    }
   },
   "outputs": [
    {
     "data": {
      "text/html": [
       "<table>\n",
       "<thead><tr><th scope=col>births</th></tr></thead>\n",
       "<tbody>\n",
       "\t<tr><td>26.663</td></tr>\n",
       "\t<tr><td>23.598</td></tr>\n",
       "\t<tr><td>26.931</td></tr>\n",
       "\t<tr><td>24.740</td></tr>\n",
       "\t<tr><td>25.806</td></tr>\n",
       "\t<tr><td>24.364</td></tr>\n",
       "</tbody>\n",
       "</table>\n"
      ],
      "text/latex": [
       "\\begin{tabular}{r|l}\n",
       " births\\\\\n",
       "\\hline\n",
       "\t 26.663\\\\\n",
       "\t 23.598\\\\\n",
       "\t 26.931\\\\\n",
       "\t 24.740\\\\\n",
       "\t 25.806\\\\\n",
       "\t 24.364\\\\\n",
       "\\end{tabular}\n"
      ],
      "text/markdown": [
       "\n",
       "| births |\n",
       "|---|\n",
       "| 26.663 |\n",
       "| 23.598 |\n",
       "| 26.931 |\n",
       "| 24.740 |\n",
       "| 25.806 |\n",
       "| 24.364 |\n",
       "\n"
      ],
      "text/plain": [
       "  births\n",
       "1 26.663\n",
       "2 23.598\n",
       "3 26.931\n",
       "4 24.740\n",
       "5 25.806\n",
       "6 24.364"
      ]
     },
     "metadata": {},
     "output_type": "display_data"
    }
   ],
   "source": [
    "library(tidyverse)\n",
    "library(ggplot2)\n",
    "births = read.table(\"https://robjhyndman.com/tsdldata/data/nybirths.dat\", sep = \"\\t\")\n",
    "births = data.frame(births)\n",
    "names(births) = \"births\"\n",
    "n = length(births$births)\n",
    "head(births)"
   ]
  },
  {
   "cell_type": "code",
   "execution_count": 578,
   "metadata": {
    "deletable": false,
    "nbgrader": {
     "cell_type": "code",
     "checksum": "83a80e9d11340269552bb892c8715222",
     "grade": true,
     "grade_id": "cell-0b166acdb60a6d8a",
     "locked": false,
     "points": 3,
     "schema_version": 3,
     "solution": true,
     "task": false
    }
   },
   "outputs": [
    {
     "data": {
      "text/html": [
       "<table>\n",
       "<thead><tr><th scope=col>births</th><th scope=col>YearMonths</th></tr></thead>\n",
       "<tbody>\n",
       "\t<tr><td>26.663    </td><td>1946-01-01</td></tr>\n",
       "\t<tr><td>23.598    </td><td>1946-02-01</td></tr>\n",
       "\t<tr><td>26.931    </td><td>1946-03-01</td></tr>\n",
       "\t<tr><td>24.740    </td><td>1946-04-01</td></tr>\n",
       "\t<tr><td>25.806    </td><td>1946-05-01</td></tr>\n",
       "\t<tr><td>24.364    </td><td>1946-06-01</td></tr>\n",
       "</tbody>\n",
       "</table>\n"
      ],
      "text/latex": [
       "\\begin{tabular}{r|ll}\n",
       " births & YearMonths\\\\\n",
       "\\hline\n",
       "\t 26.663     & 1946-01-01\\\\\n",
       "\t 23.598     & 1946-02-01\\\\\n",
       "\t 26.931     & 1946-03-01\\\\\n",
       "\t 24.740     & 1946-04-01\\\\\n",
       "\t 25.806     & 1946-05-01\\\\\n",
       "\t 24.364     & 1946-06-01\\\\\n",
       "\\end{tabular}\n"
      ],
      "text/markdown": [
       "\n",
       "| births | YearMonths |\n",
       "|---|---|\n",
       "| 26.663     | 1946-01-01 |\n",
       "| 23.598     | 1946-02-01 |\n",
       "| 26.931     | 1946-03-01 |\n",
       "| 24.740     | 1946-04-01 |\n",
       "| 25.806     | 1946-05-01 |\n",
       "| 24.364     | 1946-06-01 |\n",
       "\n"
      ],
      "text/plain": [
       "  births YearMonths\n",
       "1 26.663 1946-01-01\n",
       "2 23.598 1946-02-01\n",
       "3 26.931 1946-03-01\n",
       "4 24.740 1946-04-01\n",
       "5 25.806 1946-05-01\n",
       "6 24.364 1946-06-01"
      ]
     },
     "metadata": {},
     "output_type": "display_data"
    }
   ],
   "source": [
    "YearMonths = seq(from = as.Date(\"1946-01-01\"), to = as.Date(\"1959-12-01\"), by = 'month')\n",
    "df = data.frame(cbind(births, YearMonths))\n",
    "head(df)"
   ]
  },
  {
   "cell_type": "markdown",
   "metadata": {
    "deletable": false,
    "editable": false,
    "nbgrader": {
     "cell_type": "markdown",
     "checksum": "208e91b7117d22735411f7638dd992aa",
     "grade": false,
     "grade_id": "cell-e9171905926abe6d",
     "locked": true,
     "schema_version": 3,
     "solution": false,
     "task": false
    }
   },
   "source": [
    "**B.4(b) Construct a plot of births per month against the month/year column that you created in part (a). Analyze the plot. Do you notice anything interesting?**"
   ]
  },
  {
   "cell_type": "code",
   "execution_count": 583,
   "metadata": {
    "deletable": false,
    "nbgrader": {
     "cell_type": "code",
     "checksum": "53df084de0ed8731ba51ac14dd70c9b2",
     "grade": true,
     "grade_id": "cell-c0de487969e7c1dd",
     "locked": false,
     "points": 4,
     "schema_version": 3,
     "solution": true,
     "task": false
    }
   },
   "outputs": [
    {
     "data": {
      "image/png": "[encoded data removed]",
      "text/plain": [
       "plot without title"
      ]
     },
     "metadata": {},
     "output_type": "display_data"
    }
   ],
   "source": [
    "ggplot(df, mapping = aes(x = df$births, y = df$YearMonths))+  xlab(\"Births\")+ ylab(\"Year/Months\") + \n",
    "geom_point(colour = 'skyblue', shape = 16) + geom_smooth(method = loess)"
   ]
  },
  {
   "cell_type": "markdown",
   "metadata": {
    "deletable": false,
    "editable": false,
    "nbgrader": {
     "cell_type": "markdown",
     "checksum": "085dba799d560fc7943fa6834ab40bb0",
     "grade": false,
     "grade_id": "cell-e399c971da7c4ae0",
     "locked": true,
     "schema_version": 3,
     "solution": false,
     "task": false
    }
   },
   "source": [
    "**B.4(c) Suppose that your boss asked you to use the bootstrap to construct a confidence interval for the average number of births per month in New York city over the time period in the dataset. Write a short response to your boss describing why this confidence interval is not valid for these data.**"
   ]
  },
  {
   "cell_type": "markdown",
   "metadata": {
    "deletable": false,
    "nbgrader": {
     "cell_type": "markdown",
     "checksum": "3bfa4cc9784d410ebc3edcaa2502dd89",
     "grade": true,
     "grade_id": "cell-6b3f58d09570b74c",
     "locked": false,
     "points": 3,
     "schema_version": 3,
     "solution": true,
     "task": false
    }
   },
   "source": [
    "This CI is not valid because the mean increaeses every year and to take a CI we have to have a sample that is IID. Therefore constructing a bootstrap CI interval for births per month is not ideal since the average is not the same for every sampling."
   ]
  },
  {
   "cell_type": "markdown",
   "metadata": {
    "collapsed": true,
    "deletable": false,
    "editable": false,
    "nbgrader": {
     "cell_type": "markdown",
     "checksum": "4069738887bea46b4363a014f75d3b7b",
     "grade": false,
     "grade_id": "cell-e12b58a002b7b61a",
     "locked": true,
     "schema_version": 3,
     "solution": false,
     "task": false
    }
   },
   "source": [
    "## B.5 Bootstrap hypothesis testing\n",
    "\n",
    "In this problem, we'll walk through a bootstrap hypothesis test.\n",
    "\n",
    "The newcomb dataset contains a numeric vector giving the ‘Third Series’ of measurements of the passage time of light recorded by Newcomb in 1882. The given values divided by 1000 plus 24 give the time in millionths of a second for light to traverse a known distance. The ‘true’ value is now considered to be 33.02.\n",
    "\n",
    "Our goal is to test the hypotheses that $$H_0: \\mu = 33.02 \\, \\, vs. \\, \\, \n",
    "H_1: \\mu \\ne 33.02.$$\n",
    "\n",
    "We will choose the $\\alpha = 0.05$ level, and use $\\bar{X}$ as the test statistic. \n",
    "\n",
    "**B.5(a) Load the newcomb data and decide whether you think it comes from a normal distribution.**"
   ]
  },
  {
   "cell_type": "code",
   "execution_count": 740,
   "metadata": {
    "deletable": false,
    "editable": false,
    "nbgrader": {
     "cell_type": "code",
     "checksum": "5b804c397c0111bfa634349272c26dfe",
     "grade": false,
     "grade_id": "cell-fdbc1a0c56760b2e",
     "locked": true,
     "schema_version": 3,
     "solution": false,
     "task": false
    }
   },
   "outputs": [
    {
     "data": {
      "text/html": [
       "26.2121212121212"
      ],
      "text/latex": [
       "26.2121212121212"
      ],
      "text/markdown": [
       "26.2121212121212"
      ],
      "text/plain": [
       "[1] 26.21212"
      ]
     },
     "metadata": {},
     "output_type": "display_data"
    }
   ],
   "source": [
    "library(MASS)\n",
    "data(newcomb); n = length(newcomb); xbar = mean(newcomb); \n",
    "xbar\n",
    "df = data.frame(newcomb);"
   ]
  },
  {
   "cell_type": "code",
   "execution_count": 741,
   "metadata": {
    "deletable": false,
    "nbgrader": {
     "cell_type": "code",
     "checksum": "60b71dd9a733286dc7c2035712cb78ba",
     "grade": true,
     "grade_id": "cell-b29eecf6aab36404",
     "locked": false,
     "points": 3,
     "schema_version": 3,
     "solution": true,
     "task": false
    }
   },
   "outputs": [
    {
     "data": {
      "text/plain": [
       "\n",
       "\tShapiro-Wilk normality test\n",
       "\n",
       "data:  df$newcomb\n",
       "W = 0.59115, p-value = 2.842e-12\n"
      ]
     },
     "metadata": {},
     "output_type": "display_data"
    }
   ],
   "source": [
    "shapiro.test(df$newcomb)\n",
    "# hist(df$newcomb)"
   ]
  },
  {
   "cell_type": "markdown",
   "metadata": {
    "deletable": false,
    "nbgrader": {
     "cell_type": "markdown",
     "checksum": "2ad611d9b93f35931ab8eaeedf8bf443",
     "grade": true,
     "grade_id": "cell-2ec19d5aa11b292c",
     "locked": false,
     "points": 2,
     "schema_version": 3,
     "solution": true,
     "task": false
    }
   },
   "source": [
    "No, I do not think that the data comes from a normal distribution. From the shapiro test, the p-value is $p < 0.05$, hence we fail to show that it is a normal distribution. "
   ]
  },
  {
   "cell_type": "markdown",
   "metadata": {
    "deletable": false,
    "editable": false,
    "nbgrader": {
     "cell_type": "markdown",
     "checksum": "5d4e56249dd561818262c165bf580610",
     "grade": false,
     "grade_id": "cell-38fef07244170f0e",
     "locked": true,
     "schema_version": 3,
     "solution": false,
     "task": false
    }
   },
   "source": [
    "Now, since our test statistic is $\\bar{X}$, the CLT *might* help us. But maybe not. So, let's assume not (and we might see why later). We'll use the bootstrap to test our hypotheses.\n",
    "\n",
    "**B.5(b) Shift the data so that the mean is the value under the null.**"
   ]
  },
  {
   "cell_type": "code",
   "execution_count": 746,
   "metadata": {
    "deletable": false,
    "nbgrader": {
     "cell_type": "code",
     "checksum": "e3d0a10b3e88562b3fa68a8f90b6ded6",
     "grade": true,
     "grade_id": "cell-844b1d7a787d714a",
     "locked": false,
     "points": 2,
     "schema_version": 3,
     "solution": true,
     "task": false
    }
   },
   "outputs": [],
   "source": [
    "nc = df + 6.81\n",
    "mu_o = 33.02"
   ]
  },
  {
   "cell_type": "markdown",
   "metadata": {
    "deletable": false,
    "editable": false,
    "nbgrader": {
     "cell_type": "markdown",
     "checksum": "26c864a6c1791ae31ea5252f2f5adba7",
     "grade": false,
     "grade_id": "cell-9dc78cb9babf35cc",
     "locked": true,
     "schema_version": 3,
     "solution": false,
     "task": false
    }
   },
   "source": [
    "This shifted data now serves as a stand in for our population under the null. We use it to resample from.\n",
    "\n",
    "**B.5(c) Resample with replacement from the data $B = 10^5$ times and calculate the mean for each sample. This is the bootstrap distribution of $\\bar{X}$.**"
   ]
  },
  {
   "cell_type": "code",
   "execution_count": 762,
   "metadata": {
    "deletable": false,
    "nbgrader": {
     "cell_type": "code",
     "checksum": "e43949179b712d57ca459c05ecfd048a",
     "grade": true,
     "grade_id": "cell-9be866a9ee3caaf0",
     "locked": false,
     "points": 6,
     "schema_version": 3,
     "solution": true,
     "task": false
    }
   },
   "outputs": [
    {
     "data": {
      "image/png": "[encoded data removed]",
      "text/plain": [
       "Plot with title “Histogram of muStar”"
      ]
     },
     "metadata": {},
     "output_type": "display_data"
    }
   ],
   "source": [
    "set.seed(099)\n",
    "B = 10^5; \n",
    "bootsy = replicate(B, sample(nc$newcomb, n, replace=TRUE))\n",
    "muStar = colMeans(bootsy)\n",
    "hist(muStar,col = \"lightblue\")\n",
    "stripchart(mu_o,method = \"jitter\",pch = 23,bg = \"pink\",add = TRUE)"
   ]
  },
  {
   "cell_type": "markdown",
   "metadata": {
    "deletable": false,
    "nbgrader": {
     "cell_type": "markdown",
     "checksum": "d6972578ad39fc5de7931ff40cf6fa10",
     "grade": true,
     "grade_id": "cell-c172101c534ef7dd",
     "locked": false,
     "points": 0,
     "schema_version": 3,
     "solution": true,
     "task": false
    }
   },
   "source": [
    "YOUR ANSWER HERE"
   ]
  },
  {
   "cell_type": "markdown",
   "metadata": {
    "deletable": false,
    "editable": false,
    "nbgrader": {
     "cell_type": "markdown",
     "checksum": "df23298bc026cbde3f2c3630d3d1df12",
     "grade": false,
     "grade_id": "cell-47ba4da1b8c98f07",
     "locked": true,
     "schema_version": 3,
     "solution": false,
     "task": false
    }
   },
   "source": [
    "The p-value is the probability of getting something more extreme than what we observed. 26.21--the observed sample mean--is $33.02 - 26.21 = 6.81$ units away from the mean under $H_0$. So our p-value is the probability of being more than 6.81 units away from 33.02.\n",
    "\n",
    "**B.5(d) Estimate this probability using the bootstrap distribution of $\\bar{X}$. Then, use the p-value to make a decision about the hypotheses.**"
   ]
  },
  {
   "cell_type": "code",
   "execution_count": 763,
   "metadata": {
    "deletable": false,
    "nbgrader": {
     "cell_type": "code",
     "checksum": "1ac403d46232ba1784ae9ec4b258c070",
     "grade": true,
     "grade_id": "cell-4ff663201a63b78f",
     "locked": false,
     "points": 4,
     "schema_version": 3,
     "solution": true,
     "task": false
    }
   },
   "outputs": [
    {
     "name": "stdout",
     "output_type": "stream",
     "text": [
      "Left tail p-value:  7e-05 \n",
      "Two tailed alpha:  0.025"
     ]
    }
   ],
   "source": [
    "pvL = sum(muStar < 26.21 | muStar > 39.83 )/B\n",
    "cat(\"Left tail p-value: \", pvL, \"\\n\")\n",
    "alph = 0.05\n",
    "cat(\"Two tailed alpha: \", alph/2); "
   ]
  },
  {
   "cell_type": "markdown",
   "metadata": {
    "deletable": false,
    "nbgrader": {
     "cell_type": "markdown",
     "checksum": "fffbf057a070bb19b7a42ddf8d2c4b84",
     "grade": true,
     "grade_id": "cell-221860fe4a8129f7",
     "locked": false,
     "points": 3,
     "schema_version": 3,
     "solution": true,
     "task": false
    }
   },
   "source": [
    "So since $p < \\frac{\\alpha}{2} \\Rightarrow 0.00007 < 0.025 $, we have evidence to reject the null hypothesis. Therefore we have evidence to reject the true mean $\\mu_0 = 33.02$. "
   ]
  },
  {
   "cell_type": "code",
   "execution_count": null,
   "metadata": {
    "deletable": false,
    "nbgrader": {
     "cell_type": "code",
     "checksum": "453557a643819fa67af2a96d7a5676d1",
     "grade": true,
     "grade_id": "cell-2ab2fac09d7597b0",
     "locked": false,
     "points": 0,
     "schema_version": 3,
     "solution": true,
     "task": false
    }
   },
   "outputs": [],
   "source": []
  },
  {
   "cell_type": "markdown",
   "metadata": {
    "deletable": false,
    "editable": false,
    "nbgrader": {
     "cell_type": "markdown",
     "checksum": "38541888e43f3af824a01cbcc272fcca",
     "grade": false,
     "grade_id": "cell-fbbd7e27e8e974f7",
     "locked": true,
     "schema_version": 3,
     "solution": false,
     "task": false
    }
   },
   "source": [
    "## B.6 Other test statistics (extra practice, not graded)\n",
    "\n",
    "Let $X_1, ..., X_n \\stackrel{\\text{iid}}{\\text{~}} Exp(\\lambda)$. A company claims that the lifetime of their lightbulbs is longer than the lifetime of the leading brand, which is six years. You are going to test the hypothesis: $H_0 : \\mu \\leq 6, H_1 : \\mu > 6$. \n",
    "\n",
    "\n",
    "**B.6(a) Assume $n > 30$. We know from the CLT that $\\bar{X} ∼ N(\\mu, \\sigma^2/n)$.  Show that $n\\bar{X} ∼ N(n\\mu, n\\sigma^2)$.**"
   ]
  },
  {
   "cell_type": "markdown",
   "metadata": {
    "deletable": false,
    "nbgrader": {
     "cell_type": "markdown",
     "checksum": "c927fa34f439a08743f62454d505d325",
     "grade": true,
     "grade_id": "cell-58557e0a47e9bfb1",
     "locked": false,
     "points": 0,
     "schema_version": 3,
     "solution": true,
     "task": false
    }
   },
   "source": [
    "YOUR ANSWER HERE"
   ]
  },
  {
   "cell_type": "markdown",
   "metadata": {
    "deletable": false,
    "editable": false,
    "nbgrader": {
     "cell_type": "markdown",
     "checksum": "1ea68c2abc5a0e5a02e25eb7a7f8a558",
     "grade": false,
     "grade_id": "cell-d37aeddb84372d0e",
     "locked": true,
     "schema_version": 3,
     "solution": false,
     "task": false
    }
   },
   "source": [
    "**B.6(b) You are going to perform a hypothesis test using $\\sum_{i=1}^{n}X_i$ instead of $\\bar{X}$. What is your test statistic and decision rule for determining whether the null hypothesis should be rejected?**"
   ]
  },
  {
   "cell_type": "markdown",
   "metadata": {
    "deletable": false,
    "nbgrader": {
     "cell_type": "markdown",
     "checksum": "53b9c435240651efacc6a42e0eaa80b8",
     "grade": true,
     "grade_id": "cell-7a2e7b03f519a0f4",
     "locked": false,
     "points": 0,
     "schema_version": 3,
     "solution": true,
     "task": false
    }
   },
   "source": [
    "YOUR ANSWER HERE"
   ]
  },
  {
   "cell_type": "markdown",
   "metadata": {
    "deletable": false,
    "editable": false,
    "nbgrader": {
     "cell_type": "markdown",
     "checksum": "02ae10f9c7902ce7840004cce77ec7b2",
     "grade": false,
     "grade_id": "cell-d3cf03bcfae06424",
     "locked": true,
     "schema_version": 3,
     "solution": false,
     "task": false
    }
   },
   "source": [
    "**Part B.6(c) Perform the test of hypothesis with $\\alpha = 0.005$ using your test procedure, with $n = 45$, $\\sum_{i=1}^{n}X_i = 312.85$, and $s = 7.45$.**"
   ]
  },
  {
   "cell_type": "markdown",
   "metadata": {
    "deletable": false,
    "nbgrader": {
     "cell_type": "markdown",
     "checksum": "bccdefebda4d7476b9cd61863b2f2510",
     "grade": true,
     "grade_id": "cell-9eb052c8de350b51",
     "locked": false,
     "points": 0,
     "schema_version": 3,
     "solution": true,
     "task": false
    }
   },
   "source": [
    "YOUR ANSWER HERE"
   ]
  },
  {
   "cell_type": "code",
   "execution_count": null,
   "metadata": {
    "deletable": false,
    "nbgrader": {
     "cell_type": "code",
     "checksum": "fbe60cfc306eb13fc32e4358442656a3",
     "grade": true,
     "grade_id": "cell-01afd5f51530c77f",
     "locked": false,
     "points": 0,
     "schema_version": 3,
     "solution": true,
     "task": false
    }
   },
   "outputs": [],
   "source": [
    "#YOUR CODE HERE\n",
    "fail() # No Answer - remove if you provide an answer"
   ]
  },
  {
   "cell_type": "markdown",
   "metadata": {
    "deletable": false,
    "nbgrader": {
     "cell_type": "markdown",
     "checksum": "f050f85147efcd71adde157b85b31934",
     "grade": true,
     "grade_id": "cell-34c141e16b3983e7",
     "locked": false,
     "points": 0,
     "schema_version": 3,
     "solution": true,
     "task": false
    }
   },
   "source": [
    "YOUR ANSWER HERE"
   ]
  },
  {
   "cell_type": "markdown",
   "metadata": {
    "deletable": false,
    "editable": false,
    "nbgrader": {
     "cell_type": "markdown",
     "checksum": "e6b7a832a10d2af5bad8702b235c166b",
     "grade": false,
     "grade_id": "cell-096a353cd2cf5a4e",
     "locked": true,
     "schema_version": 3,
     "solution": false,
     "task": false
    }
   },
   "source": [
    "**B.6 (d) What is the p-value of your test? Provide an interpretation of this p-value.**"
   ]
  },
  {
   "cell_type": "markdown",
   "metadata": {
    "deletable": false,
    "nbgrader": {
     "cell_type": "markdown",
     "checksum": "570a7e6f5c0e2ba16553760be8650494",
     "grade": true,
     "grade_id": "cell-386b69d009e07f78",
     "locked": false,
     "points": 0,
     "schema_version": 3,
     "solution": true,
     "task": false
    }
   },
   "source": [
    "YOUR ANSWER HERE"
   ]
  },
  {
   "cell_type": "code",
   "execution_count": null,
   "metadata": {
    "deletable": false,
    "nbgrader": {
     "cell_type": "code",
     "checksum": "31d8d1e238270cfb8c8a229d609f614f",
     "grade": true,
     "grade_id": "cell-5c8c2a81db8c7604",
     "locked": false,
     "points": 0,
     "schema_version": 3,
     "solution": true,
     "task": false
    }
   },
   "outputs": [],
   "source": [
    "#YOUR CODE HERE\n",
    "fail() # No Answer - remove if you provide an answer"
   ]
  }
 ],
 "metadata": {
  "colab": {
   "name": "STAT5000_HW6-Solutions.ipynb",
   "provenance": []
  },
  "kernelspec": {
   "display_name": "R",
   "language": "R",
   "name": "ir"
  },
  "language_info": {
   "codemirror_mode": "r",
   "file_extension": ".r",
   "mimetype": "text/x-r-source",
   "name": "R",
   "pygments_lexer": "r",
   "version": "3.6.1"
  }
 },
 "nbformat": 4,
 "nbformat_minor": 1
}
