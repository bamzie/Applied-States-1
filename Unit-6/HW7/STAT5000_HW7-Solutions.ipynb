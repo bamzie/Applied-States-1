{
 "cells": [
  {
   "cell_type": "markdown",
   "metadata": {
    "id": "XN0XDstanIPx",
    "nbgrader": {
     "grade": false,
     "grade_id": "cell-028a6aaacd367700",
     "locked": true,
     "schema_version": 3,
     "solution": false,
     "task": false
    }
   },
   "source": [
    "# Homework #7\n",
    "\n",
    "**See Canvas for the HW #7 assignment and due date**. Complete all of the following problems. Ideally, the theoretical problems should be answered in a Markdown cell directly underneath the question. If you don't know LaTex/Markdown, you may submit separate handwritten solutions to the theoretical problems, but please see the [class scanning policy](https://docs.google.com/document/d/17y5ksolrn2rEuXYBv_3HeZhkPbYwt48UojNT1OvcB_w/edit?usp=sharing). Please do not turn in messy work. Computational problems should be completed in this notebook (using the R kernel). Computational questions may require code, plots, analysis, interpretation, etc. Working in small groups is allowed, but it is important that you make an effort to master the material and hand in your own work. \n",
    "\n"
   ]
  },
  {
   "cell_type": "markdown",
   "metadata": {
    "id": "Vpxs_7xzuHD8",
    "nbgrader": {
     "grade": false,
     "grade_id": "cell-690073cfc39a9520",
     "locked": true,
     "schema_version": 3,
     "solution": false,
     "task": false
    }
   },
   "source": [
    "## A. Theoretical Problems"
   ]
  },
  {
   "cell_type": "markdown",
   "metadata": {
    "id": "KKJHrG3gVl7Z",
    "nbgrader": {
     "grade": false,
     "grade_id": "cell-49bb6c9b9312e396",
     "locked": true,
     "schema_version": 3,
     "solution": false,
     "task": false
    }
   },
   "source": [
    "## A.1 p-value recommendations\n",
    "\n",
    "Read the article here: https://bit.ly/2Iw67Xr. In what ways are scientists misusing p-values? Do you agree with the suggestion made in this article? What other suggestions are being made to use them properly?"
   ]
  },
  {
   "cell_type": "markdown",
   "metadata": {
    "id": "bjGqllSMVl7a",
    "nbgrader": {
     "grade": true,
     "grade_id": "cell-e21c00f335f66ac9",
     "locked": false,
     "points": 6,
     "schema_version": 3,
     "solution": true,
     "task": false
    }
   },
   "source": [
    "Answers may vary. \n",
    "\n",
    "Scientists misuse p values by treating their studies as if a small p value (below $\\alpha$) means that the null hypothesis is very unlikely to be true. This is a misinterpretation. If p values fall below the standard 0.05, this just means that the evidence in the sample is unlikely under the null hypothesis. But, unlikely evidence doesn't mean the null is false!\n",
    "\n",
    "Pros of changing the p values include that it would make a stronger threshold for a null hypothesis to be rejected (i.e., the type I error rate would be lower); this would decrease the prevalence of false research findings. One drawback to this method is that the rate of type II error would increase, so researchers might overlook true findings.\n",
    "\n",
    "Suggestions to use them properly include giving scientists more training in statistics so they know how not to use unbiased methods and hwo to interpret their results."
   ]
  },
  {
   "cell_type": "markdown",
   "metadata": {
    "id": "XivFtR5SVl7l",
    "nbgrader": {
     "grade": false,
     "grade_id": "cell-a044144a3ad0137f",
     "locked": true,
     "schema_version": 3,
     "solution": false,
     "task": false
    }
   },
   "source": [
    "## A.2 Lens thickness\n",
    "\n",
    " A sample of 50 lenses used in eyeglasses yields a sample mean thickness of 3.05 mm and a sample standard deviation of 0.34 mm. The desired true average thickness of such lenses is 3.20 mm. Do the data suggest that the true average thickness of such lenses is something other than what is desired? Test using $\\alpha = 0.05$."
   ]
  },
  {
   "cell_type": "markdown",
   "metadata": {
    "id": "F9X_39S4Vl7m",
    "nbgrader": {
     "grade": true,
     "grade_id": "cell-9e0b89dab9007f87",
     "locked": false,
     "points": 6,
     "schema_version": 3,
     "solution": true,
     "task": false
    }
   },
   "source": [
    "$H_0: \\mu = 3.2$\n",
    "\n",
    "$H_1: \\mu \\neq 3.2$\n",
    "\n",
    "This is a two tailed hypothesis test. Since $n=50$ is large, we can use a z test. The test statistic is:\n",
    "$$ \\frac{\\bar{X}-\\mu_0}{S/\\sqrt{n}} = \\frac{3.05-3.20}{0.34/\\sqrt{50}} = -3.11 $$\n",
    "We are comparing this with the value $z_{0.025}$ since $\\alpha=0.05$. This value is around -1.96. Since our test statistic is greater in magnitude than the test value, we can reject the null hypothesis. \n",
    "\n",
    "There is sufficient evidence to suggest that the mean eyeglass thickness is different from the desired true average.\n"
   ]
  },
  {
   "cell_type": "markdown",
   "metadata": {
    "id": "CQ4AXiAwnIQs",
    "nbgrader": {
     "grade": false,
     "grade_id": "cell-9b5c20c493d92330",
     "locked": true,
     "schema_version": 3,
     "solution": false,
     "task": false
    }
   },
   "source": [
    "## B. Computational Problems"
   ]
  },
  {
   "cell_type": "markdown",
   "metadata": {
    "id": "6WvnwjxCVl7q",
    "nbgrader": {
     "grade": false,
     "grade_id": "cell-991df8f18a56eae3",
     "locked": true,
     "schema_version": 3,
     "solution": false,
     "task": false
    }
   },
   "source": [
    "## Problem B.1: Bootstrap confidence interval for standard deviation\n",
    "\n",
    "Suppose that $X_1,...,X_8 \\overset{iid}{\\sim} \\Gamma(\\alpha, \\beta)$ (see [here](https://en.wikipedia.org/wiki/Gamma_distribution) for more information on the gamma distribution). Let's use the bootstrap to compute a $90\\%$ confidence interval for the population standard deviation: $sd(X) = \\sqrt{\\alpha/\\beta^2} = \\theta$.\n",
    "\n",
    "\n",
    "Note: \n",
    "\n",
    "The convention in this course will be to interpret $\\Gamma(\\alpha, \\beta)$ as the \"shape/rate\" parameterization: shape = $\\alpha$, rate = $\\beta$. But R uses the \"shape/scale\" parameterization: shape = $\\alpha$, scale = $\\theta = 1/\\beta$. \n",
    "\n",
    "To be sure that you are properly simulating from the right gamma distribution, see the help file for rgamma() (run: ?rgamma).\n",
    "\n",
    "\n",
    "**B.1(a) There is a \"theory-derived\" frequentist confidence interval for the standard deviation, which depends on the $\\chi^2$ distribution. Research this confidence interval. State why a $\\chi^2$ confidence interval is not valid in this context.**"
   ]
  },
  {
   "cell_type": "markdown",
   "metadata": {
    "id": "FJHZSn46Vl7r",
    "nbgrader": {
     "grade": true,
     "grade_id": "cell-48627a15a1f5dc2a",
     "locked": false,
     "points": 3,
     "schema_version": 3,
     "solution": true,
     "task": false
    }
   },
   "source": [
    "The $\\chi^2$ confidence interval is not valid because it requires a normal population. That is, $$\\frac{(n-1)S^2}{\\sigma^2} \\sim \\chi^2(n-1)$$ only when $X_1,...,X_n$ are normal."
   ]
  },
  {
   "cell_type": "markdown",
   "metadata": {
    "id": "qOA6-4chVl7v",
    "nbgrader": {
     "grade": false,
     "grade_id": "cell-893b4233ddb4ac3f",
     "locked": true,
     "schema_version": 3,
     "solution": false,
     "task": false
    }
   },
   "source": [
    "**B.1(b) Simulate a sample of size $n = 8$ from $\\Gamma(\\alpha = 3, \\beta = 4)$ and calculate the true population standard deviation (in this example, we are generating data so that we can see how well our estimation procedure will do).**"
   ]
  },
  {
   "cell_type": "code",
   "execution_count": null,
   "metadata": {
    "colab": {
     "base_uri": "https://localhost:8080/",
     "height": 53
    },
    "executionInfo": {
     "elapsed": 265,
     "status": "ok",
     "timestamp": 1636740544130,
     "user": {
      "displayName": "Eric Young",
      "photoUrl": "https://lh3.googleusercontent.com/a/default-user=s64",
      "userId": "14315698820705127118"
     },
     "user_tz": 420
    },
    "id": "mquV-a4tVl7x",
    "nbgrader": {
     "grade": true,
     "grade_id": "cell-63ee1d4925bf123f",
     "locked": false,
     "points": 3,
     "schema_version": 3,
     "solution": true,
     "task": false
    },
    "outputId": "abe2d065-e500-4eb1-94ca-af5795cc53b3"
   },
   "outputs": [
    {
     "data": {
      "text/html": [
       "0.430519056934682"
      ],
      "text/latex": [
       "0.430519056934682"
      ],
      "text/markdown": [
       "0.430519056934682"
      ],
      "text/plain": [
       "[1] 0.4305191"
      ]
     },
     "metadata": {},
     "output_type": "display_data"
    },
    {
     "name": "stdout",
     "output_type": "stream",
     "text": [
      "The population standard deviation is  0.4330127 ."
     ]
    }
   ],
   "source": [
    "set.seed(919)\n",
    "n = 8; alpha = 3; beta = 4; x = rgamma(n,alpha,rate = beta); sd(x)\n",
    "sdx = sqrt(alpha/beta^2); \n",
    "cat(\"The population standard deviation is \", sdx,\".\")"
   ]
  },
  {
   "cell_type": "markdown",
   "metadata": {
    "id": "nRKLwt_VVl73",
    "nbgrader": {
     "grade": false,
     "grade_id": "cell-2e06a04cbf06a97d",
     "locked": true,
     "schema_version": 3,
     "solution": false,
     "task": false
    }
   },
   "source": [
    "**B.1(c) Generate $B = 200$ bootstrap samples from the above sample. Print the dimension, and articulate what each row/column represents. To avoid loops,use the `replicate()` function.**"
   ]
  },
  {
   "cell_type": "code",
   "execution_count": null,
   "metadata": {
    "colab": {
     "base_uri": "https://localhost:8080/",
     "height": 34
    },
    "executionInfo": {
     "elapsed": 406,
     "status": "ok",
     "timestamp": 1636740544530,
     "user": {
      "displayName": "Eric Young",
      "photoUrl": "https://lh3.googleusercontent.com/a/default-user=s64",
      "userId": "14315698820705127118"
     },
     "user_tz": 420
    },
    "id": "idwxeLF4Vl75",
    "nbgrader": {
     "grade": true,
     "grade_id": "cell-9e0d5167079aa2f2",
     "locked": false,
     "points": 4,
     "schema_version": 3,
     "solution": true,
     "task": false
    },
    "outputId": "0fe308c1-e6ba-4992-d161-50dd419969a5"
   },
   "outputs": [
    {
     "data": {
      "text/html": [
       "<style>\n",
       ".list-inline {list-style: none; margin:0; padding: 0}\n",
       ".list-inline>li {display: inline-block}\n",
       ".list-inline>li:not(:last-child)::after {content: \"\\00b7\"; padding: 0 .5ex}\n",
       "</style>\n",
       "<ol class=list-inline><li>8</li><li>200</li></ol>\n"
      ],
      "text/latex": [
       "\\begin{enumerate*}\n",
       "\\item 8\n",
       "\\item 200\n",
       "\\end{enumerate*}\n"
      ],
      "text/markdown": [
       "1. 8\n",
       "2. 200\n",
       "\n",
       "\n"
      ],
      "text/plain": [
       "[1]   8 200"
      ]
     },
     "metadata": {},
     "output_type": "display_data"
    }
   ],
   "source": [
    "B = 200\n",
    "bootsamples = replicate(B, sample(x, n, replace = TRUE))\n",
    " dim(bootsamples)"
   ]
  },
  {
   "cell_type": "markdown",
   "metadata": {
    "id": "QZLNQ_lmVl78",
    "nbgrader": {
     "grade": true,
     "grade_id": "cell-01e6402748abcf29",
     "locked": false,
     "points": 1,
     "schema_version": 3,
     "solution": true,
     "task": false
    }
   },
   "source": [
    "Each column is bootstrap sample from our original sample."
   ]
  },
  {
   "cell_type": "markdown",
   "metadata": {
    "id": "QHUNodo8Vl7-",
    "nbgrader": {
     "grade": false,
     "grade_id": "cell-f5e018b23de0604d",
     "locked": true,
     "schema_version": 3,
     "solution": false,
     "task": false
    }
   },
   "source": [
    "**B.1(d) Calculate and print the sample standard deviation, $s$. Then, calculate $s$ for each bootstrap sample. Denote this as $s^*_i$, for $i = 1,...,B$. To avoid loops, use the `apply()`. Display a histogram of the distribution of  $s^*_i, \\,\\, i=1,...B$.**"
   ]
  },
  {
   "cell_type": "code",
   "execution_count": null,
   "metadata": {
    "colab": {
     "base_uri": "https://localhost:8080/",
     "height": 456
    },
    "executionInfo": {
     "elapsed": 41,
     "status": "ok",
     "timestamp": 1636740544531,
     "user": {
      "displayName": "Eric Young",
      "photoUrl": "https://lh3.googleusercontent.com/a/default-user=s64",
      "userId": "14315698820705127118"
     },
     "user_tz": 420
    },
    "id": "7NjXxMdxVl8A",
    "nbgrader": {
     "grade": true,
     "grade_id": "cell-ec70cad29e76ea14",
     "locked": false,
     "points": 4,
     "schema_version": 3,
     "solution": true,
     "task": false
    },
    "outputId": "ed00cefc-cf76-4609-db25-876a9293c8b7"
   },
   "outputs": [
    {
     "name": "stdout",
     "output_type": "stream",
     "text": [
      "s is  0.4305191"
     ]
    },
    {
     "data": {
      "image/png": "[encoded data removed]",
      "text/plain": [
       "Plot with title “Histogram of sboot”"
      ]
     },
     "metadata": {
      "image/png": {
       "height": 420,
       "width": 420
      }
     },
     "output_type": "display_data"
    }
   ],
   "source": [
    "s = sd(x); cat(\"s is \", s)\n",
    "sboot = apply(bootsamples, 2, sd); hist(sboot);"
   ]
  },
  {
   "cell_type": "code",
   "execution_count": 6,
   "metadata": {
    "colab": {
     "base_uri": "https://localhost:8080/",
     "height": 454
    },
    "executionInfo": {
     "elapsed": 172,
     "status": "ok",
     "timestamp": 1637166443872,
     "user": {
      "displayName": "Eric Young",
      "photoUrl": "https://lh3.googleusercontent.com/a/default-user=s64",
      "userId": "14315698820705127118"
     },
     "user_tz": 420
    },
    "id": "y4oN3vKVuFjB",
    "outputId": "476e2d0a-5027-4ced-fbc8-84d78dcf9ccb"
   },
   "outputs": [
    {
     "data": {
      "text/html": [
       "<style>\n",
       ".list-inline {list-style: none; margin:0; padding: 0}\n",
       ".list-inline>li {display: inline-block}\n",
       ".list-inline>li:not(:last-child)::after {content: \"\\00b7\"; padding: 0 .5ex}\n",
       "</style>\n",
       "<ol class=list-inline><li>8</li><li>200</li></ol>\n"
      ],
      "text/latex": [
       "\\begin{enumerate*}\n",
       "\\item 8\n",
       "\\item 200\n",
       "\\end{enumerate*}\n"
      ],
      "text/markdown": [
       "1. 8\n",
       "2. 200\n",
       "\n",
       "\n"
      ],
      "text/plain": [
       "[1]   8 200"
      ]
     },
     "metadata": {},
     "output_type": "display_data"
    },
    {
     "data": {
      "image/png": "[encoded data removed]",
      "text/plain": [
       "Plot with title “Histogram of apply(bootsamples, 2, sd)”"
      ]
     },
     "metadata": {
      "image/png": {
       "height": 420,
       "width": 420
      }
     },
     "output_type": "display_data"
    }
   ],
   "source": [
    "n=8\n",
    "alpha = 3\n",
    "beta = 4\n",
    "X = rgamma(n,alpha,beta)\n",
    "sigma = sqrt(alpha/beta^2)\n",
    "\n",
    "\n",
    "B = 200\n",
    "bootsamples=replicate(B, sample(X,n,replace=TRUE))\n",
    "dim(bootsamples)\n",
    "\n",
    "hist(apply(bootsamples, 2,sd))"
   ]
  },
  {
   "cell_type": "markdown",
   "metadata": {
    "id": "_7JbjQcYVl8D",
    "nbgrader": {
     "grade": false,
     "grade_id": "cell-f0afb94b0bfce13c",
     "locked": true,
     "schema_version": 3,
     "solution": false,
     "task": false
    }
   },
   "source": [
    "**B.1(e) Use the `quantile()` function to find the 5th and 95th percentile of the distribution of  $s^*_i$. Use these values to calculate the $90\\%$ boostrap pivot confidence interval and bootstrap percentile confidence interval for $\\theta$.**"
   ]
  },
  {
   "cell_type": "code",
   "execution_count": null,
   "metadata": {
    "colab": {
     "base_uri": "https://localhost:8080/",
     "height": 34
    },
    "executionInfo": {
     "elapsed": 34,
     "status": "ok",
     "timestamp": 1636740544533,
     "user": {
      "displayName": "Eric Young",
      "photoUrl": "https://lh3.googleusercontent.com/a/default-user=s64",
      "userId": "14315698820705127118"
     },
     "user_tz": 420
    },
    "id": "39EqpaajVl8F",
    "nbgrader": {
     "grade": true,
     "grade_id": "cell-569264834d494e5d",
     "locked": false,
     "points": 4,
     "schema_version": 3,
     "solution": true,
     "task": false
    },
    "outputId": "de3f0782-6ba5-4a5e-c966-396b63cf4f55"
   },
   "outputs": [
    {
     "data": {
      "text/html": [
       "<style>\n",
       ".list-inline {list-style: none; margin:0; padding: 0}\n",
       ".list-inline>li {display: inline-block}\n",
       ".list-inline>li:not(:last-child)::after {content: \"\\00b7\"; padding: 0 .5ex}\n",
       "</style>\n",
       "<ol class=list-inline><li>0.303435424495664</li><li>0.718468023816068</li></ol>\n"
      ],
      "text/latex": [
       "\\begin{enumerate*}\n",
       "\\item 0.303435424495664\n",
       "\\item 0.718468023816068\n",
       "\\end{enumerate*}\n"
      ],
      "text/markdown": [
       "1. 0.303435424495664\n",
       "2. 0.718468023816068\n",
       "\n",
       "\n"
      ],
      "text/plain": [
       "[1] 0.3034354 0.7184680"
      ]
     },
     "metadata": {},
     "output_type": "display_data"
    }
   ],
   "source": [
    "q = as.numeric(quantile(sboot, c(0.05,0.95))); \n",
    "CI = c(2*sd(x) - q[2], 2*sd(x) - q[1]); CI"
   ]
  },
  {
   "cell_type": "markdown",
   "metadata": {
    "id": "JQfZ6uwZVl8H",
    "nbgrader": {
     "grade": false,
     "grade_id": "cell-fdb148f4af4894b3",
     "locked": true,
     "schema_version": 3,
     "solution": false,
     "task": false
    }
   },
   "source": [
    "**B.1(f) Interpret this confidence interval.**"
   ]
  },
  {
   "cell_type": "markdown",
   "metadata": {
    "collapsed": true,
    "id": "JgmA2P4zVl8H",
    "nbgrader": {
     "grade": true,
     "grade_id": "cell-fdd6c4cba5611846",
     "locked": false,
     "points": 2,
     "schema_version": 3,
     "solution": true,
     "task": false
    }
   },
   "source": [
    "If we repeatedly sample from the population and use this procedure to calculate a confidence interval, approximately 90% of those intervals will cover the true parameter."
   ]
  },
  {
   "cell_type": "markdown",
   "metadata": {
    "id": "9FjQ7EJvVl8J",
    "nbgrader": {
     "grade": false,
     "grade_id": "cell-35ce10a16fb63bb6",
     "locked": true,
     "schema_version": 3,
     "solution": false,
     "task": false
    }
   },
   "source": [
    "## Problem B.2: The parametric bootstrap\n",
    "\n",
    "Suppose that $X_1,...,X_n \\overset{iid}{\\sim}N(\\mu, \\sigma^2)$, where $\\sigma$ is known, and we are ultimately interested in an estimator for $\\theta = \\mu^2$.\n",
    "\n",
    "\n",
    "Thus far, we've been looking at the *nonparametric bootstrap*. In this problem, we look at the *parametric bootstrap* as a way of estimating the bias and variance of an estimator $\\widehat{\\theta} = \\bar{X}^2$ of $\\theta = \\mu^2$.\n",
    "\n",
    "**B.2(a) Generate $X_1,...,X_{20} \\overset{iid}{\\sim}N(\\mu = 2, \\sigma^2 = 1)$, and then forget that you know $\\mu$ and $\\sigma^2$. Find the sample mean and sample variance.**"
   ]
  },
  {
   "cell_type": "code",
   "execution_count": null,
   "metadata": {
    "colab": {
     "base_uri": "https://localhost:8080/"
    },
    "executionInfo": {
     "elapsed": 33,
     "status": "ok",
     "timestamp": 1636740544536,
     "user": {
      "displayName": "Eric Young",
      "photoUrl": "https://lh3.googleusercontent.com/a/default-user=s64",
      "userId": "14315698820705127118"
     },
     "user_tz": 420
    },
    "id": "vTt4FwpHVl8K",
    "nbgrader": {
     "grade": true,
     "grade_id": "cell-00ab84c0a14ec2a3",
     "locked": false,
     "points": 3,
     "schema_version": 3,
     "solution": true,
     "task": false
    },
    "outputId": "0d31adf4-93e9-4164-df04-0c9df529193b"
   },
   "outputs": [
    {
     "name": "stdout",
     "output_type": "stream",
     "text": [
      "The sample mean is 2.349677 . The sample variance is  0.7211023 ."
     ]
    }
   ],
   "source": [
    "set.seed(232)\n",
    "n = 20; x = rnorm(n, 2, 1); xbar = mean(x); xvar = var(x); \n",
    "cat(\"The sample mean is\", xbar,\". The sample variance is \",xvar,\".\")"
   ]
  },
  {
   "cell_type": "markdown",
   "metadata": {
    "id": "9ExkVlj0Vl8M",
    "nbgrader": {
     "grade": false,
     "grade_id": "cell-3d266ffacd8bb882",
     "locked": true,
     "schema_version": 3,
     "solution": false,
     "task": false
    }
   },
   "source": [
    "**B.2(b) Define $\\widehat{N}$ to be the distribution of the variable $X_i$ in the population with the sample estimates plugged in for the unknown population parameters. Write down $\\widehat{N}$ based on the data generated in (a).**"
   ]
  },
  {
   "cell_type": "markdown",
   "metadata": {
    "id": "lORG4xzDVl8N",
    "nbgrader": {
     "grade": true,
     "grade_id": "cell-66f7bd3383564752",
     "locked": false,
     "points": 2,
     "schema_version": 3,
     "solution": true,
     "task": false
    }
   },
   "source": [
    "$\\widehat{N} \\approx N(2.35, 0.72)$. "
   ]
  },
  {
   "cell_type": "markdown",
   "metadata": {
    "id": "QuegxR1WVl8N",
    "nbgrader": {
     "grade": false,
     "grade_id": "cell-160b2b309fe57252",
     "locked": true,
     "schema_version": 3,
     "solution": false,
     "task": false
    }
   },
   "source": [
    "**(c) Draw $B = 500$ parametric bootstrap samples from $\\widehat{N}$, and for each bootstrap sample $(X_{1,j},...,X_{20,j})$, compute $$ \\widehat{\\theta}^*_j = \\bigg(\\frac{1}{20}\\sum^{20}_{i=1}X^*_{i,j}\\bigg)^2,$$ where $j = 1,...,B$.**"
   ]
  },
  {
   "cell_type": "code",
   "execution_count": null,
   "metadata": {
    "colab": {
     "base_uri": "https://localhost:8080/"
    },
    "executionInfo": {
     "elapsed": 30,
     "status": "ok",
     "timestamp": 1636740544538,
     "user": {
      "displayName": "Eric Young",
      "photoUrl": "https://lh3.googleusercontent.com/a/default-user=s64",
      "userId": "14315698820705127118"
     },
     "user_tz": 420
    },
    "id": "73hGXbNEVl8R",
    "nbgrader": {
     "grade": true,
     "grade_id": "cell-c7e9c309d2c33b26",
     "locked": false,
     "points": 4,
     "schema_version": 3,
     "solution": true,
     "task": false
    },
    "outputId": "add9a442-ed29-4277-fe88-5c914a3020d9"
   },
   "outputs": [
    {
     "data": {
      "text/html": [
       "<style>\n",
       ".list-inline {list-style: none; margin:0; padding: 0}\n",
       ".list-inline>li {display: inline-block}\n",
       ".list-inline>li:not(:last-child)::after {content: \"\\00b7\"; padding: 0 .5ex}\n",
       "</style>\n",
       "<ol class=list-inline><li>20</li><li>500</li></ol>\n"
      ],
      "text/latex": [
       "\\begin{enumerate*}\n",
       "\\item 20\n",
       "\\item 500\n",
       "\\end{enumerate*}\n"
      ],
      "text/markdown": [
       "1. 20\n",
       "2. 500\n",
       "\n",
       "\n"
      ],
      "text/plain": [
       "[1]  20 500"
      ]
     },
     "metadata": {},
     "output_type": "display_data"
    },
    {
     "data": {
      "image/png": "[encoded data removed]",
      "text/plain": [
       "Plot with title “Histogram of ThetaHatStar”"
      ]
     },
     "metadata": {
      "image/png": {
       "height": 420,
       "width": 420
      }
     },
     "output_type": "display_data"
    }
   ],
   "source": [
    "set.seed(232)\n",
    "B = 500;\n",
    "bs = replicate(B, rnorm(n, xbar, xvar)); dim(bs)\n",
    "ThetaHatStar = colMeans(bs)^2; hist(ThetaHatStar)"
   ]
  },
  {
   "cell_type": "markdown",
   "metadata": {
    "id": "TfuUoZ3cVl8S",
    "nbgrader": {
     "grade": false,
     "grade_id": "cell-a10f9b9bb424b760",
     "locked": true,
     "schema_version": 3,
     "solution": false,
     "task": false
    }
   },
   "source": [
    "**B.2(d) Compute an estimate of the bias:**\n",
    "\n",
    "\\begin{align*}\n",
    "\\widehat{B}(\\widehat{\\theta}) \\approx \\frac{1}{B}\\sum^B_{j=1}\\widehat{\\theta}^*_j - \\bar{X}^2.\n",
    "\\end{align*}\n",
    "\n",
    "**Compare this to the exact bias using the formula $\\displaystyle Bias(\\widehat{\\theta}) = Bias(\\bar{X}^2) = E(\\bar{X}^2) - \\mu^2 = \\frac{\\sigma^2}{n}$.**"
   ]
  },
  {
   "cell_type": "code",
   "execution_count": null,
   "metadata": {
    "colab": {
     "base_uri": "https://localhost:8080/"
    },
    "executionInfo": {
     "elapsed": 208,
     "status": "ok",
     "timestamp": 1636740544720,
     "user": {
      "displayName": "Eric Young",
      "photoUrl": "https://lh3.googleusercontent.com/a/default-user=s64",
      "userId": "14315698820705127118"
     },
     "user_tz": 420
    },
    "id": "SGl895nEVl8T",
    "nbgrader": {
     "grade": true,
     "grade_id": "cell-4507f20be3dc38f2",
     "locked": false,
     "points": 4,
     "schema_version": 3,
     "solution": true,
     "task": false
    },
    "outputId": "698c4128-fd88-4981-a402-8a9ca081df37"
   },
   "outputs": [
    {
     "name": "stdout",
     "output_type": "stream",
     "text": [
      "The bootstrap estimate of the bias is  0.09084733 . The true bias is  0.05 ."
     ]
    }
   ],
   "source": [
    "biasEst = mean(ThetaHatStar) - xbar^2;\n",
    "bias = 1/n; \n",
    "cat(\"The bootstrap estimate of the bias is \", biasEst,\". The true bias is \",bias,\".\")"
   ]
  },
  {
   "cell_type": "markdown",
   "metadata": {
    "id": "68yWWwMAVl8V",
    "nbgrader": {
     "grade": false,
     "grade_id": "cell-410f69f17cb6a2ec",
     "locked": true,
     "schema_version": 3,
     "solution": false,
     "task": false
    }
   },
   "source": [
    "**B.2(e) Compute an estimate of the variance:**\n",
    "\n",
    "\\begin{align*}\n",
    "\\widehat{\\text{Var}}(\\widehat{\\theta}) \\approx \\frac{1}{B-1}\\sum^B_{j=1}\\big(\\widehat{\\theta}^*_j - \\bar{\\theta} \\big)^2,\n",
    "\\end{align*}\n",
    "where \n",
    "\\begin{align*}\n",
    "\\bar{\\theta} = \\frac{1}{B}\\sum^B_{j=1}\\widehat{\\theta}^*_j .\n",
    "\\end{align*}\n",
    "**Compare this to the exact variance:**\n",
    "\n",
    "\\begin{align*}\n",
    "Var(\\bar{X}^2) &=  4\\frac{\\sigma^2}{n}\\mu^2 + 2\\frac{\\sigma^4}{n^2}\n",
    "\\end{align*}"
   ]
  },
  {
   "cell_type": "code",
   "execution_count": null,
   "metadata": {
    "colab": {
     "base_uri": "https://localhost:8080/"
    },
    "executionInfo": {
     "elapsed": 9,
     "status": "ok",
     "timestamp": 1636740544721,
     "user": {
      "displayName": "Eric Young",
      "photoUrl": "https://lh3.googleusercontent.com/a/default-user=s64",
      "userId": "14315698820705127118"
     },
     "user_tz": 420
    },
    "id": "uGuspPsPVl8W",
    "nbgrader": {
     "grade": true,
     "grade_id": "cell-86f1174a3b53f2e6",
     "locked": false,
     "points": 4,
     "schema_version": 3,
     "solution": true,
     "task": false
    },
    "outputId": "2b9398ca-89f0-407b-c748-da824e10086c"
   },
   "outputs": [
    {
     "name": "stdout",
     "output_type": "stream",
     "text": [
      "The bootstrap estimate of the variance of our estimator is  0.6252021 . The true variance of our estimator is  0.805 ."
     ]
    }
   ],
   "source": [
    "vEst = 1/(B-1)*sum((ThetaHatStar - mean(ThetaHatStar))^2); \n",
    "v = 4*4/n+2/n^2\n",
    "cat(\"The bootstrap estimate of the variance of our estimator is \", vEst,\". The true variance of our estimator is \",v,\".\")"
   ]
  },
  {
   "cell_type": "markdown",
   "metadata": {
    "id": "gFFCA_LCVl8X",
    "nbgrader": {
     "grade": false,
     "grade_id": "cell-8a4aa62498b32b81",
     "locked": true,
     "schema_version": 3,
     "solution": false,
     "task": false
    }
   },
   "source": [
    "#### (f) True or False: For a fixed sample size $n = 20$, as $B$ increases, $\\widehat{Bias}(\\widehat{\\theta})$ will approach ${Bias}(\\widehat{\\theta})$.  That is, for a fixed $n$, the bootstrap estimate of the bias will approach the true bias as the number of bootstrap samples, $B$ increases. You might consider running a simulation to decide!"
   ]
  },
  {
   "cell_type": "markdown",
   "metadata": {
    "id": "_2NHsc5rVl8Y",
    "nbgrader": {
     "grade": true,
     "grade_id": "cell-e87e69eea32f07ec",
     "locked": false,
     "points": 2,
     "schema_version": 3,
     "solution": true,
     "task": false
    }
   },
   "source": [
    "False. As $B$ increases, the boostrap bias approaches the \"plug in\" bias estimate, $S^2\\big/n$, not the true bias $\\sigma^2\\big/n$."
   ]
  },
  {
   "cell_type": "markdown",
   "metadata": {
    "id": "qRsczFxAVl8Z",
    "nbgrader": {
     "grade": false,
     "grade_id": "cell-68b7b3084c8733a1",
     "locked": true,
     "schema_version": 3,
     "solution": false,
     "task": false
    }
   },
   "source": [
    "## Problem B.3 Bootstrap with real data\n",
    "\n",
    "The \"Wisconsin Card Sorting Test\" is widely used by psychiatrists, neurologists, and neurophycologists with patients who have a brain injury. Patients with any sort of frontal lobe lesion generally do poorly on the test. The data frame WCST contains the test scores from a group of 50 patients from the *Virgen del Camino* Hospital.\n",
    "\n",
    "**B.3(a) Using the code below, load the WCST data and explore whether there is reason to believe that the score data comes from a non-normal distribution. First, create a histogram (use ggplot!) and describe whether the data look normal. Then, use the function shapiro.test() to explore normality. Be sure to explain what this function does - i.e., what's the null and alternative hypothesis - in your answer.**"
   ]
  },
  {
   "cell_type": "code",
   "execution_count": null,
   "metadata": {
    "id": "vJyTBgtWVl8a",
    "nbgrader": {
     "grade": false,
     "grade_id": "cell-0e3447f826eca20a",
     "locked": true,
     "schema_version": 3,
     "solution": false,
     "task": false
    }
   },
   "outputs": [],
   "source": [
    "wcst = read.table(\"https://www.colorado.edu/amath/sites/default/files/attached-files/wcst.txt\")\n"
   ]
  },
  {
   "cell_type": "code",
   "execution_count": null,
   "metadata": {
    "colab": {
     "base_uri": "https://localhost:8080/",
     "height": 835
    },
    "executionInfo": {
     "elapsed": 1162,
     "status": "ok",
     "timestamp": 1636929305596,
     "user": {
      "displayName": "Eric Young",
      "photoUrl": "https://lh3.googleusercontent.com/a/default-user=s64",
      "userId": "14315698820705127118"
     },
     "user_tz": 420
    },
    "id": "vVFZPDHPVl8b",
    "nbgrader": {
     "grade": true,
     "grade_id": "cell-4633ffeb95a9c8f2",
     "locked": false,
     "points": 4,
     "schema_version": 3,
     "solution": true,
     "task": false
    },
    "outputId": "19bdb4a0-fefa-4544-ee5d-bcaff1c25d98"
   },
   "outputs": [
    {
     "data": {
      "text/html": [
       "<table class=\"dataframe\">\n",
       "<caption>A data.frame: 6 × 1</caption>\n",
       "<thead>\n",
       "\t<tr><th></th><th scope=col>score</th></tr>\n",
       "\t<tr><th></th><th scope=col>&lt;int&gt;</th></tr>\n",
       "</thead>\n",
       "<tbody>\n",
       "\t<tr><th scope=row>1</th><td>23</td></tr>\n",
       "\t<tr><th scope=row>2</th><td>12</td></tr>\n",
       "\t<tr><th scope=row>3</th><td>31</td></tr>\n",
       "\t<tr><th scope=row>4</th><td> 8</td></tr>\n",
       "\t<tr><th scope=row>5</th><td>19</td></tr>\n",
       "\t<tr><th scope=row>6</th><td>11</td></tr>\n",
       "</tbody>\n",
       "</table>\n"
      ],
      "text/latex": [
       "A data.frame: 6 × 1\n",
       "\\begin{tabular}{r|l}\n",
       "  & score\\\\\n",
       "  & <int>\\\\\n",
       "\\hline\n",
       "\t1 & 23\\\\\n",
       "\t2 & 12\\\\\n",
       "\t3 & 31\\\\\n",
       "\t4 &  8\\\\\n",
       "\t5 & 19\\\\\n",
       "\t6 & 11\\\\\n",
       "\\end{tabular}\n"
      ],
      "text/markdown": [
       "\n",
       "A data.frame: 6 × 1\n",
       "\n",
       "| <!--/--> | score &lt;int&gt; |\n",
       "|---|---|\n",
       "| 1 | 23 |\n",
       "| 2 | 12 |\n",
       "| 3 | 31 |\n",
       "| 4 |  8 |\n",
       "| 5 | 19 |\n",
       "| 6 | 11 |\n",
       "\n"
      ],
      "text/plain": [
       "  score\n",
       "1 23   \n",
       "2 12   \n",
       "3 31   \n",
       "4  8   \n",
       "5 19   \n",
       "6 11   "
      ]
     },
     "metadata": {},
     "output_type": "display_data"
    },
    {
     "data": {
      "text/plain": [
       "\n",
       "\tShapiro-Wilk normality test\n",
       "\n",
       "data:  wcst$score\n",
       "W = 0.77472, p-value = 2.405e-07\n"
      ]
     },
     "metadata": {},
     "output_type": "display_data"
    },
    {
     "data": {
      "image/png": "[encoded data removed]",
      "text/plain": [
       "plot without title"
      ]
     },
     "metadata": {
      "image/png": {
       "height": 420,
       "width": 420
      }
     },
     "output_type": "display_data"
    }
   ],
   "source": [
    "library(ggplot2)\n",
    "head(wcst)\n",
    "\n",
    "#Normality exploration\n",
    "ggplot(data = wcst) + \n",
    "geom_histogram(mapping = aes(x = score),color = \"black\", fill = \"white\", binwidth = 5)\n",
    "shapiro.test(wcst$score)"
   ]
  },
  {
   "cell_type": "markdown",
   "metadata": {
    "collapsed": true,
    "id": "zMZnsZfoVl8c",
    "nbgrader": {
     "grade": true,
     "grade_id": "cell-dffe2c542f4c45ab",
     "locked": false,
     "points": 3,
     "schema_version": 3,
     "solution": true,
     "task": false
    }
   },
   "source": [
    "The histogram suggests that the data are not normal. The Shiparo-Wilk test for normality tests $H_0:$ *The data come from a normal population* against $H_1:$ *The data don't come from a normal population*. The small p-value suggests that we should reject the null hypothesis."
   ]
  },
  {
   "cell_type": "markdown",
   "metadata": {
    "id": "Vz7U1OgwVl8c",
    "nbgrader": {
     "grade": false,
     "grade_id": "cell-b8ac62f948a672d1",
     "locked": true,
     "schema_version": 3,
     "solution": false,
     "task": false
    }
   },
   "source": [
    "**B.3(b) What assumptions must be made in order to compute a (non-boostrap) 95% confidence interval for the population mean score?**"
   ]
  },
  {
   "cell_type": "markdown",
   "metadata": {
    "collapsed": true,
    "id": "hMoTo1RwVl8d",
    "nbgrader": {
     "grade": true,
     "grade_id": "cell-5871e9ba2f10a7c4",
     "locked": false,
     "points": 3,
     "schema_version": 3,
     "solution": true,
     "task": false
    }
   },
   "source": [
    "We would assume that $\\bar{X}$ follows a normal distribution (at least approximately), as suggested by the central limit theorem. Because $n = 50$, this assumption isn't unreasonable."
   ]
  },
  {
   "cell_type": "code",
   "execution_count": null,
   "metadata": {
    "id": "wbYJR08dyFpk"
   },
   "outputs": [],
   "source": [
    "sum(sapply(xbarhatstar, function(x) {return(ifelse(mean(x) < 33.02 - 6.81 || mean(x) > 33.02, 1, 0))})) / B"
   ]
  },
  {
   "cell_type": "markdown",
   "metadata": {
    "id": "bU703v43Vl8d",
    "nbgrader": {
     "grade": false,
     "grade_id": "cell-7dc3d9b5fd04656a",
     "locked": true,
     "schema_version": 3,
     "solution": false,
     "task": false
    }
   },
   "source": [
    "**B.3(c) Compute the confidence interval referred too in B.3(b).**"
   ]
  },
  {
   "cell_type": "code",
   "execution_count": null,
   "metadata": {
    "colab": {
     "base_uri": "https://localhost:8080/"
    },
    "executionInfo": {
     "elapsed": 10,
     "status": "ok",
     "timestamp": 1636740546057,
     "user": {
      "displayName": "Eric Young",
      "photoUrl": "https://lh3.googleusercontent.com/a/default-user=s64",
      "userId": "14315698820705127118"
     },
     "user_tz": 420
    },
    "id": "HznE43i8Vl8e",
    "nbgrader": {
     "grade": true,
     "grade_id": "cell-4283b4d984204774",
     "locked": false,
     "points": 4,
     "schema_version": 3,
     "solution": true,
     "task": false
    },
    "outputId": "a0cf5f1e-9d4d-4dcc-9d8f-a1fbc2f38006"
   },
   "outputs": [
    {
     "data": {
      "text/html": [
       "<style>\n",
       ".list-inline {list-style: none; margin:0; padding: 0}\n",
       ".list-inline>li {display: inline-block}\n",
       ".list-inline>li:not(:last-child)::after {content: \"\\00b7\"; padding: 0 .5ex}\n",
       "</style>\n",
       "<ol class=list-inline><li>16.3780834346297</li><li>26.5819165653703</li></ol>\n"
      ],
      "text/latex": [
       "\\begin{enumerate*}\n",
       "\\item 16.3780834346297\n",
       "\\item 26.5819165653703\n",
       "\\end{enumerate*}\n"
      ],
      "text/markdown": [
       "1. 16.3780834346297\n",
       "2. 26.5819165653703\n",
       "\n",
       "\n"
      ],
      "text/plain": [
       "[1] 16.37808 26.58192"
      ]
     },
     "metadata": {},
     "output_type": "display_data"
    }
   ],
   "source": [
    "n = length(wcst$score); xbar = mean(wcst$score); s = sd(wcst$score); \n",
    "e = 1.96*(s/sqrt(n))\n",
    "ci = c(xbar - e, xbar + e); ci"
   ]
  },
  {
   "cell_type": "markdown",
   "metadata": {
    "id": "oNWf4uzwVl8f",
    "nbgrader": {
     "grade": false,
     "grade_id": "cell-118e330958e90df4",
     "locked": true,
     "schema_version": 3,
     "solution": false,
     "task": false
    }
   },
   "source": [
    "**B.3(d) Compute a 95% bootstrap pivot confidence interval for the mean.**"
   ]
  },
  {
   "cell_type": "code",
   "execution_count": null,
   "metadata": {
    "colab": {
     "base_uri": "https://localhost:8080/"
    },
    "executionInfo": {
     "elapsed": 198,
     "status": "ok",
     "timestamp": 1636740546248,
     "user": {
      "displayName": "Eric Young",
      "photoUrl": "https://lh3.googleusercontent.com/a/default-user=s64",
      "userId": "14315698820705127118"
     },
     "user_tz": 420
    },
    "id": "tHIu7zf7Vl8g",
    "nbgrader": {
     "grade": true,
     "grade_id": "cell-4efd5d306e9f69f8",
     "locked": false,
     "points": 4,
     "schema_version": 3,
     "solution": true,
     "task": false
    },
    "outputId": "313e1d9e-db59-4454-cb6d-ff8870b07648"
   },
   "outputs": [
    {
     "data": {
      "text/html": [
       "<style>\n",
       ".list-inline {list-style: none; margin:0; padding: 0}\n",
       ".list-inline>li {display: inline-block}\n",
       ".list-inline>li:not(:last-child)::after {content: \"\\00b7\"; padding: 0 .5ex}\n",
       "</style>\n",
       "<ol class=list-inline><li>16.1395</li><li>26.16</li></ol>\n"
      ],
      "text/latex": [
       "\\begin{enumerate*}\n",
       "\\item 16.1395\n",
       "\\item 26.16\n",
       "\\end{enumerate*}\n"
      ],
      "text/markdown": [
       "1. 16.1395\n",
       "2. 26.16\n",
       "\n",
       "\n"
      ],
      "text/plain": [
       "[1] 16.1395 26.1600"
      ]
     },
     "metadata": {},
     "output_type": "display_data"
    }
   ],
   "source": [
    "B = 5000; bs = replicate(B, sample(wcst$score, n, replace = TRUE))\n",
    "xbarstar = colMeans(bs)\n",
    "q = as.numeric(quantile(xbarstar, probs = c(0.025, 0.975)))\n",
    "l = 2*xbar - q[2]\n",
    "u = 2*xbar - q[1]\n",
    "ci2 = c(l,u); ci2"
   ]
  },
  {
   "cell_type": "markdown",
   "metadata": {
    "id": "Bk8Wbr5ZVl8h",
    "nbgrader": {
     "grade": false,
     "grade_id": "cell-61ca8c94f7321e0c",
     "locked": true,
     "schema_version": 3,
     "solution": false,
     "task": false
    }
   },
   "source": [
    "## Problem B.4 Bootstrap assumptions \n",
    "The dataset gives the number of births per month in New York city, from January 1946 to December 1959. The data are ordered.\n",
    "\n",
    "**B.4(a) Construct another column in the dataset that labels the month and year for each birth per month record.**\n",
    "\n",
    "The `as.Date()` function may help with this task."
   ]
  },
  {
   "cell_type": "code",
   "execution_count": null,
   "metadata": {
    "colab": {
     "base_uri": "https://localhost:8080/"
    },
    "executionInfo": {
     "elapsed": 1831,
     "status": "ok",
     "timestamp": 1636740548061,
     "user": {
      "displayName": "Eric Young",
      "photoUrl": "https://lh3.googleusercontent.com/a/default-user=s64",
      "userId": "14315698820705127118"
     },
     "user_tz": 420
    },
    "id": "Hz5Y6DI9Vl8k",
    "nbgrader": {
     "grade": false,
     "grade_id": "cell-3520e94f51ec4785",
     "locked": true,
     "schema_version": 3,
     "solution": false,
     "task": false
    },
    "outputId": "51fa3c9e-67cf-4021-f129-75296b45bd34"
   },
   "outputs": [
    {
     "name": "stderr",
     "output_type": "stream",
     "text": [
      "Warning message in system(\"timedatectl\", intern = TRUE):\n",
      "“running command 'timedatectl' had status 1”\n",
      "── \u001b[1mAttaching packages\u001b[22m ─────────────────────────────────────── tidyverse 1.3.1 ──\n",
      "\n",
      "\u001b[32m✔\u001b[39m \u001b[34mtibble \u001b[39m 3.1.5     \u001b[32m✔\u001b[39m \u001b[34mdplyr  \u001b[39m 1.0.7\n",
      "\u001b[32m✔\u001b[39m \u001b[34mtidyr  \u001b[39m 1.1.4     \u001b[32m✔\u001b[39m \u001b[34mstringr\u001b[39m 1.4.0\n",
      "\u001b[32m✔\u001b[39m \u001b[34mreadr  \u001b[39m 2.0.2     \u001b[32m✔\u001b[39m \u001b[34mforcats\u001b[39m 0.5.1\n",
      "\u001b[32m✔\u001b[39m \u001b[34mpurrr  \u001b[39m 0.3.4     \n",
      "\n",
      "── \u001b[1mConflicts\u001b[22m ────────────────────────────────────────── tidyverse_conflicts() ──\n",
      "\u001b[31m✖\u001b[39m \u001b[34mdplyr\u001b[39m::\u001b[32mfilter()\u001b[39m masks \u001b[34mstats\u001b[39m::filter()\n",
      "\u001b[31m✖\u001b[39m \u001b[34mdplyr\u001b[39m::\u001b[32mlag()\u001b[39m    masks \u001b[34mstats\u001b[39m::lag()\n",
      "\n"
     ]
    },
    {
     "data": {
      "text/html": [
       "<table class=\"dataframe\">\n",
       "<caption>A data.frame: 6 × 1</caption>\n",
       "<thead>\n",
       "\t<tr><th></th><th scope=col>births</th></tr>\n",
       "\t<tr><th></th><th scope=col>&lt;dbl&gt;</th></tr>\n",
       "</thead>\n",
       "<tbody>\n",
       "\t<tr><th scope=row>1</th><td>26.663</td></tr>\n",
       "\t<tr><th scope=row>2</th><td>23.598</td></tr>\n",
       "\t<tr><th scope=row>3</th><td>26.931</td></tr>\n",
       "\t<tr><th scope=row>4</th><td>24.740</td></tr>\n",
       "\t<tr><th scope=row>5</th><td>25.806</td></tr>\n",
       "\t<tr><th scope=row>6</th><td>24.364</td></tr>\n",
       "</tbody>\n",
       "</table>\n"
      ],
      "text/latex": [
       "A data.frame: 6 × 1\n",
       "\\begin{tabular}{r|l}\n",
       "  & births\\\\\n",
       "  & <dbl>\\\\\n",
       "\\hline\n",
       "\t1 & 26.663\\\\\n",
       "\t2 & 23.598\\\\\n",
       "\t3 & 26.931\\\\\n",
       "\t4 & 24.740\\\\\n",
       "\t5 & 25.806\\\\\n",
       "\t6 & 24.364\\\\\n",
       "\\end{tabular}\n"
      ],
      "text/markdown": [
       "\n",
       "A data.frame: 6 × 1\n",
       "\n",
       "| <!--/--> | births &lt;dbl&gt; |\n",
       "|---|---|\n",
       "| 1 | 26.663 |\n",
       "| 2 | 23.598 |\n",
       "| 3 | 26.931 |\n",
       "| 4 | 24.740 |\n",
       "| 5 | 25.806 |\n",
       "| 6 | 24.364 |\n",
       "\n"
      ],
      "text/plain": [
       "  births\n",
       "1 26.663\n",
       "2 23.598\n",
       "3 26.931\n",
       "4 24.740\n",
       "5 25.806\n",
       "6 24.364"
      ]
     },
     "metadata": {},
     "output_type": "display_data"
    }
   ],
   "source": [
    "library(tidyverse)\n",
    "library(ggplot2)\n",
    "births = read.table(\"https://robjhyndman.com/tsdldata/data/nybirths.dat\", sep = \"\\t\")\n",
    "births = data.frame(births)\n",
    "names(births) = \"births\"\n",
    "n = length(births$births)\n",
    "head(births)"
   ]
  },
  {
   "cell_type": "code",
   "execution_count": null,
   "metadata": {
    "colab": {
     "base_uri": "https://localhost:8080/"
    },
    "executionInfo": {
     "elapsed": 18,
     "status": "ok",
     "timestamp": 1636740548063,
     "user": {
      "displayName": "Eric Young",
      "photoUrl": "https://lh3.googleusercontent.com/a/default-user=s64",
      "userId": "14315698820705127118"
     },
     "user_tz": 420
    },
    "id": "4npgrpQoVl8l",
    "nbgrader": {
     "grade": true,
     "grade_id": "cell-0b166acdb60a6d8a",
     "locked": false,
     "points": 3,
     "schema_version": 3,
     "solution": true,
     "task": false
    },
    "outputId": "fb2eaa5c-67e6-4510-87bf-6492499a447d"
   },
   "outputs": [
    {
     "data": {
      "text/html": [
       "<table class=\"dataframe\">\n",
       "<caption>A tibble: 6 × 5</caption>\n",
       "<thead>\n",
       "\t<tr><th scope=col>births</th><th scope=col>month</th><th scope=col>day</th><th scope=col>year</th><th scope=col>date</th></tr>\n",
       "\t<tr><th scope=col>&lt;dbl&gt;</th><th scope=col>&lt;int&gt;</th><th scope=col>&lt;dbl&gt;</th><th scope=col>&lt;int&gt;</th><th scope=col>&lt;date&gt;</th></tr>\n",
       "</thead>\n",
       "<tbody>\n",
       "\t<tr><td>26.663</td><td>1</td><td>1</td><td>1946</td><td>1946-01-01</td></tr>\n",
       "\t<tr><td>23.598</td><td>2</td><td>1</td><td>1946</td><td>1946-02-01</td></tr>\n",
       "\t<tr><td>26.931</td><td>3</td><td>1</td><td>1946</td><td>1946-03-01</td></tr>\n",
       "\t<tr><td>24.740</td><td>4</td><td>1</td><td>1946</td><td>1946-04-01</td></tr>\n",
       "\t<tr><td>25.806</td><td>5</td><td>1</td><td>1946</td><td>1946-05-01</td></tr>\n",
       "\t<tr><td>24.364</td><td>6</td><td>1</td><td>1946</td><td>1946-06-01</td></tr>\n",
       "</tbody>\n",
       "</table>\n"
      ],
      "text/latex": [
       "A tibble: 6 × 5\n",
       "\\begin{tabular}{lllll}\n",
       " births & month & day & year & date\\\\\n",
       " <dbl> & <int> & <dbl> & <int> & <date>\\\\\n",
       "\\hline\n",
       "\t 26.663 & 1 & 1 & 1946 & 1946-01-01\\\\\n",
       "\t 23.598 & 2 & 1 & 1946 & 1946-02-01\\\\\n",
       "\t 26.931 & 3 & 1 & 1946 & 1946-03-01\\\\\n",
       "\t 24.740 & 4 & 1 & 1946 & 1946-04-01\\\\\n",
       "\t 25.806 & 5 & 1 & 1946 & 1946-05-01\\\\\n",
       "\t 24.364 & 6 & 1 & 1946 & 1946-06-01\\\\\n",
       "\\end{tabular}\n"
      ],
      "text/markdown": [
       "\n",
       "A tibble: 6 × 5\n",
       "\n",
       "| births &lt;dbl&gt; | month &lt;int&gt; | day &lt;dbl&gt; | year &lt;int&gt; | date &lt;date&gt; |\n",
       "|---|---|---|---|---|\n",
       "| 26.663 | 1 | 1 | 1946 | 1946-01-01 |\n",
       "| 23.598 | 2 | 1 | 1946 | 1946-02-01 |\n",
       "| 26.931 | 3 | 1 | 1946 | 1946-03-01 |\n",
       "| 24.740 | 4 | 1 | 1946 | 1946-04-01 |\n",
       "| 25.806 | 5 | 1 | 1946 | 1946-05-01 |\n",
       "| 24.364 | 6 | 1 | 1946 | 1946-06-01 |\n",
       "\n"
      ],
      "text/plain": [
       "  births month day year date      \n",
       "1 26.663 1     1   1946 1946-01-01\n",
       "2 23.598 2     1   1946 1946-02-01\n",
       "3 26.931 3     1   1946 1946-03-01\n",
       "4 24.740 4     1   1946 1946-04-01\n",
       "5 25.806 5     1   1946 1946-05-01\n",
       "6 24.364 6     1   1946 1946-06-01"
      ]
     },
     "metadata": {},
     "output_type": "display_data"
    }
   ],
   "source": [
    "births$month = rep(1:12, n/12)\n",
    "births$day = rep(1,n)\n",
    "births$year = rep(1946:1959, each = 12)\n",
    "births$date = with(births, sprintf(\"%d-%02d-%02d\", year, month, day))\n",
    "births = as_tibble(births)\n",
    "births$date = as.Date(births$date,\"%Y-%m-%d\")\n",
    "head(births)"
   ]
  },
  {
   "cell_type": "markdown",
   "metadata": {
    "id": "5K9zOuFOVl8m",
    "nbgrader": {
     "grade": false,
     "grade_id": "cell-e9171905926abe6d",
     "locked": true,
     "schema_version": 3,
     "solution": false,
     "task": false
    }
   },
   "source": [
    "**B.4(b) Construct a plot of births per month against the month/year column that you created in part (a). Analyze the plot. Do you notice anything interesting?**"
   ]
  },
  {
   "cell_type": "code",
   "execution_count": null,
   "metadata": {
    "colab": {
     "base_uri": "https://localhost:8080/"
    },
    "executionInfo": {
     "elapsed": 394,
     "status": "ok",
     "timestamp": 1636740548444,
     "user": {
      "displayName": "Eric Young",
      "photoUrl": "https://lh3.googleusercontent.com/a/default-user=s64",
      "userId": "14315698820705127118"
     },
     "user_tz": 420
    },
    "id": "TT661Zo0Vl8m",
    "nbgrader": {
     "grade": true,
     "grade_id": "cell-c0de487969e7c1dd",
     "locked": false,
     "points": 4,
     "schema_version": 3,
     "solution": true,
     "task": false
    },
    "outputId": "fdaaa1fe-5a42-45ac-814e-7b66d575b6f4",
    "scrolled": false
   },
   "outputs": [
    {
     "data": {
      "image/png": "[encoded data removed]",
      "text/plain": [
       "plot without title"
      ]
     },
     "metadata": {
      "image/png": {
       "height": 420,
       "width": 420
      }
     },
     "output_type": "display_data"
    }
   ],
   "source": [
    "p = ggplot(births, aes(x = date, y = births))\n",
    "p = p + geom_line() \n",
    "p = p + scale_x_date(date_breaks = \"2 years\" , date_labels = \"%b-%y\")\n",
    "p"
   ]
  },
  {
   "cell_type": "markdown",
   "metadata": {
    "id": "fq7XFVfwVl8n",
    "nbgrader": {
     "grade": false,
     "grade_id": "cell-e399c971da7c4ae0",
     "locked": true,
     "schema_version": 3,
     "solution": false,
     "task": false
    }
   },
   "source": [
    "**B.4(c) Suppose that your boss asked you to use the bootstrap to construct a confidence interval for the average number of births per month in New York city over the time period in the dataset. Write a short response to your boss describing why this confidence interval is not valid for these data.**"
   ]
  },
  {
   "cell_type": "markdown",
   "metadata": {
    "id": "Nvj9hG_ZVl8o",
    "nbgrader": {
     "grade": true,
     "grade_id": "cell-6b3f58d09570b74c",
     "locked": false,
     "points": 3,
     "schema_version": 3,
     "solution": true,
     "task": false
    }
   },
   "source": [
    "The bootstrap confidence interval would not be valid because the data are not independent and identically distributed. This is clear in the plot above. In particular, there is a clear trend in the mean of births, which violates the identically distributed assumption. The mean decreases from January 1946 to around January 1949, and then increases through December 1959."
   ]
  },
  {
   "cell_type": "markdown",
   "metadata": {
    "collapsed": true,
    "id": "pseu2TB5Vl8p",
    "nbgrader": {
     "grade": false,
     "grade_id": "cell-e12b58a002b7b61a",
     "locked": true,
     "schema_version": 3,
     "solution": false,
     "task": false
    }
   },
   "source": [
    "## B.5 Bootstrap hypothesis testing\n",
    "\n",
    "In this problem, we'll walk through a bootstrap hypothesis test.\n",
    "\n",
    "The newcomb dataset contains a numeric vector giving the ‘Third Series’ of measurements of the passage time of light recorded by Newcomb in 1882. The given values divided by 1000 plus 24 give the time in millionths of a second for light to traverse a known distance. The ‘true’ value is now considered to be 33.02.\n",
    "\n",
    "Our goal is to test the hypotheses that $$H_0: \\mu = 33.02 \\, \\, vs. \\, \\, \n",
    "H_1: \\mu \\ne 33.02.$$\n",
    "\n",
    "We will choose the $\\alpha = 0.05$ level, and use $\\bar{X}$ as the test statistic. \n",
    "\n",
    "**B.5(a) Load the newcomb data and decide whether you think it comes from a normal distribution.**"
   ]
  },
  {
   "cell_type": "code",
   "execution_count": null,
   "metadata": {
    "colab": {
     "base_uri": "https://localhost:8080/"
    },
    "executionInfo": {
     "elapsed": 27,
     "status": "ok",
     "timestamp": 1636740548448,
     "user": {
      "displayName": "Eric Young",
      "photoUrl": "https://lh3.googleusercontent.com/a/default-user=s64",
      "userId": "14315698820705127118"
     },
     "user_tz": 420
    },
    "id": "lL_3xi6WVl8q",
    "nbgrader": {
     "grade": false,
     "grade_id": "cell-fdbc1a0c56760b2e",
     "locked": true,
     "schema_version": 3,
     "solution": false,
     "task": false
    },
    "outputId": "de0ef067-ff1a-45bf-db84-782428e6d99d"
   },
   "outputs": [
    {
     "name": "stderr",
     "output_type": "stream",
     "text": [
      "\n",
      "Attaching package: ‘MASS’\n",
      "\n",
      "\n",
      "The following object is masked from ‘package:dplyr’:\n",
      "\n",
      "    select\n",
      "\n",
      "\n"
     ]
    },
    {
     "data": {
      "text/html": [
       "26.2121212121212"
      ],
      "text/latex": [
       "26.2121212121212"
      ],
      "text/markdown": [
       "26.2121212121212"
      ],
      "text/plain": [
       "[1] 26.21212"
      ]
     },
     "metadata": {},
     "output_type": "display_data"
    }
   ],
   "source": [
    "library(MASS)\n",
    "data(newcomb); n = length(newcomb); xbar = mean(newcomb); \n",
    "xbar\n",
    "df = data.frame(newcomb);"
   ]
  },
  {
   "cell_type": "code",
   "execution_count": null,
   "metadata": {
    "colab": {
     "base_uri": "https://localhost:8080/"
    },
    "executionInfo": {
     "elapsed": 200,
     "status": "ok",
     "timestamp": 1636740548628,
     "user": {
      "displayName": "Eric Young",
      "photoUrl": "https://lh3.googleusercontent.com/a/default-user=s64",
      "userId": "14315698820705127118"
     },
     "user_tz": 420
    },
    "id": "uH7a_GDUVl8s",
    "nbgrader": {
     "grade": true,
     "grade_id": "cell-b29eecf6aab36404",
     "locked": false,
     "points": 3,
     "schema_version": 3,
     "solution": true,
     "task": false
    },
    "outputId": "8f8bd7a8-20f3-483b-8998-3cc4c0209220"
   },
   "outputs": [
    {
     "data": {
      "text/plain": [
       "\n",
       "\tShapiro-Wilk normality test\n",
       "\n",
       "data:  newcomb\n",
       "W = 0.59115, p-value = 2.842e-12\n"
      ]
     },
     "metadata": {},
     "output_type": "display_data"
    },
    {
     "data": {
      "image/png": "[encoded data removed]",
      "text/plain": [
       "plot without title"
      ]
     },
     "metadata": {
      "image/png": {
       "height": 420,
       "width": 420
      }
     },
     "output_type": "display_data"
    }
   ],
   "source": [
    "library(ggplot2)\n",
    "ggplot(data = df)+\n",
    "geom_histogram(mapping = aes(x = newcomb), bins = 15)\n",
    "\n",
    "shapiro.test(newcomb)"
   ]
  },
  {
   "cell_type": "markdown",
   "metadata": {
    "id": "SLK18m-BVl8t",
    "nbgrader": {
     "grade": true,
     "grade_id": "cell-2ec19d5aa11b292c",
     "locked": false,
     "points": 2,
     "schema_version": 3,
     "solution": true,
     "task": false
    }
   },
   "source": [
    "The histogram does not look normal, and the Shapiro-Wilk test rejects the null that the data are from a normal population. \n"
   ]
  },
  {
   "cell_type": "markdown",
   "metadata": {
    "id": "_LNSu-UvVl8t",
    "nbgrader": {
     "grade": false,
     "grade_id": "cell-38fef07244170f0e",
     "locked": true,
     "schema_version": 3,
     "solution": false,
     "task": false
    }
   },
   "source": [
    "Now, since our test statistic is $\\bar{X}$, the CLT *might* help us. But maybe not. So, let's assume not (and we might see why later). We'll use the bootstrap to test our hypotheses.\n",
    "\n",
    "**B.5(b) Shift the data so that the mean is the value under the null.**"
   ]
  },
  {
   "cell_type": "code",
   "execution_count": null,
   "metadata": {
    "colab": {
     "base_uri": "https://localhost:8080/"
    },
    "executionInfo": {
     "elapsed": 25,
     "status": "ok",
     "timestamp": 1636740548632,
     "user": {
      "displayName": "Eric Young",
      "photoUrl": "https://lh3.googleusercontent.com/a/default-user=s64",
      "userId": "14315698820705127118"
     },
     "user_tz": 420
    },
    "id": "pl4bXe7OVl8u",
    "nbgrader": {
     "grade": true,
     "grade_id": "cell-844b1d7a787d714a",
     "locked": false,
     "points": 2,
     "schema_version": 3,
     "solution": true,
     "task": false
    },
    "outputId": "5e16a958-b5b2-420a-a986-315ec8839c94"
   },
   "outputs": [
    {
     "data": {
      "text/html": [
       "33.02"
      ],
      "text/latex": [
       "33.02"
      ],
      "text/markdown": [
       "33.02"
      ],
      "text/plain": [
       "[1] 33.02"
      ]
     },
     "metadata": {},
     "output_type": "display_data"
    }
   ],
   "source": [
    "newnewcomb = newcomb - xbar + 33.02; mean(newnewcomb)"
   ]
  },
  {
   "cell_type": "markdown",
   "metadata": {
    "id": "_EnpkRp3Vl8v",
    "nbgrader": {
     "grade": false,
     "grade_id": "cell-9dc78cb9babf35cc",
     "locked": true,
     "schema_version": 3,
     "solution": false,
     "task": false
    }
   },
   "source": [
    "This shifted data now serves as a stand in for our population under the null. We use it to resample from.\n",
    "\n",
    "**B.5(c) Resample with replacement from the data $B = 10^5$ times and calculate the mean for each sample. This is the bootstrap distribution of $\\bar{X}$.**"
   ]
  },
  {
   "cell_type": "code",
   "execution_count": null,
   "metadata": {
    "colab": {
     "base_uri": "https://localhost:8080/"
    },
    "executionInfo": {
     "elapsed": 2245,
     "status": "ok",
     "timestamp": 1636740550858,
     "user": {
      "displayName": "Eric Young",
      "photoUrl": "https://lh3.googleusercontent.com/a/default-user=s64",
      "userId": "14315698820705127118"
     },
     "user_tz": 420
    },
    "id": "vIouQ7VUVl8x",
    "nbgrader": {
     "grade": true,
     "grade_id": "cell-9be866a9ee3caaf0",
     "locked": false,
     "points": 6,
     "schema_version": 3,
     "solution": true,
     "task": false
    },
    "outputId": "06b47241-2cda-4b1d-e248-899a6429020f"
   },
   "outputs": [
    {
     "data": {
      "text/html": [
       "<style>\n",
       ".list-inline {list-style: none; margin:0; padding: 0}\n",
       ".list-inline>li {display: inline-block}\n",
       ".list-inline>li:not(:last-child)::after {content: \"\\00b7\"; padding: 0 .5ex}\n",
       "</style>\n",
       "<ol class=list-inline><li>66</li><li>100000</li></ol>\n"
      ],
      "text/latex": [
       "\\begin{enumerate*}\n",
       "\\item 66\n",
       "\\item 100000\n",
       "\\end{enumerate*}\n"
      ],
      "text/markdown": [
       "1. 66\n",
       "2. 100000\n",
       "\n",
       "\n"
      ],
      "text/plain": [
       "[1]     66 100000"
      ]
     },
     "metadata": {},
     "output_type": "display_data"
    },
    {
     "data": {
      "image/png": "[encoded data removed]",
      "text/plain": [
       "plot without title"
      ]
     },
     "metadata": {
      "image/png": {
       "height": 420,
       "width": 420
      }
     },
     "output_type": "display_data"
    }
   ],
   "source": [
    "set.seed(99199)\n",
    "B = 10^5; bs = replicate(B, sample(newnewcomb, n, replace = TRUE)); dim(bs)\n",
    "xbardist = colMeans(bs); \n",
    "xbardistst = (xbardist - mean(xbardist))/sd(xbardist)\n",
    "dfmeans = data.frame(xbardist)\n",
    "ggplot(data = dfmeans)+\n",
    "geom_histogram(mapping = aes(x = xbardist), bins = 15)"
   ]
  },
  {
   "cell_type": "markdown",
   "metadata": {
    "id": "96Qwu9vEVl8y",
    "nbgrader": {
     "grade": true,
     "grade_id": "cell-c172101c534ef7dd",
     "locked": false,
     "points": 0,
     "schema_version": 3,
     "solution": true,
     "task": false
    }
   },
   "source": [
    "Notice that the distribution here is skewed left, and thus, not quite normal. So, we were right not to use the \"normal theory\" result!"
   ]
  },
  {
   "cell_type": "markdown",
   "metadata": {
    "id": "_0TEuX5XVl8z",
    "nbgrader": {
     "grade": false,
     "grade_id": "cell-47ba4da1b8c98f07",
     "locked": true,
     "schema_version": 3,
     "solution": false,
     "task": false
    }
   },
   "source": [
    "The p-value is the probability of getting something more extreme than what we observed. 26.21--the observed sample mean--is $33.02 - 26.21 = 6.81$ units away from the mean under $H_0$. So our p-value is the probability of being more than 6.81 units away from 33.02.\n",
    "\n",
    "**B.5(d) Estimate this probability using the bootstrap distribution of $\\bar{X}$. Then, use the p-value to make a decision about the hypotheses.**"
   ]
  },
  {
   "cell_type": "code",
   "execution_count": null,
   "metadata": {
    "colab": {
     "base_uri": "https://localhost:8080/"
    },
    "executionInfo": {
     "elapsed": 28,
     "status": "ok",
     "timestamp": 1636740550859,
     "user": {
      "displayName": "Eric Young",
      "photoUrl": "https://lh3.googleusercontent.com/a/default-user=s64",
      "userId": "14315698820705127118"
     },
     "user_tz": 420
    },
    "id": "TKvGN8eSVl80",
    "nbgrader": {
     "grade": true,
     "grade_id": "cell-4ff663201a63b78f",
     "locked": false,
     "points": 4,
     "schema_version": 3,
     "solution": true,
     "task": false
    },
    "outputId": "26793b6a-069c-46ff-995f-8b450f621a7b"
   },
   "outputs": [
    {
     "name": "stdout",
     "output_type": "stream",
     "text": [
      "The p-value is 4e-05 ."
     ]
    }
   ],
   "source": [
    "dist = 33.02 - xbar\n",
    "cutOffLow = 33.02 - dist; cutOffHigh = 33.02 + dist\n",
    "pvalue = (sum(xbardist < cutOffLow) + sum(xbardist > cutOffHigh))/B\n",
    "cat(\"The p-value is\", pvalue,\".\")"
   ]
  },
  {
   "cell_type": "markdown",
   "metadata": {
    "id": "c0LUFCuZVl81",
    "nbgrader": {
     "grade": true,
     "grade_id": "cell-221860fe4a8129f7",
     "locked": false,
     "points": 3,
     "schema_version": 3,
     "solution": true,
     "task": false
    }
   },
   "source": [
    "Note that the p-value is less than $\\alpha = 0.05$, so we would reject $H_0$.  \n",
    "\n",
    "We can compare this to a t-test, but we should note that the t-test isn't appropriate because the normal population assumption isn't met."
   ]
  },
  {
   "cell_type": "code",
   "execution_count": null,
   "metadata": {
    "colab": {
     "base_uri": "https://localhost:8080/"
    },
    "executionInfo": {
     "elapsed": 24,
     "status": "ok",
     "timestamp": 1636740550861,
     "user": {
      "displayName": "Eric Young",
      "photoUrl": "https://lh3.googleusercontent.com/a/default-user=s64",
      "userId": "14315698820705127118"
     },
     "user_tz": 420
    },
    "id": "MP-MXSFjVl82",
    "nbgrader": {
     "grade": true,
     "grade_id": "cell-2ab2fac09d7597b0",
     "locked": false,
     "points": 0,
     "schema_version": 3,
     "solution": true,
     "task": false
    },
    "outputId": "1ca475a5-d139-4adf-c51b-f3187b78c47e",
    "scrolled": false
   },
   "outputs": [
    {
     "data": {
      "text/plain": [
       "\n",
       "\tOne Sample t-test\n",
       "\n",
       "data:  newcomb\n",
       "t = -5.1471, df = 65, p-value = 2.648e-06\n",
       "alternative hypothesis: true mean is not equal to 33.02\n",
       "95 percent confidence interval:\n",
       " 23.57059 28.85365\n",
       "sample estimates:\n",
       "mean of x \n",
       " 26.21212 \n"
      ]
     },
     "metadata": {},
     "output_type": "display_data"
    }
   ],
   "source": [
    "t.test(newcomb,alternative=\"two.sided\",mu=33.02)\n"
   ]
  },
  {
   "cell_type": "markdown",
   "metadata": {
    "id": "TC7s9nspVl83",
    "nbgrader": {
     "grade": false,
     "grade_id": "cell-fbbd7e27e8e974f7",
     "locked": true,
     "schema_version": 3,
     "solution": false,
     "task": false
    }
   },
   "source": [
    "## B.6 Other test statistics (extra practice, not graded)\n",
    "\n",
    "Let $X_1, ..., X_n \\stackrel{\\text{iid}}{\\text{~}} Exp(\\lambda)$. A company claims that the lifetime of their lightbulbs is longer than the lifetime of the leading brand, which is six years. You are going to test the hypothesis: $H_0 : \\mu \\leq 6, H_1 : \\mu > 6$. \n",
    "\n",
    "\n",
    "**B.6(a) Assume $n > 30$. We know from the CLT that $\\bar{X} ∼ N(\\mu, \\sigma^2/n)$.  Show that $n\\bar{X} ∼ N(n\\mu, n\\sigma^2)$.**"
   ]
  },
  {
   "cell_type": "markdown",
   "metadata": {
    "id": "Bd-AjBhaVl85",
    "nbgrader": {
     "grade": true,
     "grade_id": "cell-58557e0a47e9bfb1",
     "locked": false,
     "points": 0,
     "schema_version": 3,
     "solution": true,
     "task": false
    }
   },
   "source": [
    "$$E[X]=\\mu$$\n",
    "$$Var[X]=\\sigma^2/n$$\n",
    "$$E[nX]=nE[X]=n\\mu$$\n",
    "$$Var[nX]=n^2Var[X]=\\frac{n^2\\sigma^2}{n}=n\\sigma^2$$"
   ]
  },
  {
   "cell_type": "markdown",
   "metadata": {
    "id": "ULdWil4lVl85",
    "nbgrader": {
     "grade": false,
     "grade_id": "cell-d37aeddb84372d0e",
     "locked": true,
     "schema_version": 3,
     "solution": false,
     "task": false
    }
   },
   "source": [
    "**B.6(b) You are going to perform a hypothesis test using $\\sum_{i=1}^{n}X_i$ instead of $\\bar{X}$. What is your test statistic and decision rule for determining whether the null hypothesis should be rejected?**"
   ]
  },
  {
   "cell_type": "markdown",
   "metadata": {
    "id": "uVCiLGdPVl86",
    "nbgrader": {
     "grade": true,
     "grade_id": "cell-7a2e7b03f519a0f4",
     "locked": false,
     "points": 0,
     "schema_version": 3,
     "solution": true,
     "task": false
    }
   },
   "source": [
    "We know $\\sum_{i=1}^{n}X_i= n\\bar{X} $. This means we want to test how close this is to $n\\mu$, with the new standard deviation represented by $\\sqrt{n\\sigma^2}$. These are the values that will be used in the test statistic, shown below. \n",
    "\n",
    "$$z^*=\\frac{n\\bar{X}-n\\mu_0}{S\\sqrt{n}}$$\n",
    "\n",
    "The decision rule remains the same, since this test statistic will still represent a z value. \n",
    "\n",
    "$$ z^* > z_\\alpha $$"
   ]
  },
  {
   "cell_type": "markdown",
   "metadata": {
    "id": "2ndp7PGYVl86",
    "nbgrader": {
     "grade": false,
     "grade_id": "cell-d3cf03bcfae06424",
     "locked": true,
     "schema_version": 3,
     "solution": false,
     "task": false
    }
   },
   "source": [
    "**Part B.6(c) Perform the test of hypothesis with $\\alpha = 0.005$ using your test procedure, with $n = 45$, $\\sum_{i=1}^{n}X_i = 312.85$, and $s = 7.45$.**"
   ]
  },
  {
   "cell_type": "markdown",
   "metadata": {
    "id": "3s5XLs8bVl87",
    "nbgrader": {
     "grade": true,
     "grade_id": "cell-9eb052c8de350b51",
     "locked": false,
     "points": 0,
     "schema_version": 3,
     "solution": true,
     "task": false
    }
   },
   "source": [
    "$$z^*=\\frac{312.85-6(45)}{7.45\\sqrt{45}}= 0.8574 $$"
   ]
  },
  {
   "cell_type": "code",
   "execution_count": null,
   "metadata": {
    "colab": {
     "base_uri": "https://localhost:8080/"
    },
    "executionInfo": {
     "elapsed": 22,
     "status": "ok",
     "timestamp": 1636740550863,
     "user": {
      "displayName": "Eric Young",
      "photoUrl": "https://lh3.googleusercontent.com/a/default-user=s64",
      "userId": "14315698820705127118"
     },
     "user_tz": 420
    },
    "id": "aYuh2QolVl87",
    "nbgrader": {
     "grade": true,
     "grade_id": "cell-01afd5f51530c77f",
     "locked": false,
     "points": 0,
     "schema_version": 3,
     "solution": true,
     "task": false
    },
    "outputId": "810acf02-adfe-44b3-c6eb-1e3343979ed3"
   },
   "outputs": [
    {
     "data": {
      "text/html": [
       "-2.5758293035489"
      ],
      "text/latex": [
       "-2.5758293035489"
      ],
      "text/markdown": [
       "-2.5758293035489"
      ],
      "text/plain": [
       "[1] -2.575829"
      ]
     },
     "metadata": {},
     "output_type": "display_data"
    }
   ],
   "source": [
    "qnorm(0.005)"
   ]
  },
  {
   "cell_type": "markdown",
   "metadata": {
    "id": "1luayIRUVl88",
    "nbgrader": {
     "grade": true,
     "grade_id": "cell-34c141e16b3983e7",
     "locked": false,
     "points": 0,
     "schema_version": 3,
     "solution": true,
     "task": false
    }
   },
   "source": [
    "$$z_\\alpha=2.576$$\n",
    "$$z^*=0.8574 < 2.576 $$\n",
    "This the test statistic does not fall in the rejection region. So there is insufficient evidence to reject the null hypothesis. "
   ]
  },
  {
   "cell_type": "markdown",
   "metadata": {
    "id": "wpZtSlJaVl89",
    "nbgrader": {
     "grade": false,
     "grade_id": "cell-096a353cd2cf5a4e",
     "locked": true,
     "schema_version": 3,
     "solution": false,
     "task": false
    }
   },
   "source": [
    "**B.6 (d) What is the p-value of your test? Provide an interpretation of this p-value.**"
   ]
  },
  {
   "cell_type": "markdown",
   "metadata": {
    "id": "XUq07YgnVl89",
    "nbgrader": {
     "grade": true,
     "grade_id": "cell-386b69d009e07f78",
     "locked": false,
     "points": 0,
     "schema_version": 3,
     "solution": true,
     "task": false
    }
   },
   "source": [
    "The p value of this test, calculated in R, is shown below and is around 0.1956. This means that there is about a 20% chance of our data being as far or farther from the true mean under the null hypothesis. "
   ]
  },
  {
   "cell_type": "code",
   "execution_count": null,
   "metadata": {
    "colab": {
     "base_uri": "https://localhost:8080/"
    },
    "executionInfo": {
     "elapsed": 21,
     "status": "ok",
     "timestamp": 1636740550865,
     "user": {
      "displayName": "Eric Young",
      "photoUrl": "https://lh3.googleusercontent.com/a/default-user=s64",
      "userId": "14315698820705127118"
     },
     "user_tz": 420
    },
    "id": "kBoGv5SLVl8-",
    "nbgrader": {
     "grade": true,
     "grade_id": "cell-5c8c2a81db8c7604",
     "locked": false,
     "points": 0,
     "schema_version": 3,
     "solution": true,
     "task": false
    },
    "outputId": "cfd84ddf-b2ae-4a82-964d-1b6410de269a"
   },
   "outputs": [
    {
     "data": {
      "text/html": [
       "0.804388070349733"
      ],
      "text/latex": [
       "0.804388070349733"
      ],
      "text/markdown": [
       "0.804388070349733"
      ],
      "text/plain": [
       "[1] 0.8043881"
      ]
     },
     "metadata": {},
     "output_type": "display_data"
    },
    {
     "data": {
      "text/html": [
       "0.195611929650267"
      ],
      "text/latex": [
       "0.195611929650267"
      ],
      "text/markdown": [
       "0.195611929650267"
      ],
      "text/plain": [
       "[1] 0.1956119"
      ]
     },
     "metadata": {},
     "output_type": "display_data"
    }
   ],
   "source": [
    "pnorm(0.8574)\n",
    "1-pnorm(0.8574)"
   ]
  }
 ],
 "metadata": {
  "celltoolbar": "Create Assignment",
  "colab": {
   "name": "STAT5000_HW7-Solutions.ipynb",
   "provenance": []
  },
  "kernelspec": {
   "display_name": "R",
   "language": "R",
   "name": "ir"
  },
  "language_info": {
   "codemirror_mode": "r",
   "file_extension": ".r",
   "mimetype": "text/x-r-source",
   "name": "R",
   "pygments_lexer": "r",
   "version": "3.6.1"
  }
 },
 "nbformat": 4,
 "nbformat_minor": 1
}
