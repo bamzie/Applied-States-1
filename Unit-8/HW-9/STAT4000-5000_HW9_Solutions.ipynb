{
 "cells": [
  {
   "cell_type": "markdown",
   "metadata": {
    "id": "Ujd0rc46_dnq",
    "nbgrader": {
     "grade": false,
     "grade_id": "cell-eeb8b9d983446df1",
     "locked": true,
     "schema_version": 3,
     "solution": false,
     "task": false
    }
   },
   "source": [
    "# Homework #9\n",
    "\n",
    "**See Canvas for the HW #9 assignment and due date. This assignment is optional**. Complete all of the following problems. Ideally, the theoretical problems should be answered in a Markdown cell directly underneath the question. If you don't know LaTex/Markdown, you may submit separate handwritten solutions to the theoretical problems, but please see the [class scanning policy](https://docs.google.com/document/d/17y5ksolrn2rEuXYBv_3HeZhkPbYwt48UojNT1OvcB_w/edit?usp=sharing). Please do not turn in messy work. Computational problems should be completed in this notebook (using the R kernel). Computational questions may require code, plots, analysis, interpretation, etc. Working in small groups is allowed, but it is important that you make an effort to master the material and hand in your own work. "
   ]
  },
  {
   "cell_type": "markdown",
   "metadata": {
    "id": "JJoHBER8_doB",
    "nbgrader": {
     "grade": false,
     "grade_id": "cell-25843854fabf772d",
     "locked": true,
     "schema_version": 3,
     "solution": false,
     "task": false
    }
   },
   "source": [
    "## A. Theoretical Problems"
   ]
  },
  {
   "cell_type": "markdown",
   "metadata": {
    "id": "N7g917cP_doG",
    "nbgrader": {
     "grade": false,
     "grade_id": "cell-2e3d58bc55641ceb",
     "locked": true,
     "schema_version": 3,
     "solution": false,
     "task": false
    }
   },
   "source": [
    "## A.1 [8 points] Gamma/Exponential\n",
    "\n",
    "**Let $X_1,...,X_n \\overset{iid}{\\sim} Exp(\\lambda)$, and let the prior distribution on $\\lambda$ be given by $\\lambda \\sim \\Gamma(\\alpha, \\beta)$. Find the posterior distribution of $\\lambda$ given the data.**\n",
    "\n",
    "(HINT: You can just compute the numerator of Bayes' theorem, and notice that the form of the result, up to a constant (with respect to $\\lambda$) takes a known pdf form.)\n",
    "\n",
    "Note: \n",
    "\n",
    "The convention in this course will be to interpret $\\Gamma(\\alpha, \\beta)$ as the \"shape/rate\" [parameterization](https://en.wikipedia.org/wiki/Gamma_distribution): If $Y \\sim \\Gamma(\\alpha, \\beta)$ then the pdf of $Y$ is given by \n",
    "\n",
    "\\begin{align*}\n",
    "f(y \\, | \\, \\alpha, \\beta) = \\frac{\\beta^\\alpha}{\\Gamma(\\alpha)}y^{\\alpha -1}e^{-\\beta y}, \\,\\,\\,\\,\\, y >0, \\,\\, \\alpha > 0, \\,\\, \\beta >0.\n",
    "\\end{align*}\n",
    "\n",
    "Above, $\\Gamma(\\alpha)$ is the [Gamma function](https://en.wikipedia.org/wiki/Gamma_function) of $\\alpha$. In the Gamma distribution, $\\Gamma(\\alpha)$ is just a normalizing constant, and so you do not need to compute it explicitly (just leave it as $\\Gamma(\\alpha)$)."
   ]
  },
  {
   "cell_type": "markdown",
   "metadata": {
    "nbgrader": {
     "grade": true,
     "grade_id": "cell-89d699bbbfe430e2",
     "locked": false,
     "points": 8,
     "schema_version": 3,
     "solution": true,
     "task": false
    }
   },
   "source": [
    "Note that the prior distribution function is given by \n",
    "\n",
    "\\begin{align*}\n",
    "\\pi(\\lambda) =  \\frac{\\beta^\\alpha}{\\Gamma(\\alpha)}\\lambda^{\\alpha -1}e^{-\\beta \\lambda}, \\,\\,\\,\\,\\, \\lambda >0, \\,\\, \\alpha > 0, \\,\\, \\beta >0,\n",
    "\\end{align*}\n",
    "\n",
    "and the likliehood is given by\n",
    "\n",
    "\\begin{align*}\n",
    "f(\\mathbf{x} \\, | \\, \\alpha, \\beta) = \\lambda^ne^{-\\lambda n \\bar{x}}\n",
    "\\end{align*}\n",
    "\n",
    "Thus, for prior $\\pi(\\lambda)$, the posterior is given, up to a normalizing constant, by:\n",
    "\n",
    "\\begin{align*}\n",
    "\\pi(\\lambda \\, | \\, \\mathbf{x}) &\\propto f(\\mathbf{x} \\, | \\, \\alpha, \\beta)\\pi(\\lambda) = \\left(\\lambda^ne^{-\\lambda n \\bar{x}}\\right)\\left(\\frac{\\beta^\\alpha}{\\Gamma(\\alpha)}\\lambda^{\\alpha -1}e^{-\\beta \\lambda}\\right) \\\\\n",
    "&\\propto \\frac{\\beta^\\alpha}{\\Gamma(\\alpha)}\\lambda^{n + \\alpha -1}e^{-(n\\bar{x} + \\beta)\\lambda}\n",
    "\\end{align*}\n",
    "\n",
    "Up to a normalizing constant, this is a Gamma distribution. Thus, $\\lambda \\, | \\, \\mathbf{x} \\sim \\Gamma(n + \\alpha, \\, n\\bar{x} + \\beta)$"
   ]
  },
  {
   "cell_type": "markdown",
   "metadata": {
    "id": "aSCL87We_doH",
    "nbgrader": {
     "grade": false,
     "grade_id": "cell-8d63ae4c3d2fab40",
     "locked": true,
     "schema_version": 3,
     "solution": false,
     "task": false
    }
   },
   "source": [
    "## B. Computational Problems"
   ]
  },
  {
   "cell_type": "markdown",
   "metadata": {
    "nbgrader": {
     "grade": false,
     "grade_id": "cell-a0f676f2cd09554f",
     "locked": true,
     "schema_version": 3,
     "solution": false,
     "task": false
    }
   },
   "source": [
    "## B.1 Poisson inference\n",
    "\n",
    "Suppose that the number of species discovered each year is thought to be Poission distributed with rate parameter $\\lambda$; that is, for year $t$, $X_t \\, | \\, \\lambda \\overset{iid}{\\sim} Poisson(\\lambda)$. We can use Bayesian inference with real data, $\\mathbf{x}$, to estimate the true $\\lambda$. Suppose that our prior distribution on $\\lambda$ is uniform between $0$ and $100$; that is, $\\lambda \\sim U(0,100)$. Further, suppose that, from 2010 to 2015, the number of new species discovered per year (in ascending order) is recorded as $\\mathbf{x} = (64,13,33,18,30,20)$. Our goal in this problem will be to plot the posterior distribution of $\\lambda \\, | \\, \\mathbf{x}$.\n",
    "\n",
    "**B.1(a) [2 points] First, construct a grid of $m =500$ values for $\\lambda$ between $0$ and $100$. Then, compute the prior density at each value of $\\lambda$, (denoated $\\pi(\\lambda)$).**"
   ]
  },
  {
   "cell_type": "code",
   "execution_count": 4,
   "metadata": {
    "nbgrader": {
     "grade": true,
     "grade_id": "cell-06873ab5dc42a698",
     "locked": false,
     "points": 2,
     "schema_version": 3,
     "solution": true,
     "task": false
    }
   },
   "outputs": [
    {
     "data": {
      "text/html": [
       "500"
      ],
      "text/latex": [
       "500"
      ],
      "text/markdown": [
       "500"
      ],
      "text/plain": [
       "[1] 500"
      ]
     },
     "metadata": {},
     "output_type": "display_data"
    }
   ],
   "source": [
    "lambda = seq(0,100,length.out = 500); length(lambda)\n",
    "prior = dunif(lambda, 0, 100)"
   ]
  },
  {
   "cell_type": "markdown",
   "metadata": {
    "nbgrader": {
     "grade": false,
     "grade_id": "cell-626d80afcfbe5878",
     "locked": true,
     "schema_version": 3,
     "solution": false,
     "task": false
    }
   },
   "source": [
    "**B.1(b) [5 points] Then, construct the likelihood function for `x = c(64,13,33,18,30,20)` (denoted $f(\\mathbf{x} \\, | \\, \\lambda)$ ). Remember, since our data are iid, the likelihood function is the product of the marginal pmfs, with the data fixed at $x$, and with $\\lambda$ as a variable.**\n",
    "\n",
    "HINT: You can start with `likelihood = 1`. Then write a loop over `t = 1:6`, where, on each iteration, you multiply `likelihood` by the pmf of the Poisson for the $t^{th}$ data point given $\\lambda $ (for the `lambda` constructed in B.1(a))."
   ]
  },
  {
   "cell_type": "code",
   "execution_count": 5,
   "metadata": {
    "nbgrader": {
     "grade": true,
     "grade_id": "cell-e1e2a4993946aa28",
     "locked": false,
     "points": 5,
     "schema_version": 3,
     "solution": true,
     "task": false
    }
   },
   "outputs": [],
   "source": [
    "x = c(64,13,33,18,30,20)\n",
    "likelihood = 1\n",
    "for(t in 1:6){likelihood=likelihood*dpois(x[t],lambda)}\n"
   ]
  },
  {
   "cell_type": "markdown",
   "metadata": {
    "nbgrader": {
     "grade": false,
     "grade_id": "cell-f15ffb96e2152cf1",
     "locked": true,
     "schema_version": 3,
     "solution": false,
     "task": false
    }
   },
   "source": [
    "**B.1(c) [6 points] Compute and plot the posterior distribution of $\\lambda \\, | \\, \\mathbf{x}$. Comment on the shape of the distribution.**\n",
    "\n",
    "Here, the posterior distribution, denoted $\\pi(\\lambda \\, | \\, \\mathbf{x} )$, is given by\n",
    "\n",
    "\\begin{align*}\n",
    "\\pi(\\lambda \\, | \\, \\mathbf{x} ) = \\frac{f(\\mathbf{x} \\, | \\, \\lambda )\\pi(\\lambda) }{\\sum^{500}_{i = 1}f(\\mathbf{x} \\, | \\, \\lambda_i )\\pi(\\lambda_i)},\n",
    "\\end{align*}\n",
    "\n",
    "where $\\displaystyle\\sum^{500}_{i = 1}f(\\mathbf{x} \\, | \\, \\lambda_i )\\pi(\\lambda_i)$ is the sum of the likelihood times the prior over all values of $\\lambda$ in `lambda` from part B.1(a)."
   ]
  },
  {
   "cell_type": "code",
   "execution_count": 6,
   "metadata": {
    "nbgrader": {
     "grade": true,
     "grade_id": "cell-27b9beb35e7b02e3",
     "locked": false,
     "points": 5,
     "schema_version": 3,
     "solution": true,
     "task": false
    }
   },
   "outputs": [
    {
     "data": {
      "text/html": [
       "1"
      ],
      "text/latex": [
       "1"
      ],
      "text/markdown": [
       "1"
      ],
      "text/plain": [
       "[1] 1"
      ]
     },
     "metadata": {},
     "output_type": "display_data"
    },
    {
     "data": {
      "image/png": "[encoded data removed]",
      "text/plain": [
       "plot without title"
      ]
     },
     "metadata": {},
     "output_type": "display_data"
    }
   ],
   "source": [
    "posterior = likelihood*prior/sum(likelihood*prior); sum(posterior)\n",
    "plot(lambda, posterior, type = \"l\")"
   ]
  },
  {
   "cell_type": "markdown",
   "metadata": {
    "nbgrader": {
     "grade": true,
     "grade_id": "cell-df35da9c59c7ed8d",
     "locked": false,
     "points": 1,
     "schema_version": 3,
     "solution": true,
     "task": false
    }
   },
   "source": [
    "It looks relatively normal, centered arounc $30$."
   ]
  },
  {
   "cell_type": "markdown",
   "metadata": {
    "id": "MSxBEO62K_uN",
    "nbgrader": {
     "grade": false,
     "grade_id": "cell-2247018971e8b2f4",
     "locked": true,
     "schema_version": 3,
     "solution": false,
     "task": false
    }
   },
   "source": [
    "# B.2 Maximum likelihood vs Bayesian inference\n",
    "\n",
    "Imagine that, before class, I rolled a six-sided die and secretly recorded the outcome; this number is the target, $T$. Your goal in this problem is to guess $T$. \n",
    "\n",
    "There’s some evidence to take into account, however. Imagine that, after setting $T$, I roll the same six-sided die $10$ times. I don’t let you see how it lands, but each time I tell you (accurately) whether the number you just rolled was greater than, equal to, or less than $T$. After $10$ trials, you must guess what the target is. Here is the outcome of those $10$ trials:\n",
    "\n",
    "$\\mathbf{x} = (G, G, G, E, L, G, L, E, G, E)$\n",
    "\n",
    "where \n",
    "- $G$ = the roll was greater than $T$\n",
    "- $L$ = the roll was less than $T$, and \n",
    "- $E$ = the roll was equal to $T$.\n",
    "\n",
    "Let's use Bayes' theorem to come up with a strategy for guessing $T$."
   ]
  },
  {
   "cell_type": "markdown",
   "metadata": {
    "id": "g6xRlkd2K_uR",
    "nbgrader": {
     "grade": false,
     "grade_id": "cell-655b20dbbd0fd8fa",
     "locked": true,
     "schema_version": 3,
     "solution": false,
     "task": false
    }
   },
   "source": [
    "Bayes' theorem tells us that, for $t = 1,...,6$:\n",
    "\n",
    "\\begin{align*}\n",
    "P(T = t \\, | \\, \\mathbf{x}) = \\frac{P(\\mathbf{x} \\, | \\, T = t)P(T=t)}{P(\\mathbf{x})}  = \\frac{P(\\mathbf{x} \\, | \\, T = t)P(T=t)}{\\sum^6_{t=1} P(\\mathbf{x} \\, | \\, T = t)P(T=t)},\n",
    "\\end{align*}\n",
    "\n",
    "where \n",
    "\n",
    "- $P(\\mathbf{x} \\, | \\, T = t)$ is the *likelihood function* of the data conditioned on $T = t$.\n",
    "\n",
    "- $P(T=t)$ is the *prior distribution* on $T=t$. Because I rolled the die in my office, the probability that $T=t$ for $t = 1,...,6$ is $P(T=t) = 1/6$. \n",
    "\n",
    "- $P(\\mathbf{x}) = \\sum^6_{t=1} P(\\mathbf{x} \\, | \\, T = t)P(T=t)$ is the probability of the *evidence*. The equality is given by the Law of Total Probability. \n",
    "\n",
    "- $P(T = t \\, | \\, \\mathbf{x})$ is the *posterior probability* of $T = t$ given the observations $\\mathbf{x}$.\n",
    "\n",
    "In order to compute the likelihood function for a given $T=t$, we'll need to calculate the probabilities of being less than ($p_l$), equal to ($p_e$), or greater than ($p_g$), $T = t$. \n",
    "\n",
    "For example, if $T = 1$, then $p_l = 0$ because it is not possible to roll less than a $1$. $p_e = 1/6$, because that's the probability of rolling a $1$. And $p_g = 5*(1/6) = 5/6$, because rolling greater than $1$ means rolling a $2$ **or** a $3$ **or** ... a $6$. The word **or** suggests summing each of the probabilities, and since each face has probability $1/6$, we multiply by $5$.\n",
    "\n",
    "**B.2(a) [6 points] Write down general formula for $P(l \\, | \\, T = t)$, $P(e \\, | \\, T = t)$, and $P(g \\, | \\, T = t)$. This question is asking for a mathematical expression, not R code.**"
   ]
  },
  {
   "cell_type": "markdown",
   "metadata": {
    "nbgrader": {
     "grade": true,
     "grade_id": "cell-247ba8f16f787b09",
     "locked": false,
     "points": 6,
     "schema_version": 3,
     "solution": true,
     "task": false
    }
   },
   "source": [
    "The reasoning above suggests a general formula: for $t = 1,...,6$:\n",
    "\n",
    "\\begin{align*}\n",
    "P(l \\, | \\, T = t) &= (t-1)\\frac{1}{6} \\\\\n",
    "P(e \\, | \\, T = t) &= \\frac{1}{6} \\\\\n",
    "P(g \\, | \\, T = t) &= (6-t)\\frac{1}{6}\n",
    "\\end{align*}\n",
    "\n",
    "The cell below is an R function that takes in $T$ and calculates these probabilities."
   ]
  },
  {
   "cell_type": "markdown",
   "metadata": {
    "nbgrader": {
     "grade": false,
     "grade_id": "cell-56245db92125dd5e",
     "locked": true,
     "schema_version": 3,
     "solution": false,
     "task": false
    }
   },
   "source": [
    "**B.2(b) [3 points] Now, write an R function, called `p`, that takes in a value of $T$ and returns $P(l \\, | \\, T = t)$, $P(e \\, | \\, T = t)$, and $P(g \\, | \\, T = t)$.**"
   ]
  },
  {
   "cell_type": "code",
   "execution_count": 7,
   "metadata": {
    "id": "E0zD6u6vK_uR",
    "nbgrader": {
     "grade": true,
     "grade_id": "cell-e164cfffb6a23f03",
     "locked": false,
     "points": 3,
     "schema_version": 3,
     "solution": true,
     "task": false
    }
   },
   "outputs": [],
   "source": [
    "p = function(T){\n",
    "    p_l = (1/6)*(T-1); p_e = 1/6; p_g = (1/6)*(6-T)\n",
    "    p = c(p_l, p_e, p_g)\n",
    "    return(p)\n",
    "}"
   ]
  },
  {
   "cell_type": "markdown",
   "metadata": {
    "id": "K7xeW9BWK_uT",
    "nbgrader": {
     "grade": false,
     "grade_id": "cell-8c61d356eae717d7",
     "locked": true,
     "schema_version": 3,
     "solution": false,
     "task": false
    }
   },
   "source": [
    "Next, calculate the likelihood function for a given $T=t$ together (we don't quite know how to do this on our own...yet).\n",
    "\n",
    "Note that all of our rolls are independent, so the likelihood function - which is a joint probability density function (pdf) of the data given $T = t$ - is the product of the marginal pdfs, interpreted as a function of $t$.\n",
    "\n",
    "**B.2(c) [4 points] Write down the likelihood function for our data, $\\mathbf{x}$, given above in the problem description.**"
   ]
  },
  {
   "cell_type": "markdown",
   "metadata": {
    "nbgrader": {
     "grade": true,
     "grade_id": "cell-1d535a99a5c7cf7d",
     "locked": false,
     "points": 4,
     "schema_version": 3,
     "solution": true,
     "task": false
    }
   },
   "source": [
    "For our $\\mathbf{x} = (G, G, G, E, L, G, L, E, G, E)$, the likelihood is:\n",
    "\n",
    "$$P(\\mathbf{x} \\, | \\, T = t ) = \\left[P(g \\, | \\, T = t)\\right]^3P(e \\, | \\, T = t)P(l \\, | \\, T = t)P(g \\, | \\, T = t)P(l \\, | \\, T = t)P(e \\, | \\, T = t)P(g \\, | \\, T = t)P(e \\, | \\, T = t).$$\n",
    "\n",
    "Here's an R function that computes this likelihood function for a given $T$:"
   ]
  },
  {
   "cell_type": "markdown",
   "metadata": {
    "nbgrader": {
     "grade": false,
     "grade_id": "cell-c8e62fbc4c923c6b",
     "locked": true,
     "schema_version": 3,
     "solution": false,
     "task": false
    }
   },
   "source": [
    "**B.2(d) [4 points] Now, write an R function, called `likelihood`, that takes in a value of $T$ and returns the likelihood function.**"
   ]
  },
  {
   "cell_type": "code",
   "execution_count": 8,
   "metadata": {
    "id": "11nZnGg8K_uT",
    "nbgrader": {
     "grade": true,
     "grade_id": "cell-a7d1a43a0e38b082",
     "locked": false,
     "points": 4,
     "schema_version": 3,
     "solution": true,
     "task": false
    }
   },
   "outputs": [],
   "source": [
    "likelihood = function(T){\n",
    "    pp = p(T) #set the correct probabilities for l, g, and e\n",
    "    l = pp[3]^3*pp[2]*pp[1]*pp[3]*pp[1]*pp[2]*pp[3]*pp[2]\n",
    "    return(l)\n",
    "    }"
   ]
  },
  {
   "cell_type": "markdown",
   "metadata": {
    "id": "GsMMiQNxK_uU",
    "nbgrader": {
     "grade": false,
     "grade_id": "cell-76d5ffce4b669071",
     "locked": true,
     "schema_version": 3,
     "solution": false,
     "task": false
    }
   },
   "source": [
    "**B.2(e) [4 points] Now, compute the probability of the data/evidence, $P(\\mathbf{x}) = \\sum^6_{t=1} P(\\mathbf{x} \\, | \\, T = t)P(T=t)$. (Note that this is tricky in general, since it requires that we change $T$, and thus change $p_l$, $p_e$, and $p_g$. Luckily, we wrote a function to do that above and took it into account in our likelihood function!)**"
   ]
  },
  {
   "cell_type": "code",
   "execution_count": 9,
   "metadata": {
    "id": "6JG9u2BFK_uU",
    "nbgrader": {
     "grade": true,
     "grade_id": "cell-c1b832eb65215f32",
     "locked": false,
     "points": 4,
     "schema_version": 3,
     "solution": true,
     "task": false
    }
   },
   "outputs": [],
   "source": [
    "prior = 1/6\n",
    "\n",
    "evidence = 1/6*(likelihood(1)+likelihood(2)\n",
    "            +likelihood(3)+likelihood(4)+likelihood(5)+likelihood(6));"
   ]
  },
  {
   "cell_type": "markdown",
   "metadata": {
    "id": "sDsvQuqvK_uU",
    "nbgrader": {
     "grade": false,
     "grade_id": "cell-a986cb2c0ad3b062",
     "locked": true,
     "schema_version": 3,
     "solution": false,
     "task": false
    }
   },
   "source": [
    "**B.2(f) [7 points] Now we have all of the components for computing the posterior. So, compute the posterior for each $T=t$ and plot it using a bar chart.**"
   ]
  },
  {
   "cell_type": "code",
   "execution_count": 10,
   "metadata": {
    "nbgrader": {
     "grade": true,
     "grade_id": "cell-e0594d065a5d975e",
     "locked": false,
     "points": 7,
     "schema_version": 3,
     "solution": true,
     "task": false
    }
   },
   "outputs": [
    {
     "name": "stderr",
     "output_type": "stream",
     "text": [
      "Registered S3 methods overwritten by 'ggplot2':\n",
      "  method         from \n",
      "  [.quosures     rlang\n",
      "  c.quosures     rlang\n",
      "  print.quosures rlang\n"
     ]
    },
    {
     "data": {
      "text/html": [
       "<table>\n",
       "<thead><tr><th scope=col>side</th><th scope=col>post_prob</th></tr></thead>\n",
       "<tbody>\n",
       "\t<tr><td>1          </td><td>0.000000000</td></tr>\n",
       "\t<tr><td>2          </td><td>0.445217391</td></tr>\n",
       "\t<tr><td>3          </td><td>0.422608696</td></tr>\n",
       "\t<tr><td>4          </td><td>0.125217391</td></tr>\n",
       "\t<tr><td>5          </td><td>0.006956522</td></tr>\n",
       "\t<tr><td>6          </td><td>0.000000000</td></tr>\n",
       "</tbody>\n",
       "</table>\n"
      ],
      "text/latex": [
       "\\begin{tabular}{r|ll}\n",
       " side & post\\_prob\\\\\n",
       "\\hline\n",
       "\t 1           & 0.000000000\\\\\n",
       "\t 2           & 0.445217391\\\\\n",
       "\t 3           & 0.422608696\\\\\n",
       "\t 4           & 0.125217391\\\\\n",
       "\t 5           & 0.006956522\\\\\n",
       "\t 6           & 0.000000000\\\\\n",
       "\\end{tabular}\n"
      ],
      "text/markdown": [
       "\n",
       "| side | post_prob |\n",
       "|---|---|\n",
       "| 1           | 0.000000000 |\n",
       "| 2           | 0.445217391 |\n",
       "| 3           | 0.422608696 |\n",
       "| 4           | 0.125217391 |\n",
       "| 5           | 0.006956522 |\n",
       "| 6           | 0.000000000 |\n",
       "\n"
      ],
      "text/plain": [
       "  side post_prob  \n",
       "1 1    0.000000000\n",
       "2 2    0.445217391\n",
       "3 3    0.422608696\n",
       "4 4    0.125217391\n",
       "5 5    0.006956522\n",
       "6 6    0.000000000"
      ]
     },
     "metadata": {},
     "output_type": "display_data"
    },
    {
     "data": {
      "image/png": "[encoded data removed]",
      "text/plain": [
       "plot without title"
      ]
     },
     "metadata": {},
     "output_type": "display_data"
    }
   ],
   "source": [
    "posterior = matrix(NA, nrow = 6)\n",
    "for (T in 1:6){\n",
    "    posterior[T] = likelihood(T)*prior/evidence; \n",
    "    }\n",
    "\n",
    "library(ggplot2)\n",
    "\n",
    "df = data.frame(side = 1:6, post_prob = posterior)\n",
    "df\n",
    "ggplot(data=df, aes(x=side, y=post_prob)) +\n",
    "  geom_bar(stat=\"identity\") + \n",
    "    ylim(c(0,1)) + \n",
    "    xlab(\"Side\") +\n",
    "    theme_bw()"
   ]
  },
  {
   "cell_type": "markdown",
   "metadata": {
    "id": "AjrNKsuvK_uW",
    "nbgrader": {
     "grade": false,
     "grade_id": "cell-c7c80503d61c84db",
     "locked": true,
     "schema_version": 3,
     "solution": false,
     "task": false
    }
   },
   "source": [
    "**B.2(g) [4 points] Interpret the posterior distribution from the previous part. What value of $T$ would you guess and why? How does did your belief update from your prior?**"
   ]
  },
  {
   "cell_type": "markdown",
   "metadata": {
    "nbgrader": {
     "grade": true,
     "grade_id": "cell-2fa15fbb79591275",
     "locked": false,
     "points": 4,
     "schema_version": 3,
     "solution": true,
     "task": false
    }
   },
   "source": [
    "Well, we started out with a belief that any value of $T$ was as likely as any other, based on the way fair dice function. Then, we had some evidence, i.e., $\\mathbf{x}$. That evidence was relevant, and it changed our probabilities about $T$. It made $2$ most likely, $3$ almost as likely, and $4$ somewhat likely, with $1$, $5%, and $6$ pretty unlikely.\n",
    "\n",
    "\n",
    "The nice thing about this method is that it not only provides a *guess* for $T$, i.e., $T = 2$, but it also gives a confidence measure, quantified in terms of probabilities. You might say that you are $\\approx 45\\%$ confident that $T = 2$."
   ]
  },
  {
   "cell_type": "markdown",
   "metadata": {
    "id": "IesUtV2WK_uW",
    "nbgrader": {
     "grade": false,
     "grade_id": "cell-a00ccd5a66b9fa77",
     "locked": true,
     "schema_version": 3,
     "solution": false,
     "task": false
    }
   },
   "source": [
    "**B.2(h) [6 points] Another strategy, as you know, is maximum likelihood estimation (MLE). MLE says that our best guess about $T$ should be the value of $T$ that maximizes the likelihood function over all values of $T$ ($1,...,6$). Calculate the MLE for the data $\\mathbf{x}$. In the first (markdown) cell, give a mathematical description of MLE for this problem. In the second (R) cell, compute the MLE.**\n"
   ]
  },
  {
   "cell_type": "markdown",
   "metadata": {
    "nbgrader": {
     "grade": true,
     "grade_id": "cell-48c58905bfbf272b",
     "locked": false,
     "points": 3,
     "schema_version": 3,
     "solution": true,
     "task": false
    }
   },
   "source": [
    "Luckily, we've already found the likelihood function. So MLE is just a matter of computing $P(\\mathbf{x} \\, ; \\, T = t)$ for $t = 1,...,6$, and choosing the \"argmax\", i.e., the value of $T = t$ that gives the highest probability. We can do this easily in R:"
   ]
  },
  {
   "cell_type": "code",
   "execution_count": 11,
   "metadata": {
    "id": "lsm-d8eTK_uW",
    "nbgrader": {
     "grade": true,
     "grade_id": "cell-fbd41b397fc38a0e",
     "locked": false,
     "points": 3,
     "schema_version": 3,
     "solution": true,
     "task": false
    },
    "outputId": "6515f40b-383f-4dd1-ca67-cd8f679c8cc6"
   },
   "outputs": [
    {
     "data": {
      "text/html": [
       "0"
      ],
      "text/latex": [
       "0"
      ],
      "text/markdown": [
       "0"
      ],
      "text/plain": [
       "[1] 0"
      ]
     },
     "metadata": {},
     "output_type": "display_data"
    },
    {
     "data": {
      "text/html": [
       "1.69350878084303e-05"
      ],
      "text/latex": [
       "1.69350878084303e-05"
      ],
      "text/markdown": [
       "1.69350878084303e-05"
      ],
      "text/plain": [
       "[1] 1.693509e-05"
      ]
     },
     "metadata": {},
     "output_type": "display_data"
    },
    {
     "data": {
      "text/html": [
       "1.60751028806584e-05"
      ],
      "text/latex": [
       "1.60751028806584e-05"
      ],
      "text/markdown": [
       "1.60751028806584e-05"
      ],
      "text/plain": [
       "[1] 1.60751e-05"
      ]
     },
     "metadata": {},
     "output_type": "display_data"
    },
    {
     "data": {
      "text/html": [
       "4.76299344612102e-06"
      ],
      "text/latex": [
       "4.76299344612102e-06"
      ],
      "text/markdown": [
       "4.76299344612102e-06"
      ],
      "text/plain": [
       "[1] 4.762993e-06"
      ]
     },
     "metadata": {},
     "output_type": "display_data"
    },
    {
     "data": {
      "text/html": [
       "2.64610747006723e-07"
      ],
      "text/latex": [
       "2.64610747006723e-07"
      ],
      "text/markdown": [
       "2.64610747006723e-07"
      ],
      "text/plain": [
       "[1] 2.646107e-07"
      ]
     },
     "metadata": {},
     "output_type": "display_data"
    },
    {
     "data": {
      "text/html": [
       "0"
      ],
      "text/latex": [
       "0"
      ],
      "text/markdown": [
       "0"
      ],
      "text/plain": [
       "[1] 0"
      ]
     },
     "metadata": {},
     "output_type": "display_data"
    }
   ],
   "source": [
    "#t = 1\n",
    "likelihood(1)\n",
    "#t = 2\n",
    "likelihood(2)\n",
    "#t = 3\n",
    "likelihood(3)\n",
    "#t = 4 ***\n",
    "likelihood(4)\n",
    "#t = 5\n",
    "likelihood(5)\n",
    "#t = 6\n",
    "likelihood(6)\n"
   ]
  },
  {
   "cell_type": "markdown",
   "metadata": {
    "nbgrader": {
     "grade": false,
     "grade_id": "cell-1e8ece908a63ec04",
     "locked": true,
     "schema_version": 3,
     "solution": false,
     "task": false
    }
   },
   "source": [
    "**B.2(i) [7 points] Now change your prior to be `prior = c(1/6, 1/6, 2/6, 1/6,1/6, 0)` and recompute the posterior distribution. Do you have a different guess? What might justify this prior? Can maximum likelihood estimation take into account this kind of adjustment?**"
   ]
  },
  {
   "cell_type": "code",
   "execution_count": 12,
   "metadata": {
    "nbgrader": {
     "grade": true,
     "grade_id": "cell-e5fcacbc61c392ff",
     "locked": false,
     "points": 4,
     "schema_version": 3,
     "solution": true,
     "task": false
    }
   },
   "outputs": [
    {
     "data": {
      "text/html": [
       "1"
      ],
      "text/latex": [
       "1"
      ],
      "text/markdown": [
       "1"
      ],
      "text/plain": [
       "[1] 1"
      ]
     },
     "metadata": {},
     "output_type": "display_data"
    },
    {
     "data": {
      "text/html": [
       "<table>\n",
       "<thead><tr><th scope=col>side</th><th scope=col>post_prob</th></tr></thead>\n",
       "<tbody>\n",
       "\t<tr><td>1          </td><td>0.000000000</td></tr>\n",
       "\t<tr><td>2          </td><td>0.312958435</td></tr>\n",
       "\t<tr><td>3          </td><td>0.594132029</td></tr>\n",
       "\t<tr><td>4          </td><td>0.088019560</td></tr>\n",
       "\t<tr><td>5          </td><td>0.004889976</td></tr>\n",
       "\t<tr><td>6          </td><td>0.000000000</td></tr>\n",
       "</tbody>\n",
       "</table>\n"
      ],
      "text/latex": [
       "\\begin{tabular}{r|ll}\n",
       " side & post\\_prob\\\\\n",
       "\\hline\n",
       "\t 1           & 0.000000000\\\\\n",
       "\t 2           & 0.312958435\\\\\n",
       "\t 3           & 0.594132029\\\\\n",
       "\t 4           & 0.088019560\\\\\n",
       "\t 5           & 0.004889976\\\\\n",
       "\t 6           & 0.000000000\\\\\n",
       "\\end{tabular}\n"
      ],
      "text/markdown": [
       "\n",
       "| side | post_prob |\n",
       "|---|---|\n",
       "| 1           | 0.000000000 |\n",
       "| 2           | 0.312958435 |\n",
       "| 3           | 0.594132029 |\n",
       "| 4           | 0.088019560 |\n",
       "| 5           | 0.004889976 |\n",
       "| 6           | 0.000000000 |\n",
       "\n"
      ],
      "text/plain": [
       "  side post_prob  \n",
       "1 1    0.000000000\n",
       "2 2    0.312958435\n",
       "3 3    0.594132029\n",
       "4 4    0.088019560\n",
       "5 5    0.004889976\n",
       "6 6    0.000000000"
      ]
     },
     "metadata": {},
     "output_type": "display_data"
    },
    {
     "data": {
      "image/png": "[encoded data removed]",
      "text/plain": [
       "plot without title"
      ]
     },
     "metadata": {},
     "output_type": "display_data"
    }
   ],
   "source": [
    "prior = c(1/6, 1/6, 2/6, 1/6,1/6, 0); sum(prior)\n",
    "\n",
    "evidence = prior[1]*likelihood(1) + prior[2]*likelihood(2)+ prior[3]*likelihood(3) + prior[4]*likelihood(4) + prior[5]*likelihood(5) + prior[6]*likelihood(6)\n",
    "\n",
    "posterior = matrix(NA, nrow = 6)\n",
    "for (T in 1:6){\n",
    "    posterior[T] = likelihood(T)*prior[T]/evidence; \n",
    "    }\n",
    "\n",
    "library(ggplot2)\n",
    "\n",
    "df = data.frame(side = 1:6, post_prob = posterior)\n",
    "df\n",
    "ggplot(data=df, aes(x=side, y=post_prob)) +\n",
    "  geom_bar(stat=\"identity\") + \n",
    "    ylim(c(0,1)) + \n",
    "    xlab(\"Side\") +\n",
    "    theme_bw()"
   ]
  },
  {
   "cell_type": "markdown",
   "metadata": {
    "nbgrader": {
     "grade": true,
     "grade_id": "cell-ec9ebd6aa0850988",
     "locked": false,
     "points": 3,
     "schema_version": 3,
     "solution": true,
     "task": false
    }
   },
   "source": [
    "- Our guess is now $T = 3$.\n",
    "- This prior may be justified, if, for example, we have prior information that $T = 3$ is more likely.\n",
    "- Maximum likelihood estimation does not formally take into account prior information, so it cannot take into account this adjustment."
   ]
  },
  {
   "cell_type": "markdown",
   "metadata": {
    "nbgrader": {
     "grade": false,
     "grade_id": "cell-02418bc18a32aed3",
     "locked": true,
     "schema_version": 3,
     "solution": false,
     "task": false
    }
   },
   "source": [
    "## B.3 Normal conjugate example\n",
    "\n",
    "Suppose Company $A$ is considering using recycled cobalt in the smartphone batteries that it produces. Denote the true mean battery life (run time on a full charge) as $\\mu$.  Company $A$ would like to know if there is evidence to strongly suggest that $\\mu$ exceeds or falls short of $24$ hours ($24$ hours is the true mean battery life of the battery currently in use). Researchers' prior beliefs about the population mean can be represented by a normal distribution, centered at $\\theta = 24$, with variance $\\tau^2 = 4$. That is: $\\mu \\sim N(24, 4)$.\n",
    "\n",
    "Suppose the researchers at company $A$ tests $n = 25$ randomly selected phones with the recycled cobalt. Denote the battery life of phones in a possible sample as $X_1,...,X_n$. Assume that the standard deviation of times is $\\sigma = 1$) For this particular sample, the data $x_1,...,x_n$ were measured as:\n",
    "\n",
    "\\begin{align*}\n",
    "&25.0, \\, 23.8,\\, 23.3, \\,24.0, \\,24.5, \\,25.3, \\,22.4, \\,25.1, \\,20.3, \\,22.3, \\,25.4, \\,22.9, \\,24.4, \\,24.9, \\,24.3, \\\\\n",
    "&23.0, \\,24.7, \\,24.7, \\,23.5, \\,23.9, \\,24.7, \\,25.4, \\,23.9, \\,23.1, \\,23.0. \\\\\n",
    "\\end{align*}\n"
   ]
  },
  {
   "cell_type": "code",
   "execution_count": 10,
   "metadata": {
    "nbgrader": {
     "grade": false,
     "grade_id": "cell-259fef461e0f55b3",
     "locked": true,
     "schema_version": 3,
     "solution": false,
     "task": false
    }
   },
   "outputs": [
    {
     "data": {
      "text/html": [
       "23.912"
      ],
      "text/latex": [
       "23.912"
      ],
      "text/markdown": [
       "23.912"
      ],
      "text/plain": [
       "[1] 23.912"
      ]
     },
     "metadata": {},
     "output_type": "display_data"
    }
   ],
   "source": [
    "x = c(25.0, 23.8, 23.3, 24.0, 24.5, 25.3, 22.4, 25.1, 20.3, 22.3, 25.4, 22.9, 24.4, 24.9, 24.3, 23.0, 24.7, 24.7, 23.5, 23.9, 24.7, 25.4, 23.9, 23.1, 23.0)\n",
    "mean(x)"
   ]
  },
  {
   "cell_type": "markdown",
   "metadata": {
    "nbgrader": {
     "grade": false,
     "grade_id": "cell-6c63bea7c50583ad",
     "locked": true,
     "schema_version": 3,
     "solution": false,
     "task": false
    }
   },
   "source": [
    "**B.3(a) [6 points] Compute the posterior distribution mean and variance of $\\mu \\, | \\, \\mathbf{x}$ using the conjugate prior result from class. What would be a reasonable point estimate for $\\mu$ given the data?**"
   ]
  },
  {
   "cell_type": "code",
   "execution_count": 11,
   "metadata": {
    "nbgrader": {
     "grade": true,
     "grade_id": "cell-878c265209d8e948",
     "locked": false,
     "points": 6,
     "schema_version": 3,
     "solution": true,
     "task": false
    }
   },
   "outputs": [
    {
     "data": {
      "text/html": [
       "23.9128712871287"
      ],
      "text/latex": [
       "23.9128712871287"
      ],
      "text/markdown": [
       "23.9128712871287"
      ],
      "text/plain": [
       "[1] 23.91287"
      ]
     },
     "metadata": {},
     "output_type": "display_data"
    },
    {
     "data": {
      "text/html": [
       "0.0396039603960396"
      ],
      "text/latex": [
       "0.0396039603960396"
      ],
      "text/markdown": [
       "0.0396039603960396"
      ],
      "text/plain": [
       "[1] 0.03960396"
      ]
     },
     "metadata": {},
     "output_type": "display_data"
    }
   ],
   "source": [
    "theta = 24; tau = 2; n = 25; sigma = 1\n",
    "xbar = mean(x)\n",
    "post_mu = (n*xbar*sigma^(-2) + theta*tau^(-2))/(n*sigma^(-2) + tau^(-2))\n",
    "\n",
    "post_sig2 = 1/(n/sigma^2 + 1/tau^2)\n",
    "\n",
    "post_mu; post_sig2"
   ]
  },
  {
   "cell_type": "markdown",
   "metadata": {
    "nbgrader": {
     "grade": false,
     "grade_id": "cell-2857583ae88f4e70",
     "locked": true,
     "schema_version": 3,
     "solution": false,
     "task": false
    }
   },
   "source": [
    "**B.3(b) [9 points] On the same plot, plot the prior distribution and posterior distribution. What do you notice about this plot?**"
   ]
  },
  {
   "cell_type": "code",
   "execution_count": 12,
   "metadata": {
    "nbgrader": {
     "grade": true,
     "grade_id": "cell-69990f939ad161ec",
     "locked": false,
     "points": 6,
     "schema_version": 3,
     "solution": true,
     "task": false
    }
   },
   "outputs": [
    {
     "data": {
      "image/png": "[encoded data removed]",
      "text/plain": [
       "plot without title"
      ]
     },
     "metadata": {},
     "output_type": "display_data"
    }
   ],
   "source": [
    "library(ggplot2)\n",
    "mu_grid = seq(21,26, length.out = 300)\n",
    "\n",
    "df = data.frame(mu = mu_grid, y_prior = dnorm(mu_grid, theta, tau), \n",
    "                y_post = dnorm(mu_grid, post_mu, sqrt(post_sig2)))\n",
    "\n",
    "ggplot(df) +\n",
    "    geom_line(aes(x = mu, y = y_prior), col = \"#CFB87C\") + \n",
    "    geom_line(aes(x = mu, y = y_post)) +\n",
    "    xlab(expression(mu)) +\n",
    "    ylab(\"Density\") +\n",
    "    theme_bw()"
   ]
  },
  {
   "cell_type": "markdown",
   "metadata": {
    "nbgrader": {
     "grade": true,
     "grade_id": "cell-7890cbe6e7770457",
     "locked": false,
     "points": 3,
     "schema_version": 3,
     "solution": true,
     "task": false
    }
   },
   "source": []
  },
  {
   "cell_type": "markdown",
   "metadata": {
    "nbgrader": {
     "grade": false,
     "grade_id": "cell-a4315e6eb367ff66",
     "locked": true,
     "schema_version": 3,
     "solution": false,
     "task": false
    }
   },
   "source": [
    "**B.3(c) [4 points] Compute a $95\\%$ credible interval for $\\mu$ given the data. Interpret this interval. In particular, do we have evidence to suggest that $\\mu = 24$?**"
   ]
  },
  {
   "cell_type": "code",
   "execution_count": 13,
   "metadata": {
    "nbgrader": {
     "grade": true,
     "grade_id": "cell-bd8b847e8bac80ba",
     "locked": false,
     "points": 4,
     "schema_version": 3,
     "solution": true,
     "task": false
    }
   },
   "outputs": [
    {
     "data": {
      "text/html": [
       "<ol class=list-inline>\n",
       "\t<li>23.5228238759108</li>\n",
       "\t<li>24.3029186983466</li>\n",
       "</ol>\n"
      ],
      "text/latex": [
       "\\begin{enumerate*}\n",
       "\\item 23.5228238759108\n",
       "\\item 24.3029186983466\n",
       "\\end{enumerate*}\n"
      ],
      "text/markdown": [
       "1. 23.5228238759108\n",
       "2. 24.3029186983466\n",
       "\n",
       "\n"
      ],
      "text/plain": [
       "[1] 23.52282 24.30292"
      ]
     },
     "metadata": {},
     "output_type": "display_data"
    }
   ],
   "source": [
    "qnorm(c(0.025, 0.975), post_mu, sqrt(post_sig2))"
   ]
  },
  {
   "cell_type": "markdown",
   "metadata": {
    "nbgrader": {
     "grade": false,
     "grade_id": "cell-73a3e6f4f0219718",
     "locked": true,
     "schema_version": 3,
     "solution": false,
     "task": false
    }
   },
   "source": [
    "**B.3(d) [8 points] Now, suppose instead that prior to the experiment, researchers believed that $\\theta = 13$ was the center of the prior distribution, with $\\tau^2 = 1$. Compute the posterior distribution for this prior (for the same data as above), reproduce the plots from above, and describe the difference between this posterior and the one from previous parts.**"
   ]
  },
  {
   "cell_type": "code",
   "execution_count": 29,
   "metadata": {
    "nbgrader": {
     "grade": true,
     "grade_id": "cell-e185c3e4b1502edd",
     "locked": false,
     "points": 6,
     "schema_version": 3,
     "solution": true,
     "task": false
    }
   },
   "outputs": [
    {
     "data": {
      "text/html": [
       "23.4923076923077"
      ],
      "text/latex": [
       "23.4923076923077"
      ],
      "text/markdown": [
       "23.4923076923077"
      ],
      "text/plain": [
       "[1] 23.49231"
      ]
     },
     "metadata": {},
     "output_type": "display_data"
    },
    {
     "data": {
      "text/html": [
       "0.0384615384615385"
      ],
      "text/latex": [
       "0.0384615384615385"
      ],
      "text/markdown": [
       "0.0384615384615385"
      ],
      "text/plain": [
       "[1] 0.03846154"
      ]
     },
     "metadata": {},
     "output_type": "display_data"
    },
    {
     "data": {
      "image/png": "[encoded data removed]",
      "text/plain": [
       "plot without title"
      ]
     },
     "metadata": {},
     "output_type": "display_data"
    }
   ],
   "source": [
    "theta = 13; tau = 1; n = 25; sigma = 1\n",
    "xbar = mean(x)\n",
    "post_mu = (n*xbar*sigma^(-2) + theta*tau^(-2))/(n*sigma^(-2) + tau^(-2))\n",
    "\n",
    "post_sig2 = 1/(n/sigma^2 + 1/tau^2)\n",
    "\n",
    "post_mu; post_sig2\n",
    "\n",
    "mu_grid = seq(18,25, length.out = 300)\n",
    "\n",
    "df = data.frame(mu = mu_grid, y_prior = dnorm(mu_grid, theta, tau), \n",
    "                y_post = dnorm(mu_grid, post_mu, sqrt(post_sig2)))\n",
    "\n",
    "ggplot(df) +\n",
    "    geom_line(aes(x = mu, y = y_prior), col = \"#CFB87C\") + \n",
    "    geom_line(aes(x = mu, y = y_post)) +\n",
    "    xlab(expression(mu)) +\n",
    "    ylab(\"Density\") +\n",
    "    theme_bw()"
   ]
  },
  {
   "cell_type": "markdown",
   "metadata": {
    "nbgrader": {
     "grade": true,
     "grade_id": "cell-89870db2b84f333c",
     "locked": false,
     "points": 2,
     "schema_version": 3,
     "solution": true,
     "task": false
    }
   },
   "source": []
  },
  {
   "cell_type": "markdown",
   "metadata": {
    "nbgrader": {
     "grade": false,
     "grade_id": "cell-d626af7821772afe",
     "locked": true,
     "schema_version": 3,
     "solution": false,
     "task": false
    }
   },
   "source": [
    "**B.3(e) [4 points] Compute a credible interval for this new posterior distribution. Interpret this interval. In particular, do we have evidence to suggest that $\\mu = 24$?**"
   ]
  },
  {
   "cell_type": "code",
   "execution_count": 30,
   "metadata": {
    "nbgrader": {
     "grade": true,
     "grade_id": "cell-fbf1b26bfc5c39e4",
     "locked": false,
     "points": 4,
     "schema_version": 3,
     "solution": true,
     "task": false
    }
   },
   "outputs": [
    {
     "data": {
      "text/html": [
       "<ol class=list-inline>\n",
       "\t<li>23.1079271306497</li>\n",
       "\t<li>23.8766882539657</li>\n",
       "</ol>\n"
      ],
      "text/latex": [
       "\\begin{enumerate*}\n",
       "\\item 23.1079271306497\n",
       "\\item 23.8766882539657\n",
       "\\end{enumerate*}\n"
      ],
      "text/markdown": [
       "1. 23.1079271306497\n",
       "2. 23.8766882539657\n",
       "\n",
       "\n"
      ],
      "text/plain": [
       "[1] 23.10793 23.87669"
      ]
     },
     "metadata": {},
     "output_type": "display_data"
    }
   ],
   "source": [
    "qnorm(c(0.025, 0.975), post_mu, sqrt(post_sig2))"
   ]
  },
  {
   "cell_type": "markdown",
   "metadata": {
    "nbgrader": {
     "grade": false,
     "grade_id": "cell-87e27f3b7ba45c81",
     "locked": true,
     "schema_version": 3,
     "solution": false,
     "task": false
    }
   },
   "source": [
    "**B.3(f) [3 points] What might be worrisome about the difference between the credible interval inferences made above? Does Bayesian inference suffer from issues related to [researcher degrees of freedom](https://en.wikipedia.org/wiki/Researcher_degrees_of_freedom)?**"
   ]
  },
  {
   "cell_type": "markdown",
   "metadata": {
    "nbgrader": {
     "grade": true,
     "grade_id": "cell-58953a34cce05e36",
     "locked": false,
     "points": 3,
     "schema_version": 3,
     "solution": true,
     "task": false
    }
   },
   "source": [
    "Yes, Bayesian inference can suffer from researcher degrees of freedom, since (even though they aren't supposed to!) researchers can adjust their prior distribution to get a desired posterior result."
   ]
  },
  {
   "cell_type": "code",
   "execution_count": 26,
   "metadata": {},
   "outputs": [
    {
     "data": {
      "text/html": [
       "0.733430296619931"
      ],
      "text/latex": [
       "0.733430296619931"
      ],
      "text/markdown": [
       "0.733430296619931"
      ],
      "text/plain": [
       "[1] 0.7334303"
      ]
     },
     "metadata": {},
     "output_type": "display_data"
    }
   ],
   "source": [
    "1.64*(1/sqrt(5))"
   ]
  }
 ],
 "metadata": {
  "celltoolbar": "Create Assignment",
  "colab": {
   "name": "STAT4000-5000_HW8_Solutions.ipynb",
   "provenance": []
  },
  "kernelspec": {
   "display_name": "R",
   "language": "R",
   "name": "ir"
  },
  "language_info": {
   "codemirror_mode": "r",
   "file_extension": ".r",
   "mimetype": "text/x-r-source",
   "name": "R",
   "pygments_lexer": "r",
   "version": "3.6.1"
  }
 },
 "nbformat": 4,
 "nbformat_minor": 1
}
