{
 "cells": [
  {
   "cell_type": "markdown",
   "metadata": {
    "deletable": false,
    "editable": false,
    "id": "Ujd0rc46_dnq",
    "nbgrader": {
     "cell_type": "markdown",
     "checksum": "017a0e3f72c8f3d878af48cd8d5784b9",
     "grade": false,
     "grade_id": "cell-eeb8b9d983446df1",
     "locked": true,
     "schema_version": 3,
     "solution": false,
     "task": false
    }
   },
   "source": [
    "# Homework #9\n",
    "\n",
    "**See Canvas for the HW #9 assignment and due date. This assignment is optional**. Complete all of the following problems. Ideally, the theoretical problems should be answered in a Markdown cell directly underneath the question. If you don't know LaTex/Markdown, you may submit separate handwritten solutions to the theoretical problems, but please see the [class scanning policy](https://docs.google.com/document/d/17y5ksolrn2rEuXYBv_3HeZhkPbYwt48UojNT1OvcB_w/edit?usp=sharing). Please do not turn in messy work. Computational problems should be completed in this notebook (using the R kernel). Computational questions may require code, plots, analysis, interpretation, etc. Working in small groups is allowed, but it is important that you make an effort to master the material and hand in your own work. "
   ]
  },
  {
   "cell_type": "markdown",
   "metadata": {
    "deletable": false,
    "editable": false,
    "id": "JJoHBER8_doB",
    "nbgrader": {
     "cell_type": "markdown",
     "checksum": "02a934bccc77a49a699113b5d175dd50",
     "grade": false,
     "grade_id": "cell-25843854fabf772d",
     "locked": true,
     "schema_version": 3,
     "solution": false,
     "task": false
    }
   },
   "source": [
    "## A. Theoretical Problems"
   ]
  },
  {
   "cell_type": "markdown",
   "metadata": {
    "deletable": false,
    "editable": false,
    "id": "N7g917cP_doG",
    "nbgrader": {
     "cell_type": "markdown",
     "checksum": "794ca2cdbe3876e0f0c9af7a003a3553",
     "grade": false,
     "grade_id": "cell-2e3d58bc55641ceb",
     "locked": true,
     "schema_version": 3,
     "solution": false,
     "task": false
    }
   },
   "source": [
    "## A.1 [8 points] Gamma/Exponential\n",
    "\n",
    "**Let $X_1,...,X_n \\overset{iid}{\\sim} Exp(\\lambda)$, and let the prior distribution on $\\lambda$ be given by $\\lambda \\sim \\Gamma(\\alpha, \\beta)$. Find the posterior distribution of $\\lambda$ given the data.**\n",
    "\n",
    "(HINT: You can just compute the numerator of Bayes' theorem, and notice that the form of the result, up to a constant (with respect to $\\lambda$) takes a known pdf form.)\n",
    "\n",
    "Note: \n",
    "\n",
    "The convention in this course will be to interpret $\\Gamma(\\alpha, \\beta)$ as the \"shape/rate\" [parameterization](https://en.wikipedia.org/wiki/Gamma_distribution): If $Y \\sim \\Gamma(\\alpha, \\beta)$ then the pdf of $Y$ is given by \n",
    "\n",
    "\\begin{align*}\n",
    "f(y \\, | \\, \\alpha, \\beta) = \\frac{\\beta^\\alpha}{\\Gamma(\\alpha)}y^{\\alpha -1}e^{-\\beta y}, \\,\\,\\,\\,\\, y >0, \\,\\, \\alpha > 0, \\,\\, \\beta >0.\n",
    "\\end{align*}\n",
    "\n",
    "Above, $\\Gamma(\\alpha)$ is the [Gamma function](https://en.wikipedia.org/wiki/Gamma_function) of $\\alpha$. In the Gamma distribution, $\\Gamma(\\alpha)$ is just a normalizing constant, and so you do not need to compute it explicitly (just leave it as $\\Gamma(\\alpha)$)."
   ]
  },
  {
   "cell_type": "markdown",
   "metadata": {
    "deletable": false,
    "nbgrader": {
     "cell_type": "markdown",
     "checksum": "3c493e8c6acf2507cab0003b7bf5276d",
     "grade": true,
     "grade_id": "cell-89d699bbbfe430e2",
     "locked": false,
     "points": 8,
     "schema_version": 3,
     "solution": true,
     "task": false
    }
   },
   "source": [
    "Prior Distribution: $$\\pi(\\lambda|\\alpha, \\beta) = \\frac{\\beta^{\\alpha}}{\\Gamma(\\alpha)}\\lambda^{\\alpha -1}e^{-\\beta \\lambda}$$ \n",
    "\n",
    "Likelihood: \n",
    "$$\n",
    "    f(x_i|\\lambda) = \\prod^n_{i=1} \\lambda e^{-\\lambda x_i} = \\lambda^n e^{\\lambda \\sum^n_{i=1}} = \\lambda^n e^{\\lambda n\\bar{x}}\n",
    "$$\n",
    "\n",
    "Posterior: \n",
    "$$\n",
    "    \\pi(\\lambda | y ) \\propto f(x_i | \\lambda) \\pi(x|\\alpha, \\beta)\n",
    "    = \\lambda^n e^{\\lambda n\\bar{x}} \\cdot \\lambda^{\\alpha -1}e^{-\\beta \\lambda} \\\\\n",
    "    = \\lambda^{n + \\alpha -1} e^{-\\lambda (n\\bar{x} - \\beta)} \n",
    "$$"
   ]
  },
  {
   "cell_type": "markdown",
   "metadata": {
    "deletable": false,
    "editable": false,
    "id": "aSCL87We_doH",
    "nbgrader": {
     "cell_type": "markdown",
     "checksum": "5b84c237401182d6b508601f643e7639",
     "grade": false,
     "grade_id": "cell-8d63ae4c3d2fab40",
     "locked": true,
     "schema_version": 3,
     "solution": false,
     "task": false
    }
   },
   "source": [
    "## B. Computational Problems"
   ]
  },
  {
   "cell_type": "markdown",
   "metadata": {
    "deletable": false,
    "editable": false,
    "nbgrader": {
     "cell_type": "markdown",
     "checksum": "0f7642a5454f3c9119ca582075673513",
     "grade": false,
     "grade_id": "cell-a0f676f2cd09554f",
     "locked": true,
     "schema_version": 3,
     "solution": false,
     "task": false
    }
   },
   "source": [
    "## B.1 Poisson inference\n",
    "\n",
    "Suppose that the number of species discovered each year is thought to be Poission distributed with rate parameter $\\lambda$; that is, for year $t$, $X_t \\, | \\, \\lambda \\overset{iid}{\\sim} Poisson(\\lambda)$. We can use Bayesian inference with real data, $\\mathbf{x}$, to estimate the true $\\lambda$. Suppose that our prior distribution on $\\lambda$ is uniform between $0$ and $100$; that is, $\\lambda \\sim U(0,100)$. Further, suppose that, from 2010 to 2015, the number of new species discovered per year (in ascending order) is recorded as $\\mathbf{x} = (64,13,33,18,30,20)$. Our goal in this problem will be to plot the posterior distribution of $\\lambda \\, | \\, \\mathbf{x}$.\n",
    "\n",
    "**B.1(a) [2 points] First, construct a grid of $m =500$ values for $\\lambda$ between $0$ and $100$. Then, compute the prior density at each value of $\\lambda$, (denoated $\\pi(\\lambda)$).**"
   ]
  },
  {
   "cell_type": "code",
   "execution_count": 49,
   "metadata": {
    "deletable": false,
    "nbgrader": {
     "cell_type": "code",
     "checksum": "056e22313669c3992a8e26b72f389d82",
     "grade": true,
     "grade_id": "cell-06873ab5dc42a698",
     "locked": false,
     "points": 2,
     "schema_version": 3,
     "solution": true,
     "task": false
    }
   },
   "outputs": [],
   "source": [
    "library(ggplot2)\n",
    "m = 500; \n",
    "lam = seq(0, 100, length = m); \n",
    "prior = dunif(lam, 0, 100)"
   ]
  },
  {
   "cell_type": "markdown",
   "metadata": {
    "deletable": false,
    "editable": false,
    "nbgrader": {
     "cell_type": "markdown",
     "checksum": "e8c31c214db39954a053d5e0f7099083",
     "grade": false,
     "grade_id": "cell-626d80afcfbe5878",
     "locked": true,
     "schema_version": 3,
     "solution": false,
     "task": false
    }
   },
   "source": [
    "**B.1(b) [5 points] Then, construct the likelihood function for `x = c(64,13,33,18,30,20)` (denoted $f(\\mathbf{x} \\, | \\, \\lambda)$ ). Remember, since our data are iid, the likelihood function is the product of the marginal pmfs, with the data fixed at $x$, and with $\\lambda$ as a variable.**\n",
    "\n",
    "HINT: You can start with `likelihood = 1`. Then write a loop over `t = 1:6`, where, on each iteration, you multiply `likelihood` by the pmf of the Poisson for the $t^{th}$ data point given $\\lambda $ (for the `lambda` constructed in B.1(a))."
   ]
  },
  {
   "cell_type": "code",
   "execution_count": 23,
   "metadata": {
    "deletable": false,
    "nbgrader": {
     "cell_type": "code",
     "checksum": "dd890d25977d65571537cb68b8865163",
     "grade": true,
     "grade_id": "cell-e1e2a4993946aa28",
     "locked": false,
     "points": 5,
     "schema_version": 3,
     "solution": true,
     "task": false
    }
   },
   "outputs": [
    {
     "data": {
      "text/html": [
       "<ol class=list-inline>\n",
       "\t<li>1.89865346211508e-48</li>\n",
       "\t<li>9.00406267628769e-39</li>\n",
       "\t<li>7.12303812212228e-19</li>\n",
       "\t<li>1.20835140138812e-26</li>\n",
       "\t<li>2.00478583339944e-18</li>\n",
       "\t<li>1.03631739268241e-23</li>\n",
       "</ol>\n"
      ],
      "text/latex": [
       "\\begin{enumerate*}\n",
       "\\item 1.89865346211508e-48\n",
       "\\item 9.00406267628769e-39\n",
       "\\item 7.12303812212228e-19\n",
       "\\item 1.20835140138812e-26\n",
       "\\item 2.00478583339944e-18\n",
       "\\item 1.03631739268241e-23\n",
       "\\end{enumerate*}\n"
      ],
      "text/markdown": [
       "1. 1.89865346211508e-48\n",
       "2. 9.00406267628769e-39\n",
       "3. 7.12303812212228e-19\n",
       "4. 1.20835140138812e-26\n",
       "5. 2.00478583339944e-18\n",
       "6. 1.03631739268241e-23\n",
       "\n",
       "\n"
      ],
      "text/plain": [
       "[1] 1.898653e-48 9.004063e-39 7.123038e-19 1.208351e-26 2.004786e-18\n",
       "[6] 1.036317e-23"
      ]
     },
     "metadata": {},
     "output_type": "display_data"
    }
   ],
   "source": [
    "x = c(64, 13, 33, 18, 30, 20)\n",
    "\n",
    "likeli <- function(lam){\n",
    "    likehood = 1\n",
    "    for (i in x){\n",
    "        likehood = likehood * dpois(i, lam)\n",
    "    }\n",
    "    return (likehood)\n",
    "}"
   ]
  },
  {
   "cell_type": "markdown",
   "metadata": {
    "deletable": false,
    "editable": false,
    "nbgrader": {
     "cell_type": "markdown",
     "checksum": "6522ca94c526c69f3188509878b90490",
     "grade": false,
     "grade_id": "cell-f15ffb96e2152cf1",
     "locked": true,
     "schema_version": 3,
     "solution": false,
     "task": false
    }
   },
   "source": [
    "**B.1(c) [6 points] Compute and plot the posterior distribution of $\\lambda \\, | \\, \\mathbf{x}$. Comment on the shape of the distribution.**\n",
    "\n",
    "Here, the posterior distribution, denoted $\\pi(\\lambda \\, | \\, \\mathbf{x} )$, is given by\n",
    "\n",
    "\\begin{align*}\n",
    "\\pi(\\lambda \\, | \\, \\mathbf{x} ) = \\frac{f(\\mathbf{x} \\, | \\, \\lambda )\\pi(\\lambda) }{\\sum^{500}_{i = 1}f(\\mathbf{x} \\, | \\, \\lambda_i )\\pi(\\lambda_i)},\n",
    "\\end{align*}\n",
    "\n",
    "where $\\displaystyle\\sum^{500}_{i = 1}f(\\mathbf{x} \\, | \\, \\lambda_i )\\pi(\\lambda_i)$ is the sum of the likelihood times the prior over all values of $\\lambda$ in `lambda` from part B.1(a)."
   ]
  },
  {
   "cell_type": "code",
   "execution_count": 36,
   "metadata": {
    "deletable": false,
    "nbgrader": {
     "cell_type": "code",
     "checksum": "da56f754dbc9391979a47207d173e036",
     "grade": true,
     "grade_id": "cell-27b9beb35e7b02e3",
     "locked": false,
     "points": 5,
     "schema_version": 3,
     "solution": true,
     "task": false
    }
   },
   "outputs": [
    {
     "data": {
      "image/png": "[encoded data removed]",
      "text/plain": [
       "plot without title"
      ]
     },
     "metadata": {},
     "output_type": "display_data"
    }
   ],
   "source": [
    "num = likeli(lam)* prior[1]\n",
    "den = sum(likeli(lam) * prior) \n",
    "pi = num/den\n",
    "\n",
    "plot(lam, pi, type =\"l\")"
   ]
  },
  {
   "cell_type": "markdown",
   "metadata": {
    "deletable": false,
    "nbgrader": {
     "cell_type": "markdown",
     "checksum": "a8f9c4989dd8f26563e52967a990aba0",
     "grade": true,
     "grade_id": "cell-df35da9c59c7ed8d",
     "locked": false,
     "points": 1,
     "schema_version": 3,
     "solution": true,
     "task": false
    }
   },
   "source": [
    "YOUR ANSWER HERE"
   ]
  },
  {
   "cell_type": "markdown",
   "metadata": {
    "deletable": false,
    "editable": false,
    "id": "MSxBEO62K_uN",
    "nbgrader": {
     "cell_type": "markdown",
     "checksum": "1f15878b9f78ff4462cf2da615913fce",
     "grade": false,
     "grade_id": "cell-2247018971e8b2f4",
     "locked": true,
     "schema_version": 3,
     "solution": false,
     "task": false
    }
   },
   "source": [
    "# B.2 Maximum likelihood vs Bayesian inference\n",
    "\n",
    "Imagine that, before class, I rolled a six-sided die and secretly recorded the outcome; this number is the target, $T$. Your goal in this problem is to guess $T$. \n",
    "\n",
    "There’s some evidence to take into account, however. Imagine that, after setting $T$, I roll the same six-sided die $10$ times. I don’t let you see how it lands, but each time I tell you (accurately) whether the number you just rolled was greater than, equal to, or less than $T$. After $10$ trials, you must guess what the target is. Here is the outcome of those $10$ trials:\n",
    "\n",
    "$\\mathbf{x} = (G, G, G, E, L, G, L, E, G, E)$\n",
    "\n",
    "where \n",
    "- $G$ = the roll was greater than $T$\n",
    "- $L$ = the roll was less than $T$, and \n",
    "- $E$ = the roll was equal to $T$.\n",
    "\n",
    "Let's use Bayes' theorem to come up with a strategy for guessing $T$."
   ]
  },
  {
   "cell_type": "markdown",
   "metadata": {
    "deletable": false,
    "editable": false,
    "id": "g6xRlkd2K_uR",
    "nbgrader": {
     "cell_type": "markdown",
     "checksum": "ba7cf11172c254a467da20c502783b52",
     "grade": false,
     "grade_id": "cell-655b20dbbd0fd8fa",
     "locked": true,
     "schema_version": 3,
     "solution": false,
     "task": false
    }
   },
   "source": [
    "Bayes' theorem tells us that, for $t = 1,...,6$:\n",
    "\n",
    "\\begin{align*}\n",
    "P(T = t \\, | \\, \\mathbf{x}) = \\frac{P(\\mathbf{x} \\, | \\, T = t)P(T=t)}{P(\\mathbf{x})}  = \\frac{P(\\mathbf{x} \\, | \\, T = t)P(T=t)}{\\sum^6_{t=1} P(\\mathbf{x} \\, | \\, T = t)P(T=t)},\n",
    "\\end{align*}\n",
    "\n",
    "where \n",
    "\n",
    "- $P(\\mathbf{x} \\, | \\, T = t)$ is the *likelihood function* of the data conditioned on $T = t$.\n",
    "\n",
    "- $P(T=t)$ is the *prior distribution* on $T=t$. Because I rolled the die in my office, the probability that $T=t$ for $t = 1,...,6$ is $P(T=t) = 1/6$. \n",
    "\n",
    "- $P(\\mathbf{x}) = \\sum^6_{t=1} P(\\mathbf{x} \\, | \\, T = t)P(T=t)$ is the probability of the *evidence*. The equality is given by the Law of Total Probability. \n",
    "\n",
    "- $P(T = t \\, | \\, \\mathbf{x})$ is the *posterior probability* of $T = t$ given the observations $\\mathbf{x}$.\n",
    "\n",
    "In order to compute the likelihood function for a given $T=t$, we'll need to calculate the probabilities of being less than ($p_l$), equal to ($p_e$), or greater than ($p_g$), $T = t$. \n",
    "\n",
    "For example, if $T = 1$, then $p_l = 0$ because it is not possible to roll less than a $1$. $p_e = 1/6$, because that's the probability of rolling a $1$. And $p_g = 5*(1/6) = 5/6$, because rolling greater than $1$ means rolling a $2$ **or** a $3$ **or** ... a $6$. The word **or** suggests summing each of the probabilities, and since each face has probability $1/6$, we multiply by $5$.\n",
    "\n",
    "**B.2(a) [6 points] Write down general formula for $P(l \\, | \\, T = t)$, $P(e \\, | \\, T = t)$, and $P(g \\, | \\, T = t)$. This question is asking for a mathematical expression, not R code.**"
   ]
  },
  {
   "cell_type": "markdown",
   "metadata": {
    "deletable": false,
    "nbgrader": {
     "cell_type": "markdown",
     "checksum": "8ac433b7a811733a4058c2f1e16f8cd7",
     "grade": true,
     "grade_id": "cell-247ba8f16f787b09",
     "locked": false,
     "points": 6,
     "schema_version": 3,
     "solution": true,
     "task": false
    }
   },
   "source": [
    "$$\n",
    "\\begin{gather*}\n",
    "    P(l | T = t) = (t-1)\\frac{1}{6} \\\\\n",
    "    P(e | T=t) = \\frac{1}{6} \\\\\n",
    "    P(g | T = t) = (6 - t)\\frac{1}{6} \\\\\n",
    "\\end{gather*}\n",
    "$$"
   ]
  },
  {
   "cell_type": "markdown",
   "metadata": {
    "deletable": false,
    "editable": false,
    "nbgrader": {
     "cell_type": "markdown",
     "checksum": "23d3eb1c6ce713eab98f179a23a5814f",
     "grade": false,
     "grade_id": "cell-56245db92125dd5e",
     "locked": true,
     "schema_version": 3,
     "solution": false,
     "task": false
    }
   },
   "source": [
    "**B.2(b) [3 points] Now, write an R function, called `p`, that takes in a value of $T$ and returns $P(l \\, | \\, T = t)$, $P(e \\, | \\, T = t)$, and $P(g \\, | \\, T = t)$.**"
   ]
  },
  {
   "cell_type": "code",
   "execution_count": 40,
   "metadata": {
    "deletable": false,
    "id": "E0zD6u6vK_uR",
    "nbgrader": {
     "cell_type": "code",
     "checksum": "462c9ec477b3ce43ad32725c8b659867",
     "grade": true,
     "grade_id": "cell-e164cfffb6a23f03",
     "locked": false,
     "points": 3,
     "schema_version": 3,
     "solution": true,
     "task": false
    }
   },
   "outputs": [],
   "source": [
    "p <- function(T){\n",
    "    return(c((T-1)*1/6, 1/6, (6-T)*1/6))\n",
    "}"
   ]
  },
  {
   "cell_type": "markdown",
   "metadata": {
    "deletable": false,
    "editable": false,
    "id": "K7xeW9BWK_uT",
    "nbgrader": {
     "cell_type": "markdown",
     "checksum": "96b5b9e58bcb3e6e63a8fa0be34c694e",
     "grade": false,
     "grade_id": "cell-8c61d356eae717d7",
     "locked": true,
     "schema_version": 3,
     "solution": false,
     "task": false
    }
   },
   "source": [
    "Next, calculate the likelihood function for a given $T=t$ together (we don't quite know how to do this on our own...yet).\n",
    "\n",
    "Note that all of our rolls are independent, so the likelihood function - which is a joint probability density function (pdf) of the data given $T = t$ - is the product of the marginal pdfs, interpreted as a function of $t$.\n",
    "\n",
    "**B.2(c) [4 points] Write down the likelihood function for our data, $\\mathbf{x}$, given above in the problem description.**"
   ]
  },
  {
   "cell_type": "markdown",
   "metadata": {
    "deletable": false,
    "nbgrader": {
     "cell_type": "markdown",
     "checksum": "aa204a8f9f8b6cabd342ab6b288bde12",
     "grade": true,
     "grade_id": "cell-1d535a99a5c7cf7d",
     "locked": false,
     "points": 4,
     "schema_version": 3,
     "solution": true,
     "task": false
    }
   },
   "source": [
    "$$\n",
    "P(\\mathbf{x}|T=t) = P(g|T)^5 \\cdot P(e|T)^3 \\cdot P(l|T)^2\n",
    "$$"
   ]
  },
  {
   "cell_type": "markdown",
   "metadata": {
    "deletable": false,
    "editable": false,
    "nbgrader": {
     "cell_type": "markdown",
     "checksum": "be60f4cf3d88445d29cce75781fe9baa",
     "grade": false,
     "grade_id": "cell-c8e62fbc4c923c6b",
     "locked": true,
     "schema_version": 3,
     "solution": false,
     "task": false
    }
   },
   "source": [
    "**B.2(d) [4 points] Now, write an R function, called `likelihood`, that takes in a value of $T$ and returns the likelihood function.**"
   ]
  },
  {
   "cell_type": "code",
   "execution_count": 75,
   "metadata": {
    "deletable": false,
    "id": "11nZnGg8K_uT",
    "nbgrader": {
     "cell_type": "code",
     "checksum": "dcb3b11c776a1f4ed1790ed12b8c28f8",
     "grade": true,
     "grade_id": "cell-a7d1a43a0e38b082",
     "locked": false,
     "points": 4,
     "schema_version": 3,
     "solution": true,
     "task": false
    }
   },
   "outputs": [],
   "source": [
    "likelihood <- function(T){\n",
    "    probity = p(T)\n",
    "    return(probity[1]^2 * probity[2]^3 * probity[3]^5)\n",
    "}"
   ]
  },
  {
   "cell_type": "markdown",
   "metadata": {
    "deletable": false,
    "editable": false,
    "id": "GsMMiQNxK_uU",
    "nbgrader": {
     "cell_type": "markdown",
     "checksum": "434bfa63b505426875e51684cd8498a9",
     "grade": false,
     "grade_id": "cell-76d5ffce4b669071",
     "locked": true,
     "schema_version": 3,
     "solution": false,
     "task": false
    }
   },
   "source": [
    "**B.2(e) [4 points] Now, compute the probability of the data/evidence, $P(\\mathbf{x}) = \\sum^6_{t=1} P(\\mathbf{x} \\, | \\, T = t)P(T=t)$. (Note that this is tricky in general, since it requires that we change $T$, and thus change $p_l$, $p_e$, and $p_g$. Luckily, we wrote a function to do that above and took it into account in our likelihood function!)**"
   ]
  },
  {
   "cell_type": "code",
   "execution_count": 68,
   "metadata": {
    "deletable": false,
    "id": "6JG9u2BFK_uU",
    "nbgrader": {
     "cell_type": "code",
     "checksum": "f25c7cf9f0557529645dd037aeba68c6",
     "grade": true,
     "grade_id": "cell-c1b832eb65215f32",
     "locked": false,
     "points": 4,
     "schema_version": 3,
     "solution": true,
     "task": false
    }
   },
   "outputs": [],
   "source": [
    "sum_px = 0; \n",
    "for (x in 1:6){ \n",
    "    sum_px = sum_px + likelihood(x) * 1/6\n",
    "}"
   ]
  },
  {
   "cell_type": "markdown",
   "metadata": {
    "deletable": false,
    "editable": false,
    "id": "sDsvQuqvK_uU",
    "nbgrader": {
     "cell_type": "markdown",
     "checksum": "58449f990ac61b27682536519536b967",
     "grade": false,
     "grade_id": "cell-a986cb2c0ad3b062",
     "locked": true,
     "schema_version": 3,
     "solution": false,
     "task": false
    }
   },
   "source": [
    "**B.2(f) [7 points] Now we have all of the components for computing the posterior. So, compute the posterior for each $T=t$ and plot it using a bar chart.**"
   ]
  },
  {
   "cell_type": "code",
   "execution_count": 64,
   "metadata": {
    "deletable": false,
    "nbgrader": {
     "cell_type": "code",
     "checksum": "67d934234aa12d36e0b8684da1c2c360",
     "grade": true,
     "grade_id": "cell-e0594d065a5d975e",
     "locked": false,
     "points": 7,
     "schema_version": 3,
     "solution": true,
     "task": false
    }
   },
   "outputs": [
    {
     "data": {
      "text/html": [
       "<ol class=list-inline>\n",
       "\t<li>0</li>\n",
       "\t<li>0.445217391304348</li>\n",
       "\t<li>0.422608695652174</li>\n",
       "\t<li>0.125217391304348</li>\n",
       "\t<li>0.00695652173913043</li>\n",
       "\t<li>0</li>\n",
       "</ol>\n"
      ],
      "text/latex": [
       "\\begin{enumerate*}\n",
       "\\item 0\n",
       "\\item 0.445217391304348\n",
       "\\item 0.422608695652174\n",
       "\\item 0.125217391304348\n",
       "\\item 0.00695652173913043\n",
       "\\item 0\n",
       "\\end{enumerate*}\n"
      ],
      "text/markdown": [
       "1. 0\n",
       "2. 0.445217391304348\n",
       "3. 0.422608695652174\n",
       "4. 0.125217391304348\n",
       "5. 0.00695652173913043\n",
       "6. 0\n",
       "\n",
       "\n"
      ],
      "text/plain": [
       "[1] 0.000000000 0.445217391 0.422608696 0.125217391 0.006956522 0.000000000"
      ]
     },
     "metadata": {},
     "output_type": "display_data"
    },
    {
     "data": {
      "image/png": "[encoded data removed]",
      "text/plain": [
       "plot without title"
      ]
     },
     "metadata": {},
     "output_type": "display_data"
    }
   ],
   "source": [
    "posterior = c(likelihood(1)*1/6/sum_px, likelihood(2)*1/6/sum_px,likelihood(3)*1/6/sum_px,\n",
    "             likelihood(4)*1/6/sum_px,likelihood(5)*1/6/sum_px, likelihood(6)*1/6/sum_px)\n",
    "posterior\n",
    "barplot(posterior)"
   ]
  },
  {
   "cell_type": "markdown",
   "metadata": {
    "deletable": false,
    "editable": false,
    "id": "AjrNKsuvK_uW",
    "nbgrader": {
     "cell_type": "markdown",
     "checksum": "43d3fb2c0ddc9910f0a07e910a3a31ed",
     "grade": false,
     "grade_id": "cell-c7c80503d61c84db",
     "locked": true,
     "schema_version": 3,
     "solution": false,
     "task": false
    }
   },
   "source": [
    "**B.2(g) [4 points] Interpret the posterior distribution from the previous part. What value of $T$ would you guess and why? How does did your belief update from your prior?**"
   ]
  },
  {
   "cell_type": "markdown",
   "metadata": {
    "deletable": false,
    "nbgrader": {
     "cell_type": "markdown",
     "checksum": "7b1b1021808c1b8b3027b0b2b7105a67",
     "grade": true,
     "grade_id": "cell-2fa15fbb79591275",
     "locked": false,
     "points": 4,
     "schema_version": 3,
     "solution": true,
     "task": false
    }
   },
   "source": [
    "The above graph shows that the rolls $2$ and $3$ will most likely be our posterior roll. I initially thought $5$ because $5$ has the most probabilistic roll from all number. My belief updated from my prior by looking at the chances the rolls will happen. "
   ]
  },
  {
   "cell_type": "markdown",
   "metadata": {
    "deletable": false,
    "editable": false,
    "id": "IesUtV2WK_uW",
    "nbgrader": {
     "cell_type": "markdown",
     "checksum": "e9f83c0c724e99169a6c3d7d8a051dbf",
     "grade": false,
     "grade_id": "cell-a00ccd5a66b9fa77",
     "locked": true,
     "schema_version": 3,
     "solution": false,
     "task": false
    }
   },
   "source": [
    "**B.2(h) [6 points] Another strategy, as you know, is maximum likelihood estimation (MLE). MLE says that our best guess about $T$ should be the value of $T$ that maximizes the likelihood function over all values of $T$ ($1,...,6$). Calculate the MLE for the data $\\mathbf{x}$. In the first (markdown) cell, give a mathematical description of MLE for this problem. In the second (R) cell, compute the MLE.**\n"
   ]
  },
  {
   "cell_type": "markdown",
   "metadata": {
    "deletable": false,
    "nbgrader": {
     "cell_type": "markdown",
     "checksum": "c32ab70a1fd8a53de4604578d7244586",
     "grade": true,
     "grade_id": "cell-48c58905bfbf272b",
     "locked": false,
     "points": 3,
     "schema_version": 3,
     "solution": true,
     "task": false
    }
   },
   "source": [
    "$$\n",
    "    L(t) = \\big( (6-t)\\frac{1}{6}\\big)^5 \\cdot \\big((t-1)\\frac{1}{6}\\big)^2 \\cdot \\big(\\frac{1}{6}\\big)^3 \\\\\n",
    "    Log\\big(L(t)\\big) = 5\\ln(1-\\frac{t}{6}) + 2\\ln(\\frac{t}{6} - \\frac{1}{6}) + \\ln(\\frac{1}{72}) \\\\\n",
    "    Log\\big(L(t)\\big)' = \\frac{5}{6-t} + \\frac{2}{1-t} = 0 \\\\\n",
    "    t = \\frac{17}{7}\n",
    "$$"
   ]
  },
  {
   "cell_type": "code",
   "execution_count": 89,
   "metadata": {
    "deletable": false,
    "id": "lsm-d8eTK_uW",
    "nbgrader": {
     "cell_type": "code",
     "checksum": "5c1ea81cce38a2fa5b290fa950fae472",
     "grade": true,
     "grade_id": "cell-fbd41b397fc38a0e",
     "locked": false,
     "points": 3,
     "schema_version": 3,
     "solution": true,
     "task": false
    },
    "outputId": "6515f40b-383f-4dd1-ca67-cd8f679c8cc6"
   },
   "outputs": [
    {
     "data": {
      "text/html": [
       "1.69350878084303e-05"
      ],
      "text/latex": [
       "1.69350878084303e-05"
      ],
      "text/markdown": [
       "1.69350878084303e-05"
      ],
      "text/plain": [
       "[1] 1.693509e-05"
      ]
     },
     "metadata": {},
     "output_type": "display_data"
    },
    {
     "data": {
      "text/html": [
       "2.42857142857143"
      ],
      "text/latex": [
       "2.42857142857143"
      ],
      "text/markdown": [
       "2.42857142857143"
      ],
      "text/plain": [
       "[1] 2.428571"
      ]
     },
     "metadata": {},
     "output_type": "display_data"
    },
    {
     "data": {
      "image/png": "[encoded data removed]",
      "text/plain": [
       "plot without title"
      ]
     },
     "metadata": {},
     "output_type": "display_data"
    }
   ],
   "source": [
    "mle = c(likelihood(1), likelihood(2),likelihood(3),\n",
    "             likelihood(4),likelihood(5), likelihood(6))\n",
    "barplot(mle)\n",
    "likelihood(2)"
   ]
  },
  {
   "cell_type": "markdown",
   "metadata": {
    "deletable": false,
    "editable": false,
    "nbgrader": {
     "cell_type": "markdown",
     "checksum": "114139630d71aef68e77dd76f6e18243",
     "grade": false,
     "grade_id": "cell-1e8ece908a63ec04",
     "locked": true,
     "schema_version": 3,
     "solution": false,
     "task": false
    }
   },
   "source": [
    "**B.2(i) [7 points] Now change your prior to be `prior = c(1/6, 1/6, 2/6, 1/6,1/6, 0)` and recompute the posterior distribution. Do you have a different guess? What might justify this prior? Can maximum likelihood estimation take into account this kind of adjustment?**"
   ]
  },
  {
   "cell_type": "code",
   "execution_count": 73,
   "metadata": {
    "deletable": false,
    "nbgrader": {
     "cell_type": "code",
     "checksum": "30aeae8ff573170642fd35d89da8d3c4",
     "grade": true,
     "grade_id": "cell-e5fcacbc61c392ff",
     "locked": false,
     "points": 4,
     "schema_version": 3,
     "solution": true,
     "task": false
    }
   },
   "outputs": [
    {
     "data": {
      "image/png": "[encoded data removed]",
      "text/plain": [
       "plot without title"
      ]
     },
     "metadata": {},
     "output_type": "display_data"
    }
   ],
   "source": [
    "sum_px = 0; \n",
    "prior = c(1/6, 1/6, 2/6, 1/6,1/6, 0)\n",
    "for (x in 1:6){ \n",
    "    sum_px = sum_px + likelihood(x) * prior[x]\n",
    "}\n",
    "posterior = c(likelihood(1) * prior[1]/sum_px, \n",
    "              likelihood(2) * prior[2]/sum_px,\n",
    "              likelihood(3) * prior[3]/sum_px,\n",
    "              likelihood(4) * prior[4]/sum_px,\n",
    "              likelihood(5) * prior[5]/sum_px,\n",
    "              likelihood(6) * prior[6]/sum_px)\n",
    "barplot(posterior)"
   ]
  },
  {
   "cell_type": "markdown",
   "metadata": {
    "deletable": false,
    "nbgrader": {
     "cell_type": "markdown",
     "checksum": "a001a6ded68bf488ada54a4e416a8594",
     "grade": true,
     "grade_id": "cell-ec9ebd6aa0850988",
     "locked": false,
     "points": 3,
     "schema_version": 3,
     "solution": true,
     "task": false
    }
   },
   "source": [
    "No seeing that three had a greater probability I believe that rolling three would be the most probable. What justifies this prior is that the rolls now have different probablities - they are biased dice. The MLE cannot take this into account because it does not include the prior probability in its calculation. "
   ]
  },
  {
   "cell_type": "markdown",
   "metadata": {
    "deletable": false,
    "editable": false,
    "nbgrader": {
     "cell_type": "markdown",
     "checksum": "aa7294ae6e0f02a6ac3c5d8082caf7e9",
     "grade": false,
     "grade_id": "cell-02418bc18a32aed3",
     "locked": true,
     "schema_version": 3,
     "solution": false,
     "task": false
    }
   },
   "source": [
    "## B.3 Normal conjugate example\n",
    "\n",
    "Suppose Company $A$ is considering using recycled cobalt in the smartphone batteries that it produces. Denote the true mean battery life (run time on a full charge) as $\\mu$.  Company $A$ would like to know if there is evidence to strongly suggest that $\\mu$ exceeds or falls short of $24$ hours ($24$ hours is the true mean battery life of the battery currently in use). Researchers' prior beliefs about the population mean can be represented by a normal distribution, centered at $\\theta = 24$, with variance $\\tau^2 = 4$. That is: $\\mu \\sim N(24, 4)$.\n",
    "\n",
    "Suppose the researchers at company $A$ tests $n = 25$ randomly selected phones with the recycled cobalt. Denote the battery life of phones in a possible sample as $X_1,...,X_n$. Assume that the standard deviation of times is $\\sigma = 1$) For this particular sample, the data $x_1,...,x_n$ were measured as:\n",
    "\n",
    "\\begin{align*}\n",
    "&25.0, \\, 23.8,\\, 23.3, \\,24.0, \\,24.5, \\,25.3, \\,22.4, \\,25.1, \\,20.3, \\,22.3, \\,25.4, \\,22.9, \\,24.4, \\,24.9, \\,24.3, \\\\\n",
    "&23.0, \\,24.7, \\,24.7, \\,23.5, \\,23.9, \\,24.7, \\,25.4, \\,23.9, \\,23.1, \\,23.0. \\\\\n",
    "\\end{align*}\n"
   ]
  },
  {
   "cell_type": "code",
   "execution_count": 126,
   "metadata": {
    "deletable": false,
    "editable": false,
    "nbgrader": {
     "cell_type": "code",
     "checksum": "c2eea120a461afb1bcfd1c7cffd8809c",
     "grade": false,
     "grade_id": "cell-259fef461e0f55b3",
     "locked": true,
     "schema_version": 3,
     "solution": false,
     "task": false
    }
   },
   "outputs": [
    {
     "data": {
      "text/html": [
       "23.912"
      ],
      "text/latex": [
       "23.912"
      ],
      "text/markdown": [
       "23.912"
      ],
      "text/plain": [
       "[1] 23.912"
      ]
     },
     "metadata": {},
     "output_type": "display_data"
    }
   ],
   "source": [
    "x = c(25.0, 23.8, 23.3, 24.0, 24.5, 25.3, 22.4, 25.1, 20.3, 22.3, 25.4, 22.9, 24.4, 24.9, 24.3, 23.0, 24.7, 24.7, 23.5, 23.9, 24.7, 25.4, 23.9, 23.1, 23.0)\n",
    "mean(x)"
   ]
  },
  {
   "cell_type": "markdown",
   "metadata": {
    "deletable": false,
    "editable": false,
    "nbgrader": {
     "cell_type": "markdown",
     "checksum": "eb7f29a4777176080c9f25f87eb680af",
     "grade": false,
     "grade_id": "cell-6c63bea7c50583ad",
     "locked": true,
     "schema_version": 3,
     "solution": false,
     "task": false
    }
   },
   "source": [
    "**B.3(a) [6 points] Compute the posterior distribution mean and variance of $\\mu \\, | \\, \\mathbf{x}$ using the conjugate prior result from class. What would be a reasonable point estimate for $\\mu$ given the data?**"
   ]
  },
  {
   "cell_type": "code",
   "execution_count": 127,
   "metadata": {
    "deletable": false,
    "nbgrader": {
     "cell_type": "code",
     "checksum": "6e4582dbf3b5441c6ee0a03993554aa0",
     "grade": true,
     "grade_id": "cell-878c265209d8e948",
     "locked": false,
     "points": 6,
     "schema_version": 3,
     "solution": true,
     "task": false
    }
   },
   "outputs": [
    {
     "data": {
      "text/html": [
       "23.9162811814692"
      ],
      "text/latex": [
       "23.9162811814692"
      ],
      "text/markdown": [
       "23.9162811814692"
      ],
      "text/plain": [
       "[1] 23.91628"
      ]
     },
     "metadata": {},
     "output_type": "display_data"
    },
    {
     "data": {
      "text/html": [
       "0.19459915769073"
      ],
      "text/latex": [
       "0.19459915769073"
      ],
      "text/markdown": [
       "0.19459915769073"
      ],
      "text/plain": [
       "[1] 0.1945992"
      ]
     },
     "metadata": {},
     "output_type": "display_data"
    }
   ],
   "source": [
    "n = seq(0, 25, length.out = 200)\n",
    "mu = ((24/4) + (n*mean(x)))/( (1/4) + (n/1^2) )\n",
    "mean(mu)\n",
    "sigma = (1/4 + n/1^2)^(-1)\n",
    "mean(sigma)\n",
    "\n",
    "posterior = rnorm(n, mu, sqrt(sigma))"
   ]
  },
  {
   "cell_type": "markdown",
   "metadata": {
    "deletable": false,
    "editable": false,
    "nbgrader": {
     "cell_type": "markdown",
     "checksum": "f6414fe38f9bcef3dea2f4038a7960fe",
     "grade": false,
     "grade_id": "cell-2857583ae88f4e70",
     "locked": true,
     "schema_version": 3,
     "solution": false,
     "task": false
    }
   },
   "source": [
    "**B.3(b) [9 points] On the same plot, plot the prior distribution and posterior distribution. What do you notice about this plot?**"
   ]
  },
  {
   "cell_type": "code",
   "execution_count": 128,
   "metadata": {
    "deletable": false,
    "nbgrader": {
     "cell_type": "code",
     "checksum": "6bf1e01e831ba948ee9fc190c3263ba4",
     "grade": true,
     "grade_id": "cell-69990f939ad161ec",
     "locked": false,
     "points": 6,
     "schema_version": 3,
     "solution": true,
     "task": false
    }
   },
   "outputs": [
    {
     "data": {
      "image/png": "[encoded data removed]",
      "text/plain": [
       "Plot with title “Histogram of posterior”"
      ]
     },
     "metadata": {},
     "output_type": "display_data"
    },
    {
     "data": {
      "image/png": "[encoded data removed]",
      "text/plain": [
       "Plot with title “Histogram of priorN”"
      ]
     },
     "metadata": {},
     "output_type": "display_data"
    }
   ],
   "source": [
    "library(ggplot)\n",
    "hist(posterior)\n",
    "nmu = mean(rnorm(n, 24, 2))\n",
    "priorN = rnorm(n, mu, 1)\n",
    "hist(priorN)\n",
    "\n",
    "ggplot(prioN)"
   ]
  },
  {
   "cell_type": "markdown",
   "metadata": {
    "deletable": false,
    "nbgrader": {
     "cell_type": "markdown",
     "checksum": "f76c035c32a1c60addb5863f3ca0f8ea",
     "grade": true,
     "grade_id": "cell-7890cbe6e7770457",
     "locked": false,
     "points": 3,
     "schema_version": 3,
     "solution": true,
     "task": false
    }
   },
   "source": [
    "New new prior plot seems to have more variability compared to our posterior plot. I think it has more varibility especially towards $23$ because we updated our belief based on the posterior. The posterior narrows down to the most likely possibility hence the prior graph is updating from our belief. "
   ]
  },
  {
   "cell_type": "markdown",
   "metadata": {
    "deletable": false,
    "editable": false,
    "nbgrader": {
     "cell_type": "markdown",
     "checksum": "b146a555883735d7100bf5d8268f918c",
     "grade": false,
     "grade_id": "cell-a4315e6eb367ff66",
     "locked": true,
     "schema_version": 3,
     "solution": false,
     "task": false
    }
   },
   "source": [
    "**B.3(c) [4 points] Compute a $95\\%$ credible interval for $\\mu$ given the data. Interpret this interval. In particular, do we have evidence to suggest that $\\mu = 24$?**"
   ]
  },
  {
   "cell_type": "code",
   "execution_count": 129,
   "metadata": {
    "deletable": false,
    "nbgrader": {
     "cell_type": "code",
     "checksum": "74254f9965b380bb833ee6d78d839fe3",
     "grade": true,
     "grade_id": "cell-bd8b847e8bac80ba",
     "locked": false,
     "points": 4,
     "schema_version": 3,
     "solution": true,
     "task": false
    }
   },
   "outputs": [
    {
     "data": {
      "text/html": [
       "<ol class=list-inline>\n",
       "\t<li>23.5348738409735</li>\n",
       "\t<li>24.2976885219649</li>\n",
       "</ol>\n"
      ],
      "text/latex": [
       "\\begin{enumerate*}\n",
       "\\item 23.5348738409735\n",
       "\\item 24.2976885219649\n",
       "\\end{enumerate*}\n"
      ],
      "text/markdown": [
       "1. 23.5348738409735\n",
       "2. 24.2976885219649\n",
       "\n",
       "\n"
      ],
      "text/plain": [
       "[1] 23.53487 24.29769"
      ]
     },
     "metadata": {},
     "output_type": "display_data"
    }
   ],
   "source": [
    "cred= 0.95\n",
    "c(qnorm((1-cred)/2, mean(mu), mean(sigma)), qnorm(1-(1-cred)/2, mean(mu), mean(sigma)))"
   ]
  },
  {
   "cell_type": "markdown",
   "metadata": {},
   "source": [
    "Yes, from the calculation above we have enough data to say that $\\mu \\approx 24$. We have a $95\\%$ credibility that $\\mu \\in (23.53, 24.29)$"
   ]
  },
  {
   "cell_type": "markdown",
   "metadata": {
    "deletable": false,
    "editable": false,
    "nbgrader": {
     "cell_type": "markdown",
     "checksum": "8892bdde6387ce94d20fad161b4fdee2",
     "grade": false,
     "grade_id": "cell-73a3e6f4f0219718",
     "locked": true,
     "schema_version": 3,
     "solution": false,
     "task": false
    }
   },
   "source": [
    "**B.3(d) [8 points] Now, suppose instead that prior to the experiment, researchers believed that $\\theta = 13$ was the center of the prior distribution, with $\\tau^2 = 1$. Compute the posterior distribution for this prior (for the same data as above), reproduce the plots from above, and describe the difference between this posterior and the one from previous parts.**"
   ]
  },
  {
   "cell_type": "code",
   "execution_count": 130,
   "metadata": {
    "deletable": false,
    "nbgrader": {
     "cell_type": "code",
     "checksum": "9d752d5c1fb02f91dba9f28207f0e037",
     "grade": true,
     "grade_id": "cell-e185c3e4b1502edd",
     "locked": false,
     "points": 6,
     "schema_version": 3,
     "solution": true,
     "task": false
    }
   },
   "outputs": [
    {
     "data": {
      "text/html": [
       "22.4791544697348"
      ],
      "text/latex": [
       "22.4791544697348"
      ],
      "text/markdown": [
       "22.4791544697348"
      ],
      "text/plain": [
       "[1] 22.47915"
      ]
     },
     "metadata": {},
     "output_type": "display_data"
    },
    {
     "data": {
      "text/html": [
       "0.189400373578591"
      ],
      "text/latex": [
       "0.189400373578591"
      ],
      "text/markdown": [
       "0.189400373578591"
      ],
      "text/plain": [
       "[1] 0.1894004"
      ]
     },
     "metadata": {},
     "output_type": "display_data"
    },
    {
     "data": {
      "image/png": "[encoded data removed]",
      "text/plain": [
       "Plot with title “Histogram of posterior”"
      ]
     },
     "metadata": {},
     "output_type": "display_data"
    }
   ],
   "source": [
    "n = seq(0, 25, length.out = 400)\n",
    "mu = (13 + (n*mean(x)))/( 1 + (n/1^2) )\n",
    "mean(mu)\n",
    "sigma = (1/4 + n/1^2)^(-1)\n",
    "mean(sigma)\n",
    "\n",
    "posterior = rnorm(n, mu, sqrt(sigma))\n",
    "hist(posterior)"
   ]
  },
  {
   "cell_type": "markdown",
   "metadata": {
    "deletable": false,
    "nbgrader": {
     "cell_type": "markdown",
     "checksum": "7dc65f586ad1b8b374eb35bd4cde37fe",
     "grade": true,
     "grade_id": "cell-89870db2b84f333c",
     "locked": false,
     "points": 2,
     "schema_version": 3,
     "solution": true,
     "task": false
    }
   },
   "source": [
    "The first posterior graph had a more normal distribution look and this posterior is skewed to the left. They both trend toward a $\\mu \\approx 24$. "
   ]
  },
  {
   "cell_type": "markdown",
   "metadata": {
    "deletable": false,
    "editable": false,
    "nbgrader": {
     "cell_type": "markdown",
     "checksum": "2ca82e751f14a9250a9741e91d507bd1",
     "grade": false,
     "grade_id": "cell-d626af7821772afe",
     "locked": true,
     "schema_version": 3,
     "solution": false,
     "task": false
    }
   },
   "source": [
    "**B.3(e) [4 points] Compute a credible interval for this new posterior distribution. Interpret this interval. In particular, do we have evidence to suggest that $\\mu = 24$?**"
   ]
  },
  {
   "cell_type": "code",
   "execution_count": 118,
   "metadata": {
    "deletable": false,
    "nbgrader": {
     "cell_type": "code",
     "checksum": "1dc03293a1a9bfe0a95be74c08cb85ed",
     "grade": true,
     "grade_id": "cell-fbf1b26bfc5c39e4",
     "locked": false,
     "points": 4,
     "schema_version": 3,
     "solution": true,
     "task": false
    }
   },
   "outputs": [
    {
     "data": {
      "text/html": [
       "<ol class=list-inline>\n",
       "\t<li>22.1120541259539</li>\n",
       "\t<li>22.8506009956368</li>\n",
       "</ol>\n"
      ],
      "text/latex": [
       "\\begin{enumerate*}\n",
       "\\item 22.1120541259539\n",
       "\\item 22.8506009956368\n",
       "\\end{enumerate*}\n"
      ],
      "text/markdown": [
       "1. 22.1120541259539\n",
       "2. 22.8506009956368\n",
       "\n",
       "\n"
      ],
      "text/plain": [
       "[1] 22.11205 22.85060"
      ]
     },
     "metadata": {},
     "output_type": "display_data"
    }
   ],
   "source": [
    "cred= 0.95\n",
    "c(qnorm((1-cred)/2, mean(mu), mean(sigma)), qnorm(1-(1-cred)/2, mean(mu), mean(sigma)))"
   ]
  },
  {
   "cell_type": "markdown",
   "metadata": {},
   "source": [
    "The credible interaval shows that we are $95\\%$ credible that $\\mu \\in (22.11, 22.85)$. Therefore, we do not have evidence to suggest that $\\mu = 24$. "
   ]
  },
  {
   "cell_type": "markdown",
   "metadata": {
    "deletable": false,
    "editable": false,
    "nbgrader": {
     "cell_type": "markdown",
     "checksum": "35930dedf5e22a406e3039e586034560",
     "grade": false,
     "grade_id": "cell-87e27f3b7ba45c81",
     "locked": true,
     "schema_version": 3,
     "solution": false,
     "task": false
    }
   },
   "source": [
    "**B.3(f) [3 points] What might be worrisome about the difference between the credible interval inferences made above? Does Bayesian inference suffer from issues related to [researcher degrees of freedom](https://en.wikipedia.org/wiki/Researcher_degrees_of_freedom)?**"
   ]
  },
  {
   "cell_type": "markdown",
   "metadata": {
    "deletable": false,
    "nbgrader": {
     "cell_type": "markdown",
     "checksum": "c0cd0deddc2f01767dd2d5562169207e",
     "grade": true,
     "grade_id": "cell-58953a34cce05e36",
     "locked": false,
     "points": 3,
     "schema_version": 3,
     "solution": true,
     "task": false
    }
   },
   "source": [
    "WHat is most worrisome of the credible interval inferences is that it can induce false positives if not applied properly. In our case both graph appeared to show that $24$ was the most frequent but our credible intervals said otherwise. \n",
    "\n",
    "Yes, since Bayesian inference presume someones prior belief or hypothesis this can promote researcher degrees of freedom just to feel correct. Bayesian inference can suffer from someone biases therefore causing research degrees of freedom. "
   ]
  }
 ],
 "metadata": {
  "colab": {
   "name": "STAT4000-5000_HW8_Solutions.ipynb",
   "provenance": []
  },
  "kernelspec": {
   "display_name": "R",
   "language": "R",
   "name": "ir"
  },
  "language_info": {
   "codemirror_mode": "r",
   "file_extension": ".r",
   "mimetype": "text/x-r-source",
   "name": "R",
   "pygments_lexer": "r",
   "version": "3.6.1"
  }
 },
 "nbformat": 4,
 "nbformat_minor": 1
}
