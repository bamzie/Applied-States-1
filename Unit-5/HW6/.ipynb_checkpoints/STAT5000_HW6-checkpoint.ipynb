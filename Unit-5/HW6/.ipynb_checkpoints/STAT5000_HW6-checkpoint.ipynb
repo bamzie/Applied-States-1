{
 "cells": [
  {
   "cell_type": "markdown",
   "metadata": {
    "deletable": false,
    "editable": false,
    "nbgrader": {
     "cell_type": "markdown",
     "checksum": "c10650a2505fbdb3713260eef15f86a4",
     "grade": false,
     "grade_id": "cell-028a6aaacd367700",
     "locked": true,
     "schema_version": 3,
     "solution": false,
     "task": false
    }
   },
   "source": [
    "# Homework #6\n",
    "\n",
    "**See Canvas for the HW #6 assignment and due date**. Complete all of the following problems. Ideally, the theoretical problems should be answered in a Markdown cell directly underneath the question. If you don't know LaTex/Markdown, you may submit separate handwritten solutions to the theoretical problems, but please see the [class scanning policy](https://docs.google.com/document/d/17y5ksolrn2rEuXYBv_3HeZhkPbYwt48UojNT1OvcB_w/edit?usp=sharing). Please do not turn in messy work. Computational problems should be completed in this notebook (using the R kernel). Computational questions may require code, plots, analysis, interpretation, etc. Working in small groups is allowed, but it is important that you make an effort to master the material and hand in your own work. \n",
    "\n"
   ]
  },
  {
   "cell_type": "markdown",
   "metadata": {
    "deletable": false,
    "editable": false,
    "id": "Vpxs_7xzuHD8",
    "nbgrader": {
     "cell_type": "markdown",
     "checksum": "889b7205d3b70ef0d561cf6199d4a771",
     "grade": false,
     "grade_id": "cell-690073cfc39a9520",
     "locked": true,
     "schema_version": 3,
     "solution": false,
     "task": false
    }
   },
   "source": [
    "## A. Theoretical Problems"
   ]
  },
  {
   "cell_type": "markdown",
   "metadata": {
    "deletable": false,
    "editable": false,
    "nbgrader": {
     "cell_type": "markdown",
     "checksum": "3e3d61907206a4990a70dfec22807fa3",
     "grade": false,
     "grade_id": "cell-0ace3c29ea921fa1",
     "locked": true,
     "schema_version": 3,
     "solution": false,
     "task": false
    }
   },
   "source": [
    "## A.1 [10 points] Approximate Confidence Interval for Proportions\n",
    "\n",
    "Recall from an earlier assignment that if $np > 5$ and $n(1-p) > 5$, then $X \\sim Bin(n,p)$ is well-approximated by $Y \\sim N\\left(np, np(1-p)\\right)$. Use this approximation in the question below. In particular, an apporximate $(1-\\alpha)\\times 100\\%$ confidence interval for a population proportion $p$ is given by\n",
    "\n",
    "\\begin{align*}\n",
    "\\widehat{p} \\pm z_{\\alpha/2}\\sqrt{\\frac{\\widehat{p}(1-\\widehat{p})}{n}},\n",
    "\\end{align*}\n",
    "\n",
    "where $\\widehat{p}$ is the sample proportion. \n",
    "\n",
    "**Suppose that 12 people in a sample of 95 are members of the Green Party. Calculate an approximate 90% confidence interval for the true proportion of Green Party members in the population. Interpret this interval.**"
   ]
  },
  {
   "cell_type": "markdown",
   "metadata": {
    "deletable": false,
    "nbgrader": {
     "cell_type": "markdown",
     "checksum": "5c53dbcdd380ac42c24a7fbbc921bb76",
     "grade": true,
     "grade_id": "cell-3782b231697a2fe3",
     "locked": false,
     "points": 10,
     "schema_version": 3,
     "solution": true,
     "task": false
    }
   },
   "source": [
    "So $\\hat{p}$ is the sample proportion, $\\therefore \\hat{p} = \\frac{12}{95} = 0.12$. The $z_{\\alpha/2} \\approx 1.64$ and $n=95$.\n",
    "\n",
    "$$\\begin{gather*}\n",
    "p = \\hat{p} \\pm \\sqrt{\\frac{\\hat{p}(1-\\hat{p})}{n}} = 0.12 \\pm 1.64\\sqrt{\\frac{0.12(1-0.12)}{95}} \\\\\n",
    "p = (0.0704, 0.182)\n",
    "\\end{gather*}\n",
    "$$"
   ]
  },
  {
   "cell_type": "markdown",
   "metadata": {},
   "source": [
    "This means that $90\\%$ of our random samples will land between $$p = \\hat{p} \\pm z_{\\alpha/2}\\sqrt{\\frac{\\hat{p}(1-\\hat{p})}{n}}$$\n",
    "\n",
    "From what we calculated above we are confident that the fixed interval is an one of the $90\\%$ CI's to contain the true proportion of $p$. "
   ]
  },
  {
   "cell_type": "markdown",
   "metadata": {
    "deletable": false,
    "editable": false,
    "nbgrader": {
     "cell_type": "markdown",
     "checksum": "a96f285a8426324cafb44271f22d7e4c",
     "grade": false,
     "grade_id": "cell-cae651bd0f49963b",
     "locked": true,
     "schema_version": 3,
     "solution": false,
     "task": false
    }
   },
   "source": [
    "## A.2 [10 points] Speed of Light\n",
    "\n",
    "In 1881 Michelson and Newcomb measured the time light took to travel a distance of 7400 meters. From a a study of their experimental setup and a descriptive study of their 64 measurements and experimental setup, we conclude that the data can be assumed to be iid. These measurements yield the following sample quantities in $\\mu s (\\sec * 10^{−6})$:\n",
    "$$\\bar{x}=27.75, s=5.08$$\n",
    "Construct an approximate 95% confidence interval for the time light takes to travel 7400 meters.\n",
    "\n"
   ]
  },
  {
   "cell_type": "markdown",
   "metadata": {
    "deletable": false,
    "nbgrader": {
     "cell_type": "markdown",
     "checksum": "b86d8bfb0ce7520bafaea9bbe6916b7e",
     "grade": true,
     "grade_id": "cell-e066ce487afd0eba",
     "locked": false,
     "points": 10,
     "schema_version": 3,
     "solution": true,
     "task": false
    }
   },
   "source": [
    "We are given that $n = 64$, $\\bar{x} = 27.75$, and $s = 5.08$. We want to construct a $95\\%$ CI for the time ($\\mu s$) light takes to travel $7400$ meters. \n",
    "$$\\begin{gather*}\n",
    "\\mu s = \\bar{x} \\pm z_{\\alpha/2}\\frac{\\sigma}{\\sqrt{n}} \\\\\n",
    "\\mu s = 27.75 \\pm 1.96\\bigg(\\frac{5.08}{8}\\bigg) \\\\\n",
    "\\mu s = (26.5054, 28.9946)\n",
    "\\end{gather*}\n",
    "$$"
   ]
  },
  {
   "cell_type": "markdown",
   "metadata": {
    "deletable": false,
    "editable": false,
    "nbgrader": {
     "cell_type": "markdown",
     "checksum": "6cbff0cc91cf3d400b517b0e6bef320e",
     "grade": false,
     "grade_id": "cell-945b2dfa8eca5ce0",
     "locked": true,
     "schema_version": 3,
     "solution": false,
     "task": false
    }
   },
   "source": [
    "## A.3 A Change on Confidence\n",
    "\n",
    "A journal article reports that a sample of size $n = 5$ was used as a basis for calculating a 95% CI for the true average natural frequency (Hz) of delaminated beams of a certain type. The resulting interval was $(229.764, 233.504)$. You decide that a confidence level of 99% is more appropriate than the 95% level used.\n",
    "\n",
    "**A.3 [10 points] (a) What are the limits of the 99% interval?**\n"
   ]
  },
  {
   "cell_type": "markdown",
   "metadata": {
    "deletable": false,
    "nbgrader": {
     "cell_type": "markdown",
     "checksum": "ef9eda1858181ae40e6c9c6c27ffdd8d",
     "grade": true,
     "grade_id": "cell-811846eea8d9c207",
     "locked": false,
     "points": 10,
     "schema_version": 3,
     "solution": true,
     "task": false
    }
   },
   "source": [
    "Since our $n<30$ we work with the t-distribution hence,\n",
    "\n",
    "First solve for $\\bar{x} = \\frac{229.764 + 233.504}{2} = 231.634$ and for \n",
    "$s = \\sqrt{n}\\bigg(\\frac{233.504 - \\bar{x}}{T_{\\alpha/2,n-1}}\\bigg) \\approx 1.506$. So, \n",
    "$$\n",
    "\\mu = \\bar{x} \\pm T_{\\alpha/2,n-1}\\big(\\frac{s}{\\sqrt{n}}\\big) \\\\\n",
    "\\mu = 231.634 \\pm 4.604\\big(\\frac{1.506}{\\sqrt{5}}\\big) \\\\\n",
    "\\mu = (228.533, 234.734)\n",
    "$$"
   ]
  },
  {
   "cell_type": "markdown",
   "metadata": {
    "deletable": false,
    "editable": false,
    "nbgrader": {
     "cell_type": "markdown",
     "checksum": "faf405b24599392d54c4638c55fb9a4e",
     "grade": false,
     "grade_id": "cell-12604d1548908804",
     "locked": true,
     "schema_version": 3,
     "solution": false,
     "task": false
    }
   },
   "source": [
    "**A.3(b) [4 points] What might dictate the \"appropriateness\" of a confidence level? How should we choose confidence levels? Should they be chosen based on observed data? Before observating the data? (this question might require some outside research).**"
   ]
  },
  {
   "cell_type": "markdown",
   "metadata": {
    "deletable": false,
    "nbgrader": {
     "cell_type": "markdown",
     "checksum": "f57d2e606dd4fe512106f1e41bee1fea",
     "grade": true,
     "grade_id": "cell-68f54e6b004513a9",
     "locked": false,
     "points": 4,
     "schema_version": 3,
     "solution": true,
     "task": false
    }
   },
   "source": [
    "What dictates an appropiate confidence level depends on how confident you want to be in your range and how precise you would like to be. If you like more confidence but less precision than a higher confidence level increases your range. However, if you want more precision than decreasing your confidence level will decrease your range.\n",
    "\n",
    "Should the confidence level be chosen before observed data or based on observed data depends on your statistical philosophy - Frequentist or Bayesian. I think our confidence interval can be expressed in terms of samples. Where we repeat a procedure many times to find where our true parameter lies. While if we decide a confidence interval before observatign the data we have applied rules and constraints to our data. \n",
    "\n",
    "In the end it all depends on the importance of the data, what type of dataset it is and what your are looking for. "
   ]
  },
  {
   "cell_type": "markdown",
   "metadata": {
    "deletable": false,
    "editable": false,
    "nbgrader": {
     "cell_type": "markdown",
     "checksum": "3a27d161a245847af7145e54afd6c16e",
     "grade": false,
     "grade_id": "cell-e84c0076ff00570b",
     "locked": true,
     "schema_version": 3,
     "solution": false,
     "task": false
    }
   },
   "source": [
    "## A.4 MLEs\n",
    "\n",
    "Suppose that $X_1,...,X_n \\overset{iid}{\\sim}N(\\mu, \\sigma^2)$, where $\\sigma$ is known, and we are ultimately interested in an estimator for $\\theta = \\mu^2$.\n",
    "\n",
    "**A.4 (a) [12 points] First, find the MLE of $\\mu$.**"
   ]
  },
  {
   "cell_type": "markdown",
   "metadata": {
    "deletable": false,
    "nbgrader": {
     "cell_type": "markdown",
     "checksum": "c96c27547dbddd8ee6d7f16dfb0ce9c7",
     "grade": true,
     "grade_id": "cell-7519ca88bed55bfd",
     "locked": false,
     "points": 12,
     "schema_version": 3,
     "solution": true,
     "task": false
    }
   },
   "source": [
    "First the pdf of $f(x_i, \\mu)$: $$f(x_i) = \\frac{1}{\\sqrt{2\\pi\\sigma^2}}\\cdot e^{-(x-\\mu)^2/2\\sigma^2}$$\n",
    "Second, find the joint pdf: \n",
    "$$\\begin{gather*}\n",
    "f(\\underline{x};\\mu) = \\prod^n_{i = 1} f(x_i; \\mu) \\\\\n",
    "f(\\underline{x};\\mu) = \\bigg(\\frac{1}{\\sqrt{2\\pi\\sigma}^2}\\bigg)^n\\bigg[e^{\\frac{-(x_1 - \\mu)^2}{2\\sigma^2}} \\cdot e^{\\frac{-(x_2 - \\mu)^2}{2\\sigma^2}} \\cdots e^{\\frac{-(x_n - \\mu)^2}{2\\sigma^2}}\\bigg] \\\\\n",
    "= \\bigg(\\frac{1}{\\sqrt{2\\pi\\sigma}^2}\\bigg)^ne^{\\sum^n_{i=1}\\frac{-(x_1-\\mu)^2}{2\\sigma^2}} \\\\\n",
    "L(\\mu)= \\bigg(\\frac{1}{\\sqrt{2\\pi\\sigma}^2}\\bigg)^n e^{\\frac{-1}{2\\sigma^2}\\sum^n_{i=1}(x_1-\\mu)^2} \n",
    "\\end{gather*}\n",
    "$$\n",
    "Now take the Log Likelihood: \n",
    "$$\\begin{gather*}\n",
    "l(\\mu)= log\\bigg(\\frac{1}{\\sqrt{2\\pi\\sigma}^2}\\bigg)^n + log\\bigg(e^{\\frac{-1}{2\\sigma^2}\\sum^n_{i=1}(x_1-\\mu)^2}\\bigg) \\\\\n",
    " = n\\cdot log\\bigg(\\frac{1}{\\sqrt{2\\pi\\sigma}^2}\\bigg) - \\frac{1}{2\\sigma^2}\\cdot\\sum^n_{i=1}(x_i - \\mu)^2 \\\\\n",
    " = n\\cdot log\\bigg(\\frac{1}{\\sqrt{2\\pi\\sigma}^2}\\bigg) - \\frac{1}{2\\sigma^2}\\cdot\\sum^n_{i=1}x^2_i - 2n\\bar{x}\\mu - n\\mu^2\n",
    "\\end{gather*}\n",
    "$$\n",
    "Lastly, we maximize by taking the derivative: \n",
    "$$\\begin{gather*}\n",
    "l'(\\mu) = 0 \\\\\n",
    "l'(\\mu) = 2n\\bar{x} - 2n\\mu = 0 \\\\\n",
    "l'(\\mu) = \\bar{x}- \\mu = 0 \\\\\n",
    "\\hat{\\mu}= \\bar{x}\n",
    "\\end{gather*}\n",
    "$$"
   ]
  },
  {
   "cell_type": "markdown",
   "metadata": {
    "deletable": false,
    "editable": false,
    "nbgrader": {
     "cell_type": "markdown",
     "checksum": "9e81782355dd2f4bb01a9a6cd8318b2a",
     "grade": false,
     "grade_id": "cell-0b554f25e22c97e6",
     "locked": true,
     "schema_version": 3,
     "solution": false,
     "task": false
    }
   },
   "source": [
    "**A.4 (b) [4 points] Find the maximum likelihood estimator (MLE) for $\\theta$, denoted $\\widehat{\\theta}$.**\n",
    "\n",
    "This should be easy!"
   ]
  },
  {
   "cell_type": "markdown",
   "metadata": {
    "collapsed": true,
    "deletable": false,
    "nbgrader": {
     "cell_type": "markdown",
     "checksum": "19c055e11c7fc94b07dbfb02e173505c",
     "grade": true,
     "grade_id": "cell-65b16047cc5c6d09",
     "locked": false,
     "points": 4,
     "schema_version": 3,
     "solution": true,
     "task": false
    }
   },
   "source": [
    "To find MLE of $\\hat{\\theta}$: \n",
    "$$\\begin{gather*}\n",
    "\\theta = \\mu^2 \\hspace{1cm} \\& \\hspace{1cm} \\hat{\\mu} = \\bar{x} \\\\\n",
    "\\hat{\\theta} = \\hat{\\mu}^2 = \\bar{x}^2\n",
    "\\end{gather*}\n",
    "$$"
   ]
  },
  {
   "cell_type": "markdown",
   "metadata": {
    "deletable": false,
    "editable": false,
    "nbgrader": {
     "cell_type": "markdown",
     "checksum": "44ed220e9cfe53ebc1d00029dea6fe55",
     "grade": false,
     "grade_id": "cell-df74d04cdc3740a0",
     "locked": true,
     "schema_version": 3,
     "solution": false,
     "task": false
    }
   },
   "source": [
    "**A.4(c) [10 points] Compute the bias of $\\widehat{\\theta}$, denoted $Bias(\\widehat{\\theta})$. Recall that $Bias(\\widehat{\\theta}) = E(\\widehat{\\theta}) - \\theta$.**"
   ]
  },
  {
   "cell_type": "markdown",
   "metadata": {
    "deletable": false,
    "nbgrader": {
     "cell_type": "markdown",
     "checksum": "e1bc8f8d14e59d8eb1ebb3ddde0f8453",
     "grade": true,
     "grade_id": "cell-caa3ef70c91d454c",
     "locked": false,
     "points": 10,
     "schema_version": 3,
     "solution": true,
     "task": false
    }
   },
   "source": [
    "So: \n",
    "$$\\begin{gather*} \n",
    "Bias(\\hat{\\theta}) = E(\\hat{\\theta}) - \\theta \\\\\n",
    "Bias(\\hat{\\theta}) = E(\\bar{x}^2) - \\mu^2 \\\\\n",
    "Bias(\\hat{\\theta}) = Var(\\bar{x}) + E(\\bar{x})^2 - \\mu^2 \\\\\n",
    "Bias(\\hat{\\theta}) = \\frac{\\sigma^2}{n} + \\mu^2 - \\mu^2 \\\\\n",
    "Bias(\\hat{\\theta}) = \\frac{\\sigma^2}{n} \n",
    "\\end{gather*}\n",
    "$$"
   ]
  },
  {
   "cell_type": "markdown",
   "metadata": {
    "deletable": false,
    "editable": false,
    "nbgrader": {
     "cell_type": "markdown",
     "checksum": "99f9e9508ba04293ec704502962c3bdf",
     "grade": false,
     "grade_id": "cell-255839cb92f3e73f",
     "locked": true,
     "schema_version": 3,
     "solution": false,
     "task": false
    }
   },
   "source": [
    "## A.5 Poisson Estimation (Not Graded)\n",
    "The superintendent of a large school district, having once had a course in probability and statistics, believes that the number of teachers absent on any given day has a Poisson distribution with parameter $\\lambda$. Use the data (below) on absences for 50 days to obtain a large-sample CI for $\\lambda$. [Hint: The derivation in Unit #6(a), slide 4 will help here. Further hint: The mean and variance of a Poisson variable both equal, and so the appropriate standardized random variable will be approximately normal.]\n",
    "\n"
   ]
  },
  {
   "cell_type": "markdown",
   "metadata": {
    "deletable": false,
    "nbgrader": {
     "cell_type": "markdown",
     "checksum": "1add0b40a6a4a5645fbaf480454b8bf2",
     "grade": true,
     "grade_id": "cell-2b73b151379828e7",
     "locked": false,
     "points": 0,
     "schema_version": 3,
     "solution": true,
     "task": false
    }
   },
   "source": [
    "YOUR ANSWER HERE"
   ]
  },
  {
   "cell_type": "markdown",
   "metadata": {
    "deletable": false,
    "editable": false,
    "id": "Vpxs_7xzuHD8",
    "nbgrader": {
     "cell_type": "markdown",
     "checksum": "863bef8aad0ca2ae7c337ef66e89090d",
     "grade": false,
     "grade_id": "cell-9b5c20c493d92330",
     "locked": true,
     "schema_version": 3,
     "solution": false,
     "task": false
    }
   },
   "source": [
    "## B. Computational Problems"
   ]
  },
  {
   "cell_type": "markdown",
   "metadata": {
    "deletable": false,
    "editable": false,
    "nbgrader": {
     "cell_type": "markdown",
     "checksum": "08b6bcad6b7732af01a9e332435d0e80",
     "grade": false,
     "grade_id": "cell-046dbeb30b0f9fe2",
     "locked": true,
     "schema_version": 3,
     "solution": false,
     "task": false
    }
   },
   "source": [
    "## B.1 Hubble Data\n",
    "\n",
    "Load `hubble.txt` into R. A description of the variables can be obtained from page 73 of https://cran.r-project.org/web/packages/gamair/gamair.pdf."
   ]
  },
  {
   "cell_type": "code",
   "execution_count": 2,
   "metadata": {
    "deletable": false,
    "editable": false,
    "nbgrader": {
     "cell_type": "code",
     "checksum": "b94199cf30da56f599e25782c526b7e9",
     "grade": false,
     "grade_id": "cell-d213b1826a1d034a",
     "locked": true,
     "schema_version": 3,
     "solution": false,
     "task": false
    }
   },
   "outputs": [
    {
     "data": {
      "text/html": [
       "<table>\n",
       "<thead><tr><th scope=col>Galaxy</th><th scope=col>y</th><th scope=col>x</th></tr></thead>\n",
       "<tbody>\n",
       "\t<tr><td>NGC0300 </td><td> 133    </td><td> 2.00   </td></tr>\n",
       "\t<tr><td>NGC0925 </td><td> 664    </td><td> 9.16   </td></tr>\n",
       "\t<tr><td>NGC1326A</td><td>1794    </td><td>16.14   </td></tr>\n",
       "\t<tr><td>NGC1365 </td><td>1594    </td><td>17.95   </td></tr>\n",
       "\t<tr><td>NGC1425 </td><td>1473    </td><td>21.88   </td></tr>\n",
       "\t<tr><td>NGC2403 </td><td> 278    </td><td> 3.22   </td></tr>\n",
       "</tbody>\n",
       "</table>\n"
      ],
      "text/latex": [
       "\\begin{tabular}{r|lll}\n",
       " Galaxy & y & x\\\\\n",
       "\\hline\n",
       "\t NGC0300  &  133     &  2.00   \\\\\n",
       "\t NGC0925  &  664     &  9.16   \\\\\n",
       "\t NGC1326A & 1794     & 16.14   \\\\\n",
       "\t NGC1365  & 1594     & 17.95   \\\\\n",
       "\t NGC1425  & 1473     & 21.88   \\\\\n",
       "\t NGC2403  &  278     &  3.22   \\\\\n",
       "\\end{tabular}\n"
      ],
      "text/markdown": [
       "\n",
       "| Galaxy | y | x |\n",
       "|---|---|---|\n",
       "| NGC0300  |  133     |  2.00    |\n",
       "| NGC0925  |  664     |  9.16    |\n",
       "| NGC1326A | 1794     | 16.14    |\n",
       "| NGC1365  | 1594     | 17.95    |\n",
       "| NGC1425  | 1473     | 21.88    |\n",
       "| NGC2403  |  278     |  3.22    |\n",
       "\n"
      ],
      "text/plain": [
       "  Galaxy   y    x    \n",
       "1 NGC0300   133  2.00\n",
       "2 NGC0925   664  9.16\n",
       "3 NGC1326A 1794 16.14\n",
       "4 NGC1365  1594 17.95\n",
       "5 NGC1425  1473 21.88\n",
       "6 NGC2403   278  3.22"
      ]
     },
     "metadata": {},
     "output_type": "display_data"
    }
   ],
   "source": [
    "hubble = read.csv(url(\"https://raw.githubusercontent.com/bzaharatos/STAT-5000/main/data/hubble.txt\"), sep=\"\")\n",
    "\n",
    "head(hubble)"
   ]
  },
  {
   "cell_type": "markdown",
   "metadata": {
    "deletable": false,
    "editable": false,
    "nbgrader": {
     "cell_type": "markdown",
     "checksum": "976329acb39bb037b5caeb41a0883af4",
     "grade": false,
     "grade_id": "cell-1fcef01f50067eaf",
     "locked": true,
     "schema_version": 3,
     "solution": false,
     "task": false
    }
   },
   "source": [
    "**B.1 (a) [10 points] Calculate the $85%\\$ confidence interval for the mean of a galaxy's distance from Earth in Mega parsecs in R by doing the computation explicitly.**"
   ]
  },
  {
   "cell_type": "code",
   "execution_count": 142,
   "metadata": {
    "deletable": false,
    "nbgrader": {
     "cell_type": "code",
     "checksum": "a3e8f070b0c8a615c12493c7f64fc43e",
     "grade": true,
     "grade_id": "cell-33ac20015847e7b0",
     "locked": false,
     "points": 10,
     "schema_version": 3,
     "solution": true,
     "task": false
    }
   },
   "outputs": [
    {
     "data": {
      "text/html": [
       "<ol class=list-inline>\n",
       "\t<li>10.2869454144418</li>\n",
       "\t<li>13.8222212522248</li>\n",
       "</ol>\n"
      ],
      "text/latex": [
       "\\begin{enumerate*}\n",
       "\\item 10.2869454144418\n",
       "\\item 13.8222212522248\n",
       "\\end{enumerate*}\n"
      ],
      "text/markdown": [
       "1. 10.2869454144418\n",
       "2. 13.8222212522248\n",
       "\n",
       "\n"
      ],
      "text/plain": [
       "[1] 10.28695 13.82222"
      ]
     },
     "metadata": {},
     "output_type": "display_data"
    }
   ],
   "source": [
    "xbar = mean(hubble$x)\n",
    "s = sd(hubble$x)\n",
    "n = length(hubble$x)\n",
    "t = qt(1-.075,23)\n",
    "\n",
    "CI = c(xbar - t*s/sqrt(n), xbar + t*s/sqrt(n))\n",
    "CI"
   ]
  },
  {
   "cell_type": "markdown",
   "metadata": {
    "deletable": false,
    "editable": false,
    "nbgrader": {
     "cell_type": "markdown",
     "checksum": "9386bcf53d879bac106e358e525d8667",
     "grade": false,
     "grade_id": "cell-6cf54d007ba6919b",
     "locked": true,
     "schema_version": 3,
     "solution": false,
     "task": false
    }
   },
   "source": [
    "**B.1 (b) [4 points] Find a built in R function that does this computation automatically and verify that the built in R function does the same thing as the confidence interval formula used in part (a).**"
   ]
  },
  {
   "cell_type": "code",
   "execution_count": 145,
   "metadata": {
    "deletable": false,
    "nbgrader": {
     "cell_type": "code",
     "checksum": "beb9c278ab235e9c8a6fda00f2d0b7b1",
     "grade": true,
     "grade_id": "cell-8200b423fc265b7f",
     "locked": false,
     "points": 4,
     "schema_version": 3,
     "solution": true,
     "task": false
    }
   },
   "outputs": [
    {
     "name": "stderr",
     "output_type": "stream",
     "text": [
      "Warning message in ci.numeric(hubble$x, 0.85, 1 - 0.85):\n",
      "“No class or unkown class.  Using default calcuation.”"
     ]
    },
    {
     "data": {
      "text/html": [
       "<dl class=dl-horizontal>\n",
       "\t<dt>Estimate</dt>\n",
       "\t\t<dd>12.0545833333333</dd>\n",
       "\t<dt>CI lower</dt>\n",
       "\t\t<dd>10.2869454144418</dd>\n",
       "\t<dt>CI upper</dt>\n",
       "\t\t<dd>13.8222212522248</dd>\n",
       "\t<dt>Std. Error</dt>\n",
       "\t\t<dd>1.18691018596739</dd>\n",
       "</dl>\n"
      ],
      "text/latex": [
       "\\begin{description*}\n",
       "\\item[Estimate] 12.0545833333333\n",
       "\\item[CI lower] 10.2869454144418\n",
       "\\item[CI upper] 13.8222212522248\n",
       "\\item[Std. Error] 1.18691018596739\n",
       "\\end{description*}\n"
      ],
      "text/markdown": [
       "Estimate\n",
       ":   12.0545833333333CI lower\n",
       ":   10.2869454144418CI upper\n",
       ":   13.8222212522248Std. Error\n",
       ":   1.18691018596739\n",
       "\n"
      ],
      "text/plain": [
       "  Estimate   CI lower   CI upper Std. Error \n",
       "  12.05458   10.28695   13.82222    1.18691 "
      ]
     },
     "metadata": {},
     "output_type": "display_data"
    },
    {
     "data": {
      "text/plain": [
       "\n",
       "\tOne Sample t-test\n",
       "\n",
       "data:  hubble$x\n",
       "t = 10.156, df = 23, p-value = 5.701e-10\n",
       "alternative hypothesis: true mean is not equal to 0\n",
       "85 percent confidence interval:\n",
       " 10.28695 13.82222\n",
       "sample estimates:\n",
       "mean of x \n",
       " 12.05458 \n"
      ]
     },
     "metadata": {},
     "output_type": "display_data"
    }
   ],
   "source": [
    "library(gmodels)\n",
    "ci(hubble$x,0.85, 1-0.85)\n",
    "t.test(hubble$x, conf.level = 0.85)"
   ]
  },
  {
   "cell_type": "markdown",
   "metadata": {
    "deletable": false,
    "editable": false,
    "nbgrader": {
     "cell_type": "markdown",
     "checksum": "8f03ac946313bbf955912983833bb612",
     "grade": false,
     "grade_id": "cell-dfb440ec24b2d910",
     "locked": true,
     "schema_version": 3,
     "solution": false,
     "task": false
    }
   },
   "source": [
    "**B.1(c) [5 points] Interpret the confidence interval.**"
   ]
  },
  {
   "cell_type": "markdown",
   "metadata": {
    "deletable": false,
    "nbgrader": {
     "cell_type": "markdown",
     "checksum": "215ce8b5a3473cd67097db77086631df",
     "grade": true,
     "grade_id": "cell-98cd6fafd05a355c",
     "locked": false,
     "points": 5,
     "schema_version": 3,
     "solution": true,
     "task": false
    }
   },
   "source": [
    "The confidence interval is stating that for this random sample it is either true or false that the true mean of a galaxy's distance from Earth in megaparsecs is within the confidence interval calculated. From what the built in R function CI returns, it seems true that true mean is in the CI we calcuated. "
   ]
  },
  {
   "cell_type": "markdown",
   "metadata": {
    "deletable": false,
    "editable": false,
    "nbgrader": {
     "cell_type": "markdown",
     "checksum": "5af1e3a07b846d9e5b23e9c23fa91909",
     "grade": false,
     "grade_id": "cell-7c368017d02a1bb4",
     "locked": true,
     "schema_version": 3,
     "solution": false,
     "task": false
    }
   },
   "source": [
    "## B.2 [18 points] Confidence Interval Simulations\n",
    "\n",
    "#### Simulate $m = 1,000$ $85\\%$ confidence intervals for a population proportion $p$ (using the confidence interval formula that we derived in class). Use this simulation to justify the interpretation of this confidence interval."
   ]
  },
  {
   "cell_type": "code",
   "execution_count": 137,
   "metadata": {
    "deletable": false,
    "nbgrader": {
     "cell_type": "code",
     "checksum": "c80e72a1ff022a3c5239b1c2799d2e9b",
     "grade": true,
     "grade_id": "cell-0031763f91c38751",
     "locked": false,
     "points": 18,
     "schema_version": 3,
     "solution": true,
     "task": false
    },
    "scrolled": false
   },
   "outputs": [
    {
     "data": {
      "text/html": [
       "0.867"
      ],
      "text/latex": [
       "0.867"
      ],
      "text/markdown": [
       "0.867"
      ],
      "text/plain": [
       "[1] 0.867"
      ]
     },
     "metadata": {},
     "output_type": "display_data"
    }
   ],
   "source": [
    "#binomial algo for confidence level 85%\n",
    "m = 1000; n = 100; p = 0.5; \n",
    "b = replicate(m, rbinom(n,1, p))\n",
    "ph = colMeans(b)\n",
    "z = qnorm(1-.075)\n",
    "confI = cbind(ph - z*sqrt(ph*(1-ph)/n), ph + z*sqrt(ph*(1-ph)/n))\n",
    "CL= 1- sum(confI[,1]> p | confI[,2] < p)/m\n",
    "CL"
   ]
  },
  {
   "cell_type": "markdown",
   "metadata": {
    "deletable": false,
    "nbgrader": {
     "cell_type": "markdown",
     "checksum": "4b33d4a952c24434c101e40aceea2e3d",
     "grade": true,
     "grade_id": "cell-1de98967618714ba",
     "locked": false,
     "points": 3,
     "schema_version": 3,
     "solution": true,
     "task": false
    }
   },
   "source": [
    "What we calculated above shows that the 1000 CI's that I calculated have the true parameter within there inteval 85% percent of the time. Therefore we are 85% confident that the true parameter will lie in a chose random sample CI. "
   ]
  }
 ],
 "metadata": {
  "kernelspec": {
   "display_name": "R",
   "language": "R",
   "name": "ir"
  },
  "language_info": {
   "codemirror_mode": "r",
   "file_extension": ".r",
   "mimetype": "text/x-r-source",
   "name": "R",
   "pygments_lexer": "r",
   "version": "3.6.1"
  }
 },
 "nbformat": 4,
 "nbformat_minor": 2
}
